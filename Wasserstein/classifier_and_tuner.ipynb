{
 "cells": [
  {
   "cell_type": "code",
   "execution_count": 44,
   "id": "117fd351-05b9-4ea9-b614-3e034e9e5740",
   "metadata": {
    "tags": []
   },
   "outputs": [],
   "source": [
    "import torch\n",
    "import torch.nn as nn\n",
    "import torch.optim as optim\n",
    "import numpy as np\n",
    "import matplotlib.pyplot as plt\n",
    "import sys\n",
    "import os\n",
    "\n",
    "sys.path.append(os.path.abspath(os.path.join('..', 'ARRG')))\n",
    "from ARRG_macro import *\n",
    "\n",
    "import wasserstein_loss\n",
    "import deepsets_classifier\n",
    "import importlib\n",
    "\n",
    "importlib.reload(wasserstein_loss)\n",
    "importlib.reload(deepsets_classifier)\n",
    "\n",
    "from wasserstein_loss import WassersteinLoss, WassersteinLoss_POT\n",
    "from deepsets_classifier import *\n",
    "\n",
    "from torch.utils.data import DataLoader, TensorDataset\n",
    "from tqdm import tqdm\n",
    "from sklearn.model_selection import train_test_split\n",
    "from sklearn.preprocessing import scale\n",
    "\n",
    "random_seed = 42\n",
    "torch.manual_seed(random_seed)\n",
    "np.random.seed(random_seed)"
   ]
  },
  {
   "cell_type": "markdown",
   "id": "58911b46-aa1f-456d-98cc-94abf761542a",
   "metadata": {},
   "source": [
    "## Deepsets Classifier"
   ]
  },
  {
   "cell_type": "code",
   "execution_count": 46,
   "id": "973afa9e-30b7-4bc2-afbc-e21c171a64b7",
   "metadata": {
    "tags": []
   },
   "outputs": [
    {
     "name": "stdout",
     "output_type": "stream",
     "text": [
      "Experimental observable shape: (1000000, 50, 4)\n",
      "Simulated observable shape: (1000000, 50, 4)\n",
      "Simulated z shape: (50000, 105, 101)\n",
      "Simulated fPrel shape: (50000, 105, 100)\n",
      "Mean of px, py, pz, E: [-1.42066499e-05  1.89429920e-05 -2.94144260e-04  6.59546186e+00]\n",
      "Experimental observable shape: torch.Size([500000, 50, 4])\n",
      "Simulated observable shape: torch.Size([500000, 50, 4])\n",
      "Simulated z shape: torch.Size([50000, 105, 101])\n",
      "Simulated fPrel shape: torch.Size([50000, 105, 100])\n"
     ]
    }
   ],
   "source": [
    "class ObservableDataset(Dataset):\n",
    "\t\"\"\"\n",
    "\tConverts observable dataset into PyTorch syntax.\n",
    "\t\"\"\"\n",
    "\tdef __init__(self, data):\n",
    "\t\tself.data = data\n",
    "\n",
    "\tdef __len__(self):\n",
    "\t\treturn self.data.shape[0]\n",
    "\n",
    "\tdef __getitem__(self, idx):\n",
    "\t\tsample = self.data[idx]\n",
    "\t\treturn sample\n",
    "# Paths to the datasets on perlmutter\n",
    "exp_hadrons_PATH = '/global/cfs/projectdirs/m3246/hadronization-tune-mlrw-data/pgun_qqbar_hadrons_a_0.68_b_0.98_sigma_0.335_N_1e6.npy'\n",
    "#exp_accept_reject_PATH = '/global/cfs/projectdirs/m3246/hadronization-tune-mlrw-data/pgun_qqbar_accept_reject_z_a_0.68_b_0.98_sigma_0.335_N_1e6.npy'\n",
    "sim_hadrons_PATH = '/global/cfs/projectdirs/m3246/hadronization-tune-mlrw-data/pgun_qqbar_hadrons_a_0.72_b_0.88_sigma_0.335_N_1e6.npy'\n",
    "sim_accept_reject_PATH = '/global/cfs/projectdirs/m3246/hadronization-tune-mlrw-data/pgun_qqbar_finalTwo_accept_reject_z_a_0.72_b_0.88_sigma_0.335_N_50e3.npy'\n",
    "sim_fPrel_PATH = '/global/cfs/projectdirs/m3246/hadronization-tune-mlrw-data/pgun_qqbar_finalTwo_fPrel_a_0.72_b_0.88_sigma_0.335_N_50e3.npy'\n",
    "\n",
    "# Load the arrays\n",
    "exp_hadrons       = np.load(exp_hadrons_PATH, mmap_mode=\"r\")\n",
    "sim_hadrons       = np.load(sim_hadrons_PATH, mmap_mode=\"r\")\n",
    "sim_accept_reject = np.load(sim_accept_reject_PATH, mmap_mode = \"r\")\n",
    "sim_fPrel         = np.load(sim_fPrel_PATH, mmap_mode = \"r\")\n",
    "# Extract the hadron multiplicity\n",
    "exp_obs = exp_hadrons # exp_obs = np.array([len(exp_hadrons[i,:][np.abs(exp_hadrons[i,:,0]) > 0.0]) for i in range(exp_hadrons.shape[0])])\n",
    "sim_obs = sim_hadrons # sim_obs = np.array([len(sim_hadrons[i,:][np.abs(sim_hadrons[i,:,0]) > 0.0]) for i in range(sim_hadrons.shape[0])])\n",
    "# Do not include mass\n",
    "exp_obs = exp_obs[:,:,:-1]\n",
    "sim_obs = sim_obs[:,:,:-1]\n",
    "# Print dataset shapes\n",
    "print('Experimental observable shape:', exp_obs.shape)\n",
    "print('Simulated observable shape:', sim_obs.shape)\n",
    "print('Simulated z shape:', sim_accept_reject.shape)\n",
    "print('Simulated fPrel shape:', sim_fPrel.shape)\n",
    "\n",
    "# Restrict to a subset of the full dataset (for memory)\n",
    "\n",
    "def prescale(exp_data, sim_data, axes=(0, 1)):\n",
    "    # Mask to identify non-padded entries (i.e., entries that are not [0.0, 0.0, 0.0, 0.0])\n",
    "    non_padded_mask_exp = ~(np.all(exp_data == 0, axis=-1))\n",
    "    non_padded_mask_sim = ~(np.all(sim_data == 0, axis=-1))\n",
    "    \n",
    "    # Flatten the non-padded parts of the datasets along the specified axes for mean/std calculation\n",
    "    combined_data = np.concatenate([exp_data[non_padded_mask_exp], sim_data[non_padded_mask_sim]], axis=0)\n",
    "    combined_mean = combined_data.mean(axis=0)\n",
    "    print(\"Mean of px, py, pz, E:\", combined_mean)\n",
    "    combined_std = combined_data.std(axis=0)\n",
    "\n",
    "    # Scale only the non-padded entries using the combined mean and std\n",
    "    exp_data_scaled = np.copy(exp_data)\n",
    "    sim_data_scaled = np.copy(sim_data)\n",
    "    exp_data_scaled[non_padded_mask_exp] = (exp_data[non_padded_mask_exp] - combined_mean) / combined_std\n",
    "    sim_data_scaled[non_padded_mask_sim] = (sim_data[non_padded_mask_sim] - combined_mean) / combined_std\n",
    "    \n",
    "    return exp_data_scaled, sim_data_scaled\n",
    "\n",
    "exp_obs, sim_obs = prescale(exp_obs[0:N_events], sim_obs[0:N_events])\n",
    "N_events = int(500000)\n",
    "\n",
    "sim_accept_reject = torch.Tensor(sim_accept_reject[0:N_events].copy()) # z values\n",
    "sim_fPrel = torch.Tensor(sim_fPrel[0:N_events].copy())\n",
    "# Convert into torch objects\n",
    "exp_obs = torch.Tensor(exp_obs.copy())\n",
    "sim_obs = torch.Tensor(sim_obs.copy())\n",
    "# Combine and split into training + validation and test sets\n",
    "train_val_exp_obs, test_exp_obs = train_test_split(exp_obs, test_size=0.2, random_state=random_seed)\n",
    "train_val_sim_obs, test_sim_obs = train_test_split(sim_obs, test_size=0.2, random_state=random_seed)\n",
    "# Further split training + validation into separate training and validation sets\n",
    "train_exp_obs, val_exp_obs = train_test_split(train_val_exp_obs, test_size=0.25, random_state=random_seed)  # 0.25 x 0.8 = 0.2\n",
    "train_sim_obs, val_sim_obs = train_test_split(train_val_sim_obs, test_size=0.25, random_state=random_seed)\n",
    "\n",
    "# Check the accepted z-values, if z == 1 reduce it by epsilon (a very nasty bug to find).\n",
    "# The a-coefficient when computing the likelihood has a term propotional to log(1-z). If \n",
    "# z = 1, this term diverges to -inf and completely destroys the backward pass.\n",
    "epsilon = 1e-5\n",
    "sim_accept_reject[sim_accept_reject == 1] = 1 - epsilon\n",
    "\n",
    "# Print dataset shapes\n",
    "print('Experimental observable shape:', exp_obs.shape)\n",
    "print('Simulated observable shape:', sim_obs.shape)\n",
    "print('Simulated z shape:', sim_accept_reject.shape)\n",
    "print('Simulated fPrel shape:', sim_fPrel.shape)"
   ]
  },
  {
   "cell_type": "code",
   "execution_count": 47,
   "id": "77d84b2a-c3a6-46b3-8493-5d77206692e8",
   "metadata": {
    "tags": []
   },
   "outputs": [],
   "source": [
    "# Usage example:\n",
    "input_dim = 4\n",
    "phi_hidden_dim=32\n",
    "rho_hidden_dim=32\n",
    "dropout_prob=0.5\n",
    "phi_first_layer_bias=True\n",
    "classifier = DeepSetsClassifier(input_dim=input_dim, phi_hidden_dim=phi_hidden_dim, rho_hidden_dim=rho_hidden_dim,\n",
    "                               dropout_prob=dropout_prob, phi_first_layer_bias=phi_first_layer_bias)\n",
    "# Prepare data\n",
    "batch_size=10000\n",
    "train_exp_loader, train_sim_loader = prepare_data(train_exp_obs, train_sim_obs, batch_size=batch_size)\n",
    "val_exp_loader, val_sim_loader = prepare_data(val_exp_obs, val_sim_obs, batch_size=batch_size)\n",
    "test_exp_loader, test_sim_loader = prepare_data(test_exp_obs, test_sim_obs, batch_size=batch_size)"
   ]
  },
  {
   "cell_type": "code",
   "execution_count": 48,
   "id": "3716d5a4-fb1a-41b4-bc5f-c492627865ed",
   "metadata": {
    "tags": []
   },
   "outputs": [
    {
     "data": {
      "image/png": "[encoded data removed]",
      "text/plain": [
       "<Figure size 1000x600 with 1 Axes>"
      ]
     },
     "metadata": {},
     "output_type": "display_data"
    }
   ],
   "source": [
    "test_exp_scores = torch.sigmoid(classifier(test_exp_obs)).detach().numpy()\n",
    "test_sim_scores = torch.sigmoid(classifier(test_sim_obs)).detach().numpy()\n",
    "plot_score_histogram(test_exp_scores, test_sim_scores, same_bins=True, bins=100)"
   ]
  },
  {
   "cell_type": "code",
   "execution_count": 52,
   "id": "dcb24fd9-d050-43e0-a393-350e0eb93fad",
   "metadata": {
    "tags": []
   },
   "outputs": [
    {
     "name": "stdout",
     "output_type": "stream",
     "text": [
      "Epoch [1/10]\n",
      "Train Loss: 0.8613, Train Exp Loss: 0.5747, Train Sim Loss: 1.1478\n",
      "Val Loss: 0.7051, Val Exp Loss: 0.5405, Val Sim Loss: 0.8697\n",
      "\n",
      "Epoch [2/10]\n",
      "Train Loss: 0.8610, Train Exp Loss: 0.5762, Train Sim Loss: 1.1459\n",
      "Val Loss: 0.7049, Val Exp Loss: 0.5420, Val Sim Loss: 0.8677\n",
      "\n",
      "Epoch [3/10]\n",
      "Train Loss: 0.8582, Train Exp Loss: 0.5755, Train Sim Loss: 1.1409\n",
      "Val Loss: 0.7046, Val Exp Loss: 0.5435, Val Sim Loss: 0.8657\n",
      "\n",
      "Epoch [4/10]\n",
      "Train Loss: 0.8578, Train Exp Loss: 0.5784, Train Sim Loss: 1.1373\n",
      "Val Loss: 0.7043, Val Exp Loss: 0.5454, Val Sim Loss: 0.8631\n",
      "\n",
      "Epoch [5/10]\n",
      "Train Loss: 0.8557, Train Exp Loss: 0.5793, Train Sim Loss: 1.1321\n",
      "Val Loss: 0.7044, Val Exp Loss: 0.5444, Val Sim Loss: 0.8643\n",
      "\n",
      "Epoch [6/10]\n",
      "Train Loss: 0.8553, Train Exp Loss: 0.5806, Train Sim Loss: 1.1300\n",
      "Val Loss: 0.7044, Val Exp Loss: 0.5444, Val Sim Loss: 0.8644\n",
      "\n",
      "Epoch [7/10]\n",
      "Train Loss: 0.8536, Train Exp Loss: 0.5824, Train Sim Loss: 1.1248\n",
      "Val Loss: 0.7044, Val Exp Loss: 0.5444, Val Sim Loss: 0.8644\n",
      "\n",
      "Epoch [8/10]\n",
      "Train Loss: 0.8541, Train Exp Loss: 0.5843, Train Sim Loss: 1.1240\n",
      "Val Loss: 0.7042, Val Exp Loss: 0.5459, Val Sim Loss: 0.8624\n",
      "\n",
      "Epoch [9/10]\n",
      "Train Loss: 0.8524, Train Exp Loss: 0.5853, Train Sim Loss: 1.1195\n",
      "Val Loss: 0.7037, Val Exp Loss: 0.5482, Val Sim Loss: 0.8592\n",
      "\n",
      "Epoch [10/10]\n",
      "Train Loss: 0.8501, Train Exp Loss: 0.5876, Train Sim Loss: 1.1126\n",
      "Val Loss: 0.7035, Val Exp Loss: 0.5498, Val Sim Loss: 0.8571\n",
      "\n"
     ]
    }
   ],
   "source": [
    "# Train the classifier\n",
    "train=True\n",
    "if train:\n",
    "    epochs=10\n",
    "    lr=1e-5\n",
    "    classifier.train_classifier(train_exp_loader, train_sim_loader, val_exp_loader, val_sim_loader, \n",
    "                     num_epochs=epochs, learning_rate=lr)\n",
    "    torch.save(classifier.state_dict(), \"deepsets_classifier.pth\")\n",
    "else:\n",
    "    classifier.load_state_dict(torch.load('deepsets_classifier.pth'))\n",
    "    classifier.eval()"
   ]
  },
  {
   "cell_type": "code",
   "execution_count": 50,
   "id": "ca807a5f-7c3d-4896-8b4e-a1c4dd1f4327",
   "metadata": {},
   "outputs": [],
   "source": [
    "# Evaluate the model on test set\n",
    "# evaluate_model(classifier, test_exp_loader, test_sim_loader)"
   ]
  },
  {
   "cell_type": "code",
   "execution_count": 53,
   "id": "c42599e0-03e6-4ff9-89e3-18fd6e067a04",
   "metadata": {
    "tags": []
   },
   "outputs": [
    {
     "data": {
      "image/png": "[encoded data removed]",
      "text/plain": [
       "<Figure size 1000x600 with 1 Axes>"
      ]
     },
     "metadata": {},
     "output_type": "display_data"
    }
   ],
   "source": [
    "test_exp_scores = torch.sigmoid(classifier(test_exp_obs)).detach().numpy()\n",
    "test_sim_scores = torch.sigmoid(classifier(test_sim_obs)).detach().numpy()\n",
    "plot_score_histogram(test_exp_scores, test_sim_scores, same_bins=True, bins=100)\n",
    "#train_exp_scores = classifier(train_exp_obs).detach().numpy()\n",
    "#train_sim_scores = classifier(train_sim_obs).detach().numpy()\n",
    "#plot_score_histogram(train_exp_scores, train_sim_scores, same_bins=True, bins=200)"
   ]
  },
  {
   "cell_type": "markdown",
   "id": "977654f0-ea54-476f-88dc-88c19b4cf63e",
   "metadata": {},
   "source": [
    "## Wasserstein Weight Tuning"
   ]
  },
  {
   "cell_type": "code",
   "execution_count": 51,
   "id": "87135078-5111-4851-bca0-e3bea0b18a24",
   "metadata": {},
   "outputs": [],
   "source": [
    "params_base = torch.tensor([0.72, 0.88])\n",
    "params_init = torch.tensor([0.7, 0.9])\n",
    "over_sample_factor = 10.0\n",
    "# initialize weight module\n",
    "weight_nexus = LundWeight(params_base, params_init, over_sample_factor = over_sample_factor)"
   ]
  },
  {
   "cell_type": "code",
   "execution_count": 52,
   "id": "df64b196-7052-4e4b-8166-91f4251b3361",
   "metadata": {
    "tags": []
   },
   "outputs": [
    {
     "name": "stdout",
     "output_type": "stream",
     "text": [
      "tensor([1.0492, 1.1027, 0.9518, 1.1018, 1.0195, 0.8884, 0.8477, 1.0835, 1.0925,\n",
      "        0.8541], grad_fn=<MulBackward0>)\n"
     ]
    }
   ],
   "source": [
    "n = 10\n",
    "print(weight_nexus(sim_accept_reject[:n], sim_fPrel[:n]))"
   ]
  },
  {
   "cell_type": "code",
   "execution_count": 53,
   "id": "b13792a7-b27c-44e4-bada-102cf8c3ad20",
   "metadata": {
    "tags": []
   },
   "outputs": [],
   "source": [
    "class CombinedDataset(Dataset):\n",
    "    def __init__(self, exp_obs, sim_obs, sim_fPrel, sim_accept_reject):\n",
    "        self.exp_obs = exp_obs\n",
    "        self.sim_obs = sim_obs\n",
    "        self.sim_fPrel = sim_fPrel\n",
    "        self.sim_accept_reject = sim_accept_reject\n",
    "        assert len(exp_obs) == len(sim_obs) == len(sim_fPrel) == len(sim_accept_reject), \"All inputs must have the same length\"\n",
    "\n",
    "    def __len__(self):\n",
    "        return len(self.exp_obs)\n",
    "\n",
    "    def __getitem__(self, idx):\n",
    "        return {\n",
    "            'exp_scores': self.exp_obs[idx],\n",
    "            'sim_scores': self.sim_obs[idx],\n",
    "            'sim_fPrel': self.sim_fPrel[idx],\n",
    "            'sim_accept_reject': self.sim_accept_reject[idx],\n",
    "        }\n",
    "\n",
    "# Assuming you've already processed your data as described in your code snippet\n",
    "# and have exp_obs, sim_obs, sim_accept_reject, and sim_mT ready\n",
    "\n",
    "# Create the dataset\n",
    "exp_scores = classifier.forward(exp_obs)\n",
    "sim_scores = classifier.forward(sim_obs)\n",
    "sar_size = sim_accept_reject.shape[0]\n",
    "dataset = CombinedDataset(exp_scores[:sar_size], sim_scores[:sar_size], sim_fPrel, sim_accept_reject)\n",
    "\n",
    "# Split into training and validation sets\n",
    "train_size = int(0.9 * len(dataset))  # 90% for training\n",
    "val_size = len(dataset) - train_size  # no worry of overfittitng, remove validation\n",
    "train_dataset, val_dataset = torch.utils.data.random_split(dataset, [train_size, val_size])\n",
    "\n",
    "# Create DataLoaders\n",
    "batch_size = 25000  # You can adjust this as needed\n",
    "train_loader = DataLoader(train_dataset, batch_size=batch_size, shuffle=True)\n",
    "val_loader = DataLoader(val_dataset, batch_size=batch_size, shuffle=False)"
   ]
  },
  {
   "cell_type": "code",
   "execution_count": 54,
   "id": "604e695b-1ad0-425d-80f0-5520b1eb0766",
   "metadata": {
    "tags": []
   },
   "outputs": [],
   "source": [
    "params_base = torch.tensor([0.72, 0.88])\n",
    "params_init = torch.tensor([0.72, 0.881])\n",
    "# True parameters (0.68, 0.98)\n",
    "over_sample_factor = 10.0\n",
    "# initialize weight module\n",
    "weight_nexus = LundWeight(params_base, params_init, over_sample_factor = over_sample_factor)\n",
    "\n",
    "class Wasserstein_Tuner:\n",
    "    def __init__(self, classifier, weight_nexus, learning_rate=0.001):\n",
    "        self.classifier = classifier\n",
    "        self.weight_nexus = weight_nexus\n",
    "        self.learning_rate = learning_rate\n",
    "        self.optimizer = torch.optim.SGD([self.weight_nexus.params_a, self.weight_nexus.params_b], lr=self.learning_rate)\n",
    "        self.wasserstein_loss = WassersteinLoss_POT()\n",
    "        self.param_history = []\n",
    "\n",
    "    def train(self, train_loader: DataLoader, val_loader: DataLoader, num_epochs: int = 10):\n",
    "        print(\"Beginning parameter tuning...\")\n",
    "        print(f\"Initial (a, b): ({self.weight_nexus.params_a.item():.4f}, {self.weight_nexus.params_b.item():.4f})\")\n",
    "        for epoch in range(num_epochs):\n",
    "            # Training loop\n",
    "            train_loss = 0.0\n",
    "            self.weight_nexus.eval()\n",
    "            for batch in tqdm(train_loader, desc=f\"Epoch {epoch+1}/{num_epochs} [Train]\", leave=False):\n",
    "                # Unpack the batch\n",
    "                exp_scores_data = batch['exp_scores']\n",
    "                sim_scores_data = batch['sim_scores']\n",
    "                sim_accept_reject_data = batch['sim_accept_reject']\n",
    "                sim_fPrel_data = batch['sim_fPrel']\n",
    "                exp_scores_data.detach()\n",
    "                sim_scores_data.detach()\n",
    "                sim_accept_reject_data.detach()\n",
    "                sim_fPrel_data.detach()\n",
    "\n",
    "                # Zero the gradients\n",
    "                self.optimizer.zero_grad()\n",
    "                # Calculate weights\n",
    "                weights = self.weight_nexus(sim_accept_reject_data, sim_fPrel_data)\n",
    "                # weights = weights/torch.sum(weights)\n",
    "                # Calculate Wasserstein distance\n",
    "                loss = self.wasserstein_loss(exp_scores_data, sim_scores_data, y_weights=weights)\n",
    "                print(\"wd =\", loss.item())\n",
    "                \n",
    "                loss.backward(retain_graph=True)\n",
    "                # Update parameters\n",
    "                self.optimizer.step()\n",
    "                \n",
    "                weights.detach()\n",
    "                \n",
    "                # Record current values of params_a and params_b\n",
    "                self.param_history.append({\n",
    "                    'epoch': epoch + 1,\n",
    "                    'params_a': self.weight_nexus.params_a.item(),\n",
    "                    'params_b': self.weight_nexus.params_b.item()\n",
    "                })\n",
    "                \n",
    "                # Print current values of params_a and params_b\n",
    "                print('Gradient of a:', self.weight_nexus.params_a.grad.clone().detach().numpy())\n",
    "                print('Gradient of b:', self.weight_nexus.params_b.grad.clone().detach().numpy())\n",
    "                print(f\"Current (a, b): ({self.weight_nexus.params_a.item():.6f}, {self.weight_nexus.params_b.item():.6f})\")\n",
    "\n",
    "                train_loss += loss.item()\n",
    "\n",
    "            # Print training loss for this epoch\n",
    "            avg_train_loss = train_loss / len(train_loader)\n",
    "            print(f\"Epoch {epoch+1}/{num_epochs}, Training Loss: {avg_train_loss:.4g}\")\n",
    "\n",
    "            # Validation loop\n",
    "            self.weight_nexus.eval()\n",
    "            val_loss = 0.0\n",
    "            with torch.no_grad():\n",
    "                for batch in val_loader:\n",
    "                    # Unpack the batch\n",
    "                    exp_scores_data = batch['exp_scores']\n",
    "                    sim_scores_data = batch['sim_scores']\n",
    "                    sim_accept_reject_data = batch['sim_accept_reject']\n",
    "                    sim_fPrel_data = batch['sim_fPrel']\n",
    "\n",
    "                    # Calculate weights\n",
    "                    weights = self.weight_nexus(sim_accept_reject_data, sim_fPrel_data)\n",
    "\n",
    "                    # Calculate Wasserstein distance\n",
    "                    loss = self.wasserstein_loss(exp_scores_data, sim_scores_data, y_weights=weights)\n",
    "\n",
    "                    val_loss += loss.item()\n",
    "\n",
    "            # Print validation loss for this epoch\n",
    "            avg_val_loss = val_loss / len(val_loader)\n",
    "            print(f\"Epoch {epoch+1}/{num_epochs}, Validation Loss: {avg_val_loss:.4g}\")\n",
    "\n",
    "        return self.weight_nexus\n",
    "\n",
    "    def Wasserstein_flow(self, flow_loader: DataLoader, a_b_init_grid):\n",
    "        \"\"\"\n",
    "        Generate gradient flow data using the same loss and dataloader as in training.\n",
    "        \"\"\"\n",
    "        # Initialize gradient tensor\n",
    "        a_b_gradient = torch.zeros(len(a_b_init_grid), 2)\n",
    "        init_counter = 0\n",
    "\n",
    "        for a_b_init in tqdm(a_b_init_grid, ncols=100, desc=\"Wasserstein Flow\"):\n",
    "            # Initialize new weight module with different initial parameters\n",
    "            self.weight_nexus = LundWeight(params_base, a_b_init, over_sample_factor=over_sample_factor)\n",
    "            self.weight_nexus.eval()  # Set the model to evaluation mode\n",
    "\n",
    "            a_b_gradient_i = torch.zeros(2)\n",
    "            for batch in flow_loader:\n",
    "                # Unpack the batch\n",
    "                sim_accept_reject_data = batch['sim_accept_reject']\n",
    "                sim_fPrel_data = batch['sim_fPrel']\n",
    "                sim_scores_data = batch['sim_scores']\n",
    "                exp_scores_data = batch['exp_scores']\n",
    "\n",
    "                # Zero the gradients\n",
    "                self.optimizer.zero_grad()\n",
    "\n",
    "                # Calculate weights\n",
    "                weights = self.weight_nexus(sim_accept_reject_data, sim_fPrel_data)\n",
    "\n",
    "                # Calculate Wasserstein distance\n",
    "                loss = self.wasserstein_loss(exp_scores_data, sim_scores_data, y_weights=weights)\n",
    "\n",
    "                # Backpropagation to compute gradients\n",
    "                loss.backward(retain_graph=True)\n",
    "\n",
    "                # Extract gradients for params_a and params_b\n",
    "                a_b_gradient_i[0] += self.weight_nexus.params_a.grad.clone().detach()\n",
    "                a_b_gradient_i[1] += self.weight_nexus.params_b.grad.clone().detach()\n",
    "\n",
    "            # Average gradients across batches\n",
    "            a_b_gradient_i /= len(flow_loader)\n",
    "\n",
    "            # Write to the master gradient tensor\n",
    "            a_b_gradient[init_counter] = a_b_gradient_i.clone()\n",
    "            init_counter += 1\n",
    "\n",
    "        # Convert the gradient tensor to a numpy array\n",
    "        a_b_gradient = a_b_gradient.numpy()\n",
    "        return a_b_gradient\n",
    "    \n",
    "    def set_learning_rate(self, new_lr: float):\n",
    "        self.learning_rate = new_lr\n",
    "        for param_group in self.optimizer.param_groups:\n",
    "            param_group['lr'] = new_lr\n",
    "\n",
    "    def get_current_parameters(self):\n",
    "        return {\n",
    "            'params_a': self.weight_nexus.params_a.item(),\n",
    "            'params_b': self.weight_nexus.params_b.item()\n",
    "        }"
   ]
  },
  {
   "cell_type": "code",
   "execution_count": 55,
   "id": "0dc05cb7-8990-426b-a534-9210fbe73a84",
   "metadata": {
    "tags": []
   },
   "outputs": [],
   "source": [
    "def a_b_grid(x_range, y_range, n_points):\n",
    "    \"\"\"\n",
    "    Creates a grid of values within a two-dimensional range and returns it in a flattened tensor.\n",
    "\n",
    "    Parameters:\n",
    "    x_range (tuple): A tuple of (min, max) for the x-axis range.\n",
    "    y_range (tuple): A tuple of (min, max) for the y-axis range.\n",
    "    steps (int): --- The number of steps/points in each dimension.\n",
    "\n",
    "    Returns:\n",
    "    torch.Tensor: A flattened tensor containing all the grid points.\n",
    "    \"\"\"\n",
    "    # Create linearly spaced points for each range\n",
    "    x_points = torch.linspace(x_range[0], x_range[1], n_points)\n",
    "    y_points = torch.linspace(y_range[0], y_range[1], n_points)\n",
    "\n",
    "    # Create a meshgrid from the x and y points\n",
    "    x_grid, y_grid = torch.meshgrid(x_points, y_points, indexing='ij')\n",
    "\n",
    "    # Flatten the grid and stack the coordinates\n",
    "    grid_flattened = torch.stack([x_grid.flatten(), y_grid.flatten()], dim=1)\n",
    "\n",
    "    return grid_flattened"
   ]
  },
  {
   "cell_type": "code",
   "execution_count": 15,
   "id": "8b7b7d71-be6f-4460-be9e-2efc980e054f",
   "metadata": {
    "tags": []
   },
   "outputs": [],
   "source": [
    "# Define a grid of initial parameters\n",
    "a_range  = (0.6, 0.80)\n",
    "b_range  = (0.85, 1.05)\n",
    "n_points = 10\n",
    "a_b_init = a_b_grid(a_range, b_range, n_points)"
   ]
  },
  {
   "cell_type": "code",
   "execution_count": 56,
   "id": "e1f31e04-6e2d-462b-aeac-663853b70735",
   "metadata": {
    "tags": []
   },
   "outputs": [
    {
     "name": "stdout",
     "output_type": "stream",
     "text": [
      "Beginning parameter tuning...\n",
      "Initial (a, b): (0.7200, 0.8810)\n"
     ]
    },
    {
     "name": "stderr",
     "output_type": "stream",
     "text": [
      "Epoch 1/1 [Train]:   0%|          | 0/2 [00:00<?, ?it/s]/global/homes/n/nheller/.conda/envs/herwig_jupyter/lib/python3.12/site-packages/ot/lp/solver_1d.py:41: UserWarning: The use of `x.T` on tensors of dimension other than 2 to reverse their shape is deprecated and it will throw an error in a future release. Consider `x.mT` to transpose batches of matrices or `x.permute(*torch.arange(x.ndim - 1, -1, -1))` to reverse the dimensions of a tensor. (Triggered internally at ../aten/src/ATen/native/TensorShape.cpp:3637.)\n",
      "  cws = cws.T.contiguous()\n"
     ]
    },
    {
     "name": "stdout",
     "output_type": "stream",
     "text": [
      "wd = 0.005156726576387882\n"
     ]
    },
    {
     "name": "stderr",
     "output_type": "stream",
     "text": [
      "Epoch 1/1 [Train]:  50%|█████     | 1/2 [00:31<00:31, 31.56s/it]"
     ]
    },
    {
     "name": "stdout",
     "output_type": "stream",
     "text": [
      "Gradient of a: 0.0003514059\n",
      "Gradient of b: -0.00025649738\n",
      "Current (a, b): (0.719649, 0.881256)\n",
      "wd = 0.005148574709892273\n"
     ]
    },
    {
     "name": "stderr",
     "output_type": "stream",
     "text": [
      "                                                                "
     ]
    },
    {
     "name": "stdout",
     "output_type": "stream",
     "text": [
      "Gradient of a: -0.00028705425\n",
      "Gradient of b: 0.00041345076\n",
      "Current (a, b): (0.719936, 0.880843)\n",
      "Epoch 1/1, Training Loss: 0.005153\n"
     ]
    },
    {
     "name": "stderr",
     "output_type": "stream",
     "text": [
      "\r"
     ]
    },
    {
     "name": "stdout",
     "output_type": "stream",
     "text": [
      "Epoch 1/1, Validation Loss: 0.005224\n"
     ]
    },
    {
     "data": {
      "text/plain": [
       "LundWeight()"
      ]
     },
     "execution_count": 56,
     "metadata": {},
     "output_type": "execute_result"
    }
   ],
   "source": [
    "tuner = Wasserstein_Tuner(classifier, weight_nexus, learning_rate=1)\n",
    "tuner.train(train_loader, val_loader, num_epochs=1)"
   ]
  },
  {
   "cell_type": "code",
   "execution_count": null,
   "id": "7a4d07f0-d720-45d9-b4db-37c5705a03bc",
   "metadata": {},
   "outputs": [],
   "source": [
    "tuner.train(train_loader, # Define a grid of initial parameters\n",
    "a_range  = (0.6, 0.80)\n",
    "b_range  = (0.85, 1.05)\n",
    "n_points = 10\n",
    "a_b_init = a_b_grid(a_range, b_range, n_points), num_epochs=2)\n",
    "a_b_gradients = tuner.Wasserstein_flow(train_loader, a_b_init)"
   ]
  }
 ],
 "metadata": {
  "kernelspec": {
   "display_name": "Herwig Jupyter Kernel",
   "language": "python",
   "name": "herwig_jupyter"
  },
  "language_info": {
   "codemirror_mode": {
    "name": "ipython",
    "version": 3
   },
   "file_extension": ".py",
   "mimetype": "text/x-python",
   "name": "python",
   "nbconvert_exporter": "python",
   "pygments_lexer": "ipython3",
   "version": "3.12.3"
  }
 },
 "nbformat": 4,
 "nbformat_minor": 5
}
