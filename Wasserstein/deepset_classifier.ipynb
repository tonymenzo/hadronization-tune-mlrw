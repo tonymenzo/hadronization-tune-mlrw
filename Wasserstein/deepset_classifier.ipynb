{
 "cells": [
  {
   "cell_type": "code",
   "execution_count": 43,
   "id": "117fd351-05b9-4ea9-b614-3e034e9e5740",
   "metadata": {
    "tags": []
   },
   "outputs": [],
   "source": [
    "import torch\n",
    "import torch.nn as nn\n",
    "import torch.optim as optim\n",
    "import numpy as np\n",
    "import matplotlib.pyplot as plt\n",
    "import sys\n",
    "import os\n",
    "\n",
    "#sys.path.append(os.path.abspath(os.path.join('..', 'ARRG')))\n",
    "from ARRG_macro import *\n",
    "\n",
    "import importlib\n",
    "\n",
    "importlib.reload(wasserstein_loss)\n",
    "importlib.reload(deepsets_classifier)\n",
    "\n",
    "from wasserstein_loss import WassersteinLoss, WassersteinLoss_POT\n",
    "from deepsets_classifier import DeepSetsClassifier\n",
    "\n",
    "from torch.utils.data import DataLoader, TensorDataset\n",
    "from tqdm import tqdm\n",
    "from sklearn.model_selection import train_test_split"
   ]
  },
  {
   "cell_type": "code",
   "execution_count": 44,
   "id": "128e26d3-1049-42ba-9917-8f83075be036",
   "metadata": {
    "tags": []
   },
   "outputs": [],
   "source": [
    "def prepare_data(exp_obs, sim_obs, batch_size=32):\n",
    "    exp_dataset = TensorDataset(torch.tensor(exp_obs, dtype=torch.float32))\n",
    "    sim_dataset = TensorDataset(torch.tensor(sim_obs, dtype=torch.float32))\n",
    "\n",
    "    exp_loader = DataLoader(exp_dataset, batch_size=batch_size, shuffle=True)\n",
    "    sim_loader = DataLoader(sim_dataset, batch_size=batch_size, shuffle=True)\n",
    "\n",
    "    return exp_loader, sim_loader\n",
    "        \n",
    "def evaluate_model(classifier, test_exp_loader, test_sim_loader):\n",
    "    classifier.eval()\n",
    "    test_loss = 0.0\n",
    "    criterion = nn.BCELoss()\n",
    "    with torch.no_grad():\n",
    "        for exp_batch, sim_batch in zip(test_exp_loader, test_sim_loader):\n",
    "            exp_data, = exp_batch\n",
    "            sim_data, = sim_batch\n",
    "\n",
    "            exp_output = classifier(exp_data)\n",
    "            sim_output = classifier(sim_data)\n",
    "\n",
    "            exp_labels = torch.ones(exp_output.size(0))\n",
    "            sim_labels = torch.zeros(sim_output.size(0))\n",
    "\n",
    "            loss_exp = criterion(exp_output, exp_labels)\n",
    "            loss_sim = criterion(sim_output, sim_labels)\n",
    "            loss = (loss_exp + loss_sim) / 2\n",
    "\n",
    "            test_loss += loss.item() * exp_data.size(0)\n",
    "    \n",
    "    print(f'Test Loss: {test_loss/len(test_exp_loader.dataset):.4f}')"
   ]
  },
  {
   "cell_type": "code",
   "execution_count": 32,
   "id": "973afa9e-30b7-4bc2-afbc-e21c171a64b7",
   "metadata": {
    "tags": []
   },
   "outputs": [
    {
     "name": "stdout",
     "output_type": "stream",
     "text": [
      "Experimental observable shape: (1000000, 50, 5)\n",
      "Simulated observable shape: (1000000, 50, 5)\n",
      "Simulated z shape: (50000, 105, 101)\n",
      "Simulated fPrel shape: (50000, 105, 100)\n",
      "Experimental observable shape: torch.Size([200000, 50, 5])\n",
      "Simulated observable shape: torch.Size([200000, 50, 5])\n",
      "Simulated z shape: torch.Size([50000, 105, 101])\n",
      "Simulated fPrel shape: torch.Size([50000, 105, 100])\n"
     ]
    }
   ],
   "source": [
    "class ObservableDataset(Dataset):\n",
    "\t\"\"\"\n",
    "\tConverts observable dataset into PyTorch syntax.\n",
    "\t\"\"\"\n",
    "\tdef __init__(self, data):\n",
    "\t\tself.data = data\n",
    "\n",
    "\tdef __len__(self):\n",
    "\t\treturn self.data.shape[0]\n",
    "\n",
    "\tdef __getitem__(self, idx):\n",
    "\t\tsample = self.data[idx]\n",
    "\t\treturn sample\n",
    "# Paths to the datasets on perlmutter\n",
    "exp_hadrons_PATH = '/global/cfs/projectdirs/m3246/hadronization-tune-mlrw-data/pgun_qqbar_hadrons_a_0.68_b_0.98_sigma_0.335_N_1e6.npy'\n",
    "#exp_accept_reject_PATH = '/global/cfs/projectdirs/m3246/hadronization-tune-mlrw-data/pgun_qqbar_accept_reject_z_a_0.68_b_0.98_sigma_0.335_N_1e6.npy'\n",
    "sim_hadrons_PATH = '/global/cfs/projectdirs/m3246/hadronization-tune-mlrw-data/pgun_qqbar_hadrons_a_0.72_b_0.88_sigma_0.335_N_1e6.npy'\n",
    "sim_accept_reject_PATH = '/global/cfs/projectdirs/m3246/hadronization-tune-mlrw-data/pgun_qqbar_finalTwo_accept_reject_z_a_0.72_b_0.88_sigma_0.335_N_50e3.npy'\n",
    "sim_fPrel_PATH = '/global/cfs/projectdirs/m3246/hadronization-tune-mlrw-data/pgun_qqbar_finalTwo_fPrel_a_0.72_b_0.88_sigma_0.335_N_50e3.npy'\n",
    "\n",
    "# Load the arrays\n",
    "exp_hadrons       = np.load(exp_hadrons_PATH, mmap_mode=\"r\")\n",
    "sim_hadrons       = np.load(sim_hadrons_PATH, mmap_mode=\"r\")\n",
    "sim_accept_reject = np.load(sim_accept_reject_PATH, mmap_mode = \"r\")\n",
    "sim_fPrel         = np.load(sim_fPrel_PATH, mmap_mode = \"r\")\n",
    "# Extract the hadron multiplicity\n",
    "exp_obs = exp_hadrons # exp_obs = np.array([len(exp_hadrons[i,:][np.abs(exp_hadrons[i,:,0]) > 0.0]) for i in range(exp_hadrons.shape[0])])\n",
    "sim_obs = sim_hadrons # sim_obs = np.array([len(sim_hadrons[i,:][np.abs(sim_hadrons[i,:,0]) > 0.0]) for i in range(sim_hadrons.shape[0])])\n",
    "# Print dataset shapes\n",
    "print('Experimental observable shape:', exp_hadrons.shape)\n",
    "print('Simulated observable shape:', sim_hadrons.shape)\n",
    "print('Simulated z shape:', sim_accept_reject.shape)\n",
    "print('Simulated fPrel shape:', sim_fPrel.shape)\n",
    "\n",
    "# Restrict to a subset of the full dataset (for memory)\n",
    "N_events = int(200000)\n",
    "# Normalize\n",
    "def unit_normalize(data,axes=(0,1)):\n",
    "    data_max = data.max(axis=axes)\n",
    "    data_min = data.min(axis=axes)\n",
    "    return (data-data_min)/(data_max-data_min)\n",
    "exp_obs = unit_normalize(exp_obs[0:N_events])\n",
    "sim_obs = unit_normalize(sim_obs[0:N_events])\n",
    "\n",
    "# data for calculating event weights\n",
    "#sim_mult = torch.Tensor([len(sim_hadrons[i,:][np.abs(sim_hadrons[i,:,0]) > 0.0]) for i in range(sim_hadrons.shape[0])])\n",
    "sim_accept_reject = torch.Tensor(sim_accept_reject[0:N_events].copy()) # z values\n",
    "sim_fPrel = torch.Tensor(sim_fPrel[0:N_events].copy())\n",
    "# Convert into torch objects\n",
    "exp_obs = torch.Tensor(exp_obs.copy())\n",
    "sim_obs = torch.Tensor(sim_obs.copy())\n",
    "# Combine and split into training + validation and test sets\n",
    "train_val_exp_obs, test_exp_obs = train_test_split(exp_obs, test_size=0.2, random_state=42)\n",
    "train_val_sim_obs, test_sim_obs = train_test_split(sim_obs, test_size=0.2, random_state=42)\n",
    "# Further split training + validation into separate training and validation sets\n",
    "train_exp_obs, val_exp_obs = train_test_split(train_val_exp_obs, test_size=0.25, random_state=42)  # 0.25 x 0.8 = 0.2\n",
    "train_sim_obs, val_sim_obs = train_test_split(train_val_sim_obs, test_size=0.25, random_state=42)\n",
    "\n",
    "# Check the accepted z-values, if z == 1 reduce it by epsilon (a very nasty bug to find).\n",
    "# The a-coefficient when computing the likelihood has a term propotional to log(1-z). If \n",
    "# z = 1, this term diverges to -inf and completely destroys the backward pass.\n",
    "epsilon = 1e-5\n",
    "sim_accept_reject[sim_accept_reject == 1] = 1 - epsilon\n",
    "\n",
    "# Print dataset shapes\n",
    "print('Experimental observable shape:', exp_obs.shape)\n",
    "print('Simulated observable shape:', sim_obs.shape)\n",
    "print('Simulated z shape:', sim_accept_reject.shape)\n",
    "print('Simulated fPrel shape:', sim_fPrel.shape)"
   ]
  },
  {
   "cell_type": "code",
   "execution_count": 45,
   "id": "77d84b2a-c3a6-46b3-8493-5d77206692e8",
   "metadata": {
    "tags": []
   },
   "outputs": [
    {
     "name": "stderr",
     "output_type": "stream",
     "text": [
      "/tmp/ipykernel_1137689/2920987848.py:2: UserWarning: To copy construct from a tensor, it is recommended to use sourceTensor.clone().detach() or sourceTensor.clone().detach().requires_grad_(True), rather than torch.tensor(sourceTensor).\n",
      "  exp_dataset = TensorDataset(torch.tensor(exp_obs, dtype=torch.float32))\n",
      "/tmp/ipykernel_1137689/2920987848.py:3: UserWarning: To copy construct from a tensor, it is recommended to use sourceTensor.clone().detach() or sourceTensor.clone().detach().requires_grad_(True), rather than torch.tensor(sourceTensor).\n",
      "  sim_dataset = TensorDataset(torch.tensor(sim_obs, dtype=torch.float32))\n"
     ]
    }
   ],
   "source": [
    "# Usage example:\n",
    "# Assuming 5 features per particle\n",
    "input_dim = 5\n",
    "phi_hidden_dim=32\n",
    "rho_hidden_dim=32\n",
    "classifier = DeepSetsClassifier(input_dim=input_dim,\n",
    "                                phi_hidden_dim=phi_hidden_dim, rho_hidden_dim=rho_hidden_dim)\n",
    "# Prepare data\n",
    "batch_size=10000\n",
    "train_exp_loader, train_sim_loader = prepare_data(train_exp_obs, train_sim_obs, batch_size=batch_size)\n",
    "val_exp_loader, val_sim_loader = prepare_data(val_exp_obs, val_sim_obs, batch_size=batch_size)\n",
    "test_exp_loader, test_sim_loader = prepare_data(test_exp_obs, test_sim_obs, batch_size=batch_size)"
   ]
  },
  {
   "cell_type": "code",
   "execution_count": 46,
   "id": "dcb24fd9-d050-43e0-a393-350e0eb93fad",
   "metadata": {
    "tags": []
   },
   "outputs": [
    {
     "name": "stdout",
     "output_type": "stream",
     "text": [
      "Epoch [1/5]\n",
      "Train Loss: 0.6930, Train Exp Loss: 0.6888, Train Sim Loss: 0.6972\n",
      "Val Loss: 0.6928, Val Exp Loss: 0.6979, Val Sim Loss: 0.6878\n",
      "\n",
      "Epoch [2/5]\n",
      "Train Loss: 0.6926, Train Exp Loss: 0.6910, Train Sim Loss: 0.6943\n",
      "Val Loss: 0.6924, Val Exp Loss: 0.6853, Val Sim Loss: 0.6994\n",
      "\n",
      "Epoch [3/5]\n",
      "Train Loss: 0.6921, Train Exp Loss: 0.6882, Train Sim Loss: 0.6959\n",
      "Val Loss: 0.6916, Val Exp Loss: 0.6893, Val Sim Loss: 0.6938\n",
      "\n",
      "Epoch [4/5]\n",
      "Train Loss: 0.6911, Train Exp Loss: 0.6869, Train Sim Loss: 0.6952\n",
      "Val Loss: 0.6903, Val Exp Loss: 0.6857, Val Sim Loss: 0.6949\n",
      "\n",
      "Epoch [5/5]\n",
      "Train Loss: 0.6894, Train Exp Loss: 0.6855, Train Sim Loss: 0.6934\n",
      "Val Loss: 0.6882, Val Exp Loss: 0.6860, Val Sim Loss: 0.6904\n",
      "\n"
     ]
    }
   ],
   "source": [
    "# Train the classifier\n",
    "train=True\n",
    "classifier = DeepSetsClassifier(input_dim=input_dim,\n",
    "                                phi_hidden_dim=phi_hidden_dim, rho_hidden_dim=rho_hidden_dim)\n",
    "if train:\n",
    "    epochs=5\n",
    "    lr=0.001\n",
    "    classifier.train_classifier(train_exp_loader, train_sim_loader, val_exp_loader, val_sim_loader, \n",
    "                     num_epochs=epochs, learning_rate=lr)\n",
    "    torch.save(classifier.state_dict(), \"deepsets_classifier.pth\")\n",
    "else:\n",
    "    classifier.load_state_dict(torch.load('deepsets_classifier.pth'))\n",
    "    classifier.eval()"
   ]
  },
  {
   "cell_type": "code",
   "execution_count": 47,
   "id": "ca807a5f-7c3d-4896-8b4e-a1c4dd1f4327",
   "metadata": {},
   "outputs": [
    {
     "name": "stdout",
     "output_type": "stream",
     "text": [
      "Test Loss: 0.6882\n"
     ]
    }
   ],
   "source": [
    "# Evaluate the model\n",
    "evaluate_model(classifier, test_exp_loader, test_sim_loader)"
   ]
  },
  {
   "cell_type": "code",
   "execution_count": 48,
   "id": "15bb3b6c-7302-453c-8c1b-989485d822c5",
   "metadata": {
    "tags": []
   },
   "outputs": [
    {
     "data": {
      "text/plain": [
       "tensor([0.4861, 0.5077, 0.5125, 0.5187, 0.5045, 0.5010, 0.4892, 0.5039, 0.4975,\n",
       "        0.4723], grad_fn=<SqueezeBackward0>)"
      ]
     },
     "execution_count": 48,
     "metadata": {},
     "output_type": "execute_result"
    }
   ],
   "source": [
    "classifier(exp_obs[:10])"
   ]
  },
  {
   "cell_type": "code",
   "execution_count": 49,
   "id": "0e01c7d7-ccae-4ee7-a199-2decb225c747",
   "metadata": {
    "tags": []
   },
   "outputs": [],
   "source": [
    "def plot_score_histogram(exp_scores, sim_scores, sim_weights=None, same_bins=False, bins=50):\n",
    "    \"\"\"\n",
    "    Plot a histogram of classifier scores for the given data.\n",
    "    \n",
    "    Parameters:\n",
    "    - exp_scores: numpy array or torch.Tensor of scores from the experimental data\n",
    "    - sim_scores: numpy array or torch.Tensor of scores from the simulated data\n",
    "    - sim_weights: numpy array or torch.Tensor of weights for the simulated scores, or None\n",
    "    - same_bins: bool, whether to use the same bins for both histograms\n",
    "    - bins: int, number of bins for the histogram\n",
    "    \"\"\"\n",
    "    exp_scores = np.array(exp_scores)\n",
    "    sim_scores = np.array(sim_scores)\n",
    "    \n",
    "    if sim_weights is not None:\n",
    "        sim_weights = np.array(sim_weights)\n",
    "    \n",
    "    if same_bins:\n",
    "        # Compute the bin edges from the combined range\n",
    "        min_score = min(exp_scores.min(), sim_scores.min())\n",
    "        max_score = max(exp_scores.max(), sim_scores.max())\n",
    "        bin_edges = np.linspace(min_score, max_score, bins + 1)\n",
    "    else:\n",
    "        bin_edges = bins\n",
    "    \n",
    "    plt.figure(figsize=(10, 6))\n",
    "    \n",
    "    # Plot histogram for experimental scores\n",
    "    plt.hist(exp_scores, bins=bin_edges, density=True, alpha=0.7, label=\"True\")\n",
    "    \n",
    "    # Plot histogram for simulated scores with weights if provided\n",
    "    if sim_weights is not None:\n",
    "        plt.hist(sim_scores, bins=bin_edges, density=True, weights=sim_weights, alpha=0.7, label=\"Base\")\n",
    "    else:\n",
    "        plt.hist(sim_scores, bins=bin_edges, density=True, alpha=0.7, label=\"Base\")\n",
    "    \n",
    "    plt.title('Histogram of Classifier Scores (On Test Set)')\n",
    "    plt.xlabel('Score')\n",
    "    plt.ylabel('Density')\n",
    "    plt.legend()\n",
    "    plt.show()"
   ]
  },
  {
   "cell_type": "code",
   "execution_count": 50,
   "id": "c42599e0-03e6-4ff9-89e3-18fd6e067a04",
   "metadata": {
    "tags": []
   },
   "outputs": [
    {
     "data": {
      "image/png": "[encoded data removed]",
      "text/plain": [
       "<Figure size 1000x600 with 1 Axes>"
      ]
     },
     "metadata": {},
     "output_type": "display_data"
    }
   ],
   "source": [
    "test_exp_scores = classifier(test_exp_obs).detach().numpy()\n",
    "test_sim_scores = classifier(test_sim_obs).detach().numpy()\n",
    "plot_score_histogram(test_exp_scores, test_sim_scores, same_bins=True, bins=100)"
   ]
  },
  {
   "cell_type": "code",
   "execution_count": 51,
   "id": "87135078-5111-4851-bca0-e3bea0b18a24",
   "metadata": {},
   "outputs": [],
   "source": [
    "params_base = torch.tensor([0.72, 0.88])\n",
    "params_init = torch.tensor([0.7, 0.9])\n",
    "over_sample_factor = 10.0\n",
    "# initialize weight module\n",
    "weight_nexus = LundWeight(params_base, params_init, over_sample_factor = over_sample_factor)"
   ]
  },
  {
   "cell_type": "code",
   "execution_count": 52,
   "id": "df64b196-7052-4e4b-8166-91f4251b3361",
   "metadata": {
    "tags": []
   },
   "outputs": [
    {
     "name": "stdout",
     "output_type": "stream",
     "text": [
      "tensor([1.0492, 1.1027, 0.9518, 1.1018, 1.0195, 0.8884, 0.8477, 1.0835, 1.0925,\n",
      "        0.8541], grad_fn=<MulBackward0>)\n"
     ]
    }
   ],
   "source": [
    "n = 10\n",
    "print(weight_nexus(sim_accept_reject[:n], sim_fPrel[:n]))"
   ]
  },
  {
   "cell_type": "code",
   "execution_count": 53,
   "id": "b13792a7-b27c-44e4-bada-102cf8c3ad20",
   "metadata": {
    "tags": []
   },
   "outputs": [],
   "source": [
    "class CombinedDataset(Dataset):\n",
    "    def __init__(self, exp_obs, sim_obs, sim_fPrel, sim_accept_reject):\n",
    "        self.exp_obs = exp_obs\n",
    "        self.sim_obs = sim_obs\n",
    "        self.sim_fPrel = sim_fPrel\n",
    "        self.sim_accept_reject = sim_accept_reject\n",
    "        assert len(exp_obs) == len(sim_obs) == len(sim_fPrel) == len(sim_accept_reject), \"All inputs must have the same length\"\n",
    "\n",
    "    def __len__(self):\n",
    "        return len(self.exp_obs)\n",
    "\n",
    "    def __getitem__(self, idx):\n",
    "        return {\n",
    "            'exp_scores': self.exp_obs[idx],\n",
    "            'sim_scores': self.sim_obs[idx],\n",
    "            'sim_fPrel': self.sim_fPrel[idx],\n",
    "            'sim_accept_reject': self.sim_accept_reject[idx],\n",
    "        }\n",
    "\n",
    "# Assuming you've already processed your data as described in your code snippet\n",
    "# and have exp_obs, sim_obs, sim_accept_reject, and sim_mT ready\n",
    "\n",
    "# Create the dataset\n",
    "exp_scores = classifier.forward(exp_obs)\n",
    "sim_scores = classifier.forward(sim_obs)\n",
    "sar_size = sim_accept_reject.shape[0]\n",
    "dataset = CombinedDataset(exp_scores[:sar_size], sim_scores[:sar_size], sim_fPrel, sim_accept_reject)\n",
    "\n",
    "# Split into training and validation sets\n",
    "train_size = int(0.9 * len(dataset))  # 90% for training\n",
    "val_size = len(dataset) - train_size  # no worry of overfittitng, remove validation\n",
    "train_dataset, val_dataset = torch.utils.data.random_split(dataset, [train_size, val_size])\n",
    "\n",
    "# Create DataLoaders\n",
    "batch_size = 25000  # You can adjust this as needed\n",
    "train_loader = DataLoader(train_dataset, batch_size=batch_size, shuffle=True)\n",
    "val_loader = DataLoader(val_dataset, batch_size=batch_size, shuffle=False)"
   ]
  },
  {
   "cell_type": "code",
   "execution_count": 54,
   "id": "604e695b-1ad0-425d-80f0-5520b1eb0766",
   "metadata": {
    "tags": []
   },
   "outputs": [],
   "source": [
    "params_base = torch.tensor([0.72, 0.88])\n",
    "params_init = torch.tensor([0.72, 0.881])\n",
    "# True parameters (0.68, 0.98)\n",
    "over_sample_factor = 10.0\n",
    "# initialize weight module\n",
    "weight_nexus = LundWeight(params_base, params_init, over_sample_factor = over_sample_factor)\n",
    "\n",
    "class Wasserstein_Tuner:\n",
    "    def __init__(self, classifier, weight_nexus, learning_rate=0.001):\n",
    "        self.classifier = classifier\n",
    "        self.weight_nexus = weight_nexus\n",
    "        self.learning_rate = learning_rate\n",
    "        self.optimizer = torch.optim.SGD([self.weight_nexus.params_a, self.weight_nexus.params_b], lr=self.learning_rate)\n",
    "        self.wasserstein_loss = WassersteinLoss_POT()\n",
    "        self.param_history = []\n",
    "\n",
    "    def train(self, train_loader: DataLoader, val_loader: DataLoader, num_epochs: int = 10):\n",
    "        print(\"Beginning parameter tuning...\")\n",
    "        print(f\"Initial (a, b): ({self.weight_nexus.params_a.item():.4f}, {self.weight_nexus.params_b.item():.4f})\")\n",
    "        for epoch in range(num_epochs):\n",
    "            # Training loop\n",
    "            train_loss = 0.0\n",
    "            self.weight_nexus.eval()\n",
    "            for batch in tqdm(train_loader, desc=f\"Epoch {epoch+1}/{num_epochs} [Train]\", leave=False):\n",
    "                # Unpack the batch\n",
    "                exp_scores_data = batch['exp_scores']\n",
    "                sim_scores_data = batch['sim_scores']\n",
    "                sim_accept_reject_data = batch['sim_accept_reject']\n",
    "                sim_fPrel_data = batch['sim_fPrel']\n",
    "                exp_scores_data.detach()\n",
    "                sim_scores_data.detach()\n",
    "                sim_accept_reject_data.detach()\n",
    "                sim_fPrel_data.detach()\n",
    "\n",
    "                # Zero the gradients\n",
    "                self.optimizer.zero_grad()\n",
    "                # Calculate weights\n",
    "                weights = self.weight_nexus(sim_accept_reject_data, sim_fPrel_data)\n",
    "                # weights = weights/torch.sum(weights)\n",
    "                # Calculate Wasserstein distance\n",
    "                loss = self.wasserstein_loss(exp_scores_data, sim_scores_data, y_weights=weights)\n",
    "                print(\"wd =\", loss.item())\n",
    "                \n",
    "                loss.backward(retain_graph=True)\n",
    "                # Update parameters\n",
    "                self.optimizer.step()\n",
    "                \n",
    "                weights.detach()\n",
    "                \n",
    "                # Record current values of params_a and params_b\n",
    "                self.param_history.append({\n",
    "                    'epoch': epoch + 1,\n",
    "                    'params_a': self.weight_nexus.params_a.item(),\n",
    "                    'params_b': self.weight_nexus.params_b.item()\n",
    "                })\n",
    "                \n",
    "                # Print current values of params_a and params_b\n",
    "                print('Gradient of a:', self.weight_nexus.params_a.grad.clone().detach().numpy())\n",
    "                print('Gradient of b:', self.weight_nexus.params_b.grad.clone().detach().numpy())\n",
    "                print(f\"Current (a, b): ({self.weight_nexus.params_a.item():.6f}, {self.weight_nexus.params_b.item():.6f})\")\n",
    "\n",
    "                train_loss += loss.item()\n",
    "\n",
    "            # Print training loss for this epoch\n",
    "            avg_train_loss = train_loss / len(train_loader)\n",
    "            print(f\"Epoch {epoch+1}/{num_epochs}, Training Loss: {avg_train_loss:.4g}\")\n",
    "\n",
    "            # Validation loop\n",
    "            self.weight_nexus.eval()\n",
    "            val_loss = 0.0\n",
    "            with torch.no_grad():\n",
    "                for batch in val_loader:\n",
    "                    # Unpack the batch\n",
    "                    exp_scores_data = batch['exp_scores']\n",
    "                    sim_scores_data = batch['sim_scores']\n",
    "                    sim_accept_reject_data = batch['sim_accept_reject']\n",
    "                    sim_fPrel_data = batch['sim_fPrel']\n",
    "\n",
    "                    # Calculate weights\n",
    "                    weights = self.weight_nexus(sim_accept_reject_data, sim_fPrel_data)\n",
    "\n",
    "                    # Calculate Wasserstein distance\n",
    "                    loss = self.wasserstein_loss(exp_scores_data, sim_scores_data, y_weights=weights)\n",
    "\n",
    "                    val_loss += loss.item()\n",
    "\n",
    "            # Print validation loss for this epoch\n",
    "            avg_val_loss = val_loss / len(val_loader)\n",
    "            print(f\"Epoch {epoch+1}/{num_epochs}, Validation Loss: {avg_val_loss:.4g}\")\n",
    "\n",
    "        return self.weight_nexus\n",
    "\n",
    "    def Wasserstein_flow(self, flow_loader: DataLoader, a_b_init_grid):\n",
    "        \"\"\"\n",
    "        Generate gradient flow data using the same loss and dataloader as in training.\n",
    "        \"\"\"\n",
    "        # Initialize gradient tensor\n",
    "        a_b_gradient = torch.zeros(len(a_b_init_grid), 2)\n",
    "        init_counter = 0\n",
    "\n",
    "        for a_b_init in tqdm(a_b_init_grid, ncols=100, desc=\"Wasserstein Flow\"):\n",
    "            # Initialize new weight module with different initial parameters\n",
    "            self.weight_nexus = LundWeight(params_base, a_b_init, over_sample_factor=over_sample_factor)\n",
    "            self.weight_nexus.eval()  # Set the model to evaluation mode\n",
    "\n",
    "            a_b_gradient_i = torch.zeros(2)\n",
    "            for batch in flow_loader:\n",
    "                # Unpack the batch\n",
    "                sim_accept_reject_data = batch['sim_accept_reject']\n",
    "                sim_fPrel_data = batch['sim_fPrel']\n",
    "                sim_scores_data = batch['sim_scores']\n",
    "                exp_scores_data = batch['exp_scores']\n",
    "\n",
    "                # Zero the gradients\n",
    "                self.optimizer.zero_grad()\n",
    "\n",
    "                # Calculate weights\n",
    "                weights = self.weight_nexus(sim_accept_reject_data, sim_fPrel_data)\n",
    "\n",
    "                # Calculate Wasserstein distance\n",
    "                loss = self.wasserstein_loss(exp_scores_data, sim_scores_data, y_weights=weights)\n",
    "\n",
    "                # Backpropagation to compute gradients\n",
    "                loss.backward(retain_graph=True)\n",
    "\n",
    "                # Extract gradients for params_a and params_b\n",
    "                a_b_gradient_i[0] += self.weight_nexus.params_a.grad.clone().detach()\n",
    "                a_b_gradient_i[1] += self.weight_nexus.params_b.grad.clone().detach()\n",
    "\n",
    "            # Average gradients across batches\n",
    "            a_b_gradient_i /= len(flow_loader)\n",
    "\n",
    "            # Write to the master gradient tensor\n",
    "            a_b_gradient[init_counter] = a_b_gradient_i.clone()\n",
    "            init_counter += 1\n",
    "\n",
    "        # Convert the gradient tensor to a numpy array\n",
    "        a_b_gradient = a_b_gradient.numpy()\n",
    "        return a_b_gradient\n",
    "    \n",
    "    def set_learning_rate(self, new_lr: float):\n",
    "        self.learning_rate = new_lr\n",
    "        for param_group in self.optimizer.param_groups:\n",
    "            param_group['lr'] = new_lr\n",
    "\n",
    "    def get_current_parameters(self):\n",
    "        return {\n",
    "            'params_a': self.weight_nexus.params_a.item(),\n",
    "            'params_b': self.weight_nexus.params_b.item()\n",
    "        }"
   ]
  },
  {
   "cell_type": "code",
   "execution_count": 55,
   "id": "0dc05cb7-8990-426b-a534-9210fbe73a84",
   "metadata": {
    "tags": []
   },
   "outputs": [],
   "source": [
    "def a_b_grid(x_range, y_range, n_points):\n",
    "    \"\"\"\n",
    "    Creates a grid of values within a two-dimensional range and returns it in a flattened tensor.\n",
    "\n",
    "    Parameters:\n",
    "    x_range (tuple): A tuple of (min, max) for the x-axis range.\n",
    "    y_range (tuple): A tuple of (min, max) for the y-axis range.\n",
    "    steps (int): --- The number of steps/points in each dimension.\n",
    "\n",
    "    Returns:\n",
    "    torch.Tensor: A flattened tensor containing all the grid points.\n",
    "    \"\"\"\n",
    "    # Create linearly spaced points for each range\n",
    "    x_points = torch.linspace(x_range[0], x_range[1], n_points)\n",
    "    y_points = torch.linspace(y_range[0], y_range[1], n_points)\n",
    "\n",
    "    # Create a meshgrid from the x and y points\n",
    "    x_grid, y_grid = torch.meshgrid(x_points, y_points, indexing='ij')\n",
    "\n",
    "    # Flatten the grid and stack the coordinates\n",
    "    grid_flattened = torch.stack([x_grid.flatten(), y_grid.flatten()], dim=1)\n",
    "\n",
    "    return grid_flattened"
   ]
  },
  {
   "cell_type": "code",
   "execution_count": 15,
   "id": "8b7b7d71-be6f-4460-be9e-2efc980e054f",
   "metadata": {
    "tags": []
   },
   "outputs": [],
   "source": [
    "# Define a grid of initial parameters\n",
    "a_range  = (0.6, 0.80)\n",
    "b_range  = (0.85, 1.05)\n",
    "n_points = 10\n",
    "a_b_init = a_b_grid(a_range, b_range, n_points)"
   ]
  },
  {
   "cell_type": "code",
   "execution_count": 56,
   "id": "e1f31e04-6e2d-462b-aeac-663853b70735",
   "metadata": {
    "tags": []
   },
   "outputs": [
    {
     "name": "stdout",
     "output_type": "stream",
     "text": [
      "Beginning parameter tuning...\n",
      "Initial (a, b): (0.7200, 0.8810)\n"
     ]
    },
    {
     "name": "stderr",
     "output_type": "stream",
     "text": [
      "Epoch 1/1 [Train]:   0%|          | 0/2 [00:00<?, ?it/s]/global/homes/n/nheller/.conda/envs/herwig_jupyter/lib/python3.12/site-packages/ot/lp/solver_1d.py:41: UserWarning: The use of `x.T` on tensors of dimension other than 2 to reverse their shape is deprecated and it will throw an error in a future release. Consider `x.mT` to transpose batches of matrices or `x.permute(*torch.arange(x.ndim - 1, -1, -1))` to reverse the dimensions of a tensor. (Triggered internally at ../aten/src/ATen/native/TensorShape.cpp:3637.)\n",
      "  cws = cws.T.contiguous()\n"
     ]
    },
    {
     "name": "stdout",
     "output_type": "stream",
     "text": [
      "wd = 0.005156726576387882\n"
     ]
    },
    {
     "name": "stderr",
     "output_type": "stream",
     "text": [
      "Epoch 1/1 [Train]:  50%|█████     | 1/2 [00:31<00:31, 31.56s/it]"
     ]
    },
    {
     "name": "stdout",
     "output_type": "stream",
     "text": [
      "Gradient of a: 0.0003514059\n",
      "Gradient of b: -0.00025649738\n",
      "Current (a, b): (0.719649, 0.881256)\n",
      "wd = 0.005148574709892273\n"
     ]
    },
    {
     "name": "stderr",
     "output_type": "stream",
     "text": [
      "                                                                "
     ]
    },
    {
     "name": "stdout",
     "output_type": "stream",
     "text": [
      "Gradient of a: -0.00028705425\n",
      "Gradient of b: 0.00041345076\n",
      "Current (a, b): (0.719936, 0.880843)\n",
      "Epoch 1/1, Training Loss: 0.005153\n"
     ]
    },
    {
     "name": "stderr",
     "output_type": "stream",
     "text": [
      "\r"
     ]
    },
    {
     "name": "stdout",
     "output_type": "stream",
     "text": [
      "Epoch 1/1, Validation Loss: 0.005224\n"
     ]
    },
    {
     "data": {
      "text/plain": [
       "LundWeight()"
      ]
     },
     "execution_count": 56,
     "metadata": {},
     "output_type": "execute_result"
    }
   ],
   "source": [
    "tuner = Wasserstein_Tuner(classifier, weight_nexus, learning_rate=1)\n",
    "tuner.train(train_loader, val_loader, num_epochs=1)"
   ]
  },
  {
   "cell_type": "code",
   "execution_count": null,
   "id": "7a4d07f0-d720-45d9-b4db-37c5705a03bc",
   "metadata": {},
   "outputs": [],
   "source": [
    "tuner.train(train_loader, # Define a grid of initial parameters\n",
    "a_range  = (0.6, 0.80)\n",
    "b_range  = (0.85, 1.05)\n",
    "n_points = 10\n",
    "a_b_init = a_b_grid(a_range, b_range, n_points), num_epochs=2)\n",
    "a_b_gradients = tuner.Wasserstein_flow(train_loader, a_b_init)"
   ]
  }
 ],
 "metadata": {
  "kernelspec": {
   "display_name": "Herwig Jupyter Kernel",
   "language": "python",
   "name": "herwig_jupyter"
  },
  "language_info": {
   "codemirror_mode": {
    "name": "ipython",
    "version": 3
   },
   "file_extension": ".py",
   "mimetype": "text/x-python",
   "name": "python",
   "nbconvert_exporter": "python",
   "pygments_lexer": "ipython3",
   "version": "3.12.3"
  }
 },
 "nbformat": 4,
 "nbformat_minor": 5
}
