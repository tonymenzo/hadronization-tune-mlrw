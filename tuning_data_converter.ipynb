{
 "cells": [
  {
   "cell_type": "code",
   "execution_count": 1,
   "id": "010f15b5-a91c-48ca-91cc-2728d0d11d42",
   "metadata": {},
   "outputs": [],
   "source": [
    "import numpy as np\n",
    "from npy_append_array import NpyAppendArray\n",
    "import matplotlib.pyplot as plt\n",
    "from tqdm import tqdm"
   ]
  },
  {
   "cell_type": "code",
   "execution_count": 2,
   "id": "7481c19c-71d3-49d2-be80-258f3ba63a91",
   "metadata": {},
   "outputs": [],
   "source": [
    "# Read in the data from the text file\n",
    "PATH_accept_reject_monash = '/home/tonym/Code/pythia8303/examples/pgun_qqbar_accept_reject_z_a_0.68_b_0.98_sigma_0.335.txt'\n",
    "PATH_hadrons_monash = '/home/tonym/Code/pythia8303/examples/pgun_qqbar_hadrons_a_0.68_b_0.98_sigma_0.335.txt'"
   ]
  },
  {
   "cell_type": "markdown",
   "id": "8e685e02-716e-4803-aaa2-47eb98937185",
   "metadata": {},
   "source": [
    "### Converting accept-reject z-data"
   ]
  },
  {
   "cell_type": "code",
   "execution_count": 3,
   "id": "5f35b835-a9ab-4ed6-b02b-220bc028c7ba",
   "metadata": {},
   "outputs": [],
   "source": [
    "with open (PATH_accept_reject_monash , 'r') as f:\n",
    "    lines = f.readlines()"
   ]
  },
  {
   "cell_type": "code",
   "execution_count": 7,
   "id": "460ac9da-3c57-4e5a-9f20-05d64c5a2cb8",
   "metadata": {},
   "outputs": [
    {
     "name": "stderr",
     "output_type": "stream",
     "text": [
      " 10%|███████████████                                                                                                                                       | 1509047/15085032 [01:29<13:24, 16883.64it/s]\n"
     ]
    }
   ],
   "source": [
    "# Initialize dummy counters\n",
    "counter = 0\n",
    "event_counter = 0\n",
    "\n",
    "# Initialize padding parameters\n",
    "npad_accept_reject = 100 + 1\n",
    "npad_event = 50\n",
    "\n",
    "# Desired number of events\n",
    "n_events = 1e5\n",
    "filename = 'pgun_qqbar_accept_reject_z_a_0.68_b_0.98_sigma_0.335_N_1e5.npy'\n",
    "\n",
    "with tqdm(total = len(lines)) as pbar:\n",
    "    for line in lines:\n",
    "        # Events are separated at the new line delimiter\n",
    "        if line != '\\n':\n",
    "            if counter == 0:\n",
    "                # Zero-pad the accept-reject array and create array\n",
    "                arz_i = np.array([np.pad(np.array(line.split(), dtype = float), (0, npad_accept_reject - len(line.split())))])\n",
    "                counter += 1\n",
    "            else:\n",
    "                # Zero-pad the accept-reject array and append\n",
    "                arz_i = np.append(arz_i, np.array([np.pad(np.array(line.split(), dtype = float), (0, npad_accept_reject - len(line.split())))]), axis = 0)\n",
    "        else:\n",
    "            # Zero-pad on the event dimension and create event array\n",
    "            arz_i = np.pad(arz_i, ((0, npad_event - len(arz_i)),(0,0)))\n",
    "            # Write to .npy file located at write_path\n",
    "            with NpyAppendArray(filename) as datafile:\n",
    "                datafile.append(np.array([arz_i]))\n",
    "            counter = 0\n",
    "            event_counter += 1\n",
    "            if event_counter == n_events: break\n",
    "        pbar.update(1)"
   ]
  },
  {
   "cell_type": "code",
   "execution_count": 6,
   "id": "675480c1-f697-4803-b05e-47e88305a8c4",
   "metadata": {},
   "outputs": [],
   "source": [
    "# Load the accept-reject data\n",
    "filename = 'pgun_qqbar_accept_reject_z_a_0.68_b_0.98_sigma_0.335_N_1e5.npy'\n",
    "pgun_accept_reject_monash = np.load(filename, mmap_mode = \"r\")"
   ]
  },
  {
   "cell_type": "code",
   "execution_count": 7,
   "id": "b77010d8-299d-4154-a146-9a77ae5de8a4",
   "metadata": {},
   "outputs": [
    {
     "name": "stdout",
     "output_type": "stream",
     "text": [
      "(1000000, 50, 101)\n"
     ]
    }
   ],
   "source": [
    "print(pgun_accept_reject_monash.shape)"
   ]
  },
  {
   "cell_type": "code",
   "execution_count": 9,
   "id": "db533030-66d5-4454-8d3e-94e7f5755b7f",
   "metadata": {},
   "outputs": [
    {
     "name": "stdout",
     "output_type": "stream",
     "text": [
      "[[0.0686964 0.874901  0.920626  ... 0.        0.        0.       ]\n",
      " [0.395404  0.359597  0.32135   ... 0.        0.        0.       ]\n",
      " [0.322769  0.742624  0.116491  ... 0.        0.        0.       ]\n",
      " ...\n",
      " [0.456206  0.6778    0.931008  ... 0.        0.        0.       ]\n",
      " [0.045958  0.71104   0.0690253 ... 0.        0.        0.       ]\n",
      " [0.        0.        0.        ... 0.        0.        0.       ]]\n"
     ]
    }
   ],
   "source": [
    "print(pgun_accept_reject_monash[0,0:21])"
   ]
  },
  {
   "cell_type": "markdown",
   "id": "15368fe0-ff5b-4394-bd79-ba9bd6713db4",
   "metadata": {},
   "source": [
    "### Converting hadron four-momentum data"
   ]
  },
  {
   "cell_type": "code",
   "execution_count": 3,
   "id": "0a0aa6f0-6966-43c4-853b-dcb082c72ce9",
   "metadata": {},
   "outputs": [],
   "source": [
    "with open (PATH_hadrons_monash , 'r') as f:\n",
    "    lines = f.readlines()"
   ]
  },
  {
   "cell_type": "code",
   "execution_count": 4,
   "id": "f6097156-61a6-4a40-ace9-3256207ed45d",
   "metadata": {},
   "outputs": [
    {
     "name": "stderr",
     "output_type": "stream",
     "text": [
      " 10%| | 1509047/15085032 [00:28<04:20, 52\n"
     ]
    }
   ],
   "source": [
    "# Initialize dummy counters\n",
    "counter = 0\n",
    "event_counter = 0\n",
    "\n",
    "# Initialize padding parameters\n",
    "npad_event = 50\n",
    "\n",
    "# Desired number of events\n",
    "n_events = 1e5\n",
    "\n",
    "with tqdm(total = len(lines)) as pbar:\n",
    "    for line in lines:\n",
    "        # Events are separated at the new line delimiter\n",
    "        if line != '\\n':\n",
    "            if counter == 0:\n",
    "                # Zero-pad the accept-reject array and create array\n",
    "                arz_i = np.array([np.array(line.split(), dtype = float)])\n",
    "                counter += 1\n",
    "            else:\n",
    "                # Zero-pad the accept-reject array and append\n",
    "                arz_i = np.append(arz_i, np.array([np.array(line.split(), dtype = float)]), axis = 0)\n",
    "        else:\n",
    "            filename = 'pgun_qqbar_hadrons_a_0.68_b_0.98_sigma_0.335_N_1e5.npy'\n",
    "            # Zero-pad on the event dimension and create event array\n",
    "            arz_i = np.pad(arz_i, ((0, npad_event - len(arz_i)),(0,0)))\n",
    "\n",
    "            with NpyAppendArray(filename) as datafile:\n",
    "                datafile.append(np.array([arz_i]))\n",
    "            counter = 0\n",
    "            event_counter += 1\n",
    "            if event_counter == n_events: break\n",
    "        pbar.update(1)"
   ]
  },
  {
   "cell_type": "code",
   "execution_count": 5,
   "id": "6a88c524-89b1-4db3-b1e6-d298d9f4ba07",
   "metadata": {},
   "outputs": [],
   "source": [
    "# Load the hadron data\n",
    "filename = 'pgun_qqbar_hadrons_a_0.68_b_0.98_sigma_0.335_N_1e5.npy'\n",
    "pgun_hadrons_monash = np.load(filename, mmap_mode=\"r\")"
   ]
  },
  {
   "cell_type": "code",
   "execution_count": 6,
   "id": "62d58b78-a01c-47e9-8dfd-f1ecdef7a26a",
   "metadata": {},
   "outputs": [
    {
     "name": "stdout",
     "output_type": "stream",
     "text": [
      "(100000, 50, 4)\n"
     ]
    }
   ],
   "source": [
    "print(pgun_hadrons_monash.shape)"
   ]
  },
  {
   "cell_type": "code",
   "execution_count": null,
   "id": "de0231f5-c3e8-4d0a-9a90-bf78880ca925",
   "metadata": {},
   "outputs": [],
   "source": []
  }
 ],
 "metadata": {
  "kernelspec": {
   "display_name": "Python 3 (ipykernel)",
   "language": "python",
   "name": "python3"
  },
  "language_info": {
   "codemirror_mode": {
    "name": "ipython",
    "version": 3
   },
   "file_extension": ".py",
   "mimetype": "text/x-python",
   "name": "python",
   "nbconvert_exporter": "python",
   "pygments_lexer": "ipython3",
   "version": "3.9.16"
  }
 },
 "nbformat": 4,
 "nbformat_minor": 5
}
