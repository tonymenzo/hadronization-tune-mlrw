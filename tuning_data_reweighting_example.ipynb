{
 "cells": [
  {
   "cell_type": "code",
   "execution_count": 1,
   "id": "679f0c06-fd6f-4905-95b4-bffb2a7cf113",
   "metadata": {},
   "outputs": [],
   "source": [
    "import numpy as np\n",
    "import matplotlib.pyplot as plt\n",
    "import torch\n",
    "from torch import nn"
   ]
  },
  {
   "cell_type": "code",
   "execution_count": 2,
   "id": "bb28ef84-c1a3-4a9d-a0be-c2283b994728",
   "metadata": {},
   "outputs": [],
   "source": [
    "# Load the accept-reject data\n",
    "filename_accept_reject = 'pgun_qqbar_accept_reject_z_a_0.68_b_0.98_sigma_0.335_N_1e5.npy'\n",
    "pgun_accept_reject_monash = np.load(filename_accept_reject, mmap_mode = \"r\")\n",
    "# Load the hadron data\n",
    "filename_hadrons = 'pgun_qqbar_hadrons_a_0.68_b_0.98_sigma_0.335_N_1e5.npy'\n",
    "pgun_hadrons_monash = np.load(filename_hadrons, mmap_mode=\"r\")"
   ]
  },
  {
   "cell_type": "code",
   "execution_count": 3,
   "id": "2d8d8a5f-d6b6-404e-9333-af98545c92ae",
   "metadata": {},
   "outputs": [
    {
     "name": "stdout",
     "output_type": "stream",
     "text": [
      "Accepted and rejected z data shape: (100000, 50, 101)\n",
      "Hadron data shape: (100000, 50, 4)\n"
     ]
    }
   ],
   "source": [
    "print(\"Accepted and rejected z data shape:\", pgun_accept_reject_monash.shape)\n",
    "print(\"Hadron data shape:\", pgun_hadrons_monash.shape)"
   ]
  },
  {
   "cell_type": "code",
   "execution_count": null,
   "id": "966c359c-af0b-485c-8b5e-e300b4e201ae",
   "metadata": {},
   "outputs": [],
   "source": [
    "# The reweighting module\n",
    "class Reweighter(nn.Module):\n",
    "    def __init__(self, params_base, params, over_sample_factor=10.):\n",
    "        super(Reweighter, self).__init__()\n",
    "        self.params_base = params_base\n",
    "        self.params_a = torch.nn.Parameter(params[0].clone(), requires_grad=True)\n",
    "        self.params_b = torch.nn.Parameter(params[1].clone(), requires_grad=True)\n",
    "        self.over_sample_factor = over_sample_factor\n",
    "    \n",
    "    def zMaxCalc(self, a, b, c):\n",
    "        # Superfluous constants\n",
    "        AFROMZERO = 0.02\n",
    "        AFROMC = 0.01\n",
    "        \n",
    "        # Normalization for Lund fragmentation function so that f <= 1.\n",
    "        # Special cases for a = 0 and a = c.\n",
    "        aIsZero = (a < AFROMZERO)\n",
    "        aIsC = (torch.abs(a - c) < AFROMC)\n",
    "        # Determine position of maximum.\n",
    "        if aIsZero:\n",
    "            return b / c if c > b else 1.\n",
    "        elif aIsC:\n",
    "            return b / (b + c)\n",
    "        else:\n",
    "            zMax = 0.5 * (b + c - torch.sqrt((b - c)**2 + 4 * a * b)) / (c - a)\n",
    "            # Grab indicies for special condition\n",
    "            # Assuming zMax, a, and b are PyTorch tensors of the same shape\n",
    "            zMax = torch.where((zMax > 0.9999) & (b > 100.), torch.min(zMax, 1. - a / b), zMax)\n",
    "            return zMax\n",
    "    \n",
    "    def likelihood(self, z, mT, a, b, c = torch.tensor(1.)):\n",
    "        \"\"\"\n",
    "        Compute the likelihood of the Lund fragmentation function\n",
    "        \"\"\"\n",
    "        CFROMUNITY = 0.01\n",
    "        AFROMZERO = 0.02\n",
    "        AFROMC = 0.01\n",
    "        EXPMAX = 50\n",
    "        b_exp = b * torch.pow(mT, 2)\n",
    "        # Special cases for c = 1, a = 0 and a = c.\n",
    "        cIsUnity = (abs(c - 1.) < CFROMUNITY)\n",
    "        aIsZero = (a < AFROMZERO)\n",
    "        aIsC = (abs(a - c) < AFROMC)\n",
    "        # Determine position of maximum.\n",
    "        zMax = self.zMaxCalc(a, b_exp, c)\n",
    "        aCoef = torch.log((1. - z) / (1. - zMax))\n",
    "        bCoef = (1. / zMax - 1. / z)\n",
    "        cCoef = torch.log(zMax / z)\n",
    "        fExp = b_exp * bCoef + c * cCoef\n",
    "        if not aIsZero:\n",
    "            fExp += a * aCoef\n",
    "        fVal = torch.exp(torch.clamp(fExp, min=-EXPMAX, max=EXPMAX))\n",
    "        return fVal\n",
    "\n",
    "    def forward(self, z, mT, observable):\n",
    "        \"\"\"\n",
    "        Forward pass of the weight module -- consists of computing the event weights for a given batch\n",
    "        of training data.\n",
    "        \"\"\"\n",
    "        batch_size = z.shape[0]\n",
    "        weights = torch.ones(batch_size)\n",
    "    \n",
    "        # Vectorizing the processing as much as possible (still room for improvement)\n",
    "        for i in range(batch_size):\n",
    "            # Multiplicity of event in batch\n",
    "            event_mult = int(observable[i, 0])\n",
    "            # Process accepted values\n",
    "            accept_indices = z[i, :event_mult, 0] != 0.\n",
    "            accept_tensor = z[i, :event_mult, 0][accept_indices]\n",
    "            accept_mT = mT[i, :event_mult][accept_indices]\n",
    "            accept_weights = self.likelihood(accept_tensor, accept_mT, self.params_a, self.params_b) / self.likelihood(accept_tensor, accept_mT, self.params_base[0], self.params_base[1])\n",
    "            \n",
    "            # Process rejected values\n",
    "            reject_tensor = z[i, :event_mult, 1:]\n",
    "            reject_weights = torch.ones(event_mult)\n",
    "            for j in range(event_mult):\n",
    "                reject_values = reject_tensor[j, reject_tensor[j, :] != 0.]\n",
    "                if reject_values.numel() > 0:\n",
    "                    reject_weights_i = (self.over_sample_factor - self.likelihood(reject_values, mT[i, j], self.params_a, self.params_b)) / (self.over_sample_factor - self.likelihood(reject_values, mT[i, j], self.params_base[0], self.params_base[1]))\n",
    "                    reject_weights[j] = torch.prod(reject_weights_i)\n",
    "    \n",
    "            # Compute event weight\n",
    "            event_weight = torch.prod(accept_weights) * torch.prod(reject_weights)\n",
    "            weights[i] = event_weight\n",
    "    \n",
    "        return weights"
   ]
  },
  {
   "cell_type": "code",
   "execution_count": null,
   "id": "08791f3d-0e1d-4c8e-ba36-f165411395f9",
   "metadata": {},
   "outputs": [],
   "source": [
    "# Define a new transverse mass array\n",
    "pgun_mT_monash  = "
   ]
  }
 ],
 "metadata": {
  "kernelspec": {
   "display_name": "Python 3 (ipykernel)",
   "language": "python",
   "name": "python3"
  },
  "language_info": {
   "codemirror_mode": {
    "name": "ipython",
    "version": 3
   },
   "file_extension": ".py",
   "mimetype": "text/x-python",
   "name": "python",
   "nbconvert_exporter": "python",
   "pygments_lexer": "ipython3",
   "version": "3.9.16"
  }
 },
 "nbformat": 4,
 "nbformat_minor": 5
}
