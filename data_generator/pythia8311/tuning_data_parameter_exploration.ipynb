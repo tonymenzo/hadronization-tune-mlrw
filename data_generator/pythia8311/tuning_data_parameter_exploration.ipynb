{
 "cells": [
  {
   "cell_type": "code",
   "execution_count": 1,
   "id": "010f15b5-a91c-48ca-91cc-2728d0d11d42",
   "metadata": {},
   "outputs": [],
   "source": [
    "import numpy as np\n",
    "from npy_append_array import NpyAppendArray\n",
    "import matplotlib.pyplot as plt\n",
    "#import seaborn as sns\n",
    "#sns.set()\n",
    "#sns.set_style(\"ticks\")\n",
    "#sns.set_context(\"paper\", font_scale = 1.5)\n",
    "#plt.rcParams['text.usetex'] = True\n",
    "#plt.rcParams['font.size'] = 25\n",
    "from tqdm import tqdm"
   ]
  },
  {
   "cell_type": "code",
   "execution_count": 2,
   "id": "7481c19c-71d3-49d2-be80-258f3ba63a91",
   "metadata": {},
   "outputs": [],
   "source": [
    "# Read in the data from the text file\n",
    "PATH_hadrons_base = \"/home/tony/Code/SOFTWARE/pythia/pythia8311/examples/generated_data/pgun_qqbar_hadrons_a_0.72_b_0.88.dat\"\n",
    "PATH_hadrons_target = \"/home/tony/Code/SOFTWARE/pythia/pythia8311/examples/generated_data/pgun_qqbar_hadrons_a_0.68_b_0.98.dat\"\n",
    "PATH_weights = \"/home/tony/Code/SOFTWARE/pythia/pythia8311/examples/generated_data/pgun_qqbar_weights_a_0.72_0.68_b_0.88_0.98.dat\""
   ]
  },
  {
   "cell_type": "markdown",
   "id": "15368fe0-ff5b-4394-bd79-ba9bd6713db4",
   "metadata": {},
   "source": [
    "### Converting hadron four-momentum data"
   ]
  },
  {
   "cell_type": "code",
   "execution_count": 4,
   "id": "0a0aa6f0-6966-43c4-853b-dcb082c72ce9",
   "metadata": {},
   "outputs": [],
   "source": [
    "with open (PATH_hadrons_base, 'r') as f:\n",
    "    lines = f.readlines()\n",
    "#with open (PATH_hadrons_target, 'r') as f:\n",
    "#    lines = f.readlines()"
   ]
  },
  {
   "cell_type": "code",
   "execution_count": 3,
   "id": "92bd95f9",
   "metadata": {},
   "outputs": [],
   "source": [
    "# Initialize padding parameters\n",
    "npad_event = 35\n",
    "\n",
    "# Desired number of events\n",
    "n_events = 25000\n",
    "\n",
    "# Output path\n",
    "filename_base = '/home/tony/Code/pgun_qqbar_hadrons_a_0.72_b_0.88_sigma_0.335_N_25e3.npy'\n",
    "#filename_island = '/home/tonym/Code/tuning_data/pgun_qqbar_hadrons_a_1.5_b_0.6_sigma_0.335_N_1e5.npy'"
   ]
  },
  {
   "cell_type": "code",
   "execution_count": 7,
   "id": "f6097156-61a6-4a40-ace9-3256207ed45d",
   "metadata": {},
   "outputs": [
    {
     "name": "stderr",
     "output_type": "stream",
     "text": [
      "  0%|          | 0/444568 [00:00<?, ?it/s]"
     ]
    },
    {
     "name": "stderr",
     "output_type": "stream",
     "text": [
      "100%|█████████▉| 444567/444568 [00:21<00:00, 20927.51it/s]\n"
     ]
    }
   ],
   "source": [
    "# Initialize dummy counters\n",
    "counter = 0\n",
    "event_counter = 0\n",
    "\n",
    "with tqdm(total = len(lines)) as pbar:\n",
    "    for line in lines:\n",
    "        # Events are separated at the new line delimiter\n",
    "        if line != '\\n':\n",
    "            if counter == 0:\n",
    "                # Zero-pad the accept-reject array and create array\n",
    "                arz_i = np.array([np.array(line.split(), dtype = float)])\n",
    "                counter += 1\n",
    "            else:\n",
    "                # Zero-pad the accept-reject array and append\n",
    "                arz_i = np.append(arz_i, np.array([np.array(line.split(), dtype = float)]), axis = 0)\n",
    "        else:\n",
    "            # Zero-pad on the event dimension and create event array\n",
    "            arz_i = np.pad(arz_i, ((0, npad_event - len(arz_i)),(0,0)))\n",
    "\n",
    "            with NpyAppendArray(filename_base) as datafile:\n",
    "            #with NpyAppendArray(filename_island) as datafile:\n",
    "            #with NpyAppendArray(filename_monash_prime) as datafile:\n",
    "                datafile.append(np.array([arz_i]))\n",
    "            \n",
    "            counter = 0\n",
    "            event_counter += 1\n",
    "            if event_counter == n_events: break\n",
    "        pbar.update(1)"
   ]
  },
  {
   "cell_type": "code",
   "execution_count": 4,
   "id": "6a88c524-89b1-4db3-b1e6-d298d9f4ba07",
   "metadata": {},
   "outputs": [],
   "source": [
    "# Load the hadron data\n",
    "pgun_hadrons_monash = np.load(filename_base, mmap_mode=\"r\")\n",
    "#pgun_hadrons_island = np.load(filename_island, mmap_mode=\"r\")\n",
    "#pgun_hadrons_monash_prime = np.load(filename_monash_prime, mmap_mode=\"r\")"
   ]
  },
  {
   "cell_type": "code",
   "execution_count": 9,
   "id": "62d58b78-a01c-47e9-8dfd-f1ecdef7a26a",
   "metadata": {},
   "outputs": [
    {
     "name": "stdout",
     "output_type": "stream",
     "text": [
      "(25000, 35, 5)\n"
     ]
    }
   ],
   "source": [
    "print(pgun_hadrons_monash.shape)\n",
    "#print(pgun_hadrons_island.shape)\n",
    "#print(pgun_hadrons_monash_prime.shape)"
   ]
  },
  {
   "cell_type": "code",
   "execution_count": 10,
   "id": "de0231f5-c3e8-4d0a-9a90-bf78880ca925",
   "metadata": {},
   "outputs": [],
   "source": [
    "with open (PATH_hadrons_target, 'r') as f:\n",
    "    lines = f.readlines()"
   ]
  },
  {
   "cell_type": "code",
   "execution_count": 5,
   "id": "7f85f158",
   "metadata": {},
   "outputs": [],
   "source": [
    "# Initialize padding parameters\n",
    "npad_event = 35\n",
    "\n",
    "# Desired number of events\n",
    "n_events = 25000\n",
    "\n",
    "# Output path\n",
    "filename_target = '/home/tony/Code/pgun_qqbar_hadrons_a_0.68_b_0.98_sigma_0.335_N_25e3.npy'"
   ]
  },
  {
   "cell_type": "code",
   "execution_count": 12,
   "id": "c4edcd2a-4c68-4253-a7e1-b40dd7e34c12",
   "metadata": {},
   "outputs": [
    {
     "name": "stderr",
     "output_type": "stream",
     "text": [
      "  0%|          | 0/426880 [00:00<?, ?it/s]"
     ]
    },
    {
     "name": "stderr",
     "output_type": "stream",
     "text": [
      "100%|█████████▉| 426879/426880 [00:22<00:00, 18645.17it/s]\n"
     ]
    }
   ],
   "source": [
    "# Initialize dummy counters\n",
    "counter = 0\n",
    "event_counter = 0\n",
    "\n",
    "with tqdm(total = len(lines)) as pbar:\n",
    "    for line in lines:\n",
    "        # Events are separated at the new line delimiter\n",
    "        if line != '\\n':\n",
    "            if counter == 0:\n",
    "                # Zero-pad the accept-reject array and create array\n",
    "                arz_i = np.array([np.array(line.split(), dtype = float)])\n",
    "                counter += 1\n",
    "            else:\n",
    "                # Zero-pad the accept-reject array and append\n",
    "                arz_i = np.append(arz_i, np.array([np.array(line.split(), dtype = float)]), axis = 0)\n",
    "        else:\n",
    "            # Zero-pad on the event dimension and create event array\n",
    "            arz_i = np.pad(arz_i, ((0, npad_event - len(arz_i)),(0,0)))\n",
    "\n",
    "            with NpyAppendArray(filename_target) as datafile:\n",
    "            #with NpyAppendArray(filename_island) as datafile:\n",
    "            #with NpyAppendArray(filename_monash_prime) as datafile:\n",
    "                datafile.append(np.array([arz_i]))\n",
    "            \n",
    "            counter = 0\n",
    "            event_counter += 1\n",
    "            if event_counter == n_events: break\n",
    "        pbar.update(1)"
   ]
  },
  {
   "cell_type": "code",
   "execution_count": 6,
   "id": "fc7bcab7-5369-4731-bd07-71ec86afc759",
   "metadata": {},
   "outputs": [],
   "source": [
    "pgun_hadrons_target = np.load(filename_target, mmap_mode=\"r\")"
   ]
  },
  {
   "cell_type": "code",
   "execution_count": 14,
   "id": "a460fb68-d2b1-45d3-b28e-c4a8990a429e",
   "metadata": {},
   "outputs": [
    {
     "name": "stdout",
     "output_type": "stream",
     "text": [
      "(25000, 35, 5)\n"
     ]
    }
   ],
   "source": [
    "print(pgun_hadrons_target.shape)"
   ]
  },
  {
   "cell_type": "markdown",
   "id": "873aaa39-7ad3-4c99-9f22-a53466276338",
   "metadata": {},
   "source": [
    "### Extract the weights"
   ]
  },
  {
   "cell_type": "code",
   "execution_count": 15,
   "id": "96aee012-bd3b-4364-b489-705596034862",
   "metadata": {},
   "outputs": [],
   "source": [
    "with open (PATH_weights, 'r') as f:\n",
    "    lines = f.readlines()"
   ]
  },
  {
   "cell_type": "code",
   "execution_count": 16,
   "id": "6cd1edbf-1066-46f4-9d06-3e14789b95a6",
   "metadata": {},
   "outputs": [
    {
     "name": "stdout",
     "output_type": "stream",
     "text": [
      "['1.12693\\n', '1.44608\\n', '0.696296\\n', '1.32622\\n', '1.02754\\n', '0.519798\\n', '0.498034\\n', '1.3179\\n', '1.41116\\n', '0.465901\\n']\n"
     ]
    }
   ],
   "source": [
    "print(lines[0:10])"
   ]
  },
  {
   "cell_type": "code",
   "execution_count": 7,
   "id": "0246faa8",
   "metadata": {},
   "outputs": [],
   "source": [
    "filename_weights = '/home/tony/Code/pgun_qqbar_weights_a_0.72_0.68_b_0.88_0.98_N_25e3.npy'"
   ]
  },
  {
   "cell_type": "code",
   "execution_count": 18,
   "id": "a13b6507-cb6f-452c-89fd-81bb82cf2f2b",
   "metadata": {},
   "outputs": [
    {
     "name": "stderr",
     "output_type": "stream",
     "text": [
      "100%|██████████| 25000/25000 [00:08<00:00, 3014.14it/s]\n"
     ]
    }
   ],
   "source": [
    "with tqdm(total = len(lines)) as pbar:\n",
    "    for line in lines:\n",
    "        if line != '\\n':\n",
    "            with NpyAppendArray(filename_weights) as datafile:\n",
    "                #with NpyAppendArray(filename_island) as datafile:\n",
    "                #with NpyAppendArray(filename_monash_prime) as datafile:\n",
    "                    datafile.append(np.array([float(line)]))\n",
    "        pbar.update(1)"
   ]
  },
  {
   "cell_type": "code",
   "execution_count": 8,
   "id": "8b813b5f-fe75-4f5d-8355-4c39f9ac3a9c",
   "metadata": {},
   "outputs": [],
   "source": [
    "pgun_hadrons_weights = np.load(filename_weights, mmap_mode=\"r\")"
   ]
  },
  {
   "cell_type": "code",
   "execution_count": 20,
   "id": "ce36b4df-141d-4eef-b4bb-9915084a5ce1",
   "metadata": {},
   "outputs": [
    {
     "name": "stdout",
     "output_type": "stream",
     "text": [
      "(25000,)\n"
     ]
    }
   ],
   "source": [
    "print(pgun_hadrons_weights.shape)"
   ]
  },
  {
   "cell_type": "code",
   "execution_count": 9,
   "id": "ab6a239a-7b7b-497d-b951-da85f2a8462a",
   "metadata": {},
   "outputs": [],
   "source": [
    "# Collect the multiplicity data\n",
    "mult_base = np.array([len(pgun_hadrons_monash[i,:][np.abs(pgun_hadrons_monash[i,:,0]) > 0.0]) for i in range(pgun_hadrons_monash.shape[0])])\n",
    "\n",
    "mult_target = np.array([len(pgun_hadrons_target[i,:][np.abs(pgun_hadrons_target[i,:,0]) > 0.0]) for i in range(pgun_hadrons_target.shape[0])])"
   ]
  },
  {
   "cell_type": "code",
   "execution_count": 10,
   "id": "0a662b9f-6de5-4fe4-ae56-f799709d4efa",
   "metadata": {},
   "outputs": [],
   "source": [
    "# Compute the reweighting metrics\n",
    "one_minus_mu = 1. - np.sum(pgun_hadrons_weights) / len(pgun_hadrons_weights)\n",
    "Neff = (np.sum(pgun_hadrons_weights)**2 / np.sum(pgun_hadrons_weights**2)) / len(pgun_hadrons_weights)"
   ]
  },
  {
   "cell_type": "code",
   "execution_count": 11,
   "id": "fbe0257d-c1ab-45af-9388-1531a1bbb17e",
   "metadata": {},
   "outputs": [
    {
     "name": "stdout",
     "output_type": "stream",
     "text": [
      "0.004872196647999982\n",
      "0.8557731987868378\n"
     ]
    }
   ],
   "source": [
    "print(one_minus_mu)\n",
    "print(Neff)"
   ]
  },
  {
   "cell_type": "code",
   "execution_count": 17,
   "id": "5f590889-ec07-44a9-9cc8-6f8f913ab6ef",
   "metadata": {},
   "outputs": [
    {
     "data": {
      "image/png": "[encoded data removed]",
      "text/plain": [
       "<Figure size 600x500 with 1 Axes>"
      ]
     },
     "metadata": {},
     "output_type": "display_data"
    }
   ],
   "source": [
    "# Histrogram hadron multiplicity\n",
    "_, bins_target = np.histogram(mult_target)\n",
    "_, bins_base = np.histogram(mult_base)\n",
    "\n",
    "min_target, max_target = bins_target[0], bins_target[-1]\n",
    "min_base, max_base = bins_base[0], bins_base[-1]\n",
    "#print(min_monash, max_monash)\n",
    "#print(min_monash_prime, max_monash_prime)\n",
    "\n",
    "min = np.min([min_target, min_base])\n",
    "max = np.max([max_base, max_base])\n",
    "\n",
    "bins = np.linspace(min, max, int((max - min)+1))\n",
    "\n",
    "fig, ax = plt.subplots(1,1,figsize=(6,5))\n",
    "_, _, _ = ax.hist(mult_base - 2, bins, alpha = 0.5, density = True, label = r'$\\mathrm{Monash}$ $(a = 0.72, b = 0.88)$', color = 'tab:orange')\n",
    "ax.hist(mult_target - 2, bins = bins, alpha = 0.5, density = True, label = r\"$\\mathrm{Monash'}$ $(a = 0.68, b = 0.98)$\", color = 'tab:blue')\n",
    "ax.hist(mult_base - 2, bins = bins, weights = pgun_hadrons_weights, alpha = 0.5, density = True, label = r\"$\\mathrm{Reweiged}$  $(\\mathrm{Monash}' \\rightarrow \\mathrm{Monash})$\", color = 'tab:green')\n",
    "#ax.hist(mult_island, bins = bins, alpha = 0.5, density = True, label = r\"$\\mathrm{'Island'}$ $(a = 1.5, b = 0.6)$\")\n",
    "ax.set_xlabel(r'$N_h$')\n",
    "ax.set_ylabel(r'$\\mathrm{PDF}$')\n",
    "ax.text(3.5, 0.10, rf'$N_{{\\mathrm{{eff}}}} = {Neff:3f}$', fontsize = 10)\n",
    "ax.text(3.5, 0.095, rf'$1 - \\mu = {one_minus_mu:3f}$', fontsize = 10)\n",
    "ax.legend(frameon = False, fontsize = 'small')\n",
    "ax.set_title(r'$\\mathrm{In situ}$')\n",
    "fig.tight_layout()\n",
    "fig.savefig('insitu_reweighting.pdf', format = 'pdf', bbox_inches = 'tight', dpi = 300)\n",
    "fig.savefig('insitu_reweighting.png', format = 'png', bbox_inches = 'tight', dpi = 300)"
   ]
  },
  {
   "cell_type": "code",
   "execution_count": 18,
   "id": "45950927",
   "metadata": {},
   "outputs": [
    {
     "data": {
      "image/png": "[encoded data removed]",
      "text/plain": [
       "<Figure size 600x500 with 1 Axes>"
      ]
     },
     "metadata": {},
     "output_type": "display_data"
    }
   ],
   "source": [
    "fig, ax = plt.subplots(1,1,figsize=(6,5))\n",
    "ax.hist(pgun_hadrons_weights, 100, alpha = 0.5)\n",
    "ax.set_xlabel(r'$w$')\n",
    "ax.set_ylabel(r'$\\mathrm{PDF}$')\n",
    "ax.set_xscale('log')\n",
    "ax.vlines(1., 0., 1450., color = 'red', linestyle = '--')\n",
    "ax.set_title(r'$\\mathrm{In situ}$')\n",
    "fig.tight_layout()\n",
    "fig.savefig('insitu_weights.pdf', format = 'pdf', bbox_inches = 'tight', dpi = 300)\n",
    "fig.savefig('insitu_weights.png', format = 'png', bbox_inches = 'tight', dpi = 300)"
   ]
  },
  {
   "cell_type": "code",
   "execution_count": 14,
   "id": "f3a7deda",
   "metadata": {},
   "outputs": [
    {
     "data": {
      "image/png": "[encoded data removed]",
      "text/plain": [
       "<Figure size 600x500 with 1 Axes>"
      ]
     },
     "metadata": {},
     "output_type": "display_data"
    }
   ],
   "source": [
    "fig, ax = plt.subplots(1,1,figsize=(6,5))\n",
    "ax.hist(pgun_hadrons_weights, 100, alpha = 0.5)\n",
    "ax.set_xlabel(r'$w$')\n",
    "ax.set_ylabel(r'$\\mathrm{PDF}$')\n",
    "#ax.set_xscale('log')\n",
    "ax.vlines(1., 0., 1300., color = 'red', linestyle = '--')\n",
    "fig.tight_layout()\n",
    "#fig.savefig('insitu_weights.pdf', format = 'pdf', bbox_inches = 'tight', dpi = 300)\n",
    "#fig.savefig('insitu_weights.png', format = 'png', bbox_inches = 'tight', dpi = 300)"
   ]
  },
  {
   "cell_type": "markdown",
   "id": "3cec869c-fa79-4a1e-8d5f-edc688698088",
   "metadata": {},
   "source": [
    "### Exploring parameter space metrics"
   ]
  },
  {
   "cell_type": "code",
   "execution_count": 2,
   "id": "9fc702ea-9db2-4f71-82c1-9dd3091aad20",
   "metadata": {},
   "outputs": [],
   "source": [
    "# Path to reweighting metrics\n",
    "PATH_base_1 = \"/home/tonym/Code/pythia8311/examples/weight_metrics_base_a_1.0_b_0.9_n_1e6.dat\""
   ]
  },
  {
   "cell_type": "code",
   "execution_count": 3,
   "id": "83b369d5-85da-4e96-ae0a-128218c6e542",
   "metadata": {},
   "outputs": [],
   "source": [
    "with open (PATH_base_1, 'r') as f:\n",
    "    lines = f.readlines()"
   ]
  },
  {
   "cell_type": "code",
   "execution_count": 59,
   "id": "584be422-21b7-4fb3-b28f-67113a015235",
   "metadata": {},
   "outputs": [
    {
     "name": "stdout",
     "output_type": "stream",
     "text": [
      "['kineVar', 'a', '0.200000', 'b', '0.100000\\n']\n",
      "0.2\n",
      "0.1\n",
      "['8.072e-01', '9.546e-02', '3.994e-06\\n']\n"
     ]
    }
   ],
   "source": [
    "print(lines[0].split('_'))\n",
    "print(float(lines[0].split('_')[2]))\n",
    "print(float(lines[0].split('_')[4]))\n",
    "print(lines[1].split(' '))"
   ]
  },
  {
   "cell_type": "code",
   "execution_count": 4,
   "id": "1ebf89dc-c988-4f71-9491-3dd4bad1b7b2",
   "metadata": {},
   "outputs": [],
   "source": [
    "counter = 0\n",
    "type_counter = 0\n",
    "for line in lines:\n",
    "    if line != '\\n':\n",
    "        if counter == 0 and type_counter == 0:\n",
    "            metrics_i = np.array([float(line.split('_')[2]), float(line.split('_')[4])])\n",
    "            type_counter += 1\n",
    "        elif counter == 0 and type_counter == 1: \n",
    "            metrics_i = np.append(metrics_i, np.array(line.split(' '), dtype = float))\n",
    "            metrics_b1 = np.array([metrics_i])\n",
    "            counter += 1\n",
    "            type_counter = 0\n",
    "        elif counter == 1 and type_counter == 0:\n",
    "            metrics_i = np.array([float(line.split('_')[2]), float(line.split('_')[4])])\n",
    "            type_counter += 1\n",
    "        elif counter == 1 and type_counter == 1:\n",
    "            metrics_i = np.append(metrics_i, np.array(line.split(' '), dtype = float))\n",
    "            metrics_b1 = np.append(metrics_b1, np.array([metrics_i]), axis = 0)\n",
    "            type_counter = 0"
   ]
  },
  {
   "cell_type": "code",
   "execution_count": 5,
   "id": "53dbdd60-a236-49ed-875b-508cd7ac1f9a",
   "metadata": {},
   "outputs": [
    {
     "name": "stdout",
     "output_type": "stream",
     "text": [
      "(81, 5)\n"
     ]
    }
   ],
   "source": [
    "print(metrics_b1.shape)"
   ]
  },
  {
   "cell_type": "code",
   "execution_count": 39,
   "id": "c681b85d-69c9-40f5-bd7d-e3e90a8a82bb",
   "metadata": {},
   "outputs": [],
   "source": [
    "a = np.array([0.2, 0.4, 0.6, 0.8, 1.0, 1.2, 1.4, 1.6, 1.8])\n",
    "b = np.array([0.4, 0.6, 0.8, 1.0, 1.2, 1.4, 1.6, 1.8])\n",
    "one_minus_mu_b1 = metrics_b1[:,2]\n",
    "one_minus_mu_b1 = np.reshape(one_minus_mu_b1, (9,9))\n",
    "one_minus_mu_b1 = np.rot90(np.fliplr(one_minus_mu_b1))\n",
    "Neff_b1 = metrics_b1[:,4]\n",
    "Neff_b1 = np.reshape(Neff_b1, (9,9))\n",
    "Neff_b1 = np.rot90(np.fliplr(Neff_b1))"
   ]
  },
  {
   "cell_type": "code",
   "execution_count": 40,
   "id": "c40a6033-53e7-49fc-ac62-a4a56e885756",
   "metadata": {},
   "outputs": [],
   "source": [
    "one_minus_mu_b1 = one_minus_mu_b1[1:]\n",
    "Neff_b1 = Neff_b1[1:]"
   ]
  },
  {
   "cell_type": "code",
   "execution_count": 48,
   "id": "9d6a0775-e2ed-4145-903b-5891bd09cf81",
   "metadata": {},
   "outputs": [
    {
     "data": {
      "image/png": "[encoded data removed]",
      "text/plain": [
       "<Figure size 1100x500 with 4 Axes>"
      ]
     },
     "metadata": {},
     "output_type": "display_data"
    }
   ],
   "source": [
    "fig, (ax1, ax2) = plt.subplots(1,2,figsize=(11,5))\n",
    "mesh1 = ax1.pcolormesh(a, b, one_minus_mu_b1, shading='nearest', cmap = 'viridis')\n",
    "mesh2 = ax2.pcolormesh(a, b, 1-Neff_b1, shading='nearest', cmap = 'viridis')\n",
    "ax1.plot(1.0, 0.9, marker = '*', color = 'tab:red')\n",
    "ax2.plot(1.0, 0.9, marker = '*', color = 'tab:red')\n",
    "ax1.set_xlabel(r'$a$')\n",
    "ax1.set_ylabel(r'$b$')\n",
    "ax2.set_xlabel(r'$a$')\n",
    "#ax1.set_ylim(0.25, 1.85)\n",
    "#ax2.set_ylim(0.25, 1.85)\n",
    "#ax2.set_ylabel(r'$b$')\n",
    "fig.colorbar(mesh1, ax=ax1, label=r'$1-\\mu$')\n",
    "fig.colorbar(mesh2, ax=ax2, label=r'$1-N_{\\mathrm{eff}} / N$')\n",
    "fig.tight_layout()\n",
    "fig.savefig(r'reweighting_metrics_a_1.0_b_0.9.pdf', dpi = 300, pad_inches = .1, bbox_inches = 'tight')"
   ]
  },
  {
   "cell_type": "code",
   "execution_count": 9,
   "id": "ab70a945-f460-4bf2-bc44-4d90dc29dd87",
   "metadata": {},
   "outputs": [],
   "source": [
    "PATH_base_2 = \"/home/tonym/Code/pythia8311/examples/weight_metrics_base_a_0.5_b_1.75_n_1e6.dat\"\n",
    "with open (PATH_base_2, 'r') as f:\n",
    "    lines = f.readlines()"
   ]
  },
  {
   "cell_type": "code",
   "execution_count": 10,
   "id": "4ba35974-9790-488f-8656-5df5205ee20e",
   "metadata": {},
   "outputs": [],
   "source": [
    "counter = 0\n",
    "type_counter = 0\n",
    "for line in lines:\n",
    "    if line != '\\n':\n",
    "        if counter == 0 and type_counter == 0:\n",
    "            metrics_i = np.array([float(line.split('_')[2]), float(line.split('_')[4])])\n",
    "            type_counter += 1\n",
    "        elif counter == 0 and type_counter == 1: \n",
    "            metrics_i = np.append(metrics_i, np.array(line.split(' '), dtype = float))\n",
    "            metrics_b2 = np.array([metrics_i])\n",
    "            counter += 1\n",
    "            type_counter = 0\n",
    "        elif counter == 1 and type_counter == 0:\n",
    "            metrics_i = np.array([float(line.split('_')[2]), float(line.split('_')[4])])\n",
    "            type_counter += 1\n",
    "        elif counter == 1 and type_counter == 1:\n",
    "            metrics_i = np.append(metrics_i, np.array(line.split(' '), dtype = float))\n",
    "            metrics_b2 = np.append(metrics_b2, np.array([metrics_i]), axis = 0)\n",
    "            type_counter = 0"
   ]
  },
  {
   "cell_type": "code",
   "execution_count": 12,
   "id": "edc41753-ef80-466f-a321-efba555dfb4f",
   "metadata": {},
   "outputs": [
    {
     "name": "stdout",
     "output_type": "stream",
     "text": [
      "(81, 5)\n"
     ]
    }
   ],
   "source": [
    "print(metrics_b2.shape)"
   ]
  },
  {
   "cell_type": "code",
   "execution_count": 13,
   "id": "3da5c802-b23a-4309-ba86-8ea394163058",
   "metadata": {},
   "outputs": [],
   "source": [
    "a = np.array([0.2, 0.4, 0.6, 0.8, 1.0, 1.2, 1.4, 1.6, 1.8])\n",
    "b = np.array([0.4, 0.6, 0.8, 1.0, 1.2, 1.4, 1.6, 1.8])\n",
    "one_minus_mu_b2 = metrics_b2[:,2]\n",
    "one_minus_mu_b2 = np.reshape(one_minus_mu_b2, (9,9))\n",
    "one_minus_mu_b2 = np.rot90(np.fliplr(one_minus_mu_b2))\n",
    "Neff_b2 = metrics_b2[:,4]\n",
    "Neff_b2 = np.reshape(Neff_b2, (9,9))\n",
    "Neff_b2 = np.rot90(np.fliplr(Neff_b2))"
   ]
  },
  {
   "cell_type": "code",
   "execution_count": 43,
   "id": "3309d537-9fe9-4fd8-a0c1-9b3c3aa91dbb",
   "metadata": {},
   "outputs": [],
   "source": [
    "one_minus_mu_b2 = one_minus_mu_b2[1:]\n",
    "Neff_b2 = Neff_b2[1:]"
   ]
  },
  {
   "cell_type": "code",
   "execution_count": 49,
   "id": "228efc57-2fb1-40e9-a0e0-b36d61a62f28",
   "metadata": {},
   "outputs": [
    {
     "data": {
      "image/png": "[encoded data removed]",
      "text/plain": [
       "<Figure size 1100x500 with 4 Axes>"
      ]
     },
     "metadata": {},
     "output_type": "display_data"
    }
   ],
   "source": [
    "fig, (ax1, ax2) = plt.subplots(1,2,figsize=(11,5))\n",
    "mesh1 = ax1.pcolormesh(a, b, one_minus_mu_b2, shading='nearest', cmap = 'viridis')\n",
    "mesh2 = ax2.pcolormesh(a, b, 1-Neff_b2, shading='nearest', cmap = 'viridis')\n",
    "ax1.plot(0.5, 1.75, marker = '*', color = 'tab:red')\n",
    "ax2.plot(0.5, 1.75, marker = '*', color = 'tab:red')\n",
    "#ax1.set_ylim(0.25, 1.85)\n",
    "#ax2.set_ylim(0.25, 1.85)\n",
    "ax1.set_xlabel(r'$a$')\n",
    "ax1.set_ylabel(r'$b$')\n",
    "ax2.set_xlabel(r'$a$')\n",
    "#ax2.set_ylabel(r'$b$')\n",
    "fig.colorbar(mesh1, ax=ax1, label=r'$1-\\mu$')\n",
    "fig.colorbar(mesh2, ax=ax2, label=r'$1-N_{\\mathrm{eff}} / N$')\n",
    "fig.tight_layout()\n",
    "fig.savefig(r'reweighting_metrics_a_0.5_b_1.75.pdf', dpi = 300, pad_inches = .1, bbox_inches = 'tight')"
   ]
  },
  {
   "cell_type": "code",
   "execution_count": 15,
   "id": "919f9dc2-3c62-46d5-bcad-1c172e786129",
   "metadata": {},
   "outputs": [],
   "source": [
    "PATH_base_3 = \"/home/tonym/Code/pythia8311/examples/weight_metrics_base_a_1.75_b_0.45_n_1e6.dat\"\n",
    "with open (PATH_base_3, 'r') as f:\n",
    "    lines = f.readlines()"
   ]
  },
  {
   "cell_type": "code",
   "execution_count": 16,
   "id": "2e8a6ecb-6784-4b3c-ad2b-e5a7d3842a0b",
   "metadata": {},
   "outputs": [],
   "source": [
    "counter = 0\n",
    "type_counter = 0\n",
    "for line in lines:\n",
    "    if line != '\\n':\n",
    "        if counter == 0 and type_counter == 0:\n",
    "            metrics_i = np.array([float(line.split('_')[2]), float(line.split('_')[4])])\n",
    "            type_counter += 1\n",
    "        elif counter == 0 and type_counter == 1: \n",
    "            metrics_i = np.append(metrics_i, np.array(line.split(' '), dtype = float))\n",
    "            metrics_b3 = np.array([metrics_i])\n",
    "            counter += 1\n",
    "            type_counter = 0\n",
    "        elif counter == 1 and type_counter == 0:\n",
    "            metrics_i = np.array([float(line.split('_')[2]), float(line.split('_')[4])])\n",
    "            type_counter += 1\n",
    "        elif counter == 1 and type_counter == 1:\n",
    "            metrics_i = np.append(metrics_i, np.array(line.split(' '), dtype = float))\n",
    "            metrics_b3 = np.append(metrics_b3, np.array([metrics_i]), axis = 0)\n",
    "            type_counter = 0"
   ]
  },
  {
   "cell_type": "code",
   "execution_count": 17,
   "id": "2d222bc7-1274-48e4-bca7-1c5dd7407909",
   "metadata": {},
   "outputs": [],
   "source": [
    "a = np.array([0.2, 0.4, 0.6, 0.8, 1.0, 1.2, 1.4, 1.6, 1.8])\n",
    "b = np.array([0.4, 0.6, 0.8, 1.0, 1.2, 1.4, 1.6, 1.8])\n",
    "one_minus_mu_b3 = metrics_b3[:,2]\n",
    "one_minus_mu_b3 = np.reshape(one_minus_mu_b3, (9,9))\n",
    "one_minus_mu_b3 = np.rot90(np.fliplr(one_minus_mu_b3))\n",
    "Neff_b3 = metrics_b3[:,4]\n",
    "Neff_b3 = np.reshape(Neff_b3, (9,9))\n",
    "Neff_b3 = np.rot90(np.fliplr(Neff_b3))"
   ]
  },
  {
   "cell_type": "code",
   "execution_count": 46,
   "id": "7037b09b-af6e-416f-a868-f22173e98769",
   "metadata": {},
   "outputs": [],
   "source": [
    "one_minus_mu_b3 = one_minus_mu_b3[1:]\n",
    "Neff_b3 = Neff_b3[1:]"
   ]
  },
  {
   "cell_type": "code",
   "execution_count": 52,
   "id": "038f19ab-7483-4211-8470-e9c61f0e97d4",
   "metadata": {},
   "outputs": [
    {
     "data": {
      "image/png": "[encoded data removed]",
      "text/plain": [
       "<Figure size 1100x500 with 4 Axes>"
      ]
     },
     "metadata": {},
     "output_type": "display_data"
    }
   ],
   "source": [
    "fig, (ax1, ax2) = plt.subplots(1,2,figsize=(11,5))\n",
    "mesh1 = ax1.pcolormesh(a, b, one_minus_mu_b3, shading='nearest', cmap = 'viridis')\n",
    "mesh2 = ax2.pcolormesh(a, b, 1-Neff_b3, shading='nearest', cmap = 'viridis')\n",
    "ax1.plot(1.75, 0.45, marker = '*', color = 'tab:red')\n",
    "ax2.plot(1.75, 0.45, marker = '*', color = 'tab:red')\n",
    "#ax1.set_ylim(0.25, 1.85)\n",
    "#ax2.set_ylim(0.25, 1.85)\n",
    "ax1.set_xlabel(r'$a$')\n",
    "ax1.set_ylabel(r'$b$')\n",
    "ax2.set_xlabel(r'$a$')\n",
    "#ax2.set_ylabel(r'$b$')\n",
    "fig.colorbar(mesh1, ax=ax1, label=r'$1-\\mu$')\n",
    "fig.colorbar(mesh2, ax=ax2, label=r'$1-N_{\\mathrm{eff}} / N$')\n",
    "fig.tight_layout()\n",
    "fig.savefig(r'reweighting_metrics_a_1.75_b_0.45.pdf', dpi = 300, pad_inches = .1, bbox_inches = 'tight')"
   ]
  },
  {
   "cell_type": "code",
   "execution_count": 20,
   "id": "9e98c552-fbe3-4d1e-a829-754f3e43399c",
   "metadata": {},
   "outputs": [],
   "source": [
    "PATH_base_4 = \"/home/tonym/Code/pythia8311/examples/weight_metrics_base_a_0.5_b_0.45_n_1e6.dat\"\n",
    "with open (PATH_base_4, 'r') as f:\n",
    "    lines = f.readlines()"
   ]
  },
  {
   "cell_type": "code",
   "execution_count": 21,
   "id": "b1082c18-6f9b-46a6-8e87-17dba7b44725",
   "metadata": {},
   "outputs": [],
   "source": [
    "counter = 0\n",
    "type_counter = 0\n",
    "for line in lines:\n",
    "    if line != '\\n':\n",
    "        if counter == 0 and type_counter == 0:\n",
    "            metrics_i = np.array([float(line.split('_')[2]), float(line.split('_')[4])])\n",
    "            type_counter += 1\n",
    "        elif counter == 0 and type_counter == 1: \n",
    "            metrics_i = np.append(metrics_i, np.array(line.split(' '), dtype = float))\n",
    "            metrics_b4 = np.array([metrics_i])\n",
    "            counter += 1\n",
    "            type_counter = 0\n",
    "        elif counter == 1 and type_counter == 0:\n",
    "            metrics_i = np.array([float(line.split('_')[2]), float(line.split('_')[4])])\n",
    "            type_counter += 1\n",
    "        elif counter == 1 and type_counter == 1:\n",
    "            metrics_i = np.append(metrics_i, np.array(line.split(' '), dtype = float))\n",
    "            metrics_b4 = np.append(metrics_b4, np.array([metrics_i]), axis = 0)\n",
    "            type_counter = 0"
   ]
  },
  {
   "cell_type": "code",
   "execution_count": 36,
   "id": "8f6acdcd-a92a-43c2-aa47-c46ef6a386e9",
   "metadata": {},
   "outputs": [],
   "source": [
    "a = np.array([0.2, 0.4, 0.6, 0.8, 1.0, 1.2, 1.4, 1.6, 1.8])\n",
    "b = np.array([0.4, 0.6, 0.8, 1.0, 1.2, 1.4, 1.6, 1.8])\n",
    "one_minus_mu_b4 = metrics_b4[:,2]\n",
    "one_minus_mu_b4 = np.reshape(one_minus_mu_b4, (9,9))\n",
    "one_minus_mu_b4 = np.rot90(np.fliplr(one_minus_mu_b4))\n",
    "Neff_b4 = metrics_b4[:,4]\n",
    "Neff_b4 = np.reshape(Neff_b4, (9,9))\n",
    "Neff_b4 = np.rot90(np.fliplr(Neff_b4))"
   ]
  },
  {
   "cell_type": "code",
   "execution_count": 37,
   "id": "0c86d89f-8c1d-49e9-bd6e-427641312d18",
   "metadata": {},
   "outputs": [
    {
     "name": "stdout",
     "output_type": "stream",
     "text": [
      "[[7.484e-01 8.549e-01 9.227e-01 9.613e-01 9.816e-01 9.916e-01 9.963e-01\n",
      "  9.984e-01 9.993e-01]\n",
      " [1.039e-04 4.729e-04 8.353e-04 1.436e-03 4.651e-03 1.431e-02 3.485e-02\n",
      "  7.009e-02 1.222e-01]\n",
      " [6.915e-03 8.449e-04 9.023e-06 5.366e-04 1.462e-03 1.884e-03 1.567e-04\n",
      "  4.337e-03 1.057e-02]\n",
      " [2.234e-02 7.366e-03 3.328e-03 1.045e-03 6.079e-04 2.319e-03 3.672e-03\n",
      "  3.035e-03 1.659e-03]\n",
      " [3.453e-02 9.989e-03 4.586e-03 2.034e-04 2.571e-03 3.267e-03 3.453e-03\n",
      "  3.308e-03 1.675e-03]\n",
      " [5.068e-02 1.662e-02 5.079e-03 3.337e-03 1.081e-02 1.282e-02 1.005e-02\n",
      "  5.765e-03 1.917e-03]\n",
      " [6.640e-02 3.406e-02 1.608e-02 1.371e-03 1.306e-02 2.135e-02 2.118e-02\n",
      "  1.523e-02 7.378e-03]\n",
      " [7.494e-02 5.233e-02 3.608e-02 1.808e-02 2.127e-03 1.734e-02 2.310e-02\n",
      "  2.089e-02 1.436e-02]\n",
      " [7.604e-02 6.353e-02 5.469e-02 4.000e-02 1.828e-02 1.837e-03 1.350e-02\n",
      "  1.653e-02 1.455e-02]]\n",
      "[0.7484 0.8549 0.9227 0.9613 0.9816 0.9916 0.9963 0.9984 0.9993]\n"
     ]
    }
   ],
   "source": [
    "print(one_minus_mu_b4)\n",
    "print(one_minus_mu_b4[0])\n",
    "one_minus_mu_b4 = one_minus_mu_b4[1:]\n",
    "Neff_b4 = Neff_b4[1:]"
   ]
  },
  {
   "cell_type": "code",
   "execution_count": 51,
   "id": "014cdfdc-9d55-4bcb-bc38-f74605ffbb38",
   "metadata": {},
   "outputs": [
    {
     "data": {
      "image/png": "[encoded data removed]",
      "text/plain": [
       "<Figure size 1100x500 with 4 Axes>"
      ]
     },
     "metadata": {},
     "output_type": "display_data"
    }
   ],
   "source": [
    "fig, (ax1, ax2) = plt.subplots(1,2,figsize=(11,5))\n",
    "mesh1 = ax1.pcolormesh(a, b, one_minus_mu_b4, shading='nearest', cmap = 'viridis')\n",
    "mesh2 = ax2.pcolormesh(a, b, 1-Neff_b4, shading='nearest', cmap = 'viridis')\n",
    "ax1.plot(0.5, 0.45, marker = '*', color = 'tab:red')\n",
    "ax2.plot(0.5, 0.45, marker = '*', color = 'tab:red')\n",
    "#ax1.set_ylim(0.25, 1.85)\n",
    "#ax2.set_ylim(0.25, 1.85)\n",
    "ax1.set_xlabel(r'$a$')\n",
    "ax1.set_ylabel(r'$b$')\n",
    "ax2.set_xlabel(r'$a$')\n",
    "#ax2.set_ylabel(r'$b$')\n",
    "fig.colorbar(mesh1, ax=ax1, label=r'$1-\\mu$')\n",
    "fig.colorbar(mesh2, ax=ax2, label=r'$1-N_{\\mathrm{eff}} / N$')\n",
    "fig.tight_layout()\n",
    "fig.savefig(r'reweighting_metrics_a_0.5_b_0.45.pdf', dpi = 300, pad_inches = .1, bbox_inches = 'tight')"
   ]
  },
  {
   "cell_type": "code",
   "execution_count": null,
   "id": "e4111fb3-5f81-4723-b063-f651bdbdad3c",
   "metadata": {},
   "outputs": [],
   "source": []
  }
 ],
 "metadata": {
  "kernelspec": {
   "display_name": "Python 3 (ipykernel)",
   "language": "python",
   "name": "python3"
  },
  "language_info": {
   "codemirror_mode": {
    "name": "ipython",
    "version": 3
   },
   "file_extension": ".py",
   "mimetype": "text/x-python",
   "name": "python",
   "nbconvert_exporter": "python",
   "pygments_lexer": "ipython3",
   "version": "3.12.4"
  }
 },
 "nbformat": 4,
 "nbformat_minor": 5
}
