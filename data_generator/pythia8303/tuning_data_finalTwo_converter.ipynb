{
 "cells": [
  {
   "cell_type": "code",
   "execution_count": 1,
   "id": "010f15b5-a91c-48ca-91cc-2728d0d11d42",
   "metadata": {},
   "outputs": [],
   "source": [
    "import numpy as np\n",
    "from npy_append_array import NpyAppendArray\n",
    "import matplotlib.pyplot as plt\n",
    "from tqdm import tqdm"
   ]
  },
  {
   "cell_type": "code",
   "execution_count": 23,
   "id": "7481c19c-71d3-49d2-be80-258f3ba63a91",
   "metadata": {},
   "outputs": [],
   "source": [
    "# Read in the data from the text file\n",
    "PATH_accept_reject_monash = '/global/homes/t/tmenzo/pythia8303/examples/pgun_qqbar_finalTwo_accept_reject_z_a_0.68_b_0.98_sigma_0.335_N_1e5.txt'\n",
    "PATH_hadrons_monash = '/global/homes/t/tmenzo/pythia8303/examples/pgun_qqbar_finalTwo_hadrons_a_0.68_b_0.98_sigma_0.335_N_1e5.txt'\n",
    "PATH_mT2_monash = '/global/homes/t/tmenzo/pythia8303/examples/pgun_qqbar_finalTwo_mT2_a_0.68_b_0.98_sigma_0.335_N_1e5.txt'\n",
    "\n",
    "PATH_accept_reject_monash_prime = '/global/homes/t/tmenzo/pythia8303/examples/pgun_qqbar_finalTwo_accept_reject_z_a_0.72_b_0.88_sigma_0.335_N_5e5.txt'\n",
    "PATH_hadrons_monash_prime = '/global/homes/t/tmenzo/pythia8303/examples/pgun_qqbar_finalTwo_hadrons_a_0.72_b_0.88_sigma_0.335_N_5e5.txt'\n",
    "PATH_mT2_monash_prime = '/global/homes/t/tmenzo/pythia8303/examples/pgun_qqbar_finalTwo_mT2_a_0.72_b_0.88_sigma_0.335_N_5e5.txt'\n",
    "PATH_fPrel_monash_prime = '/global/homes/t/tmenzo/pythia8303/examples/pgun_qqbar_finalTwo_fPrel_a_0.72_b_0.88_sigma_0.335_N_5e5.txt'"
   ]
  },
  {
   "cell_type": "markdown",
   "id": "8e685e02-716e-4803-aaa2-47eb98937185",
   "metadata": {},
   "source": [
    "### Converting accept-reject z-data\n",
    "Load both the accept-reject data as well as the transverse mass data."
   ]
  },
  {
   "cell_type": "code",
   "execution_count": 24,
   "id": "5f35b835-a9ab-4ed6-b02b-220bc028c7ba",
   "metadata": {},
   "outputs": [],
   "source": [
    "# Monash\n",
    "#with open (PATH_accept_reject_monash, 'r') as f:\n",
    "#    lines_ar = f.readlines()\n",
    "#with open(PATH_mT2_monash, 'r') as f:\n",
    "#    lines_mT2 = f.readlines()\n",
    "\n",
    "# Monash'\n",
    "with open(PATH_accept_reject_monash_prime, 'r') as f:\n",
    "    lines_ar = f.readlines()\n",
    "\n",
    "with open(PATH_mT2_monash_prime, 'r') as f:\n",
    "    lines_mT2 = f.readlines()"
   ]
  },
  {
   "cell_type": "code",
   "execution_count": 10,
   "id": "f276957f",
   "metadata": {},
   "outputs": [
    {
     "name": "stdout",
     "output_type": "stream",
     "text": [
      "224 224\n",
      "['0.427607462', '0.8961028412', '0.01686174535', '0.07830534697', '0.1330051804', '0.4806631815', '0.08940341287', '0.6023791074']\n",
      "0.427607462\n"
     ]
    }
   ],
   "source": [
    "# Length of lines_ar should be the same as lines_mT2\n",
    "print(len(lines_ar), len(lines_mT2))\n",
    "print(lines_ar[0].split())\n",
    "print(float(lines_ar[0].split()[0]))"
   ]
  },
  {
   "cell_type": "code",
   "execution_count": 25,
   "id": "8ce4e95f",
   "metadata": {},
   "outputs": [
    {
     "name": "stdout",
     "output_type": "stream",
     "text": [
      "9207926 9207926\n",
      "['0.427607462', '0.8961028412', '0.01686174535', '0.07830534697', '0.1330051804', '0.4806631815', '0.08940341287', '0.6023791074']\n",
      "0.427607462\n"
     ]
    }
   ],
   "source": [
    "# Length of lines_ar should be the same as lines_mT2\n",
    "print(len(lines_ar), len(lines_mT2))\n",
    "print(lines_ar[0].split())\n",
    "print(float(lines_ar[0].split()[0]))"
   ]
  },
  {
   "cell_type": "code",
   "execution_count": 11,
   "id": "9d9f0b84",
   "metadata": {},
   "outputs": [],
   "source": [
    "# Initialize dummy counters\n",
    "counter = 0\n",
    "event_counter = 0\n",
    "\n",
    "# Initialize padding parameters\n",
    "npad_accept_reject = 100\n",
    "npad_event = 105\n",
    "\n",
    "# Desired number of events\n",
    "n_events = 50e3\n",
    "\n",
    "# Output path\n",
    "filename_monash = '/global/homes/t/tmenzo/hadronization-tune-mlrw/pgun_qqbar_finalTwo_accept_reject_z_a_0.68_b_0.98_sigma_0.335_N_10.npy'\n",
    "filename_monash_prime = '/global/homes/t/tmenzo/hadronization-tune-mlrw/pgun_qqbar_finalTwo_accept_reject_z_a_0.72_b_0.88_sigma_0.335_N_10.npy'"
   ]
  },
  {
   "cell_type": "code",
   "execution_count": 12,
   "id": "460ac9da-3c57-4e5a-9f20-05d64c5a2cb8",
   "metadata": {},
   "outputs": [
    {
     "name": "stderr",
     "output_type": "stream",
     "text": [
      "100%|███████████████████████████████████████████████████████████| 224/224 [00:00<00:00, 6586.26it/s]\n"
     ]
    }
   ],
   "source": [
    "for i in tqdm(range(len(lines_ar)), ncols = 100):\n",
    "    # Events are separated at the new line delimiter\n",
    "    if lines_ar[i] != '\\n':\n",
    "        # Initialize the accept-reject array and make sure it is not the accept-reject delimiter\n",
    "        if counter == 0 and lines_ar[i] != '&\\n':\n",
    "            # Zero-pad the accept-reject array and create array\n",
    "            arz_i = np.array([np.pad(np.array(lines_ar[i].split(), dtype = float), (0, npad_accept_reject - len(lines_ar[i].split())))])\n",
    "            #print(arz_i.shape)\n",
    "            # Prepend the squared transverse mass\n",
    "            arz_i = np.insert(arz_i, 0, lines_mT2[i], axis = 1)\n",
    "            counter += 1\n",
    "            #print(arz_i.shape)\n",
    "        elif lines_ar[i] != '&\\n':\n",
    "            # Zero-pad the accept-reject array and append\n",
    "            arz_I = np.array([np.pad(np.array(lines_ar[i].split(), dtype = float), (0, npad_accept_reject - len(lines_ar[i].split())))])\n",
    "            # Prepend the squared transverse mass\n",
    "            arz_I = np.insert(arz_I, 0, lines_mT2[i], axis = 1)\n",
    "            #print(arz_I)\n",
    "            #print('arz_I shape:', arz_I.shape)\n",
    "            arz_i = np.append(arz_i, arz_I, axis = 0)\n",
    "        else:\n",
    "            continue\n",
    "        #print(arz_i)\n",
    "            \n",
    "    else:\n",
    "        #print(arz_i.shape)\n",
    "        # Zero-pad on the event dimension and create event array\n",
    "        arz_i = np.pad(arz_i, ((0, npad_event - len(arz_i)),(0,0)))\n",
    "        #print(arz_i.shape)\n",
    "        # Write to .npy file located at write_path\n",
    "        #with NpyAppendArray(filename_monash) as datafile:\n",
    "        with NpyAppendArray(filename_monash_prime) as datafile:\n",
    "            datafile.append(np.array([arz_i]))\n",
    "        counter = 0\n",
    "        event_counter += 1\n",
    "        if event_counter == n_events: break"
   ]
  },
  {
   "cell_type": "code",
   "execution_count": 13,
   "id": "675480c1-f697-4803-b05e-47e88305a8c4",
   "metadata": {},
   "outputs": [],
   "source": [
    "# Load the accept-reject data\n",
    "#pgun_accept_reject_monash = np.load(filename_monash, mmap_mode = \"r\")\n",
    "pgun_accept_reject_monash_prime = np.load(filename_monash_prime, mmap_mode = \"r\")"
   ]
  },
  {
   "cell_type": "code",
   "execution_count": 14,
   "id": "b77010d8-299d-4154-a146-9a77ae5de8a4",
   "metadata": {},
   "outputs": [
    {
     "name": "stdout",
     "output_type": "stream",
     "text": [
      "(10, 105, 101)\n"
     ]
    }
   ],
   "source": [
    "#print(pgun_accept_reject_monash.shape)\n",
    "print(pgun_accept_reject_monash_prime.shape)"
   ]
  },
  {
   "cell_type": "code",
   "execution_count": 16,
   "id": "395da7b7",
   "metadata": {},
   "outputs": [
    {
     "name": "stdout",
     "output_type": "stream",
     "text": [
      "[[0.13411258 0.10635226 0.87490109 ... 0.         0.         0.        ]\n",
      " [0.13426031 0.35304039 0.75564144 ... 0.         0.         0.        ]\n",
      " [0.07776344 0.46394706 0.10571215 ... 0.         0.         0.        ]\n",
      " ...\n",
      " [0.         0.         0.         ... 0.         0.         0.        ]\n",
      " [0.         0.         0.         ... 0.         0.         0.        ]\n",
      " [0.         0.         0.         ... 0.         0.         0.        ]]\n"
     ]
    }
   ],
   "source": [
    "print(pgun_accept_reject_monash_prime[1])"
   ]
  },
  {
   "cell_type": "code",
   "execution_count": null,
   "id": "4474bf23",
   "metadata": {},
   "outputs": [],
   "source": [
    "np.set_printoptions(threshold=np.inf)\n",
    "print(pgun_accept_reject_monash_prime[1])"
   ]
  },
  {
   "cell_type": "code",
   "execution_count": 17,
   "id": "ac02bade",
   "metadata": {},
   "outputs": [
    {
     "name": "stdout",
     "output_type": "stream",
     "text": [
      "['0.0637719\\n', '0.364352\\n', '0.216585\\n', '0.037164\\n', '0.675378\\n', '0.125258\\n', '0.403978\\n', '0.0471208\\n', '0.0638271\\n', '0.138337\\n', '0.321039\\n', '0.189552\\n', '0.19104\\n', '0.373023\\n', '0.0328791\\n', '0.216078\\n', '0.140257\\n', '0.391859\\n', '0.688611\\n', '0.609316\\n']\n",
      "['0.427607', '0.896103', '0.0168617', '0.0783053', '0.133005', '0.480663', '0.0894034', '0.602379']\n"
     ]
    }
   ],
   "source": [
    "print(lines_mT2[0:20])\n",
    "print(lines_ar[0].split())"
   ]
  },
  {
   "cell_type": "markdown",
   "id": "0350d75c",
   "metadata": {},
   "source": [
    "### Converting fPrel"
   ]
  },
  {
   "cell_type": "code",
   "execution_count": 17,
   "id": "fafacd82",
   "metadata": {},
   "outputs": [],
   "source": [
    "# Monash'\n",
    "with open(PATH_fPrel_monash_prime, 'r') as f:\n",
    "    lines_fPrel = f.readlines()"
   ]
  },
  {
   "cell_type": "code",
   "execution_count": 18,
   "id": "67b5e1cf",
   "metadata": {},
   "outputs": [],
   "source": [
    "# Initialize dummy counters\n",
    "counter = 0\n",
    "event_counter = 0\n",
    "\n",
    "# Initialize padding parameters\n",
    "npad_accept_reject = 100\n",
    "npad_event = 105\n",
    "\n",
    "# Desired number of events\n",
    "n_events = 50e3\n",
    "\n",
    "# Output path\n",
    "filename_monash = '/global/homes/t/tmenzo/hadronization-tune-mlrw/pgun_qqbar_finalTwo_fPrel_a_0.68_b_0.98_sigma_0.335_N_50e3.npy'\n",
    "filename_monash_prime = '/global/homes/t/tmenzo/hadronization-tune-mlrw/pgun_qqbar_finalTwo_fPrel_a_0.72_b_0.88_sigma_0.335_N_10.npy'"
   ]
  },
  {
   "cell_type": "code",
   "execution_count": 19,
   "id": "e4095fca",
   "metadata": {},
   "outputs": [
    {
     "name": "stderr",
     "output_type": "stream",
     "text": [
      "100%|██████████████████████████████████████████████████████████| 224/224 [00:00<00:00, 11274.47it/s]\n"
     ]
    }
   ],
   "source": [
    "for i in tqdm(range(len(lines_fPrel)), ncols = 100):\n",
    "    # Events are separated at the new line delimiter\n",
    "    if lines_fPrel[i] != '\\n':\n",
    "        # Initialize the accept-reject array and make sure it is not the accept-reject delimiter\n",
    "        if counter == 0 and lines_ar[i] != '&\\n':\n",
    "            # Zero-pad the accept-reject array and create array\n",
    "            arz_i = np.array([np.pad(np.array(lines_fPrel[i].split(), dtype = float), (0, npad_accept_reject - len(lines_fPrel[i].split())))])\n",
    "            counter += 1\n",
    "            #print(arz_i.shape)\n",
    "        elif lines_fPrel[i] != '&\\n':\n",
    "            # Zero-pad the accept-reject array and append\n",
    "            arz_I = np.array([np.pad(np.array(lines_fPrel[i].split(), dtype = float), (0, npad_accept_reject - len(lines_fPrel[i].split())))])\n",
    "            #print(arz_I)\n",
    "            #print('arz_I shape:', arz_I.shape)\n",
    "            arz_i = np.append(arz_i, arz_I, axis = 0)\n",
    "        else:\n",
    "            continue\n",
    "        #print(arz_i)\n",
    "            \n",
    "    else:\n",
    "        #print(arz_i.shape)\n",
    "        # Zero-pad on the event dimension and create event array\n",
    "        arz_i = np.pad(arz_i, ((0, npad_event - len(arz_i)),(0,0)))\n",
    "        #print(arz_i.shape)\n",
    "        # Write to .npy file located at write_path\n",
    "        #with NpyAppendArray(filename_monash) as datafile:\n",
    "        with NpyAppendArray(filename_monash_prime) as datafile:\n",
    "            datafile.append(np.array([arz_i]))\n",
    "        counter = 0\n",
    "        event_counter += 1\n",
    "        if event_counter == n_events: break"
   ]
  },
  {
   "cell_type": "code",
   "execution_count": 20,
   "id": "582679cc",
   "metadata": {},
   "outputs": [],
   "source": [
    "# Load the accept-reject data\n",
    "#pgun_accept_reject_monash = np.load(filename_monash, mmap_mode = \"r\")\n",
    "pgun_fPrel_monash_prime = np.load(filename_monash_prime, mmap_mode = \"r\")"
   ]
  },
  {
   "cell_type": "code",
   "execution_count": 21,
   "id": "a5767cb0",
   "metadata": {},
   "outputs": [
    {
     "name": "stdout",
     "output_type": "stream",
     "text": [
      "(10, 105, 100)\n"
     ]
    }
   ],
   "source": [
    "#print(pgun_accept_reject_monash.shape)\n",
    "print(pgun_fPrel_monash_prime.shape)"
   ]
  },
  {
   "cell_type": "code",
   "execution_count": 22,
   "id": "5dfb00dd",
   "metadata": {},
   "outputs": [
    {
     "name": "stdout",
     "output_type": "stream",
     "text": [
      "[[0.34668742 0.16543428 1.         ... 0.         0.         0.        ]\n",
      " [1.         1.         1.         ... 0.         0.         0.        ]\n",
      " [1.         1.         1.         ... 0.         0.         0.        ]\n",
      " ...\n",
      " [0.         0.         0.         ... 0.         0.         0.        ]\n",
      " [0.         0.         0.         ... 0.         0.         0.        ]\n",
      " [0.         0.         0.         ... 0.         0.         0.        ]]\n"
     ]
    }
   ],
   "source": [
    "print(pgun_fPrel_monash_prime[0])"
   ]
  },
  {
   "cell_type": "markdown",
   "id": "15368fe0-ff5b-4394-bd79-ba9bd6713db4",
   "metadata": {},
   "source": [
    "### Converting hadron four-momentum data"
   ]
  },
  {
   "cell_type": "code",
   "execution_count": 3,
   "id": "0a0aa6f0-6966-43c4-853b-dcb082c72ce9",
   "metadata": {},
   "outputs": [],
   "source": [
    "with open (PATH_hadrons_monash, 'r') as f:\n",
    "    lines = f.readlines()\n",
    "#with open (PATH_hadrons_monash_prime, 'r') as f:\n",
    "#    lines = f.readlines()"
   ]
  },
  {
   "cell_type": "code",
   "execution_count": 4,
   "id": "97226bb8",
   "metadata": {},
   "outputs": [
    {
     "name": "stdout",
     "output_type": "stream",
     "text": [
      "['-0.130504 0.534073 12.8746 12.8871 0.13957\\n', '0.136247 -0.674728 14.8431 14.8597 0.13957\\n', '0.237023 0.112331 16.5188 16.5214 0.13498\\n', '0.0192113 0.114655 2.48272 2.48936 0.13957\\n', '-0.516768 -0.195442 1.90183 1.98505 0.13498\\n', '-0.193432 -0.518127 -11.36 11.3744 0.13957\\n', '0.386202 -0.185034 0.967674 1.06736 0.13957\\n', '0.212707 0.301262 -0.67203 0.779171 0.13957\\n', '-0.236102 0.57475 -1.78017 1.89065 0.13957\\n', '-0.00300811 -0.608903 -2.3597 2.44073 0.13498\\n', '-0.191944 -0.354807 -1.2469 1.31794 0.13957\\n', '-0.0466403 0.453683 -0.906314 1.02354 0.13498\\n', '0.256889 0.807117 -16.8018 16.8237 0.13957\\n', '\\n', '0.300441 0.156102 -3.42506 3.44458 0.13957\\n', '-0.368195 -0.592655 -18.4052 18.4189 0.13957\\n', '0.102487 0.0112381 16.138 16.1389 0.13957\\n', '-0.0480705 -0.0288748 24.3802 24.3806 0.13957\\n', '-0.363597 -0.322292 2.40578 2.45832 0.13957\\n', '0.448864 0.2671 -9.84041 9.85525 0.13957\\n']\n"
     ]
    }
   ],
   "source": [
    "print(lines[0:20])"
   ]
  },
  {
   "cell_type": "code",
   "execution_count": 5,
   "id": "2237afd6",
   "metadata": {},
   "outputs": [],
   "source": [
    "# Initialize dummy counters\n",
    "counter = 0\n",
    "event_counter = 0\n",
    "\n",
    "# Initialize padding parameters\n",
    "npad_event = 75\n",
    "\n",
    "# Desired number of events\n",
    "n_events = 1e5\n",
    "\n",
    "# Output path\n",
    "filename_monash = '/global/homes/t/tmenzo/hadronization-tune-mlrw/pgun_qqbar_finalTwo_hadrons_a_0.68_b_0.98_sigma_0.335_N_1e5.npy'\n",
    "filename_monash_prime = '/global/homes/t/tmenzo/hadronization-tune-mlrw/pgun_qqbar_finalTwo_hadrons_a_0.72_b_0.88_sigma_0.335_N_1e5.npy'"
   ]
  },
  {
   "cell_type": "code",
   "execution_count": 6,
   "id": "f6097156-61a6-4a40-ace9-3256207ed45d",
   "metadata": {},
   "outputs": [
    {
     "name": "stderr",
     "output_type": "stream",
     "text": [
      "100%|██████████████████████████████████████████████████| 1508580/1508580 [00:45<00:00, 33330.95it/s]\n"
     ]
    }
   ],
   "source": [
    "with tqdm(total = len(lines), ncols = 100) as pbar:\n",
    "    for line in lines:\n",
    "        # Events are separated at the new line delimiter\n",
    "        if line != '\\n':\n",
    "            if counter == 0:\n",
    "                # Zero-pad the accept-reject array and create array\n",
    "                arz_i = np.array([np.array(line.split(), dtype = float)])\n",
    "                counter += 1\n",
    "            else:\n",
    "                # Zero-pad the accept-reject array and append\n",
    "                arz_i = np.append(arz_i, np.array([np.array(line.split(), dtype = float)]), axis = 0)\n",
    "        else:\n",
    "            # Zero-pad on the event dimension and create event array\n",
    "            arz_i = np.pad(arz_i, ((0, npad_event - len(arz_i)),(0,0)))\n",
    "\n",
    "            #with NpyAppendArray(filename_monash_prime) as datafile:\n",
    "            with NpyAppendArray(filename_monash) as datafile:\n",
    "                datafile.append(np.array([arz_i]))\n",
    "            counter = 0\n",
    "        pbar.update(1)"
   ]
  },
  {
   "cell_type": "code",
   "execution_count": 7,
   "id": "6a88c524-89b1-4db3-b1e6-d298d9f4ba07",
   "metadata": {},
   "outputs": [],
   "source": [
    "# Load the hadron data\n",
    "pgun_hadrons_monash = np.load(filename_monash, mmap_mode=\"r\")\n",
    "pgun_hadrons_monash_prime = np.load(filename_monash_prime, mmap_mode=\"r\")"
   ]
  },
  {
   "cell_type": "code",
   "execution_count": 8,
   "id": "62d58b78-a01c-47e9-8dfd-f1ecdef7a26a",
   "metadata": {},
   "outputs": [
    {
     "name": "stdout",
     "output_type": "stream",
     "text": [
      "(100000, 75, 5)\n",
      "(100000, 75, 5)\n"
     ]
    }
   ],
   "source": [
    "print(pgun_hadrons_monash.shape)\n",
    "print(pgun_hadrons_monash_prime.shape)"
   ]
  },
  {
   "cell_type": "code",
   "execution_count": null,
   "id": "de0231f5-c3e8-4d0a-9a90-bf78880ca925",
   "metadata": {},
   "outputs": [],
   "source": []
  }
 ],
 "metadata": {
  "kernelspec": {
   "display_name": "Python 3 (ipykernel)",
   "language": "python",
   "name": "python3"
  },
  "language_info": {
   "codemirror_mode": {
    "name": "ipython",
    "version": 3
   },
   "file_extension": ".py",
   "mimetype": "text/x-python",
   "name": "python",
   "nbconvert_exporter": "python",
   "pygments_lexer": "ipython3",
   "version": "3.11.9"
  }
 },
 "nbformat": 4,
 "nbformat_minor": 5
}
