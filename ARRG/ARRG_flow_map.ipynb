{
 "cells": [
  {
   "cell_type": "code",
   "execution_count": 1,
   "metadata": {},
   "outputs": [],
   "source": [
    "from ARRG import *"
   ]
  },
  {
   "cell_type": "code",
   "execution_count": 2,
   "metadata": {},
   "outputs": [],
   "source": [
    "class ObservableDataset(Dataset):\n",
    "\t\"\"\"\n",
    "\tConverts observable dataset into PyTorch syntax.\n",
    "\t\"\"\"\n",
    "\tdef __init__(self, data):\n",
    "\t\tself.data = data\n",
    "\n",
    "\tdef __len__(self):\n",
    "\t\treturn self.data.shape[0]\n",
    "\n",
    "\tdef __getitem__(self, idx):\n",
    "\t\tsample = self.data[idx]\n",
    "\t\treturn sample"
   ]
  },
  {
   "cell_type": "code",
   "execution_count": 3,
   "metadata": {},
   "outputs": [],
   "source": [
    "def a_b_grid(x_range, y_range, n_points):\n",
    "    \"\"\"\n",
    "    Creates a grid of values within a two-dimensional range and returns it in a flattened tensor.\n",
    "\n",
    "    Parameters:\n",
    "    x_range (tuple): A tuple of (min, max) for the x-axis range.\n",
    "    y_range (tuple): A tuple of (min, max) for the y-axis range.\n",
    "    steps (int): --- The number of steps/points in each dimension.\n",
    "\n",
    "    Returns:\n",
    "    torch.Tensor: A flattened tensor containing all the grid points.\n",
    "    \"\"\"\n",
    "    # Create linearly spaced points for each range\n",
    "    x_points = torch.linspace(x_range[0], x_range[1], n_points)\n",
    "    y_points = torch.linspace(y_range[0], y_range[1], n_points)\n",
    "\n",
    "    # Create a meshgrid from the x and y points\n",
    "    x_grid, y_grid = torch.meshgrid(x_points, y_points, indexing='ij')\n",
    "\n",
    "    # Flatten the grid and stack the coordinates\n",
    "    grid_flattened = torch.stack([x_grid.flatten(), y_grid.flatten()], dim=1)\n",
    "\n",
    "    return grid_flattened"
   ]
  },
  {
   "cell_type": "code",
   "execution_count": 4,
   "metadata": {},
   "outputs": [
    {
     "name": "stdout",
     "output_type": "stream",
     "text": [
      "Experimental observable shape: (1000000, 50, 5)\n",
      "Simulated observable shape: (1000000, 50, 5)\n",
      "Simulated z shape: (1000000, 50, 100)\n",
      "Experimental multiplicity shape: torch.Size([5000])\n",
      "Simulated multiplicity shape: torch.Size([5000])\n",
      "Simulated z shape: torch.Size([5000, 50, 100])\n",
      "Simulated mT shape: torch.Size([5000, 50])\n"
     ]
    }
   ],
   "source": [
    "# Paths to the datasets on perlmutter\n",
    "exp_hadrons_PATH = '/global/cfs/projectdirs/m3246/hadronization-tune-mlrw-data/pgun_qqbar_hadrons_a_0.68_b_0.98_sigma_0.335_N_1e6.npy'\n",
    "#exp_accept_reject_PATH = '/global/cfs/projectdirs/m3246/hadronization-tune-mlrw-data/pgun_qqbar_accept_reject_z_a_0.68_b_0.98_sigma_0.335_N_1e6.npy'\n",
    "sim_hadrons_PATH = '/global/cfs/projectdirs/m3246/hadronization-tune-mlrw-data/pgun_qqbar_hadrons_a_0.72_b_0.88_sigma_0.335_N_1e6.npy'\n",
    "sim_accept_reject_PATH = '/global/cfs/projectdirs/m3246/hadronization-tune-mlrw-data/pgun_qqbar_accept_reject_z_a_0.72_b_0.88_sigma_0.335_N_1e6.npy'\n",
    "\n",
    "# Load the arrays\n",
    "exp_hadrons       = np.load(exp_hadrons_PATH, mmap_mode=\"r\")\n",
    "sim_hadrons       = np.load(sim_hadrons_PATH, mmap_mode=\"r\")\n",
    "sim_accept_reject = np.load(sim_accept_reject_PATH, mmap_mode = \"r\")\n",
    "\n",
    "# Print dataset shapes\n",
    "print('Experimental observable shape:', exp_hadrons.shape)\n",
    "print('Simulated observable shape:', sim_hadrons.shape)\n",
    "print('Simulated z shape:', sim_accept_reject.shape)\n",
    "\n",
    "# Restrict to a subset of the full dataset (for memory)\n",
    "N_events = int(5000)\n",
    "\n",
    "# Extract the hadron multiplicity\n",
    "exp_mult = np.array([len(exp_hadrons[i,:][np.abs(exp_hadrons[i,:,0]) > 0.0]) for i in range(N_events)])\n",
    "sim_mult = np.array([len(sim_hadrons[i,:][np.abs(sim_hadrons[i,:,0]) > 0.0]) for i in range(N_events)])\n",
    "# Extract the transverse mass\n",
    "sim_mT   = np.sqrt(sim_hadrons[:,:,0]**2 + sim_hadrons[:,:,1]**2 + sim_hadrons[:,:,4]**2)\n",
    "\n",
    "# Convert into torch objects\n",
    "sim_mult          = torch.Tensor(sim_mult[0:N_events].copy())\n",
    "sim_accept_reject = torch.Tensor(sim_accept_reject[0:N_events].copy())\n",
    "sim_mT            = torch.Tensor(sim_mT[0:N_events].copy())\n",
    "exp_mult          = torch.Tensor(exp_mult[0:N_events].copy())\n",
    "\n",
    "# Check the accepted z-values, if z == 1 reduce it by epsilon (a very nasty bug to find).\n",
    "# The a-coefficient when computing the likelihood has a term propotional to log(1-z). If \n",
    "# z = 1, this term diverges to -inf and completely destroys the backward pass.\n",
    "epsilon = 1e-5\n",
    "sim_accept_reject[sim_accept_reject == 1] = 1 - epsilon\n",
    "\n",
    "# Print dataset shapes\n",
    "print('Experimental multiplicity shape:', exp_mult.shape)\n",
    "print('Simulated multiplicity shape:', sim_mult.shape)\n",
    "print('Simulated z shape:', sim_accept_reject.shape)\n",
    "print('Simulated mT shape:', sim_mT.shape)\n",
    "\n",
    "# Prepare data for DataLoader\n",
    "sim_mult          = ObservableDataset(sim_mult)\n",
    "sim_accept_reject = ObservableDataset(sim_accept_reject)\n",
    "sim_mT            = ObservableDataset(sim_mT)\n",
    "exp_mult          = ObservableDataset(exp_mult)"
   ]
  },
  {
   "cell_type": "code",
   "execution_count": null,
   "metadata": {},
   "outputs": [],
   "source": [
    "# Set batch size -- set it eqaul to the number of events, we only want one 'batch'\n",
    "batch_size = N_events\n",
    "\n",
    "# Initialize data-loaders\n",
    "sim_observable_dataloader    = DataLoader(sim_mult,          batch_size = batch_size, shuffle = False)\n",
    "sim_accept_reject_dataloader = DataLoader(sim_accept_reject, batch_size = batch_size, shuffle = False)\n",
    "sim_mT_dataloader            = DataLoader(sim_mT,            batch_size = batch_size, shuffle = False)\n",
    "exp_observable_dataloader    = DataLoader(exp_mult,          batch_size = batch_size, shuffle = False)"
   ]
  },
  {
   "cell_type": "code",
   "execution_count": null,
   "metadata": {},
   "outputs": [
    {
     "name": "stdout",
     "output_type": "stream",
     "text": [
      "Size of sim_observable_dataloader: 5000\n",
      "Size of sim_accept_reject_dataloader: 5000\n",
      "Size of sim_mT_dataloader: 5000\n",
      "Size of exp_observable_dataloader: 5000\n"
     ]
    }
   ],
   "source": [
    "print('Size of sim_observable_dataloader:', len(sim_observable_dataloader.dataset))\n",
    "print('Size of sim_accept_reject_dataloader:', len(sim_accept_reject_dataloader.dataset))\n",
    "print('Size of sim_mT_dataloader:', len(sim_mT_dataloader.dataset))\n",
    "print('Size of exp_observable_dataloader:', len(exp_observable_dataloader.dataset))"
   ]
  },
  {
   "cell_type": "code",
   "execution_count": null,
   "metadata": {},
   "outputs": [
    {
     "name": "stdout",
     "output_type": "stream",
     "text": [
      "Each event has been zero-padded to a length of 50\n",
      "Each emission has been zero-padded to a length of 100\n"
     ]
    }
   ],
   "source": [
    "# Training hyperparameters\n",
    "over_sample_factor = 10.0\n",
    "# The flow map will be dependent on the learning rate\n",
    "learning_rate = 0.01\n",
    "fixed_binning = True\n",
    "# Length of event buffer\n",
    "dim_multiplicity  = sim_accept_reject_dataloader.dataset.data.shape[1]\n",
    "dim_accept_reject = sim_accept_reject_dataloader.dataset.data.shape[2]\n",
    "\n",
    "print('Each event has been zero-padded to a length of', dim_multiplicity)\n",
    "print('Each emission has been zero-padded to a length of', dim_accept_reject)\n",
    "\n",
    "# Define base parameters of simulated data (a, b)\n",
    "params_base = torch.tensor([0.72, 0.88])\n",
    "# Define a grid of initial parameters\n",
    "a_range  = (0.6-0.1, 0.80+0.1)#(0.6, 0.80)\n",
    "b_range  = (0.85-0.1, 1.05+0.1)#(0.85, 1.05)\n",
    "n_points = 10\n",
    "a_b_init = a_b_grid(a_range, b_range, n_points)"
   ]
  },
  {
   "cell_type": "code",
   "execution_count": null,
   "metadata": {},
   "outputs": [
    {
     "name": "stdout",
     "output_type": "stream",
     "text": [
      "Initial a_b grid shape: torch.Size([100, 2])\n"
     ]
    }
   ],
   "source": [
    "print('Initial a_b grid shape:', a_b_init.shape)"
   ]
  },
  {
   "cell_type": "code",
   "execution_count": null,
   "metadata": {},
   "outputs": [],
   "source": [
    "# Irrelevant parameters for the flow plot that must be initialized for the ARRG class\n",
    "epochs = 1\n",
    "learning_rate = 0.01\n",
    "\n",
    "# Create an ARRG instance\n",
    "ARRG = ARRG(epochs = epochs, dim_multiplicity = dim_multiplicity, dim_accept_reject = dim_accept_reject, over_sample_factor = over_sample_factor,\n",
    "\t\t\tparams_base = params_base, sim_observable_dataloader = sim_observable_dataloader, sim_kinematics_z_dataloader = sim_accept_reject_dataloader, \n",
    "\t\t\tsim_kinematics_mT_dataloader = sim_mT_dataloader, exp_observable_dataloader = exp_observable_dataloader, print_details = False, \n",
    "\t\t\tresults_dir = None, params_init = None, fixed_binning = True)"
   ]
  },
  {
   "cell_type": "code",
   "execution_count": null,
   "metadata": {},
   "outputs": [
    {
     "name": "stderr",
     "output_type": "stream",
     "text": [
      "  0%|                                                                       | 0/100 [00:00<?, ?it/s]"
     ]
    },
    {
     "name": "stdout",
     "output_type": "stream",
     "text": [
      "----------------------------------------------\n",
      "Loss: 31.029306\n",
      "a: 0.5\n",
      "Gradient of a: -151.27492\n",
      "b: 0.75\n",
      "Gradient of b: -16.163881\n",
      "----------------------------------------------\n"
     ]
    },
    {
     "name": "stderr",
     "output_type": "stream",
     "text": [
      "  2%|█▏                                                           | 2/100 [02:39<2:11:15, 80.36s/it]"
     ]
    },
    {
     "name": "stdout",
     "output_type": "stream",
     "text": [
      "----------------------------------------------\n",
      "Loss: 32.15144\n",
      "a: 0.5\n",
      "Gradient of a: -352.39087\n",
      "b: 0.79444444\n",
      "Gradient of b: 72.32837\n",
      "----------------------------------------------\n",
      "----------------------------------------------\n",
      "Loss: 37.645844\n",
      "a: 0.5\n",
      "Gradient of a: -554.4364\n",
      "b: 0.8388889\n",
      "Gradient of b: 174.43488\n",
      "----------------------------------------------\n"
     ]
    },
    {
     "name": "stderr",
     "output_type": "stream",
     "text": [
      "  3%|█▊                                                           | 3/100 [04:08<2:16:23, 84.37s/it]"
     ]
    },
    {
     "name": "stdout",
     "output_type": "stream",
     "text": [
      "----------------------------------------------\n",
      "Loss: 47.507317\n",
      "a: 0.5\n",
      "Gradient of a: -738.36444\n",
      "b: 0.8833333\n",
      "Gradient of b: 267.04453\n",
      "----------------------------------------------\n"
     ]
    },
    {
     "name": "stderr",
     "output_type": "stream",
     "text": [
      "  4%|██▍                                                          | 4/100 [05:34<2:16:18, 85.20s/it]"
     ]
    },
    {
     "name": "stdout",
     "output_type": "stream",
     "text": [
      "----------------------------------------------\n",
      "Loss: 61.165497\n",
      "a: 0.5\n",
      "Gradient of a: -898.6113\n",
      "b: 0.92777777\n",
      "Gradient of b: 345.07864\n",
      "----------------------------------------------\n"
     ]
    },
    {
     "name": "stderr",
     "output_type": "stream",
     "text": [
      "  5%|███                                                          | 5/100 [07:02<2:16:30, 86.22s/it]"
     ]
    },
    {
     "name": "stdout",
     "output_type": "stream",
     "text": [
      "----------------------------------------------\n",
      "Loss: 77.962006\n",
      "a: 0.5\n",
      "Gradient of a: -1034.4471\n",
      "b: 0.9722222\n",
      "Gradient of b: 408.36017\n",
      "----------------------------------------------\n"
     ]
    },
    {
     "name": "stderr",
     "output_type": "stream",
     "text": [
      "  7%|████▎                                                        | 7/100 [10:01<2:15:55, 87.69s/it]"
     ]
    },
    {
     "name": "stdout",
     "output_type": "stream",
     "text": [
      "----------------------------------------------\n",
      "Loss: 97.257576\n",
      "a: 0.5\n",
      "Gradient of a: -1146.8608\n",
      "b: 1.0166667\n",
      "Gradient of b: 457.71826\n",
      "----------------------------------------------\n"
     ]
    },
    {
     "name": "stderr",
     "output_type": "stream",
     "text": [
      "  8%|████▉                                                        | 8/100 [11:28<2:14:05, 87.45s/it]"
     ]
    },
    {
     "name": "stdout",
     "output_type": "stream",
     "text": [
      "----------------------------------------------\n",
      "Loss: 118.46154\n",
      "a: 0.5\n",
      "Gradient of a: -1237.8323\n",
      "b: 1.0611111\n",
      "Gradient of b: 494.5046\n",
      "----------------------------------------------\n"
     ]
    },
    {
     "name": "stderr",
     "output_type": "stream",
     "text": [
      "  9%|█████▍                                                       | 9/100 [12:55<2:12:27, 87.34s/it]"
     ]
    },
    {
     "name": "stdout",
     "output_type": "stream",
     "text": [
      "----------------------------------------------\n",
      "Loss: 141.05339\n",
      "a: 0.5\n",
      "Gradient of a: -1310.0813\n",
      "b: 1.1055555\n",
      "Gradient of b: 520.49225\n",
      "----------------------------------------------\n",
      "----------------------------------------------\n",
      "Loss: 164.59677\n",
      "a: 0.5\n",
      "Gradient of a: -1366.8674\n",
      "b: 1.15\n",
      "Gradient of b: 537.653\n",
      "----------------------------------------------\n"
     ]
    },
    {
     "name": "stderr",
     "output_type": "stream",
     "text": [
      " 10%|██████                                                      | 10/100 [14:22<2:10:46, 87.18s/it]"
     ]
    },
    {
     "name": "stdout",
     "output_type": "stream",
     "text": [
      "----------------------------------------------\n",
      "Loss: 34.19012\n",
      "a: 0.54444444\n",
      "Gradient of a: 290.1716\n",
      "b: 0.75\n",
      "Gradient of b: -189.15277\n",
      "----------------------------------------------\n"
     ]
    },
    {
     "name": "stderr",
     "output_type": "stream",
     "text": [
      " 11%|██████▌                                                     | 11/100 [15:48<2:08:56, 86.93s/it]"
     ]
    },
    {
     "name": "stdout",
     "output_type": "stream",
     "text": [
      "----------------------------------------------\n",
      "Loss: 26.762117\n",
      "a: 0.54444444\n",
      "Gradient of a: 110.33916\n",
      "b: 0.79444444\n",
      "Gradient of b: -133.29648\n",
      "----------------------------------------------\n"
     ]
    },
    {
     "name": "stderr",
     "output_type": "stream",
     "text": [
      " 12%|███████▏                                                    | 12/100 [17:16<2:07:50, 87.16s/it]"
     ]
    },
    {
     "name": "stdout",
     "output_type": "stream",
     "text": [
      "----------------------------------------------\n",
      "Loss: 23.040651\n",
      "a: 0.54444444\n",
      "Gradient of a: -99.00733\n",
      "b: 0.8388889\n",
      "Gradient of b: -30.38978\n",
      "----------------------------------------------\n"
     ]
    },
    {
     "name": "stderr",
     "output_type": "stream",
     "text": [
      " 13%|███████▊                                                    | 13/100 [18:46<2:07:45, 88.11s/it]"
     ]
    },
    {
     "name": "stdout",
     "output_type": "stream",
     "text": [
      "----------------------------------------------\n",
      "Loss: 24.147818\n",
      "a: 0.54444444\n",
      "Gradient of a: -306.89465\n",
      "b: 0.8833333\n",
      "Gradient of b: 79.38208\n",
      "----------------------------------------------\n"
     ]
    },
    {
     "name": "stderr",
     "output_type": "stream",
     "text": [
      " 14%|████████▍                                                   | 14/100 [20:18<2:07:42, 89.10s/it]"
     ]
    },
    {
     "name": "stdout",
     "output_type": "stream",
     "text": [
      "----------------------------------------------\n",
      "Loss: 29.950489\n",
      "a: 0.54444444\n",
      "Gradient of a: -498.7964\n",
      "b: 0.92777777\n",
      "Gradient of b: 179.63647\n",
      "----------------------------------------------\n"
     ]
    },
    {
     "name": "stderr",
     "output_type": "stream",
     "text": [
      " 15%|█████████                                                   | 15/100 [21:48<2:06:43, 89.46s/it]"
     ]
    },
    {
     "name": "stdout",
     "output_type": "stream",
     "text": [
      "----------------------------------------------\n",
      "Loss: 39.912296\n",
      "a: 0.54444444\n",
      "Gradient of a: -669.6831\n",
      "b: 0.9722222\n",
      "Gradient of b: 266.25436\n",
      "----------------------------------------------\n"
     ]
    },
    {
     "name": "stderr",
     "output_type": "stream",
     "text": [
      " 16%|█████████▌                                                  | 16/100 [23:25<2:08:21, 91.69s/it]"
     ]
    },
    {
     "name": "stdout",
     "output_type": "stream",
     "text": [
      "----------------------------------------------\n",
      "Loss: 53.402855\n",
      "a: 0.54444444\n",
      "Gradient of a: -818.06915\n",
      "b: 1.0166667\n",
      "Gradient of b: 338.40555\n",
      "----------------------------------------------\n"
     ]
    },
    {
     "name": "stderr",
     "output_type": "stream",
     "text": [
      " 18%|██████████▊                                                 | 18/100 [26:22<2:03:03, 90.04s/it]"
     ]
    },
    {
     "name": "stdout",
     "output_type": "stream",
     "text": [
      "----------------------------------------------\n",
      "Loss: 69.782295\n",
      "a: 0.54444444\n",
      "Gradient of a: -944.14685\n",
      "b: 1.0611111\n",
      "Gradient of b: 396.36307\n",
      "----------------------------------------------\n",
      "----------------------------------------------\n",
      "Loss: 88.4393\n",
      "a: 0.54444444\n",
      "Gradient of a: -1049.2098\n",
      "b: 1.1055555\n",
      "Gradient of b: 441.10406\n",
      "----------------------------------------------\n"
     ]
    },
    {
     "name": "stderr",
     "output_type": "stream",
     "text": [
      " 19%|███████████▍                                                | 19/100 [27:50<2:00:51, 89.52s/it]"
     ]
    },
    {
     "name": "stdout",
     "output_type": "stream",
     "text": [
      "----------------------------------------------\n",
      "Loss: 108.816895\n",
      "a: 0.54444444\n",
      "Gradient of a: -1135.4071\n",
      "b: 1.15\n",
      "Gradient of b: 474.05344\n",
      "----------------------------------------------\n"
     ]
    },
    {
     "name": "stderr",
     "output_type": "stream",
     "text": [
      " 20%|████████████                                                | 20/100 [29:17<1:58:14, 88.69s/it]"
     ]
    },
    {
     "name": "stdout",
     "output_type": "stream",
     "text": [
      "----------------------------------------------\n",
      "Loss: 56.35956\n",
      "a: 0.5888889\n",
      "Gradient of a: 700.58813\n",
      "b: 0.75\n",
      "Gradient of b: -317.92465\n",
      "----------------------------------------------\n"
     ]
    },
    {
     "name": "stderr",
     "output_type": "stream",
     "text": [
      " 21%|████████████▌                                               | 21/100 [30:45<1:56:31, 88.50s/it]"
     ]
    },
    {
     "name": "stdout",
     "output_type": "stream",
     "text": [
      "----------------------------------------------\n",
      "Loss: 41.789295\n",
      "a: 0.5888889\n",
      "Gradient of a: 561.65015\n",
      "b: 0.79444444\n",
      "Gradient of b: -321.86093\n",
      "----------------------------------------------\n"
     ]
    },
    {
     "name": "stderr",
     "output_type": "stream",
     "text": [
      " 22%|█████████████▏                                              | 22/100 [32:13<1:54:52, 88.36s/it]"
     ]
    },
    {
     "name": "stdout",
     "output_type": "stream",
     "text": [
      "----------------------------------------------\n",
      "Loss: 28.988987\n",
      "a: 0.5888889\n",
      "Gradient of a: 366.03052\n",
      "b: 0.8388889\n",
      "Gradient of b: -244.16534\n",
      "----------------------------------------------\n"
     ]
    },
    {
     "name": "stderr",
     "output_type": "stream",
     "text": [
      " 23%|█████████████▊                                              | 23/100 [33:41<1:53:09, 88.18s/it]"
     ]
    },
    {
     "name": "stdout",
     "output_type": "stream",
     "text": [
      "----------------------------------------------\n",
      "Loss: 20.592218\n",
      "a: 0.5888889\n",
      "Gradient of a: 149.02293\n",
      "b: 0.8833333\n",
      "Gradient of b: -131.39185\n",
      "----------------------------------------------\n"
     ]
    },
    {
     "name": "stderr",
     "output_type": "stream",
     "text": [
      " 24%|██████████████▍                                             | 24/100 [35:10<1:51:54, 88.35s/it]"
     ]
    },
    {
     "name": "stdout",
     "output_type": "stream",
     "text": [
      "----------------------------------------------\n",
      "Loss: 17.340097\n",
      "a: 0.5888889\n",
      "Gradient of a: -64.59151\n",
      "b: 0.92777777\n",
      "Gradient of b: -15.859144\n",
      "----------------------------------------------\n"
     ]
    },
    {
     "name": "stderr",
     "output_type": "stream",
     "text": [
      " 26%|███████████████▌                                            | 26/100 [38:05<1:48:15, 87.78s/it]"
     ]
    },
    {
     "name": "stdout",
     "output_type": "stream",
     "text": [
      "----------------------------------------------\n",
      "Loss: 19.04686\n",
      "a: 0.5888889\n",
      "Gradient of a: -263.78397\n",
      "b: 0.9722222\n",
      "Gradient of b: 90.738525\n",
      "----------------------------------------------\n",
      "----------------------------------------------\n",
      "Loss: 25.215466\n",
      "a: 0.5888889\n",
      "Gradient of a: -443.9005\n",
      "b: 1.0166667\n",
      "Gradient of b: 184.56471\n",
      "----------------------------------------------\n"
     ]
    },
    {
     "name": "stderr",
     "output_type": "stream",
     "text": [
      " 27%|████████████████▏                                           | 27/100 [39:33<1:47:05, 88.02s/it]"
     ]
    },
    {
     "name": "stdout",
     "output_type": "stream",
     "text": [
      "----------------------------------------------\n",
      "Loss: 35.24311\n",
      "a: 0.5888889\n",
      "Gradient of a: -603.04535\n",
      "b: 1.0611111\n",
      "Gradient of b: 264.2887\n",
      "----------------------------------------------\n"
     ]
    },
    {
     "name": "stderr",
     "output_type": "stream",
     "text": [
      " 28%|████████████████▊                                           | 28/100 [41:01<1:45:32, 87.95s/it]"
     ]
    },
    {
     "name": "stdout",
     "output_type": "stream",
     "text": [
      "----------------------------------------------\n",
      "Loss: 48.496162\n",
      "a: 0.5888889\n",
      "Gradient of a: -740.8705\n",
      "b: 1.1055555\n",
      "Gradient of b: 329.75507\n",
      "----------------------------------------------\n"
     ]
    },
    {
     "name": "stderr",
     "output_type": "stream",
     "text": [
      " 29%|█████████████████▍                                          | 29/100 [42:28<1:43:53, 87.80s/it]"
     ]
    },
    {
     "name": "stdout",
     "output_type": "stream",
     "text": [
      "----------------------------------------------\n",
      "Loss: 64.35227\n",
      "a: 0.5888889\n",
      "Gradient of a: -858.17847\n",
      "b: 1.15\n",
      "Gradient of b: 381.57645\n",
      "----------------------------------------------\n"
     ]
    },
    {
     "name": "stderr",
     "output_type": "stream",
     "text": [
      " 30%|██████████████████                                          | 30/100 [43:56<1:42:13, 87.62s/it]"
     ]
    },
    {
     "name": "stdout",
     "output_type": "stream",
     "text": [
      "----------------------------------------------\n",
      "Loss: 95.73398\n",
      "a: 0.6333333\n",
      "Gradient of a: 1061.8859\n",
      "b: 0.75\n",
      "Gradient of b: -393.13327\n",
      "----------------------------------------------\n"
     ]
    },
    {
     "name": "stderr",
     "output_type": "stream",
     "text": [
      " 31%|██████████████████▌                                         | 31/100 [45:24<1:41:11, 87.99s/it]"
     ]
    },
    {
     "name": "stdout",
     "output_type": "stream",
     "text": [
      "----------------------------------------------\n",
      "Loss: 76.12441\n",
      "a: 0.6333333\n",
      "Gradient of a: 975.23224\n",
      "b: 0.79444444\n",
      "Gradient of b: -472.70578\n",
      "----------------------------------------------\n"
     ]
    },
    {
     "name": "stderr",
     "output_type": "stream",
     "text": [
      " 32%|███████████████████▏                                        | 32/100 [46:53<1:40:01, 88.26s/it]"
     ]
    },
    {
     "name": "stdout",
     "output_type": "stream",
     "text": [
      "----------------------------------------------\n",
      "Loss: 55.313824\n",
      "a: 0.6333333\n",
      "Gradient of a: 813.3805\n",
      "b: 0.8388889\n",
      "Gradient of b: -447.49188\n",
      "----------------------------------------------\n"
     ]
    },
    {
     "name": "stderr",
     "output_type": "stream",
     "text": [
      " 33%|███████████████████▊                                        | 33/100 [48:21<1:38:13, 87.96s/it]"
     ]
    },
    {
     "name": "stdout",
     "output_type": "stream",
     "text": [
      "----------------------------------------------\n",
      "Loss: 37.397438\n",
      "a: 0.6333333\n",
      "Gradient of a: 605.1175\n",
      "b: 0.8833333\n",
      "Gradient of b: -351.52078\n",
      "----------------------------------------------\n"
     ]
    },
    {
     "name": "stderr",
     "output_type": "stream",
     "text": [
      " 34%|████████████████████▍                                       | 34/100 [49:50<1:37:05, 88.27s/it]"
     ]
    },
    {
     "name": "stdout",
     "output_type": "stream",
     "text": [
      "----------------------------------------------\n",
      "Loss: 24.4072\n",
      "a: 0.6333333\n",
      "Gradient of a: 382.9141\n",
      "b: 0.92777777\n",
      "Gradient of b: -231.65561\n",
      "----------------------------------------------\n"
     ]
    },
    {
     "name": "stderr",
     "output_type": "stream",
     "text": [
      " 35%|█████████████████████                                       | 35/100 [51:18<1:35:42, 88.34s/it]"
     ]
    },
    {
     "name": "stdout",
     "output_type": "stream",
     "text": [
      "----------------------------------------------\n",
      "Loss: 16.807781\n",
      "a: 0.6333333\n",
      "Gradient of a: 165.16971\n",
      "b: 0.9722222\n",
      "Gradient of b: -111.21038\n",
      "----------------------------------------------\n"
     ]
    },
    {
     "name": "stderr",
     "output_type": "stream",
     "text": [
      " 36%|█████████████████████▌                                      | 36/100 [52:47<1:34:35, 88.67s/it]"
     ]
    },
    {
     "name": "stdout",
     "output_type": "stream",
     "text": [
      "----------------------------------------------\n",
      "Loss: 14.395842\n",
      "a: 0.6333333\n",
      "Gradient of a: -39.411022\n",
      "b: 1.0166667\n",
      "Gradient of b: 0.8811749\n",
      "----------------------------------------------\n"
     ]
    },
    {
     "name": "stderr",
     "output_type": "stream",
     "text": [
      " 37%|██████████████████████▏                                     | 37/100 [54:15<1:32:49, 88.41s/it]"
     ]
    },
    {
     "name": "stdout",
     "output_type": "stream",
     "text": [
      "----------------------------------------------\n",
      "Loss: 16.705967\n",
      "a: 0.6333333\n",
      "Gradient of a: -226.47594\n",
      "b: 1.0611111\n",
      "Gradient of b: 100.876564\n",
      "----------------------------------------------\n"
     ]
    },
    {
     "name": "stderr",
     "output_type": "stream",
     "text": [
      " 38%|██████████████████████▊                                     | 38/100 [55:42<1:30:55, 87.99s/it]"
     ]
    },
    {
     "name": "stdout",
     "output_type": "stream",
     "text": [
      "----------------------------------------------\n",
      "Loss: 23.158443\n",
      "a: 0.6333333\n",
      "Gradient of a: -393.90915\n",
      "b: 1.1055555\n",
      "Gradient of b: 187.1255\n",
      "----------------------------------------------\n"
     ]
    },
    {
     "name": "stderr",
     "output_type": "stream",
     "text": [
      " 39%|███████████████████████▍                                    | 39/100 [57:11<1:29:42, 88.23s/it]"
     ]
    },
    {
     "name": "stdout",
     "output_type": "stream",
     "text": [
      "----------------------------------------------\n",
      "Loss: 33.128323\n",
      "a: 0.6333333\n",
      "Gradient of a: -541.029\n",
      "b: 1.15\n",
      "Gradient of b: 259.15317\n",
      "----------------------------------------------\n"
     ]
    },
    {
     "name": "stderr",
     "output_type": "stream",
     "text": [
      " 40%|████████████████████████                                    | 40/100 [58:42<1:29:07, 89.13s/it]"
     ]
    },
    {
     "name": "stdout",
     "output_type": "stream",
     "text": [
      "----------------------------------------------\n",
      "Loss: 149.84111\n",
      "a: 0.67777777\n",
      "Gradient of a: 1362.0984\n",
      "b: 0.75\n",
      "Gradient of b: -412.96555\n",
      "----------------------------------------------\n"
     ]
    },
    {
     "name": "stderr",
     "output_type": "stream",
     "text": [
      " 41%|███████████████████████▊                                  | 41/100 [1:00:10<1:27:05, 88.57s/it]"
     ]
    },
    {
     "name": "stdout",
     "output_type": "stream",
     "text": [
      "----------------------------------------------\n",
      "Loss: 127.61534\n",
      "a: 0.67777777\n",
      "Gradient of a: 1330.9683\n",
      "b: 0.79444444\n",
      "Gradient of b: -572.45294\n",
      "----------------------------------------------\n"
     ]
    },
    {
     "name": "stderr",
     "output_type": "stream",
     "text": [
      " 42%|████████████████████████▎                                 | 42/100 [1:01:39<1:25:46, 88.74s/it]"
     ]
    },
    {
     "name": "stdout",
     "output_type": "stream",
     "text": [
      "----------------------------------------------\n",
      "Loss: 100.64385\n",
      "a: 0.67777777\n",
      "Gradient of a: 1217.338\n",
      "b: 0.8388889\n",
      "Gradient of b: -620.8031\n",
      "----------------------------------------------\n"
     ]
    },
    {
     "name": "stderr",
     "output_type": "stream",
     "text": [
      " 43%|████████████████████████▉                                 | 43/100 [1:03:08<1:24:22, 88.81s/it]"
     ]
    },
    {
     "name": "stdout",
     "output_type": "stream",
     "text": [
      "----------------------------------------------\n",
      "Loss: 74.00606\n",
      "a: 0.67777777\n",
      "Gradient of a: 1036.0386\n",
      "b: 0.8833333\n",
      "Gradient of b: -564.62225\n",
      "----------------------------------------------\n"
     ]
    },
    {
     "name": "stderr",
     "output_type": "stream",
     "text": [
      " 44%|█████████████████████████▌                                | 44/100 [1:04:38<1:23:18, 89.25s/it]"
     ]
    },
    {
     "name": "stdout",
     "output_type": "stream",
     "text": [
      "----------------------------------------------\n",
      "Loss: 51.22992\n",
      "a: 0.67777777\n",
      "Gradient of a: 820.51117\n",
      "b: 0.92777777\n",
      "Gradient of b: -455.34088\n",
      "----------------------------------------------\n"
     ]
    },
    {
     "name": "stderr",
     "output_type": "stream",
     "text": [
      " 45%|██████████████████████████                                | 45/100 [1:06:09<1:22:18, 89.79s/it]"
     ]
    },
    {
     "name": "stdout",
     "output_type": "stream",
     "text": [
      "----------------------------------------------\n",
      "Loss: 33.759075\n",
      "a: 0.67777777\n",
      "Gradient of a: 596.1712\n",
      "b: 0.9722222\n",
      "Gradient of b: -329.9874\n",
      "----------------------------------------------\n"
     ]
    },
    {
     "name": "stderr",
     "output_type": "stream",
     "text": [
      " 46%|██████████████████████████▋                               | 46/100 [1:07:40<1:21:03, 90.06s/it]"
     ]
    },
    {
     "name": "stdout",
     "output_type": "stream",
     "text": [
      "----------------------------------------------\n",
      "Loss: 21.884718\n",
      "a: 0.67777777\n",
      "Gradient of a: 376.68225\n",
      "b: 1.0166667\n",
      "Gradient of b: -205.23393\n",
      "----------------------------------------------\n"
     ]
    },
    {
     "name": "stderr",
     "output_type": "stream",
     "text": [
      " 47%|███████████████████████████▎                              | 47/100 [1:09:12<1:20:16, 90.87s/it]"
     ]
    },
    {
     "name": "stdout",
     "output_type": "stream",
     "text": [
      "----------------------------------------------\n",
      "Loss: 15.396805\n",
      "a: 0.67777777\n",
      "Gradient of a: 169.25925\n",
      "b: 1.0611111\n",
      "Gradient of b: -88.42199\n",
      "----------------------------------------------\n"
     ]
    },
    {
     "name": "stderr",
     "output_type": "stream",
     "text": [
      " 48%|███████████████████████████▊                              | 48/100 [1:10:45<1:19:04, 91.25s/it]"
     ]
    },
    {
     "name": "stdout",
     "output_type": "stream",
     "text": [
      "----------------------------------------------\n",
      "Loss: 13.852396\n",
      "a: 0.67777777\n",
      "Gradient of a: -22.030846\n",
      "b: 1.1055555\n",
      "Gradient of b: 16.797928\n",
      "----------------------------------------------\n"
     ]
    },
    {
     "name": "stderr",
     "output_type": "stream",
     "text": [
      " 49%|████████████████████████████▍                             | 49/100 [1:12:16<1:17:28, 91.15s/it]"
     ]
    },
    {
     "name": "stdout",
     "output_type": "stream",
     "text": [
      "----------------------------------------------\n",
      "Loss: 16.690557\n",
      "a: 0.67777777\n",
      "Gradient of a: -194.97589\n",
      "b: 1.15\n",
      "Gradient of b: 108.59531\n",
      "----------------------------------------------\n"
     ]
    },
    {
     "name": "stderr",
     "output_type": "stream",
     "text": [
      " 50%|█████████████████████████████                             | 50/100 [1:13:48<1:16:21, 91.62s/it]"
     ]
    },
    {
     "name": "stdout",
     "output_type": "stream",
     "text": [
      "----------------------------------------------\n",
      "Loss: 215.81908\n",
      "a: 0.7222222\n",
      "Gradient of a: 1595.745\n",
      "b: 0.75\n",
      "Gradient of b: -381.43185\n",
      "----------------------------------------------\n"
     ]
    },
    {
     "name": "stderr",
     "output_type": "stream",
     "text": [
      " 51%|█████████████████████████████▌                            | 51/100 [1:15:18<1:14:27, 91.18s/it]"
     ]
    },
    {
     "name": "stdout",
     "output_type": "stream",
     "text": [
      "----------------------------------------------\n",
      "Loss: 193.39334\n",
      "a: 0.7222222\n",
      "Gradient of a: 1616.837\n",
      "b: 0.79444444\n",
      "Gradient of b: -616.3858\n",
      "----------------------------------------------\n"
     ]
    },
    {
     "name": "stderr",
     "output_type": "stream",
     "text": [
      " 52%|██████████████████████████████▏                           | 52/100 [1:16:51<1:13:21, 91.71s/it]"
     ]
    },
    {
     "name": "stdout",
     "output_type": "stream",
     "text": [
      "----------------------------------------------\n",
      "Loss: 162.57993\n",
      "a: 0.7222222\n",
      "Gradient of a: 1557.9855\n",
      "b: 0.8388889\n",
      "Gradient of b: -748.6123\n",
      "----------------------------------------------\n"
     ]
    },
    {
     "name": "stderr",
     "output_type": "stream",
     "text": [
      " 53%|██████████████████████████████▋                           | 53/100 [1:18:22<1:11:39, 91.48s/it]"
     ]
    },
    {
     "name": "stdout",
     "output_type": "stream",
     "text": [
      "----------------------------------------------\n",
      "Loss: 128.77296\n",
      "a: 0.7222222\n",
      "Gradient of a: 1418.767\n",
      "b: 0.8833333\n",
      "Gradient of b: -753.7037\n",
      "----------------------------------------------\n"
     ]
    },
    {
     "name": "stderr",
     "output_type": "stream",
     "text": [
      " 54%|███████████████████████████████▎                          | 54/100 [1:19:55<1:10:18, 91.71s/it]"
     ]
    },
    {
     "name": "stdout",
     "output_type": "stream",
     "text": [
      "----------------------------------------------\n",
      "Loss: 96.856895\n",
      "a: 0.7222222\n",
      "Gradient of a: 1225.5214\n",
      "b: 0.92777777\n",
      "Gradient of b: -672.8319\n",
      "----------------------------------------------\n"
     ]
    },
    {
     "name": "stderr",
     "output_type": "stream",
     "text": [
      " 55%|███████████████████████████████▉                          | 55/100 [1:21:24<1:08:16, 91.04s/it]"
     ]
    },
    {
     "name": "stdout",
     "output_type": "stream",
     "text": [
      "----------------------------------------------\n",
      "Loss: 69.51286\n",
      "a: 0.7222222\n",
      "Gradient of a: 1007.80396\n",
      "b: 0.9722222\n",
      "Gradient of b: -554.1827\n",
      "----------------------------------------------\n"
     ]
    },
    {
     "name": "stderr",
     "output_type": "stream",
     "text": [
      " 56%|████████████████████████████████▍                         | 56/100 [1:22:56<1:06:58, 91.33s/it]"
     ]
    },
    {
     "name": "stdout",
     "output_type": "stream",
     "text": [
      "----------------------------------------------\n",
      "Loss: 47.75408\n",
      "a: 0.7222222\n",
      "Gradient of a: 784.40356\n",
      "b: 1.0166667\n",
      "Gradient of b: -424.4168\n",
      "----------------------------------------------\n"
     ]
    },
    {
     "name": "stderr",
     "output_type": "stream",
     "text": [
      " 57%|█████████████████████████████████                         | 57/100 [1:24:39<1:08:00, 94.88s/it]"
     ]
    },
    {
     "name": "stdout",
     "output_type": "stream",
     "text": [
      "----------------------------------------------\n",
      "Loss: 31.76371\n",
      "a: 0.7222222\n",
      "Gradient of a: 565.84564\n",
      "b: 1.0611111\n",
      "Gradient of b: -296.02106\n",
      "----------------------------------------------\n"
     ]
    },
    {
     "name": "stderr",
     "output_type": "stream",
     "text": [
      " 58%|█████████████████████████████████                        | 58/100 [1:26:32<1:10:09, 100.22s/it]"
     ]
    },
    {
     "name": "stdout",
     "output_type": "stream",
     "text": [
      "----------------------------------------------\n",
      "Loss: 21.325956\n",
      "a: 0.7222222\n",
      "Gradient of a: 358.32333\n",
      "b: 1.1055555\n",
      "Gradient of b: -175.31546\n",
      "----------------------------------------------\n"
     ]
    },
    {
     "name": "stderr",
     "output_type": "stream",
     "text": [
      " 59%|█████████████████████████████████▋                       | 59/100 [1:28:24<1:10:57, 103.84s/it]"
     ]
    },
    {
     "name": "stdout",
     "output_type": "stream",
     "text": [
      "----------------------------------------------\n",
      "Loss: 16.013247\n",
      "a: 0.7222222\n",
      "Gradient of a: 165.62749\n",
      "b: 1.15\n",
      "Gradient of b: -65.82115\n",
      "----------------------------------------------\n"
     ]
    },
    {
     "name": "stderr",
     "output_type": "stream",
     "text": [
      " 61%|██████████████████████████████████▊                      | 61/100 [1:32:09<1:10:20, 108.21s/it]"
     ]
    },
    {
     "name": "stdout",
     "output_type": "stream",
     "text": [
      "----------------------------------------------\n",
      "Loss: 290.71936\n",
      "a: 0.76666665\n",
      "Gradient of a: 1764.3994\n",
      "b: 0.75\n",
      "Gradient of b: -307.92953\n",
      "----------------------------------------------\n",
      "----------------------------------------------\n",
      "Loss: 270.2385\n",
      "a: 0.76666665\n",
      "Gradient of a: 1828.9838\n",
      "b: 0.79444444\n",
      "Gradient of b: -607.0606\n",
      "----------------------------------------------\n"
     ]
    },
    {
     "name": "stderr",
     "output_type": "stream",
     "text": [
      " 62%|███████████████████████████████████▎                     | 62/100 [1:33:59<1:08:53, 108.79s/it]"
     ]
    },
    {
     "name": "stdout",
     "output_type": "stream",
     "text": [
      "----------------------------------------------\n",
      "Loss: 238.01784\n",
      "a: 0.76666665\n",
      "Gradient of a: 1823.7861\n",
      "b: 0.8388889\n",
      "Gradient of b: -822.6991\n",
      "----------------------------------------------\n"
     ]
    },
    {
     "name": "stderr",
     "output_type": "stream",
     "text": [
      " 63%|███████████████████████████████████▉                     | 63/100 [1:35:52<1:07:47, 109.94s/it]"
     ]
    },
    {
     "name": "stdout",
     "output_type": "stream",
     "text": [
      "----------------------------------------------\n",
      "Loss: 199.1405\n",
      "a: 0.76666665\n",
      "Gradient of a: 1735.7252\n",
      "b: 0.8833333\n",
      "Gradient of b: -903.95056\n",
      "----------------------------------------------\n"
     ]
    },
    {
     "name": "stderr",
     "output_type": "stream",
     "text": [
      " 64%|████████████████████████████████████▍                    | 64/100 [1:37:41<1:05:49, 109.70s/it]"
     ]
    },
    {
     "name": "stdout",
     "output_type": "stream",
     "text": [
      "----------------------------------------------\n",
      "Loss: 159.39185\n",
      "a: 0.76666665\n",
      "Gradient of a: 1578.5266\n",
      "b: 0.92777777\n",
      "Gradient of b: -869.80383\n",
      "----------------------------------------------\n"
     ]
    },
    {
     "name": "stderr",
     "output_type": "stream",
     "text": [
      " 65%|█████████████████████████████████████                    | 65/100 [1:39:32<1:04:21, 110.32s/it]"
     ]
    },
    {
     "name": "stdout",
     "output_type": "stream",
     "text": [
      "----------------------------------------------\n",
      "Loss: 122.76404\n",
      "a: 0.76666665\n",
      "Gradient of a: 1380.5885\n",
      "b: 0.9722222\n",
      "Gradient of b: -771.5348\n",
      "----------------------------------------------\n"
     ]
    },
    {
     "name": "stderr",
     "output_type": "stream",
     "text": [
      " 67%|██████████████████████████████████████▏                  | 67/100 [1:43:22<1:01:54, 112.57s/it]"
     ]
    },
    {
     "name": "stdout",
     "output_type": "stream",
     "text": [
      "----------------------------------------------\n",
      "Loss: 91.203125\n",
      "a: 0.76666665\n",
      "Gradient of a: 1164.7998\n",
      "b: 1.0166667\n",
      "Gradient of b: -646.1986\n",
      "----------------------------------------------\n",
      "----------------------------------------------\n",
      "Loss: 65.437355\n",
      "a: 0.76666665\n",
      "Gradient of a: 945.1605\n",
      "b: 1.0611111\n",
      "Gradient of b: -512.95056\n",
      "----------------------------------------------\n"
     ]
    },
    {
     "name": "stderr",
     "output_type": "stream",
     "text": [
      " 68%|████████████████████████████████████████                   | 68/100 [1:45:11<59:33, 111.67s/it]"
     ]
    },
    {
     "name": "stdout",
     "output_type": "stream",
     "text": [
      "----------------------------------------------\n",
      "Loss: 45.57619\n",
      "a: 0.76666665\n",
      "Gradient of a: 730.13324\n",
      "b: 1.1055555\n",
      "Gradient of b: -381.6822\n",
      "----------------------------------------------\n"
     ]
    },
    {
     "name": "stderr",
     "output_type": "stream",
     "text": [
      " 69%|████████████████████████████████████████▋                  | 69/100 [1:47:02<57:38, 111.56s/it]"
     ]
    },
    {
     "name": "stdout",
     "output_type": "stream",
     "text": [
      "----------------------------------------------\n",
      "Loss: 31.396648\n",
      "a: 0.76666665\n",
      "Gradient of a: 525.1478\n",
      "b: 1.15\n",
      "Gradient of b: -257.98672\n",
      "----------------------------------------------\n"
     ]
    },
    {
     "name": "stderr",
     "output_type": "stream",
     "text": [
      " 70%|█████████████████████████████████████████▎                 | 70/100 [1:48:52<55:25, 110.86s/it]"
     ]
    },
    {
     "name": "stdout",
     "output_type": "stream",
     "text": [
      "----------------------------------------------\n",
      "Loss: 371.7998\n",
      "a: 0.8111111\n",
      "Gradient of a: 1875.4779\n",
      "b: 0.75\n",
      "Gradient of b: -206.14778\n",
      "----------------------------------------------\n"
     ]
    },
    {
     "name": "stderr",
     "output_type": "stream",
     "text": [
      " 71%|█████████████████████████████████████████▉                 | 71/100 [1:50:43<53:42, 111.11s/it]"
     ]
    },
    {
     "name": "stdout",
     "output_type": "stream",
     "text": [
      "----------------------------------------------\n",
      "Loss: 354.92633\n",
      "a: 0.8111111\n",
      "Gradient of a: 1970.8558\n",
      "b: 0.79444444\n",
      "Gradient of b: -552.42993\n",
      "----------------------------------------------\n"
     ]
    },
    {
     "name": "stderr",
     "output_type": "stream",
     "text": [
      " 72%|██████████████████████████████████████████▍                | 72/100 [1:52:36<52:07, 111.68s/it]"
     ]
    },
    {
     "name": "stdout",
     "output_type": "stream",
     "text": [
      "----------------------------------------------\n",
      "Loss: 323.5446\n",
      "a: 0.8111111\n",
      "Gradient of a: 2012.2368\n",
      "b: 0.8388889\n",
      "Gradient of b: -842.7403\n",
      "----------------------------------------------\n"
     ]
    },
    {
     "name": "stderr",
     "output_type": "stream",
     "text": [
      " 73%|███████████████████████████████████████████                | 73/100 [1:54:29<50:21, 111.89s/it]"
     ]
    },
    {
     "name": "stdout",
     "output_type": "stream",
     "text": [
      "----------------------------------------------\n",
      "Loss: 281.93768\n",
      "a: 0.8111111\n",
      "Gradient of a: 1977.193\n",
      "b: 0.8833333\n",
      "Gradient of b: -1005.55365\n",
      "----------------------------------------------\n"
     ]
    },
    {
     "name": "stderr",
     "output_type": "stream",
     "text": [
      " 74%|███████████████████████████████████████████▋               | 74/100 [1:56:20<48:27, 111.84s/it]"
     ]
    },
    {
     "name": "stdout",
     "output_type": "stream",
     "text": [
      "----------------------------------------------\n",
      "Loss: 236.18912\n",
      "a: 0.8111111\n",
      "Gradient of a: 1865.5667\n",
      "b: 0.92777777\n",
      "Gradient of b: -1033.5073\n",
      "----------------------------------------------\n"
     ]
    },
    {
     "name": "stderr",
     "output_type": "stream",
     "text": [
      " 75%|████████████████████████████████████████████▎              | 75/100 [1:58:14<46:47, 112.29s/it]"
     ]
    },
    {
     "name": "stdout",
     "output_type": "stream",
     "text": [
      "----------------------------------------------\n",
      "Loss: 191.4227\n",
      "a: 0.8111111\n",
      "Gradient of a: 1698.9943\n",
      "b: 0.9722222\n",
      "Gradient of b: -970.01996\n",
      "----------------------------------------------\n"
     ]
    },
    {
     "name": "stderr",
     "output_type": "stream",
     "text": [
      " 76%|████████████████████████████████████████████▊              | 76/100 [2:00:06<44:51, 112.13s/it]"
     ]
    },
    {
     "name": "stdout",
     "output_type": "stream",
     "text": [
      "----------------------------------------------\n",
      "Loss: 150.64703\n",
      "a: 0.8111111\n",
      "Gradient of a: 1501.8278\n",
      "b: 1.0166667\n",
      "Gradient of b: -859.8414\n",
      "----------------------------------------------\n"
     ]
    },
    {
     "name": "stderr",
     "output_type": "stream",
     "text": [
      " 77%|█████████████████████████████████████████████▍             | 77/100 [2:02:00<43:17, 112.93s/it]"
     ]
    },
    {
     "name": "stdout",
     "output_type": "stream",
     "text": [
      "----------------------------------------------\n",
      "Loss: 115.28265\n",
      "a: 0.8111111\n",
      "Gradient of a: 1291.1539\n",
      "b: 1.0611111\n",
      "Gradient of b: -729.68274\n",
      "----------------------------------------------\n"
     ]
    },
    {
     "name": "stderr",
     "output_type": "stream",
     "text": [
      " 78%|██████████████████████████████████████████████             | 78/100 [2:03:52<41:17, 112.60s/it]"
     ]
    },
    {
     "name": "stdout",
     "output_type": "stream",
     "text": [
      "----------------------------------------------\n",
      "Loss: 85.866974\n",
      "a: 0.8111111\n",
      "Gradient of a: 1077.7211\n",
      "b: 1.1055555\n",
      "Gradient of b: -593.8957\n",
      "----------------------------------------------\n"
     ]
    },
    {
     "name": "stderr",
     "output_type": "stream",
     "text": [
      " 80%|███████████████████████████████████████████████▏           | 80/100 [2:07:33<37:14, 111.73s/it]"
     ]
    },
    {
     "name": "stdout",
     "output_type": "stream",
     "text": [
      "----------------------------------------------\n",
      "Loss: 62.453346\n",
      "a: 0.8111111\n",
      "Gradient of a: 868.5566\n",
      "b: 1.15\n",
      "Gradient of b: -460.62827\n",
      "----------------------------------------------\n",
      "----------------------------------------------\n",
      "Loss: 456.73926\n",
      "a: 0.85555553\n",
      "Gradient of a: 1940.0276\n",
      "b: 0.75\n",
      "Gradient of b: -91.63339\n",
      "----------------------------------------------\n"
     ]
    },
    {
     "name": "stderr",
     "output_type": "stream",
     "text": [
      " 81%|███████████████████████████████████████████████▊           | 81/100 [2:09:25<35:24, 111.81s/it]"
     ]
    },
    {
     "name": "stdout",
     "output_type": "stream",
     "text": [
      "----------------------------------------------\n",
      "Loss: 444.5166\n",
      "a: 0.85555553\n",
      "Gradient of a: 2051.4446\n",
      "b: 0.79444444\n",
      "Gradient of b: -464.34012\n",
      "----------------------------------------------\n"
     ]
    },
    {
     "name": "stderr",
     "output_type": "stream",
     "text": [
      " 82%|████████████████████████████████████████████████▍          | 82/100 [2:11:16<33:27, 111.55s/it]"
     ]
    },
    {
     "name": "stdout",
     "output_type": "stream",
     "text": [
      "----------------------------------------------\n",
      "Loss: 415.8106\n",
      "a: 0.85555553\n",
      "Gradient of a: 2128.3906\n",
      "b: 0.8388889\n",
      "Gradient of b: -814.7855\n",
      "----------------------------------------------\n"
     ]
    },
    {
     "name": "stderr",
     "output_type": "stream",
     "text": [
      " 83%|████████████████████████████████████████████████▉          | 83/100 [2:13:10<31:45, 112.08s/it]"
     ]
    },
    {
     "name": "stdout",
     "output_type": "stream",
     "text": [
      "----------------------------------------------\n",
      "Loss: 373.7481\n",
      "a: 0.85555553\n",
      "Gradient of a: 2141.736\n",
      "b: 0.8833333\n",
      "Gradient of b: -1055.2417\n",
      "----------------------------------------------\n"
     ]
    },
    {
     "name": "stderr",
     "output_type": "stream",
     "text": [
      " 84%|█████████████████████████████████████████████████▌         | 84/100 [2:15:02<29:55, 112.23s/it]"
     ]
    },
    {
     "name": "stdout",
     "output_type": "stream",
     "text": [
      "----------------------------------------------\n",
      "Loss: 324.1342\n",
      "a: 0.85555553\n",
      "Gradient of a: 2079.6152\n",
      "b: 0.92777777\n",
      "Gradient of b: -1154.624\n",
      "----------------------------------------------\n"
     ]
    },
    {
     "name": "stderr",
     "output_type": "stream",
     "text": [
      " 85%|██████████████████████████████████████████████████▏        | 85/100 [2:16:52<27:54, 111.65s/it]"
     ]
    },
    {
     "name": "stdout",
     "output_type": "stream",
     "text": [
      "----------------------------------------------\n",
      "Loss: 272.82587\n",
      "a: 0.85555553\n",
      "Gradient of a: 1952.8984\n",
      "b: 0.9722222\n",
      "Gradient of b: -1139.1322\n",
      "----------------------------------------------\n"
     ]
    },
    {
     "name": "stderr",
     "output_type": "stream",
     "text": [
      " 86%|██████████████████████████████████████████████████▋        | 86/100 [2:18:42<25:52, 110.92s/it]"
     ]
    },
    {
     "name": "stdout",
     "output_type": "stream",
     "text": [
      "----------------------------------------------\n",
      "Loss: 223.88173\n",
      "a: 0.85555553\n",
      "Gradient of a: 1783.8574\n",
      "b: 1.0166667\n",
      "Gradient of b: -1055.3068\n",
      "----------------------------------------------\n"
     ]
    },
    {
     "name": "stderr",
     "output_type": "stream",
     "text": [
      " 87%|███████████████████████████████████████████████████▎       | 87/100 [2:20:32<24:01, 110.88s/it]"
     ]
    },
    {
     "name": "stdout",
     "output_type": "stream",
     "text": [
      "----------------------------------------------\n",
      "Loss: 179.5258\n",
      "a: 0.85555553\n",
      "Gradient of a: 1591.3455\n",
      "b: 1.0611111\n",
      "Gradient of b: -936.90356\n",
      "----------------------------------------------\n"
     ]
    },
    {
     "name": "stderr",
     "output_type": "stream",
     "text": [
      " 88%|███████████████████████████████████████████████████▉       | 88/100 [2:22:22<22:07, 110.61s/it]"
     ]
    },
    {
     "name": "stdout",
     "output_type": "stream",
     "text": [
      "----------------------------------------------\n",
      "Loss: 140.82146\n",
      "a: 0.85555553\n",
      "Gradient of a: 1388.1556\n",
      "b: 1.1055555\n",
      "Gradient of b: -803.3848\n",
      "----------------------------------------------\n"
     ]
    },
    {
     "name": "stderr",
     "output_type": "stream",
     "text": [
      " 90%|█████████████████████████████████████████████████████      | 90/100 [2:26:05<18:29, 110.97s/it]"
     ]
    },
    {
     "name": "stdout",
     "output_type": "stream",
     "text": [
      "----------------------------------------------\n",
      "Loss: 108.16902\n",
      "a: 0.85555553\n",
      "Gradient of a: 1182.8799\n",
      "b: 1.15\n",
      "Gradient of b: -665.997\n",
      "----------------------------------------------\n"
     ]
    },
    {
     "name": "stderr",
     "output_type": "stream",
     "text": [
      " 91%|█████████████████████████████████████████████████████▋     | 91/100 [2:27:57<16:41, 111.29s/it]"
     ]
    },
    {
     "name": "stdout",
     "output_type": "stream",
     "text": [
      "----------------------------------------------\n",
      "Loss: 543.7324\n",
      "a: 0.9\n",
      "Gradient of a: 1969.7917\n",
      "b: 0.75\n",
      "Gradient of b: 21.142094\n",
      "----------------------------------------------\n",
      "----------------------------------------------\n",
      "Loss: 536.5517\n",
      "a: 0.9\n",
      "Gradient of a: 2083.0618\n",
      "b: 0.79444444\n",
      "Gradient of b: -356.75632\n",
      "----------------------------------------------\n"
     ]
    },
    {
     "name": "stderr",
     "output_type": "stream",
     "text": [
      " 92%|██████████████████████████████████████████████████████▎    | 92/100 [2:29:48<14:49, 111.13s/it]"
     ]
    },
    {
     "name": "stdout",
     "output_type": "stream",
     "text": [
      "----------------------------------------------\n",
      "Loss: 511.81274\n",
      "a: 0.9\n",
      "Gradient of a: 2182.3335\n",
      "b: 0.8388889\n",
      "Gradient of b: -749.0948\n",
      "----------------------------------------------\n"
     ]
    },
    {
     "name": "stderr",
     "output_type": "stream",
     "text": [
      " 93%|██████████████████████████████████████████████████████▊    | 93/100 [2:31:39<12:57, 111.08s/it]"
     ]
    },
    {
     "name": "stdout",
     "output_type": "stream",
     "text": [
      "----------------------------------------------\n",
      "Loss: 471.25613\n",
      "a: 0.9\n",
      "Gradient of a: 2235.0068\n",
      "b: 0.8833333\n",
      "Gradient of b: -1056.1198\n",
      "----------------------------------------------\n"
     ]
    },
    {
     "name": "stderr",
     "output_type": "stream",
     "text": [
      " 94%|███████████████████████████████████████████████████████▍   | 94/100 [2:33:32<11:10, 111.82s/it]"
     ]
    },
    {
     "name": "stdout",
     "output_type": "stream",
     "text": [
      "----------------------------------------------\n",
      "Loss: 419.95645\n",
      "a: 0.9\n",
      "Gradient of a: 2220.5195\n",
      "b: 0.92777777\n",
      "Gradient of b: -1228.6124\n",
      "----------------------------------------------\n"
     ]
    },
    {
     "name": "stderr",
     "output_type": "stream",
     "text": [
      " 95%|████████████████████████████████████████████████████████   | 95/100 [2:35:28<09:25, 113.07s/it]"
     ]
    },
    {
     "name": "stdout",
     "output_type": "stream",
     "text": [
      "----------------------------------------------\n",
      "Loss: 363.99316\n",
      "a: 0.9\n",
      "Gradient of a: 2138.1328\n",
      "b: 0.9722222\n",
      "Gradient of b: -1271.0322\n",
      "----------------------------------------------\n"
     ]
    },
    {
     "name": "stderr",
     "output_type": "stream",
     "text": [
      " 96%|████████████████████████████████████████████████████████▋  | 96/100 [2:37:25<07:36, 114.10s/it]"
     ]
    },
    {
     "name": "stdout",
     "output_type": "stream",
     "text": [
      "----------------------------------------------\n",
      "Loss: 308.29587\n",
      "a: 0.9\n",
      "Gradient of a: 2004.2142\n",
      "b: 1.0166667\n",
      "Gradient of b: -1224.0898\n",
      "----------------------------------------------\n"
     ]
    },
    {
     "name": "stderr",
     "output_type": "stream",
     "text": [
      " 98%|█████████████████████████████████████████████████████████▊ | 98/100 [2:41:25<03:55, 117.90s/it]"
     ]
    },
    {
     "name": "stdout",
     "output_type": "stream",
     "text": [
      "----------------------------------------------\n",
      "Loss: 255.93181\n",
      "a: 0.9\n",
      "Gradient of a: 1837.5016\n",
      "b: 1.0611111\n",
      "Gradient of b: -1126.2415\n",
      "----------------------------------------------\n",
      "----------------------------------------------\n",
      "Loss: 208.56876\n",
      "a: 0.9\n",
      "Gradient of a: 1652.2059\n",
      "b: 1.1055555\n",
      "Gradient of b: -1002.1619\n",
      "----------------------------------------------\n"
     ]
    },
    {
     "name": "stderr",
     "output_type": "stream",
     "text": [
      "100%|███████████████████████████████████████████████████████████| 100/100 [2:45:25<00:00, 99.25s/it]"
     ]
    },
    {
     "name": "stdout",
     "output_type": "stream",
     "text": [
      "----------------------------------------------\n",
      "Loss: 167.01904\n",
      "a: 0.9\n",
      "Gradient of a: 1458.2291\n",
      "b: 1.15\n",
      "Gradient of b: -866.5427\n",
      "----------------------------------------------\n"
     ]
    },
    {
     "name": "stderr",
     "output_type": "stream",
     "text": [
      "\n"
     ]
    }
   ],
   "source": [
    "# Set the optimizer\n",
    "optimizer = torch.optim.Adam(ARRG.weight_nexus.parameters(), lr=learning_rate)\n",
    "#optimizer = torch.optim.SGD(macroscopic_trainer.weight_nexus.parameters(), lr=learning_rate)\n",
    "\n",
    "# Generate gradients!\n",
    "a_b_gradients, loss_grid = ARRG.ARRG_flow(optimizer, a_b_init)"
   ]
  },
  {
   "cell_type": "code",
   "execution_count": null,
   "metadata": {},
   "outputs": [
    {
     "data": {
      "image/png": "[encoded data removed]",
      "text/plain": [
       "<Figure size 600x500 with 2 Axes>"
      ]
     },
     "metadata": {},
     "output_type": "display_data"
    }
   ],
   "source": [
    "# Clone a_b_init into numpy array\n",
    "a_b = a_b_init.detach().numpy()\n",
    "\n",
    "import matplotlib.colors as mcolors\n",
    "\n",
    "# Calculate the magnitude of each vector in a_b_gradients\n",
    "magnitudes = np.linalg.norm(a_b_gradients, axis=1)\n",
    "\n",
    "fig, ax = plt.subplots(1,1,figsize=(6,5))\n",
    "\n",
    "# Set the background color based on the magnitude\n",
    "# Normalize the magnitude to use it with the colormap\n",
    "norm = mcolors.Normalize(vmin=np.min(magnitudes), vmax=np.max(magnitudes))\n",
    "cmap = plt.cm.plasma  # Choose a colormap\n",
    "\n",
    "# Assuming magnitudes can be reshaped into a grid directly for simplicity\n",
    "# In a real scenario, you might need to interpolate these values onto a grid\n",
    "grid_shape = (int(np.sqrt(len(magnitudes))), int(np.sqrt(len(magnitudes))))\n",
    "magnitudes_grid = magnitudes.reshape(grid_shape).T\n",
    "\n",
    "# Create a heatmap of the gradient magnitudes\n",
    "#heatmap = ax.imshow(magnitudes_grid, cmap=cmap, norm=norm, origin='lower', extent=(np.min(a_b[:, 0]), np.max(a_b[:, 0]), np.min(a_b[:, 1]), np.max(a_b[:, 1])))\n",
    "heatmap = ax.imshow(loss_grid.reshape(grid_shape).T, cmap=cmap, origin='lower', extent=(np.min(a_b[:, 0]), np.max(a_b[:, 0]), np.min(a_b[:, 1]), np.max(a_b[:, 1])))\n",
    "\n",
    "# Add a colorbar to show the magnitude scale\n",
    "#fig.colorbar(heatmap, ax=ax, label=r'$|\\vec{\\nabla}_\\theta \\mathcal{L}|$')\n",
    "fig.colorbar(heatmap, ax=ax, label=r'Psuedo-$\\chi^2$ loss')\n",
    "\n",
    "# Plot arrows for each point and direction\n",
    "for point, gradient in zip(a_b, a_b_gradients):\n",
    "    ax.arrow(point[0], point[1], -gradient[0]/5e4, -gradient[1]/5e4, head_width=0.005, head_length=0.005, fc='k', ec='k')\n",
    "\n",
    "a_b_target = np.array([0.68, 0.98]) # Monash\n",
    "ax.plot(a_b_target[0], a_b_target[1], 'x', color='green', label = 'Target', ms = 7, linewidth=10)#label = r'$\\mathrm{Target}$')\n",
    "ax.plot(ARRG.params_base[0].clone().detach().numpy(), ARRG.params_base[1].clone().detach().numpy(), 'x', color = 'red', label = 'Base', ms = 7, linewidth=10)#label = r'$\\mathrm{Base}$'\n",
    "\n",
    "ax.set_title(rf'$N_{{\\mathrm{{batch}}}} = {N_events}$')\n",
    "ax.set_xlabel(r'$a$')\n",
    "ax.set_ylabel(r'$b$')\n",
    "\n",
    "fig.tight_layout()\n",
    "fig.savefig('ARRG_flow_psuedo_chi2_loss_fixed_Nbatch_5e3.pdf', dpi=300, bbox_inches='tight', pad_inches=0.1)\n",
    "fig.savefig('ARRG_flow_psuedo_chi2_loss_fixed_Nbatch_5e3.png', dpi=300, bbox_inches='tight', pad_inches=0.1)"
   ]
  },
  {
   "cell_type": "code",
   "execution_count": null,
   "metadata": {},
   "outputs": [],
   "source": [
    "# Save the (a,b) values, their gradients, and the loss grid\n",
    "np.save('flow_data/flow_data_a_b_Nbatch_5e3_fixed.npy', a_b)\n",
    "np.save('flow_data/flow_data_a_b_gradients_Nbatch_5e3_fixed.npy', a_b_gradients)\n",
    "np.save('flow_data/flow_data_losses_Nbatch_5e3_fixed.npy', loss_grid)"
   ]
  },
  {
   "cell_type": "code",
   "execution_count": null,
   "metadata": {},
   "outputs": [
    {
     "name": "stdout",
     "output_type": "stream",
     "text": [
      "(a, b):\n",
      " [0.5  0.75] \n",
      "Gradient:\n",
      " [151.27492   16.163881]\n",
      "\n",
      "(a, b):\n",
      " [0.5        0.79444444] \n",
      "Gradient:\n",
      " [352.39087 -72.32837]\n",
      "\n",
      "(a, b):\n",
      " [0.5       0.8388889] \n",
      "Gradient:\n",
      " [ 554.4364  -174.43488]\n",
      "\n",
      "(a, b):\n",
      " [0.5       0.8833333] \n",
      "Gradient:\n",
      " [ 738.36444 -267.04453]\n",
      "\n",
      "(a, b):\n",
      " [0.5        0.92777777] \n",
      "Gradient:\n",
      " [ 898.6113  -345.07864]\n",
      "\n",
      "(a, b):\n",
      " [0.5       0.9722222] \n",
      "Gradient:\n",
      " [1034.4471  -408.36017]\n",
      "\n",
      "(a, b):\n",
      " [0.5       1.0166667] \n",
      "Gradient:\n",
      " [1146.8608  -457.71826]\n",
      "\n",
      "(a, b):\n",
      " [0.5       1.0611111] \n",
      "Gradient:\n",
      " [1237.8323 -494.5046]\n",
      "\n",
      "(a, b):\n",
      " [0.5       1.1055555] \n",
      "Gradient:\n",
      " [1310.0813  -520.49225]\n",
      "\n",
      "(a, b):\n",
      " [0.5  1.15] \n",
      "Gradient:\n",
      " [1366.8674 -537.653 ]\n",
      "\n",
      "(a, b):\n",
      " [0.54444444 0.75      ] \n",
      "Gradient:\n",
      " [-290.1716   189.15277]\n",
      "\n",
      "(a, b):\n",
      " [0.54444444 0.79444444] \n",
      "Gradient:\n",
      " [-110.33916  133.29648]\n",
      "\n",
      "(a, b):\n",
      " [0.54444444 0.8388889 ] \n",
      "Gradient:\n",
      " [99.00733 30.38978]\n",
      "\n",
      "(a, b):\n",
      " [0.54444444 0.8833333 ] \n",
      "Gradient:\n",
      " [306.89465 -79.38208]\n",
      "\n",
      "(a, b):\n",
      " [0.54444444 0.92777777] \n",
      "Gradient:\n",
      " [ 498.7964  -179.63647]\n",
      "\n",
      "(a, b):\n",
      " [0.54444444 0.9722222 ] \n",
      "Gradient:\n",
      " [ 669.6831  -266.25436]\n",
      "\n",
      "(a, b):\n",
      " [0.54444444 1.0166667 ] \n",
      "Gradient:\n",
      " [ 818.06915 -338.40555]\n",
      "\n",
      "(a, b):\n",
      " [0.54444444 1.0611111 ] \n",
      "Gradient:\n",
      " [ 944.14685 -396.36307]\n",
      "\n",
      "(a, b):\n",
      " [0.54444444 1.1055555 ] \n",
      "Gradient:\n",
      " [1049.2098  -441.10406]\n",
      "\n",
      "(a, b):\n",
      " [0.54444444 1.15      ] \n",
      "Gradient:\n",
      " [1135.4071  -474.05344]\n",
      "\n",
      "(a, b):\n",
      " [0.5888889 0.75     ] \n",
      "Gradient:\n",
      " [-700.58813  317.92465]\n",
      "\n",
      "(a, b):\n",
      " [0.5888889  0.79444444] \n",
      "Gradient:\n",
      " [-561.65015  321.86093]\n",
      "\n",
      "(a, b):\n",
      " [0.5888889 0.8388889] \n",
      "Gradient:\n",
      " [-366.03052  244.16534]\n",
      "\n",
      "(a, b):\n",
      " [0.5888889 0.8833333] \n",
      "Gradient:\n",
      " [-149.02293  131.39185]\n",
      "\n",
      "(a, b):\n",
      " [0.5888889  0.92777777] \n",
      "Gradient:\n",
      " [64.59151  15.859144]\n",
      "\n",
      "(a, b):\n",
      " [0.5888889 0.9722222] \n",
      "Gradient:\n",
      " [263.78397  -90.738525]\n",
      "\n",
      "(a, b):\n",
      " [0.5888889 1.0166667] \n",
      "Gradient:\n",
      " [ 443.9005  -184.56471]\n",
      "\n",
      "(a, b):\n",
      " [0.5888889 1.0611111] \n",
      "Gradient:\n",
      " [ 603.04535 -264.2887 ]\n",
      "\n",
      "(a, b):\n",
      " [0.5888889 1.1055555] \n",
      "Gradient:\n",
      " [ 740.8705  -329.75507]\n",
      "\n",
      "(a, b):\n",
      " [0.5888889 1.15     ] \n",
      "Gradient:\n",
      " [ 858.17847 -381.57645]\n",
      "\n",
      "(a, b):\n",
      " [0.6333333 0.75     ] \n",
      "Gradient:\n",
      " [-1061.8859    393.13327]\n",
      "\n",
      "(a, b):\n",
      " [0.6333333  0.79444444] \n",
      "Gradient:\n",
      " [-975.23224  472.70578]\n",
      "\n",
      "(a, b):\n",
      " [0.6333333 0.8388889] \n",
      "Gradient:\n",
      " [-813.3805   447.49188]\n",
      "\n",
      "(a, b):\n",
      " [0.6333333 0.8833333] \n",
      "Gradient:\n",
      " [-605.1175   351.52078]\n",
      "\n",
      "(a, b):\n",
      " [0.6333333  0.92777777] \n",
      "Gradient:\n",
      " [-382.9141   231.65561]\n",
      "\n",
      "(a, b):\n",
      " [0.6333333 0.9722222] \n",
      "Gradient:\n",
      " [-165.16971  111.21038]\n",
      "\n",
      "(a, b):\n",
      " [0.6333333 1.0166667] \n",
      "Gradient:\n",
      " [39.411022  -0.8811749]\n",
      "\n",
      "(a, b):\n",
      " [0.6333333 1.0611111] \n",
      "Gradient:\n",
      " [ 226.47594  -100.876564]\n",
      "\n",
      "(a, b):\n",
      " [0.6333333 1.1055555] \n",
      "Gradient:\n",
      " [ 393.90915 -187.1255 ]\n",
      "\n",
      "(a, b):\n",
      " [0.6333333 1.15     ] \n",
      "Gradient:\n",
      " [ 541.029   -259.15317]\n",
      "\n",
      "(a, b):\n",
      " [0.67777777 0.75      ] \n",
      "Gradient:\n",
      " [-1362.0984    412.96555]\n",
      "\n",
      "(a, b):\n",
      " [0.67777777 0.79444444] \n",
      "Gradient:\n",
      " [-1330.9683    572.45294]\n",
      "\n",
      "(a, b):\n",
      " [0.67777777 0.8388889 ] \n",
      "Gradient:\n",
      " [-1217.338    620.8031]\n",
      "\n",
      "(a, b):\n",
      " [0.67777777 0.8833333 ] \n",
      "Gradient:\n",
      " [-1036.0386    564.62225]\n",
      "\n",
      "(a, b):\n",
      " [0.67777777 0.92777777] \n",
      "Gradient:\n",
      " [-820.51117  455.34088]\n",
      "\n",
      "(a, b):\n",
      " [0.67777777 0.9722222 ] \n",
      "Gradient:\n",
      " [-596.1712  329.9874]\n",
      "\n",
      "(a, b):\n",
      " [0.67777777 1.0166667 ] \n",
      "Gradient:\n",
      " [-376.68225  205.23393]\n",
      "\n",
      "(a, b):\n",
      " [0.67777777 1.0611111 ] \n",
      "Gradient:\n",
      " [-169.25925   88.42199]\n",
      "\n",
      "(a, b):\n",
      " [0.67777777 1.1055555 ] \n",
      "Gradient:\n",
      " [ 22.030846 -16.797928]\n",
      "\n",
      "(a, b):\n",
      " [0.67777777 1.15      ] \n",
      "Gradient:\n",
      " [ 194.97589 -108.59531]\n",
      "\n",
      "(a, b):\n",
      " [0.7222222 0.75     ] \n",
      "Gradient:\n",
      " [-1595.745     381.43185]\n",
      "\n",
      "(a, b):\n",
      " [0.7222222  0.79444444] \n",
      "Gradient:\n",
      " [-1616.837    616.3858]\n",
      "\n",
      "(a, b):\n",
      " [0.7222222 0.8388889] \n",
      "Gradient:\n",
      " [-1557.9855   748.6123]\n",
      "\n",
      "(a, b):\n",
      " [0.7222222 0.8833333] \n",
      "Gradient:\n",
      " [-1418.767    753.7037]\n",
      "\n",
      "(a, b):\n",
      " [0.7222222  0.92777777] \n",
      "Gradient:\n",
      " [-1225.5214   672.8319]\n",
      "\n",
      "(a, b):\n",
      " [0.7222222 0.9722222] \n",
      "Gradient:\n",
      " [-1007.80396   554.1827 ]\n",
      "\n",
      "(a, b):\n",
      " [0.7222222 1.0166667] \n",
      "Gradient:\n",
      " [-784.40356  424.4168 ]\n",
      "\n",
      "(a, b):\n",
      " [0.7222222 1.0611111] \n",
      "Gradient:\n",
      " [-565.84564  296.02106]\n",
      "\n",
      "(a, b):\n",
      " [0.7222222 1.1055555] \n",
      "Gradient:\n",
      " [-358.32333  175.31546]\n",
      "\n",
      "(a, b):\n",
      " [0.7222222 1.15     ] \n",
      "Gradient:\n",
      " [-165.62749   65.82115]\n",
      "\n",
      "(a, b):\n",
      " [0.76666665 0.75      ] \n",
      "Gradient:\n",
      " [-1764.3994    307.92953]\n",
      "\n",
      "(a, b):\n",
      " [0.76666665 0.79444444] \n",
      "Gradient:\n",
      " [-1828.9838   607.0606]\n",
      "\n",
      "(a, b):\n",
      " [0.76666665 0.8388889 ] \n",
      "Gradient:\n",
      " [-1823.7861   822.6991]\n",
      "\n",
      "(a, b):\n",
      " [0.76666665 0.8833333 ] \n",
      "Gradient:\n",
      " [-1735.7252    903.95056]\n",
      "\n",
      "(a, b):\n",
      " [0.76666665 0.92777777] \n",
      "Gradient:\n",
      " [-1578.5266    869.80383]\n",
      "\n",
      "(a, b):\n",
      " [0.76666665 0.9722222 ] \n",
      "Gradient:\n",
      " [-1380.5885   771.5348]\n",
      "\n",
      "(a, b):\n",
      " [0.76666665 1.0166667 ] \n",
      "Gradient:\n",
      " [-1164.7998   646.1986]\n",
      "\n",
      "(a, b):\n",
      " [0.76666665 1.0611111 ] \n",
      "Gradient:\n",
      " [-945.1605   512.95056]\n",
      "\n",
      "(a, b):\n",
      " [0.76666665 1.1055555 ] \n",
      "Gradient:\n",
      " [-730.13324  381.6822 ]\n",
      "\n",
      "(a, b):\n",
      " [0.76666665 1.15      ] \n",
      "Gradient:\n",
      " [-525.1478   257.98672]\n",
      "\n",
      "(a, b):\n",
      " [0.8111111 0.75     ] \n",
      "Gradient:\n",
      " [-1875.4779    206.14778]\n",
      "\n",
      "(a, b):\n",
      " [0.8111111  0.79444444] \n",
      "Gradient:\n",
      " [-1970.8558    552.42993]\n",
      "\n",
      "(a, b):\n",
      " [0.8111111 0.8388889] \n",
      "Gradient:\n",
      " [-2012.2368   842.7403]\n",
      "\n",
      "(a, b):\n",
      " [0.8111111 0.8833333] \n",
      "Gradient:\n",
      " [-1977.193    1005.55365]\n",
      "\n",
      "(a, b):\n",
      " [0.8111111  0.92777777] \n",
      "Gradient:\n",
      " [-1865.5667  1033.5073]\n",
      "\n",
      "(a, b):\n",
      " [0.8111111 0.9722222] \n",
      "Gradient:\n",
      " [-1698.9943    970.01996]\n",
      "\n",
      "(a, b):\n",
      " [0.8111111 1.0166667] \n",
      "Gradient:\n",
      " [-1501.8278   859.8414]\n",
      "\n",
      "(a, b):\n",
      " [0.8111111 1.0611111] \n",
      "Gradient:\n",
      " [-1291.1539    729.68274]\n",
      "\n",
      "(a, b):\n",
      " [0.8111111 1.1055555] \n",
      "Gradient:\n",
      " [-1077.7211   593.8957]\n",
      "\n",
      "(a, b):\n",
      " [0.8111111 1.15     ] \n",
      "Gradient:\n",
      " [-868.5566   460.62827]\n",
      "\n",
      "(a, b):\n",
      " [0.85555553 0.75      ] \n",
      "Gradient:\n",
      " [-1940.0276     91.63339]\n",
      "\n",
      "(a, b):\n",
      " [0.85555553 0.79444444] \n",
      "Gradient:\n",
      " [-2051.4446    464.34012]\n",
      "\n",
      "(a, b):\n",
      " [0.85555553 0.8388889 ] \n",
      "Gradient:\n",
      " [-2128.3906   814.7855]\n",
      "\n",
      "(a, b):\n",
      " [0.85555553 0.8833333 ] \n",
      "Gradient:\n",
      " [-2141.736   1055.2417]\n",
      "\n",
      "(a, b):\n",
      " [0.85555553 0.92777777] \n",
      "Gradient:\n",
      " [-2079.6152  1154.624 ]\n",
      "\n",
      "(a, b):\n",
      " [0.85555553 0.9722222 ] \n",
      "Gradient:\n",
      " [-1952.8984  1139.1322]\n",
      "\n",
      "(a, b):\n",
      " [0.85555553 1.0166667 ] \n",
      "Gradient:\n",
      " [-1783.8574  1055.3068]\n",
      "\n",
      "(a, b):\n",
      " [0.85555553 1.0611111 ] \n",
      "Gradient:\n",
      " [-1591.3455    936.90356]\n",
      "\n",
      "(a, b):\n",
      " [0.85555553 1.1055555 ] \n",
      "Gradient:\n",
      " [-1388.1556   803.3848]\n",
      "\n",
      "(a, b):\n",
      " [0.85555553 1.15      ] \n",
      "Gradient:\n",
      " [-1182.8799   665.997 ]\n",
      "\n",
      "(a, b):\n",
      " [0.9  0.75] \n",
      "Gradient:\n",
      " [-1969.7917     -21.142094]\n",
      "\n",
      "(a, b):\n",
      " [0.9        0.79444444] \n",
      "Gradient:\n",
      " [-2083.0618    356.75632]\n",
      "\n",
      "(a, b):\n",
      " [0.9       0.8388889] \n",
      "Gradient:\n",
      " [-2182.3335   749.0948]\n",
      "\n",
      "(a, b):\n",
      " [0.9       0.8833333] \n",
      "Gradient:\n",
      " [-2235.0068  1056.1198]\n",
      "\n",
      "(a, b):\n",
      " [0.9        0.92777777] \n",
      "Gradient:\n",
      " [-2220.5195  1228.6124]\n",
      "\n",
      "(a, b):\n",
      " [0.9       0.9722222] \n",
      "Gradient:\n",
      " [-2138.1328  1271.0322]\n",
      "\n",
      "(a, b):\n",
      " [0.9       1.0166667] \n",
      "Gradient:\n",
      " [-2004.2142  1224.0898]\n",
      "\n",
      "(a, b):\n",
      " [0.9       1.0611111] \n",
      "Gradient:\n",
      " [-1837.5016  1126.2415]\n",
      "\n",
      "(a, b):\n",
      " [0.9       1.1055555] \n",
      "Gradient:\n",
      " [-1652.2059  1002.1619]\n",
      "\n",
      "(a, b):\n",
      " [0.9  1.15] \n",
      "Gradient:\n",
      " [-1458.2291   866.5427]\n",
      "\n"
     ]
    }
   ],
   "source": [
    "for point, gradient in zip(a_b, a_b_gradients):\n",
    "    print(f'(a, b):\\n {point} \\nGradient:\\n {-gradient}\\n')"
   ]
  },
  {
   "cell_type": "code",
   "execution_count": null,
   "metadata": {},
   "outputs": [],
   "source": [
    "# Loading previous flow map\n",
    "a_b = np.load('flow_data/flow_data_a_b_Nbatch_5e3.npy')\n",
    "a_b_gradients = np.load('flow_data/flow_data_a_b_gradients_Nbatch_5e3.npy')\n",
    "loss_grid = np.load('flow_data/flow_data_losses_Nbatch_5e3.npy')"
   ]
  },
  {
   "cell_type": "code",
   "execution_count": null,
   "metadata": {},
   "outputs": [
    {
     "data": {
      "image/png": "[encoded data removed]",
      "text/plain": [
       "<Figure size 600x500 with 2 Axes>"
      ]
     },
     "metadata": {},
     "output_type": "display_data"
    }
   ],
   "source": [
    "import matplotlib.colors as mcolors\n",
    "\n",
    "# Calculate the magnitude of each vector in a_b_gradients\n",
    "magnitudes = np.linalg.norm(a_b_gradients, axis=1)\n",
    "\n",
    "fig, ax = plt.subplots(1,1,figsize=(6,5))\n",
    "\n",
    "# Set the background color based on the magnitude\n",
    "# Normalize the magnitude to use it with the colormap\n",
    "norm = mcolors.Normalize(vmin=np.min(magnitudes), vmax=np.max(magnitudes))\n",
    "cmap = plt.cm.plasma  # Choose a colormap\n",
    "\n",
    "# Assuming magnitudes can be reshaped into a grid directly for simplicity\n",
    "# In a real scenario, you might need to interpolate these values onto a grid\n",
    "grid_shape = (int(np.sqrt(len(magnitudes))), int(np.sqrt(len(magnitudes))))\n",
    "magnitudes_grid = magnitudes.reshape(grid_shape).T\n",
    "\n",
    "# Create a heatmap of the gradient magnitudes\n",
    "#heatmap = ax.imshow(magnitudes_grid, cmap=cmap, norm=norm, origin='lower', extent=(np.min(a_b[:, 0]), np.max(a_b[:, 0]), np.min(a_b[:, 1]), np.max(a_b[:, 1])))\n",
    "heatmap = ax.imshow(loss_grid.reshape(grid_shape).T, cmap=cmap, origin='lower', extent=(np.min(a_b[:, 0]), np.max(a_b[:, 0]), np.min(a_b[:, 1]), np.max(a_b[:, 1])))\n",
    "\n",
    "# Add a colorbar to show the magnitude scale\n",
    "#fig.colorbar(heatmap, ax=ax, label=r'$|\\vec{\\nabla}_\\theta \\mathcal{L}|$')\n",
    "fig.colorbar(heatmap, ax=ax, label=r'Psuedo-$\\chi^2$ loss')\n",
    "\n",
    "# Plot arrows for each point and direction\n",
    "for point, gradient in zip(a_b, a_b_gradients):\n",
    "    ax.arrow(point[0], point[1], -gradient[0]/5e4, -gradient[1]/5e4, head_width=0.005, head_length=0.005, fc='k', ec='k')\n",
    "\n",
    "a_b_target = np.array([0.68, 0.98]) # Monash\n",
    "ax.plot(a_b_target[0], a_b_target[1], 'x', color='green', label = 'Target', ms = 7, linewidth=10)#label = r'$\\mathrm{Target}$')\n",
    "ax.plot(ARRG.params_base[0].clone().detach().numpy(), ARRG.params_base[1].clone().detach().numpy(), 'x', color = 'red', label = 'Base', ms = 7, linewidth=10)#label = r'$\\mathrm{Base}$'\n",
    "\n",
    "ax.set_title(rf'$N_{{\\mathrm{{batch}}}} = {N_events}$')\n",
    "ax.set_xlabel(r'$a$')\n",
    "ax.set_ylabel(r'$b$')\n",
    "\n",
    "fig.tight_layout()\n",
    "fig.savefig('flow_figs/ARRG_flow_psuedo_chi2_loss_fixed_Nbatch_5e3.pdf', dpi=300, bbox_inches='tight', pad_inches=0.1)\n",
    "fig.savefig('flow_figs/ARRG_flow_psuedo_chi2_loss_fixed_Nbatch_5e3.png', dpi=300, bbox_inches='tight', pad_inches=0.1)"
   ]
  },
  {
   "cell_type": "code",
   "execution_count": null,
   "metadata": {},
   "outputs": [],
   "source": []
  }
 ],
 "metadata": {
  "kernelspec": {
   "display_name": "Python 3",
   "language": "python",
   "name": "python3"
  },
  "language_info": {
   "codemirror_mode": {
    "name": "ipython",
    "version": 3
   },
   "file_extension": ".py",
   "mimetype": "text/x-python",
   "name": "python",
   "nbconvert_exporter": "python",
   "pygments_lexer": "ipython3",
   "version": "3.11.9"
  }
 },
 "nbformat": 4,
 "nbformat_minor": 2
}
