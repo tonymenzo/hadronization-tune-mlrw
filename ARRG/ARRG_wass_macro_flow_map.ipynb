{
 "cells": [
  {
   "cell_type": "code",
   "execution_count": 1,
   "metadata": {},
   "outputs": [],
   "source": [
    "from ARRG_macro import *"
   ]
  },
  {
   "cell_type": "code",
   "execution_count": 2,
   "metadata": {},
   "outputs": [],
   "source": [
    "class ObservableDataset(Dataset):\n",
    "\t\"\"\"\n",
    "\tConverts observable dataset into PyTorch syntax.\n",
    "\t\"\"\"\n",
    "\tdef __init__(self, data):\n",
    "\t\tself.data = data\n",
    "\n",
    "\tdef __len__(self):\n",
    "\t\treturn self.data.shape[0]\n",
    "\n",
    "\tdef __getitem__(self, idx):\n",
    "\t\tsample = self.data[idx]\n",
    "\t\treturn sample"
   ]
  },
  {
   "cell_type": "code",
   "execution_count": 3,
   "metadata": {},
   "outputs": [],
   "source": [
    "def a_b_grid(x_range, y_range, n_points):\n",
    "    \"\"\"\n",
    "    Creates a grid of values within a two-dimensional range and returns it in a flattened tensor.\n",
    "\n",
    "    Parameters:\n",
    "    x_range (tuple): A tuple of (min, max) for the x-axis range.\n",
    "    y_range (tuple): A tuple of (min, max) for the y-axis range.\n",
    "    steps (int): --- The number of steps/points in each dimension.\n",
    "\n",
    "    Returns:\n",
    "    torch.Tensor: A flattened tensor containing all the grid points.\n",
    "    \"\"\"\n",
    "    # Create linearly spaced points for each range\n",
    "    x_points = torch.linspace(x_range[0], x_range[1], n_points)\n",
    "    y_points = torch.linspace(y_range[0], y_range[1], n_points)\n",
    "\n",
    "    # Create a meshgrid from the x and y points\n",
    "    x_grid, y_grid = torch.meshgrid(x_points, y_points, indexing='ij')\n",
    "\n",
    "    # Flatten the grid and stack the coordinates\n",
    "    grid_flattened = torch.stack([x_grid.flatten(), y_grid.flatten()], dim=1)\n",
    "\n",
    "    return grid_flattened"
   ]
  },
  {
   "cell_type": "code",
   "execution_count": 4,
   "metadata": {},
   "outputs": [
    {
     "name": "stdout",
     "output_type": "stream",
     "text": [
      "Experimental observable shape: (100000, 75, 5)\n",
      "Simulated observable shape: (100000, 75, 5)\n",
      "Simulated z shape: (50000, 105, 101)\n",
      "Simulated fPrel shape: (50000, 105, 100)\n",
      "Experimental multiplicity shape: torch.Size([25000])\n",
      "Simulated multiplicity shape: torch.Size([25000])\n",
      "Simulated z shape: torch.Size([25000, 105, 101])\n",
      "Simulated fPrel shape: torch.Size([25000, 105, 100])\n"
     ]
    }
   ],
   "source": [
    "# Paths to the datasets on perlmutter\n",
    "exp_hadrons_PATH = '../pgun_qqbar_finalTwo_hadrons_a_0.68_b_0.98_sigma_0.335_N_1e5.npy'\n",
    "#exp_accept_reject_PATH = '/global/cfs/projectdirs/m3246/hadronization-tune-mlrw-data/pgun_qqbar_accept_reject_z_a_0.68_b_0.98_sigma_0.335_N_1e6.npy'\n",
    "sim_hadrons_PATH = '../pgun_qqbar_finalTwo_hadrons_a_0.72_b_0.88_sigma_0.335_N_1e5.npy'\n",
    "sim_accept_reject_PATH = '../pgun_qqbar_finalTwo_accept_reject_z_a_0.72_b_0.88_sigma_0.335_N_50e3.npy'\n",
    "sim_fPrel_PATH = '../pgun_qqbar_finalTwo_fPrel_a_0.72_b_0.88_sigma_0.335_N_50e3.npy'\n",
    "\n",
    "# Load the arrays\n",
    "exp_hadrons       = np.load(exp_hadrons_PATH, mmap_mode=\"r\")\n",
    "sim_hadrons       = np.load(sim_hadrons_PATH, mmap_mode=\"r\")\n",
    "sim_accept_reject = np.load(sim_accept_reject_PATH, mmap_mode = \"r\")\n",
    "sim_fPrel         = np.load(sim_fPrel_PATH, mmap_mode = \"r\")\n",
    "\n",
    "# Print dataset shapes\n",
    "print('Experimental observable shape:', exp_hadrons.shape)\n",
    "print('Simulated observable shape:', sim_hadrons.shape)\n",
    "print('Simulated z shape:', sim_accept_reject.shape)\n",
    "print('Simulated fPrel shape:', sim_fPrel.shape)\n",
    "\n",
    "# Restrict to a subset of the full dataset (for memory)\n",
    "N_events = int(25000)\n",
    "\n",
    "# Extract the hadron multiplicity\n",
    "exp_mult = np.array([len(exp_hadrons[i,:][np.abs(exp_hadrons[i,:,0]) > 0.0]) for i in range(N_events)])\n",
    "sim_mult = np.array([len(sim_hadrons[i,:][np.abs(sim_hadrons[i,:,0]) > 0.0]) for i in range(N_events)])\n",
    "\n",
    "# Convert into torch objects\n",
    "sim_mult          = torch.Tensor(sim_mult[0:N_events].copy())\n",
    "sim_accept_reject = torch.Tensor(sim_accept_reject[0:N_events].copy())\n",
    "sim_fPrel            = torch.Tensor(sim_fPrel[0:N_events].copy())\n",
    "exp_mult          = torch.Tensor(exp_mult[0:N_events].copy())\n",
    "\n",
    "# Check the accepted z-values, if z == 1 reduce it by epsilon (a very nasty bug to find).\n",
    "# The a-coefficient when computing the likelihood has a term propotional to log(1-z). If \n",
    "# z = 1, this term diverges to -inf and completely destroys the backward pass.\n",
    "epsilon = 1e-5\n",
    "sim_accept_reject[sim_accept_reject == 1] = 1 - epsilon\n",
    "\n",
    "# Print dataset shapes\n",
    "print('Experimental multiplicity shape:', exp_mult.shape)\n",
    "print('Simulated multiplicity shape:', sim_mult.shape)\n",
    "print('Simulated z shape:', sim_accept_reject.shape)\n",
    "print('Simulated fPrel shape:', sim_fPrel.shape)\n",
    "\n",
    "# Prepare data for DataLoader\n",
    "sim_mult          = ObservableDataset(sim_mult)\n",
    "sim_accept_reject = ObservableDataset(sim_accept_reject)\n",
    "sim_mT            = ObservableDataset(sim_fPrel)\n",
    "exp_mult          = ObservableDataset(exp_mult)"
   ]
  },
  {
   "cell_type": "code",
   "execution_count": 5,
   "metadata": {},
   "outputs": [],
   "source": [
    "# Set batch size -- set it eqaul to the number of events, we only want one 'batch'\n",
    "batch_size = N_events\n",
    "\n",
    "# Initialize data-loaders\n",
    "sim_observable_dataloader    = DataLoader(sim_mult,          batch_size = batch_size, shuffle = False)\n",
    "sim_accept_reject_dataloader = DataLoader(sim_accept_reject, batch_size = batch_size, shuffle = False)\n",
    "sim_fPrel_dataloader         = DataLoader(sim_fPrel,         batch_size = batch_size, shuffle = False)\n",
    "exp_observable_dataloader    = DataLoader(exp_mult,          batch_size = batch_size, shuffle = False)"
   ]
  },
  {
   "cell_type": "code",
   "execution_count": 6,
   "metadata": {},
   "outputs": [
    {
     "name": "stdout",
     "output_type": "stream",
     "text": [
      "Size of sim_observable_dataloader: 25000\n",
      "Size of sim_accept_reject_dataloader: 25000\n",
      "Size of sim_fPrel_dataloader: 25000\n",
      "Size of exp_observable_dataloader: 25000\n"
     ]
    }
   ],
   "source": [
    "print('Size of sim_observable_dataloader:', len(sim_observable_dataloader.dataset))\n",
    "print('Size of sim_accept_reject_dataloader:', len(sim_accept_reject_dataloader.dataset))\n",
    "print('Size of sim_fPrel_dataloader:', len(sim_fPrel_dataloader.dataset))\n",
    "print('Size of exp_observable_dataloader:', len(exp_observable_dataloader.dataset))"
   ]
  },
  {
   "cell_type": "code",
   "execution_count": 7,
   "metadata": {},
   "outputs": [
    {
     "name": "stdout",
     "output_type": "stream",
     "text": [
      "Each event has been zero-padded to a length of 105\n",
      "Each emission has been zero-padded to a length of 101\n"
     ]
    }
   ],
   "source": [
    "# Training hyperparameters\n",
    "over_sample_factor = 10.0\n",
    "# The flow map will be dependent on the learning rate\n",
    "learning_rate = 0.01\n",
    "fixed_binning = True\n",
    "# Length of event buffer\n",
    "dim_multiplicity  = sim_accept_reject_dataloader.dataset.data.shape[1]\n",
    "dim_accept_reject = sim_accept_reject_dataloader.dataset.data.shape[2]\n",
    "\n",
    "print('Each event has been zero-padded to a length of', dim_multiplicity)\n",
    "print('Each emission has been zero-padded to a length of', dim_accept_reject)\n",
    "\n",
    "# Define base parameters of simulated data (a, b)\n",
    "params_base = torch.tensor([0.72, 0.88])\n",
    "# Define a grid of initial parameters\n",
    "a_range  = (0.6-0.1, 0.80+0.1)#(0.6, 0.80)\n",
    "b_range  = (0.85-0.1, 1.05+0.1)#(0.85, 1.05)\n",
    "n_points = 10\n",
    "a_b_init = a_b_grid(a_range, b_range, n_points)"
   ]
  },
  {
   "cell_type": "code",
   "execution_count": 8,
   "metadata": {},
   "outputs": [
    {
     "name": "stdout",
     "output_type": "stream",
     "text": [
      "Initial a_b grid shape: torch.Size([100, 2])\n"
     ]
    }
   ],
   "source": [
    "print('Initial a_b grid shape:', a_b_init.shape)"
   ]
  },
  {
   "cell_type": "code",
   "execution_count": 9,
   "metadata": {},
   "outputs": [],
   "source": [
    "# Irrelevant parameters for the flow plot that must be initialized for the ARRG class\n",
    "epochs = 1\n",
    "learning_rate = 0.01\n",
    "\n",
    "# Create an ARRG instance\n",
    "ARRG = ARRG(epochs = epochs, dim_multiplicity = dim_multiplicity, dim_accept_reject = dim_accept_reject, over_sample_factor = over_sample_factor,\n",
    "\t\t\tparams_base = params_base, sim_observable_dataloader = sim_observable_dataloader, sim_z_dataloader = sim_accept_reject_dataloader, \n",
    "\t\t\tsim_fPrel_dataloader = sim_fPrel_dataloader, exp_observable_dataloader = exp_observable_dataloader, print_details = False, \n",
    "\t\t\tresults_dir = None, params_init = None, fixed_binning = True)"
   ]
  },
  {
   "cell_type": "code",
   "execution_count": 10,
   "metadata": {},
   "outputs": [
    {
     "name": "stderr",
     "output_type": "stream",
     "text": [
      "  0%|                                                                       | 0/100 [00:00<?, ?it/s]/global/homes/t/tmenzo/.conda/envs/py311/lib/python3.11/site-packages/ot/lp/solver_1d.py:41: UserWarning: The use of `x.T` on tensors of dimension other than 2 to reverse their shape is deprecated and it will throw an error in a future release. Consider `x.mT` to transpose batches of matrices or `x.permute(*torch.arange(x.ndim - 1, -1, -1))` to reverse the dimensions of a tensor. (Triggered internally at /opt/conda/conda-bld/pytorch_1711403238793/work/aten/src/ATen/native/TensorShape.cpp:3637.)\n",
      "  cws = cws.T.contiguous()\n",
      "  1%|▋                                                              | 1/100 [00:09<14:51,  9.01s/it]"
     ]
    },
    {
     "name": "stdout",
     "output_type": "stream",
     "text": [
      "----------------------------------------------\n",
      "Loss: 0.15681323\n",
      "a: 0.5\n",
      "Gradient of a: -1.0700622\n",
      "b: 0.75\n",
      "Gradient of b: 0.1184234\n",
      "----------------------------------------------\n"
     ]
    },
    {
     "name": "stderr",
     "output_type": "stream",
     "text": [
      "  2%|█▎                                                             | 2/100 [00:18<15:06,  9.25s/it]"
     ]
    },
    {
     "name": "stdout",
     "output_type": "stream",
     "text": [
      "----------------------------------------------\n",
      "Loss: 0.23321538\n",
      "a: 0.5\n",
      "Gradient of a: -5.2025394\n",
      "b: 0.79444444\n",
      "Gradient of b: 3.5916457\n",
      "----------------------------------------------\n"
     ]
    },
    {
     "name": "stderr",
     "output_type": "stream",
     "text": [
      "  3%|█▉                                                             | 3/100 [00:27<14:28,  8.95s/it]"
     ]
    },
    {
     "name": "stdout",
     "output_type": "stream",
     "text": [
      "----------------------------------------------\n",
      "Loss: 0.41332334\n",
      "a: 0.5\n",
      "Gradient of a: -6.0885854\n",
      "b: 0.8388889\n",
      "Gradient of b: 4.3287983\n",
      "----------------------------------------------\n"
     ]
    },
    {
     "name": "stderr",
     "output_type": "stream",
     "text": [
      "  4%|██▌                                                            | 4/100 [00:35<14:13,  8.89s/it]"
     ]
    },
    {
     "name": "stdout",
     "output_type": "stream",
     "text": [
      "----------------------------------------------\n",
      "Loss: 0.6036132\n",
      "a: 0.5\n",
      "Gradient of a: -6.0501304\n",
      "b: 0.8833333\n",
      "Gradient of b: 4.1795316\n",
      "----------------------------------------------\n"
     ]
    },
    {
     "name": "stderr",
     "output_type": "stream",
     "text": [
      "  5%|███▏                                                           | 5/100 [00:44<13:47,  8.71s/it]"
     ]
    },
    {
     "name": "stdout",
     "output_type": "stream",
     "text": [
      "----------------------------------------------\n",
      "Loss: 0.78481364\n",
      "a: 0.5\n",
      "Gradient of a: -5.949193\n",
      "b: 0.92777777\n",
      "Gradient of b: 3.978076\n",
      "----------------------------------------------\n"
     ]
    },
    {
     "name": "stderr",
     "output_type": "stream",
     "text": [
      "  6%|███▊                                                           | 6/100 [00:53<13:51,  8.84s/it]"
     ]
    },
    {
     "name": "stdout",
     "output_type": "stream",
     "text": [
      "----------------------------------------------\n",
      "Loss: 0.9574963\n",
      "a: 0.5\n",
      "Gradient of a: -5.8527\n",
      "b: 0.9722222\n",
      "Gradient of b: 3.7954981\n",
      "----------------------------------------------\n"
     ]
    },
    {
     "name": "stderr",
     "output_type": "stream",
     "text": [
      "  7%|████▍                                                          | 7/100 [01:02<13:38,  8.80s/it]"
     ]
    },
    {
     "name": "stdout",
     "output_type": "stream",
     "text": [
      "----------------------------------------------\n",
      "Loss: 1.1224111\n",
      "a: 0.5\n",
      "Gradient of a: -5.7590246\n",
      "b: 1.0166667\n",
      "Gradient of b: 3.6278172\n",
      "----------------------------------------------\n"
     ]
    },
    {
     "name": "stderr",
     "output_type": "stream",
     "text": [
      "  8%|█████                                                          | 8/100 [01:11<13:41,  8.93s/it]"
     ]
    },
    {
     "name": "stdout",
     "output_type": "stream",
     "text": [
      "----------------------------------------------\n",
      "Loss: 1.2801459\n",
      "a: 0.5\n",
      "Gradient of a: -5.6668706\n",
      "b: 1.0611111\n",
      "Gradient of b: 3.472031\n",
      "----------------------------------------------\n"
     ]
    },
    {
     "name": "stderr",
     "output_type": "stream",
     "text": [
      "  9%|█████▋                                                         | 9/100 [01:20<13:34,  8.95s/it]"
     ]
    },
    {
     "name": "stdout",
     "output_type": "stream",
     "text": [
      "----------------------------------------------\n",
      "Loss: 1.4311744\n",
      "a: 0.5\n",
      "Gradient of a: -5.5751286\n",
      "b: 1.1055555\n",
      "Gradient of b: 3.3256288\n",
      "----------------------------------------------\n"
     ]
    },
    {
     "name": "stderr",
     "output_type": "stream",
     "text": [
      " 10%|██████▏                                                       | 10/100 [01:28<13:18,  8.87s/it]"
     ]
    },
    {
     "name": "stdout",
     "output_type": "stream",
     "text": [
      "----------------------------------------------\n",
      "Loss: 1.5758673\n",
      "a: 0.5\n",
      "Gradient of a: -5.483011\n",
      "b: 1.15\n",
      "Gradient of b: 3.1866455\n",
      "----------------------------------------------\n"
     ]
    },
    {
     "name": "stderr",
     "output_type": "stream",
     "text": [
      " 11%|██████▊                                                       | 11/100 [01:37<13:11,  8.90s/it]"
     ]
    },
    {
     "name": "stdout",
     "output_type": "stream",
     "text": [
      "----------------------------------------------\n",
      "Loss: 0.29955137\n",
      "a: 0.54444444\n",
      "Gradient of a: 5.7271895\n",
      "b: 0.75\n",
      "Gradient of b: -4.830513\n",
      "----------------------------------------------\n"
     ]
    },
    {
     "name": "stderr",
     "output_type": "stream",
     "text": [
      " 12%|███████▍                                                      | 12/100 [01:46<12:55,  8.81s/it]"
     ]
    },
    {
     "name": "stdout",
     "output_type": "stream",
     "text": [
      "----------------------------------------------\n",
      "Loss: 0.1260405\n",
      "a: 0.54444444\n",
      "Gradient of a: 0.43366683\n",
      "b: 0.79444444\n",
      "Gradient of b: -1.0367775\n",
      "----------------------------------------------\n"
     ]
    },
    {
     "name": "stderr",
     "output_type": "stream",
     "text": [
      " 13%|████████                                                      | 13/100 [01:55<12:49,  8.84s/it]"
     ]
    },
    {
     "name": "stdout",
     "output_type": "stream",
     "text": [
      "----------------------------------------------\n",
      "Loss: 0.16458336\n",
      "a: 0.54444444\n",
      "Gradient of a: -4.436203\n",
      "b: 0.8388889\n",
      "Gradient of b: 2.938326\n",
      "----------------------------------------------\n"
     ]
    },
    {
     "name": "stderr",
     "output_type": "stream",
     "text": [
      " 14%|████████▋                                                     | 14/100 [02:04<12:42,  8.86s/it]"
     ]
    },
    {
     "name": "stdout",
     "output_type": "stream",
     "text": [
      "----------------------------------------------\n",
      "Loss: 0.3363981\n",
      "a: 0.54444444\n",
      "Gradient of a: -5.9576473\n",
      "b: 0.8833333\n",
      "Gradient of b: 4.253618\n",
      "----------------------------------------------\n"
     ]
    },
    {
     "name": "stderr",
     "output_type": "stream",
     "text": [
      " 15%|█████████▎                                                    | 15/100 [02:13<12:36,  8.90s/it]"
     ]
    },
    {
     "name": "stdout",
     "output_type": "stream",
     "text": [
      "----------------------------------------------\n",
      "Loss: 0.52181697\n",
      "a: 0.54444444\n",
      "Gradient of a: -5.8686466\n",
      "b: 0.92777777\n",
      "Gradient of b: 4.0574794\n",
      "----------------------------------------------\n"
     ]
    },
    {
     "name": "stderr",
     "output_type": "stream",
     "text": [
      " 16%|█████████▉                                                    | 16/100 [02:22<12:25,  8.87s/it]"
     ]
    },
    {
     "name": "stdout",
     "output_type": "stream",
     "text": [
      "----------------------------------------------\n",
      "Loss: 0.69868094\n",
      "a: 0.54444444\n",
      "Gradient of a: -5.7929068\n",
      "b: 0.9722222\n",
      "Gradient of b: 3.8876662\n",
      "----------------------------------------------\n"
     ]
    },
    {
     "name": "stderr",
     "output_type": "stream",
     "text": [
      " 17%|██████████▌                                                   | 17/100 [02:31<12:21,  8.94s/it]"
     ]
    },
    {
     "name": "stdout",
     "output_type": "stream",
     "text": [
      "----------------------------------------------\n",
      "Loss: 0.86763036\n",
      "a: 0.54444444\n",
      "Gradient of a: -5.704898\n",
      "b: 1.0166667\n",
      "Gradient of b: 3.7174082\n",
      "----------------------------------------------\n"
     ]
    },
    {
     "name": "stderr",
     "output_type": "stream",
     "text": [
      " 18%|███████████▏                                                  | 18/100 [02:39<12:04,  8.84s/it]"
     ]
    },
    {
     "name": "stdout",
     "output_type": "stream",
     "text": [
      "----------------------------------------------\n",
      "Loss: 1.0293117\n",
      "a: 0.54444444\n",
      "Gradient of a: -5.619262\n",
      "b: 1.0611111\n",
      "Gradient of b: 3.5602942\n",
      "----------------------------------------------\n"
     ]
    },
    {
     "name": "stderr",
     "output_type": "stream",
     "text": [
      " 19%|███████████▊                                                  | 19/100 [02:48<11:56,  8.84s/it]"
     ]
    },
    {
     "name": "stdout",
     "output_type": "stream",
     "text": [
      "----------------------------------------------\n",
      "Loss: 1.1842544\n",
      "a: 0.54444444\n",
      "Gradient of a: -5.5347686\n",
      "b: 1.1055555\n",
      "Gradient of b: 3.4136608\n",
      "----------------------------------------------\n"
     ]
    },
    {
     "name": "stderr",
     "output_type": "stream",
     "text": [
      " 20%|████████████▍                                                 | 20/100 [02:57<11:57,  8.97s/it]"
     ]
    },
    {
     "name": "stdout",
     "output_type": "stream",
     "text": [
      "----------------------------------------------\n",
      "Loss: 1.3328717\n",
      "a: 0.54444444\n",
      "Gradient of a: -5.450342\n",
      "b: 1.15\n",
      "Gradient of b: 3.275217\n",
      "----------------------------------------------\n"
     ]
    },
    {
     "name": "stderr",
     "output_type": "stream",
     "text": [
      " 21%|█████████████                                                 | 21/100 [03:07<11:51,  9.01s/it]"
     ]
    },
    {
     "name": "stdout",
     "output_type": "stream",
     "text": [
      "----------------------------------------------\n",
      "Loss: 0.56776905\n",
      "a: 0.5888889\n",
      "Gradient of a: 6.2760234\n",
      "b: 0.75\n",
      "Gradient of b: -5.26194\n",
      "----------------------------------------------\n"
     ]
    },
    {
     "name": "stderr",
     "output_type": "stream",
     "text": [
      " 22%|█████████████▋                                                | 22/100 [03:15<11:34,  8.90s/it]"
     ]
    },
    {
     "name": "stdout",
     "output_type": "stream",
     "text": [
      "----------------------------------------------\n",
      "Loss: 0.3424195\n",
      "a: 0.5888889\n",
      "Gradient of a: 6.026915\n",
      "b: 0.79444444\n",
      "Gradient of b: -4.8726435\n",
      "----------------------------------------------\n"
     ]
    },
    {
     "name": "stderr",
     "output_type": "stream",
     "text": [
      " 23%|██████████████▎                                               | 23/100 [03:24<11:21,  8.85s/it]"
     ]
    },
    {
     "name": "stdout",
     "output_type": "stream",
     "text": [
      "----------------------------------------------\n",
      "Loss: 0.13977191\n",
      "a: 0.5888889\n",
      "Gradient of a: 5.4163203\n",
      "b: 0.8388889\n",
      "Gradient of b: -4.3526745\n",
      "----------------------------------------------\n"
     ]
    },
    {
     "name": "stderr",
     "output_type": "stream",
     "text": [
      " 24%|██████████████▉                                               | 24/100 [03:33<11:11,  8.84s/it]"
     ]
    },
    {
     "name": "stdout",
     "output_type": "stream",
     "text": [
      "----------------------------------------------\n",
      "Loss: 0.10085615\n",
      "a: 0.5888889\n",
      "Gradient of a: -3.4487643\n",
      "b: 0.8833333\n",
      "Gradient of b: 2.1289086\n",
      "----------------------------------------------\n"
     ]
    },
    {
     "name": "stderr",
     "output_type": "stream",
     "text": [
      " 25%|███████████████▌                                              | 25/100 [03:42<11:04,  8.86s/it]"
     ]
    },
    {
     "name": "stdout",
     "output_type": "stream",
     "text": [
      "----------------------------------------------\n",
      "Loss: 0.26191044\n",
      "a: 0.5888889\n",
      "Gradient of a: -5.7943196\n",
      "b: 0.92777777\n",
      "Gradient of b: 4.1594777\n",
      "----------------------------------------------\n"
     ]
    },
    {
     "name": "stderr",
     "output_type": "stream",
     "text": [
      " 26%|████████████████                                              | 26/100 [03:51<11:05,  8.99s/it]"
     ]
    },
    {
     "name": "stdout",
     "output_type": "stream",
     "text": [
      "----------------------------------------------\n",
      "Loss: 0.44266766\n",
      "a: 0.5888889\n",
      "Gradient of a: -5.726805\n",
      "b: 0.9722222\n",
      "Gradient of b: 3.9751086\n",
      "----------------------------------------------\n"
     ]
    },
    {
     "name": "stderr",
     "output_type": "stream",
     "text": [
      " 27%|████████████████▋                                             | 27/100 [04:00<11:03,  9.08s/it]"
     ]
    },
    {
     "name": "stdout",
     "output_type": "stream",
     "text": [
      "----------------------------------------------\n",
      "Loss: 0.61541575\n",
      "a: 0.5888889\n",
      "Gradient of a: -5.643504\n",
      "b: 1.0166667\n",
      "Gradient of b: 3.8013468\n",
      "----------------------------------------------\n"
     ]
    },
    {
     "name": "stderr",
     "output_type": "stream",
     "text": [
      " 28%|█████████████████▎                                            | 28/100 [04:09<10:56,  9.12s/it]"
     ]
    },
    {
     "name": "stdout",
     "output_type": "stream",
     "text": [
      "----------------------------------------------\n",
      "Loss: 0.7807784\n",
      "a: 0.5888889\n",
      "Gradient of a: -5.5634775\n",
      "b: 1.0611111\n",
      "Gradient of b: 3.642061\n",
      "----------------------------------------------\n"
     ]
    },
    {
     "name": "stderr",
     "output_type": "stream",
     "text": [
      " 29%|█████████████████▉                                            | 29/100 [04:18<10:43,  9.06s/it]"
     ]
    },
    {
     "name": "stdout",
     "output_type": "stream",
     "text": [
      "----------------------------------------------\n",
      "Loss: 0.9393288\n",
      "a: 0.5888889\n",
      "Gradient of a: -5.485436\n",
      "b: 1.1055555\n",
      "Gradient of b: 3.4944642\n",
      "----------------------------------------------\n"
     ]
    },
    {
     "name": "stderr",
     "output_type": "stream",
     "text": [
      " 30%|██████████████████▌                                           | 30/100 [04:27<10:31,  9.02s/it]"
     ]
    },
    {
     "name": "stdout",
     "output_type": "stream",
     "text": [
      "----------------------------------------------\n",
      "Loss: 1.091533\n",
      "a: 0.5888889\n",
      "Gradient of a: -4.7976522\n",
      "b: 1.15\n",
      "Gradient of b: 3.0151668\n",
      "----------------------------------------------\n"
     ]
    },
    {
     "name": "stderr",
     "output_type": "stream",
     "text": [
      " 31%|███████████████████▏                                          | 31/100 [04:36<10:18,  8.96s/it]"
     ]
    },
    {
     "name": "stdout",
     "output_type": "stream",
     "text": [
      "----------------------------------------------\n",
      "Loss: 0.84517187\n",
      "a: 0.6333333\n",
      "Gradient of a: 6.2069225\n",
      "b: 0.75\n",
      "Gradient of b: -5.4109187\n",
      "----------------------------------------------\n"
     ]
    },
    {
     "name": "stderr",
     "output_type": "stream",
     "text": [
      " 32%|███████████████████▊                                          | 32/100 [04:45<10:12,  9.01s/it]"
     ]
    },
    {
     "name": "stdout",
     "output_type": "stream",
     "text": [
      "----------------------------------------------\n",
      "Loss: 0.61276793\n",
      "a: 0.6333333\n",
      "Gradient of a: 6.0661\n",
      "b: 0.79444444\n",
      "Gradient of b: -5.0554037\n",
      "----------------------------------------------\n"
     ]
    },
    {
     "name": "stderr",
     "output_type": "stream",
     "text": [
      " 33%|████████████████████▍                                         | 33/100 [04:54<09:54,  8.88s/it]"
     ]
    },
    {
     "name": "stdout",
     "output_type": "stream",
     "text": [
      "----------------------------------------------\n",
      "Loss: 0.39506856\n",
      "a: 0.6333333\n",
      "Gradient of a: 5.943708\n",
      "b: 0.8388889\n",
      "Gradient of b: -4.749095\n",
      "----------------------------------------------\n"
     ]
    },
    {
     "name": "stderr",
     "output_type": "stream",
     "text": [
      " 34%|█████████████████████                                         | 34/100 [05:03<09:51,  8.96s/it]"
     ]
    },
    {
     "name": "stdout",
     "output_type": "stream",
     "text": [
      "----------------------------------------------\n",
      "Loss: 0.19050798\n",
      "a: 0.6333333\n",
      "Gradient of a: 5.728596\n",
      "b: 0.8833333\n",
      "Gradient of b: -4.437413\n",
      "----------------------------------------------\n"
     ]
    },
    {
     "name": "stderr",
     "output_type": "stream",
     "text": [
      " 35%|█████████████████████▋                                        | 35/100 [05:12<09:42,  8.96s/it]"
     ]
    },
    {
     "name": "stdout",
     "output_type": "stream",
     "text": [
      "----------------------------------------------\n",
      "Loss: 0.04578664\n",
      "a: 0.6333333\n",
      "Gradient of a: -1.0400621\n",
      "b: 0.92777777\n",
      "Gradient of b: 0.2098493\n",
      "----------------------------------------------\n"
     ]
    },
    {
     "name": "stderr",
     "output_type": "stream",
     "text": [
      " 36%|██████████████████████▎                                       | 36/100 [05:21<09:34,  8.98s/it]"
     ]
    },
    {
     "name": "stdout",
     "output_type": "stream",
     "text": [
      "----------------------------------------------\n",
      "Loss: 0.19044021\n",
      "a: 0.6333333\n",
      "Gradient of a: -5.5648785\n",
      "b: 0.9722222\n",
      "Gradient of b: 3.9841275\n",
      "----------------------------------------------\n"
     ]
    },
    {
     "name": "stderr",
     "output_type": "stream",
     "text": [
      " 37%|██████████████████████▉                                       | 37/100 [05:30<09:23,  8.94s/it]"
     ]
    },
    {
     "name": "stdout",
     "output_type": "stream",
     "text": [
      "----------------------------------------------\n",
      "Loss: 0.36648852\n",
      "a: 0.6333333\n",
      "Gradient of a: -5.5587816\n",
      "b: 1.0166667\n",
      "Gradient of b: 3.8755512\n",
      "----------------------------------------------\n"
     ]
    },
    {
     "name": "stderr",
     "output_type": "stream",
     "text": [
      " 38%|███████████████████████▌                                      | 38/100 [05:39<09:12,  8.91s/it]"
     ]
    },
    {
     "name": "stdout",
     "output_type": "stream",
     "text": [
      "----------------------------------------------\n",
      "Loss: 0.5351168\n",
      "a: 0.6333333\n",
      "Gradient of a: -5.4832516\n",
      "b: 1.0611111\n",
      "Gradient of b: 3.714117\n",
      "----------------------------------------------\n"
     ]
    },
    {
     "name": "stderr",
     "output_type": "stream",
     "text": [
      " 39%|████████████████████████▏                                     | 39/100 [05:47<08:59,  8.85s/it]"
     ]
    },
    {
     "name": "stdout",
     "output_type": "stream",
     "text": [
      "----------------------------------------------\n",
      "Loss: 0.69682354\n",
      "a: 0.6333333\n",
      "Gradient of a: -5.409634\n",
      "b: 1.1055555\n",
      "Gradient of b: 3.5646107\n",
      "----------------------------------------------\n"
     ]
    },
    {
     "name": "stderr",
     "output_type": "stream",
     "text": [
      " 40%|████████████████████████▊                                     | 40/100 [05:56<08:47,  8.80s/it]"
     ]
    },
    {
     "name": "stdout",
     "output_type": "stream",
     "text": [
      "----------------------------------------------\n",
      "Loss: 0.8522799\n",
      "a: 0.6333333\n",
      "Gradient of a: -5.356739\n",
      "b: 1.15\n",
      "Gradient of b: 3.4299288\n",
      "----------------------------------------------\n"
     ]
    },
    {
     "name": "stderr",
     "output_type": "stream",
     "text": [
      " 41%|█████████████████████████▍                                    | 41/100 [06:05<08:43,  8.87s/it]"
     ]
    },
    {
     "name": "stdout",
     "output_type": "stream",
     "text": [
      "----------------------------------------------\n",
      "Loss: 1.1194766\n",
      "a: 0.67777777\n",
      "Gradient of a: 6.136474\n",
      "b: 0.75\n",
      "Gradient of b: -5.5629697\n",
      "----------------------------------------------\n"
     ]
    },
    {
     "name": "stderr",
     "output_type": "stream",
     "text": [
      " 42%|██████████████████████████                                    | 42/100 [06:14<08:27,  8.75s/it]"
     ]
    },
    {
     "name": "stdout",
     "output_type": "stream",
     "text": [
      "----------------------------------------------\n",
      "Loss: 0.88074815\n",
      "a: 0.67777777\n",
      "Gradient of a: 5.9928217\n",
      "b: 0.79444444\n",
      "Gradient of b: -5.18793\n",
      "----------------------------------------------\n"
     ]
    },
    {
     "name": "stderr",
     "output_type": "stream",
     "text": [
      " 43%|██████████████████████████▋                                   | 43/100 [06:23<08:25,  8.86s/it]"
     ]
    },
    {
     "name": "stdout",
     "output_type": "stream",
     "text": [
      "----------------------------------------------\n",
      "Loss: 0.6575632\n",
      "a: 0.67777777\n",
      "Gradient of a: 5.8683114\n",
      "b: 0.8388889\n",
      "Gradient of b: -4.8639216\n",
      "----------------------------------------------\n"
     ]
    },
    {
     "name": "stderr",
     "output_type": "stream",
     "text": [
      " 44%|███████████████████████████▎                                  | 44/100 [06:32<08:16,  8.87s/it]"
     ]
    },
    {
     "name": "stdout",
     "output_type": "stream",
     "text": [
      "----------------------------------------------\n",
      "Loss: 0.44769007\n",
      "a: 0.67777777\n",
      "Gradient of a: 5.7604423\n",
      "b: 0.8833333\n",
      "Gradient of b: -4.587667\n",
      "----------------------------------------------\n"
     ]
    },
    {
     "name": "stderr",
     "output_type": "stream",
     "text": [
      " 45%|███████████████████████████▉                                  | 45/100 [06:41<08:16,  9.03s/it]"
     ]
    },
    {
     "name": "stdout",
     "output_type": "stream",
     "text": [
      "----------------------------------------------\n",
      "Loss: 0.24919298\n",
      "a: 0.67777777\n",
      "Gradient of a: 5.665704\n",
      "b: 0.92777777\n",
      "Gradient of b: -4.350346\n",
      "----------------------------------------------\n"
     ]
    },
    {
     "name": "stderr",
     "output_type": "stream",
     "text": [
      " 46%|████████████████████████████▌                                 | 46/100 [06:50<08:05,  9.00s/it]"
     ]
    },
    {
     "name": "stdout",
     "output_type": "stream",
     "text": [
      "----------------------------------------------\n",
      "Loss: 0.061091524\n",
      "a: 0.67777777\n",
      "Gradient of a: 4.2416854\n",
      "b: 0.9722222\n",
      "Gradient of b: -3.1732163\n",
      "----------------------------------------------\n"
     ]
    },
    {
     "name": "stderr",
     "output_type": "stream",
     "text": [
      " 47%|█████████████████████████████▏                                | 47/100 [06:59<07:56,  8.99s/it]"
     ]
    },
    {
     "name": "stdout",
     "output_type": "stream",
     "text": [
      "----------------------------------------------\n",
      "Loss: 0.12127693\n",
      "a: 0.67777777\n",
      "Gradient of a: -5.4166765\n",
      "b: 1.0166667\n",
      "Gradient of b: 3.8848438\n",
      "----------------------------------------------\n"
     ]
    },
    {
     "name": "stderr",
     "output_type": "stream",
     "text": [
      " 48%|█████████████████████████████▊                                | 48/100 [07:08<07:49,  9.02s/it]"
     ]
    },
    {
     "name": "stdout",
     "output_type": "stream",
     "text": [
      "----------------------------------------------\n",
      "Loss: 0.2928428\n",
      "a: 0.67777777\n",
      "Gradient of a: -5.418056\n",
      "b: 1.0611111\n",
      "Gradient of b: 3.7867455\n",
      "----------------------------------------------\n"
     ]
    },
    {
     "name": "stderr",
     "output_type": "stream",
     "text": [
      " 49%|██████████████████████████████▍                               | 49/100 [07:17<07:39,  9.00s/it]"
     ]
    },
    {
     "name": "stdout",
     "output_type": "stream",
     "text": [
      "----------------------------------------------\n",
      "Loss: 0.4577146\n",
      "a: 0.67777777\n",
      "Gradient of a: -5.349036\n",
      "b: 1.1055555\n",
      "Gradient of b: 3.6346424\n",
      "----------------------------------------------\n"
     ]
    },
    {
     "name": "stderr",
     "output_type": "stream",
     "text": [
      " 50%|███████████████████████████████                               | 50/100 [07:26<07:30,  9.02s/it]"
     ]
    },
    {
     "name": "stdout",
     "output_type": "stream",
     "text": [
      "----------------------------------------------\n",
      "Loss: 0.6160927\n",
      "a: 0.67777777\n",
      "Gradient of a: -5.2824073\n",
      "b: 1.15\n",
      "Gradient of b: 3.4941401\n",
      "----------------------------------------------\n"
     ]
    },
    {
     "name": "stderr",
     "output_type": "stream",
     "text": [
      " 51%|███████████████████████████████▌                              | 51/100 [07:35<07:18,  8.95s/it]"
     ]
    },
    {
     "name": "stdout",
     "output_type": "stream",
     "text": [
      "----------------------------------------------\n",
      "Loss: 1.3906113\n",
      "a: 0.7222222\n",
      "Gradient of a: 6.0643497\n",
      "b: 0.75\n",
      "Gradient of b: -5.717182\n",
      "----------------------------------------------\n"
     ]
    },
    {
     "name": "stderr",
     "output_type": "stream",
     "text": [
      " 52%|████████████████████████████████▏                             | 52/100 [07:44<07:10,  8.97s/it]"
     ]
    },
    {
     "name": "stdout",
     "output_type": "stream",
     "text": [
      "----------------------------------------------\n",
      "Loss: 1.1454492\n",
      "a: 0.7222222\n",
      "Gradient of a: 5.918563\n",
      "b: 0.79444444\n",
      "Gradient of b: -5.3230343\n",
      "----------------------------------------------\n"
     ]
    },
    {
     "name": "stderr",
     "output_type": "stream",
     "text": [
      " 53%|████████████████████████████████▊                             | 53/100 [07:53<06:59,  8.92s/it]"
     ]
    },
    {
     "name": "stdout",
     "output_type": "stream",
     "text": [
      "----------------------------------------------\n",
      "Loss: 0.9166819\n",
      "a: 0.7222222\n",
      "Gradient of a: 5.7918515\n",
      "b: 0.8388889\n",
      "Gradient of b: -4.9804516\n",
      "----------------------------------------------\n"
     ]
    },
    {
     "name": "stderr",
     "output_type": "stream",
     "text": [
      " 54%|█████████████████████████████████▍                            | 54/100 [08:02<06:52,  8.97s/it]"
     ]
    },
    {
     "name": "stdout",
     "output_type": "stream",
     "text": [
      "----------------------------------------------\n",
      "Loss: 0.70198566\n",
      "a: 0.7222222\n",
      "Gradient of a: 5.682687\n",
      "b: 0.8833333\n",
      "Gradient of b: -4.688717\n",
      "----------------------------------------------\n"
     ]
    },
    {
     "name": "stderr",
     "output_type": "stream",
     "text": [
      " 55%|██████████████████████████████████                            | 55/100 [08:11<06:45,  9.02s/it]"
     ]
    },
    {
     "name": "stdout",
     "output_type": "stream",
     "text": [
      "----------------------------------------------\n",
      "Loss: 0.49927822\n",
      "a: 0.7222222\n",
      "Gradient of a: 5.587759\n",
      "b: 0.92777777\n",
      "Gradient of b: -4.439448\n",
      "----------------------------------------------\n"
     ]
    },
    {
     "name": "stderr",
     "output_type": "stream",
     "text": [
      " 56%|██████████████████████████████████▋                           | 56/100 [08:20<06:36,  9.01s/it]"
     ]
    },
    {
     "name": "stdout",
     "output_type": "stream",
     "text": [
      "----------------------------------------------\n",
      "Loss: 0.3068812\n",
      "a: 0.7222222\n",
      "Gradient of a: 5.503706\n",
      "b: 0.9722222\n",
      "Gradient of b: -4.223074\n",
      "----------------------------------------------\n"
     ]
    },
    {
     "name": "stderr",
     "output_type": "stream",
     "text": [
      " 57%|███████████████████████████████████▎                          | 57/100 [08:29<06:28,  9.04s/it]"
     ]
    },
    {
     "name": "stdout",
     "output_type": "stream",
     "text": [
      "----------------------------------------------\n",
      "Loss: 0.12369649\n",
      "a: 0.7222222\n",
      "Gradient of a: 5.423694\n",
      "b: 1.0166667\n",
      "Gradient of b: -4.026844\n",
      "----------------------------------------------\n"
     ]
    },
    {
     "name": "stderr",
     "output_type": "stream",
     "text": [
      " 58%|███████████████████████████████████▉                          | 58/100 [08:38<06:16,  8.96s/it]"
     ]
    },
    {
     "name": "stdout",
     "output_type": "stream",
     "text": [
      "----------------------------------------------\n",
      "Loss: 0.07264261\n",
      "a: 0.7222222\n",
      "Gradient of a: -2.5899928\n",
      "b: 1.0611111\n",
      "Gradient of b: 2.2715375\n",
      "----------------------------------------------\n"
     ]
    },
    {
     "name": "stderr",
     "output_type": "stream",
     "text": [
      " 59%|████████████████████████████████████▌                         | 59/100 [08:47<06:09,  9.01s/it]"
     ]
    },
    {
     "name": "stdout",
     "output_type": "stream",
     "text": [
      "----------------------------------------------\n",
      "Loss: 0.22144672\n",
      "a: 0.7222222\n",
      "Gradient of a: -5.282103\n",
      "b: 1.1055555\n",
      "Gradient of b: 3.7002144\n",
      "----------------------------------------------\n"
     ]
    },
    {
     "name": "stderr",
     "output_type": "stream",
     "text": [
      " 60%|█████████████████████████████████████▏                        | 60/100 [08:56<06:00,  9.00s/it]"
     ]
    },
    {
     "name": "stdout",
     "output_type": "stream",
     "text": [
      "----------------------------------------------\n",
      "Loss: 0.38268763\n",
      "a: 0.7222222\n",
      "Gradient of a: -5.219785\n",
      "b: 1.15\n",
      "Gradient of b: 3.5575383\n",
      "----------------------------------------------\n"
     ]
    },
    {
     "name": "stderr",
     "output_type": "stream",
     "text": [
      " 61%|█████████████████████████████████████▊                        | 61/100 [09:05<05:48,  8.94s/it]"
     ]
    },
    {
     "name": "stdout",
     "output_type": "stream",
     "text": [
      "----------------------------------------------\n",
      "Loss: 1.6584927\n",
      "a: 0.76666665\n",
      "Gradient of a: 5.9898076\n",
      "b: 0.75\n",
      "Gradient of b: -5.8717556\n",
      "----------------------------------------------\n"
     ]
    },
    {
     "name": "stderr",
     "output_type": "stream",
     "text": [
      " 62%|██████████████████████████████████████▍                       | 62/100 [09:13<05:35,  8.84s/it]"
     ]
    },
    {
     "name": "stdout",
     "output_type": "stream",
     "text": [
      "----------------------------------------------\n",
      "Loss: 1.4068284\n",
      "a: 0.76666665\n",
      "Gradient of a: 5.843327\n",
      "b: 0.79444444\n",
      "Gradient of b: -5.4602385\n",
      "----------------------------------------------\n"
     ]
    },
    {
     "name": "stderr",
     "output_type": "stream",
     "text": [
      " 63%|███████████████████████████████████████                       | 63/100 [09:22<05:29,  8.89s/it]"
     ]
    },
    {
     "name": "stdout",
     "output_type": "stream",
     "text": [
      "----------------------------------------------\n",
      "Loss: 1.1723865\n",
      "a: 0.76666665\n",
      "Gradient of a: 5.7147675\n",
      "b: 0.8388889\n",
      "Gradient of b: -5.098814\n",
      "----------------------------------------------\n"
     ]
    },
    {
     "name": "stderr",
     "output_type": "stream",
     "text": [
      " 64%|███████████████████████████████████████▋                      | 64/100 [09:31<05:21,  8.92s/it]"
     ]
    },
    {
     "name": "stdout",
     "output_type": "stream",
     "text": [
      "----------------------------------------------\n",
      "Loss: 0.9528065\n",
      "a: 0.76666665\n",
      "Gradient of a: 5.60417\n",
      "b: 0.8833333\n",
      "Gradient of b: -4.790668\n",
      "----------------------------------------------\n"
     ]
    },
    {
     "name": "stderr",
     "output_type": "stream",
     "text": [
      " 65%|████████████████████████████████████████▎                     | 65/100 [09:40<05:14,  8.97s/it]"
     ]
    },
    {
     "name": "stdout",
     "output_type": "stream",
     "text": [
      "----------------------------------------------\n",
      "Loss: 0.7458683\n",
      "a: 0.76666665\n",
      "Gradient of a: 5.5086904\n",
      "b: 0.92777777\n",
      "Gradient of b: -4.528433\n",
      "----------------------------------------------\n"
     ]
    },
    {
     "name": "stderr",
     "output_type": "stream",
     "text": [
      " 66%|████████████████████████████████████████▉                     | 66/100 [09:50<05:09,  9.11s/it]"
     ]
    },
    {
     "name": "stdout",
     "output_type": "stream",
     "text": [
      "----------------------------------------------\n",
      "Loss: 0.5497459\n",
      "a: 0.76666665\n",
      "Gradient of a: 5.424994\n",
      "b: 0.9722222\n",
      "Gradient of b: -4.302241\n",
      "----------------------------------------------\n"
     ]
    },
    {
     "name": "stderr",
     "output_type": "stream",
     "text": [
      " 67%|█████████████████████████████████████████▌                    | 67/100 [09:58<04:56,  8.98s/it]"
     ]
    },
    {
     "name": "stdout",
     "output_type": "stream",
     "text": [
      "----------------------------------------------\n",
      "Loss: 0.36304015\n",
      "a: 0.76666665\n",
      "Gradient of a: 5.3502245\n",
      "b: 1.0166667\n",
      "Gradient of b: -4.1035576\n",
      "----------------------------------------------\n"
     ]
    },
    {
     "name": "stderr",
     "output_type": "stream",
     "text": [
      " 68%|██████████████████████████████████████████▏                   | 68/100 [10:07<04:48,  9.02s/it]"
     ]
    },
    {
     "name": "stdout",
     "output_type": "stream",
     "text": [
      "----------------------------------------------\n",
      "Loss: 0.18487918\n",
      "a: 0.76666665\n",
      "Gradient of a: 5.278431\n",
      "b: 1.0611111\n",
      "Gradient of b: -3.9216661\n",
      "----------------------------------------------\n"
     ]
    },
    {
     "name": "stderr",
     "output_type": "stream",
     "text": [
      " 69%|██████████████████████████████████████████▊                   | 69/100 [10:17<04:41,  9.08s/it]"
     ]
    },
    {
     "name": "stdout",
     "output_type": "stream",
     "text": [
      "----------------------------------------------\n",
      "Loss: 0.06915208\n",
      "a: 0.76666665\n",
      "Gradient of a: -1.4644213\n",
      "b: 1.1055555\n",
      "Gradient of b: 1.5119517\n",
      "----------------------------------------------\n"
     ]
    },
    {
     "name": "stderr",
     "output_type": "stream",
     "text": [
      " 70%|███████████████████████████████████████████▍                  | 70/100 [10:26<04:34,  9.14s/it]"
     ]
    },
    {
     "name": "stdout",
     "output_type": "stream",
     "text": [
      "----------------------------------------------\n",
      "Loss: 0.16820829\n",
      "a: 0.76666665\n",
      "Gradient of a: -4.189332\n",
      "b: 1.15\n",
      "Gradient of b: 3.1537476\n",
      "----------------------------------------------\n"
     ]
    },
    {
     "name": "stderr",
     "output_type": "stream",
     "text": [
      " 71%|████████████████████████████████████████████                  | 71/100 [10:35<04:21,  9.01s/it]"
     ]
    },
    {
     "name": "stdout",
     "output_type": "stream",
     "text": [
      "----------------------------------------------\n",
      "Loss: 1.9230037\n",
      "a: 0.8111111\n",
      "Gradient of a: 5.912285\n",
      "b: 0.75\n",
      "Gradient of b: -6.0242295\n",
      "----------------------------------------------\n"
     ]
    },
    {
     "name": "stderr",
     "output_type": "stream",
     "text": [
      " 72%|████████████████████████████████████████████▋                 | 72/100 [10:43<04:10,  8.94s/it]"
     ]
    },
    {
     "name": "stdout",
     "output_type": "stream",
     "text": [
      "----------------------------------------------\n",
      "Loss: 1.6648464\n",
      "a: 0.8111111\n",
      "Gradient of a: 5.7672815\n",
      "b: 0.79444444\n",
      "Gradient of b: -5.5986094\n",
      "----------------------------------------------\n"
     ]
    },
    {
     "name": "stderr",
     "output_type": "stream",
     "text": [
      " 73%|█████████████████████████████████████████████▎                | 73/100 [10:52<04:00,  8.90s/it]"
     ]
    },
    {
     "name": "stdout",
     "output_type": "stream",
     "text": [
      "----------------------------------------------\n",
      "Loss: 1.424657\n",
      "a: 0.8111111\n",
      "Gradient of a: 5.63777\n",
      "b: 0.8388889\n",
      "Gradient of b: -5.218943\n",
      "----------------------------------------------\n"
     ]
    },
    {
     "name": "stderr",
     "output_type": "stream",
     "text": [
      " 74%|█████████████████████████████████████████████▉                | 74/100 [11:01<03:50,  8.87s/it]"
     ]
    },
    {
     "name": "stdout",
     "output_type": "stream",
     "text": [
      "----------------------------------------------\n",
      "Loss: 1.200129\n",
      "a: 0.8111111\n",
      "Gradient of a: 5.5253525\n",
      "b: 0.8833333\n",
      "Gradient of b: -4.893675\n",
      "----------------------------------------------\n"
     ]
    },
    {
     "name": "stderr",
     "output_type": "stream",
     "text": [
      " 75%|██████████████████████████████████████████████▌               | 75/100 [11:10<03:41,  8.85s/it]"
     ]
    },
    {
     "name": "stdout",
     "output_type": "stream",
     "text": [
      "----------------------------------------------\n",
      "Loss: 0.98893094\n",
      "a: 0.8111111\n",
      "Gradient of a: 5.429173\n",
      "b: 0.92777777\n",
      "Gradient of b: -4.6176414\n",
      "----------------------------------------------\n"
     ]
    },
    {
     "name": "stderr",
     "output_type": "stream",
     "text": [
      " 76%|███████████████████████████████████████████████               | 76/100 [11:19<03:33,  8.91s/it]"
     ]
    },
    {
     "name": "stdout",
     "output_type": "stream",
     "text": [
      "----------------------------------------------\n",
      "Loss: 0.7890946\n",
      "a: 0.8111111\n",
      "Gradient of a: 5.3455224\n",
      "b: 0.9722222\n",
      "Gradient of b: -4.380828\n",
      "----------------------------------------------\n"
     ]
    },
    {
     "name": "stderr",
     "output_type": "stream",
     "text": [
      " 77%|███████████████████████████████████████████████▋              | 77/100 [11:28<03:25,  8.93s/it]"
     ]
    },
    {
     "name": "stdout",
     "output_type": "stream",
     "text": [
      "----------------------------------------------\n",
      "Loss: 0.5990801\n",
      "a: 0.8111111\n",
      "Gradient of a: 5.2714987\n",
      "b: 1.0166667\n",
      "Gradient of b: -4.1740737\n",
      "----------------------------------------------\n"
     ]
    },
    {
     "name": "stderr",
     "output_type": "stream",
     "text": [
      " 78%|████████████████████████████████████████████████▎             | 78/100 [11:37<03:14,  8.86s/it]"
     ]
    },
    {
     "name": "stdout",
     "output_type": "stream",
     "text": [
      "----------------------------------------------\n",
      "Loss: 0.41774017\n",
      "a: 0.8111111\n",
      "Gradient of a: 5.200078\n",
      "b: 1.0611111\n",
      "Gradient of b: -3.9847028\n",
      "----------------------------------------------\n"
     ]
    },
    {
     "name": "stderr",
     "output_type": "stream",
     "text": [
      " 79%|████████████████████████████████████████████████▉             | 79/100 [11:45<03:05,  8.84s/it]"
     ]
    },
    {
     "name": "stdout",
     "output_type": "stream",
     "text": [
      "----------------------------------------------\n",
      "Loss: 0.24433309\n",
      "a: 0.8111111\n",
      "Gradient of a: 5.140391\n",
      "b: 1.1055555\n",
      "Gradient of b: -3.8213334\n",
      "----------------------------------------------\n"
     ]
    },
    {
     "name": "stderr",
     "output_type": "stream",
     "text": [
      " 80%|█████████████████████████████████████████████████▌            | 80/100 [11:54<02:57,  8.87s/it]"
     ]
    },
    {
     "name": "stdout",
     "output_type": "stream",
     "text": [
      "----------------------------------------------\n",
      "Loss: 0.08662978\n",
      "a: 0.8111111\n",
      "Gradient of a: 2.0908422\n",
      "b: 1.15\n",
      "Gradient of b: -1.1485176\n",
      "----------------------------------------------\n"
     ]
    },
    {
     "name": "stderr",
     "output_type": "stream",
     "text": [
      " 81%|██████████████████████████████████████████████████▏           | 81/100 [12:03<02:50,  8.98s/it]"
     ]
    },
    {
     "name": "stdout",
     "output_type": "stream",
     "text": [
      "----------------------------------------------\n",
      "Loss: 2.1839545\n",
      "a: 0.85555553\n",
      "Gradient of a: 5.829708\n",
      "b: 0.75\n",
      "Gradient of b: -6.171182\n",
      "----------------------------------------------\n"
     ]
    },
    {
     "name": "stderr",
     "output_type": "stream",
     "text": [
      " 82%|██████████████████████████████████████████████████▊           | 82/100 [12:13<02:43,  9.06s/it]"
     ]
    },
    {
     "name": "stdout",
     "output_type": "stream",
     "text": [
      "----------------------------------------------\n",
      "Loss: 1.9194324\n",
      "a: 0.85555553\n",
      "Gradient of a: 5.68872\n",
      "b: 0.79444444\n",
      "Gradient of b: -5.7361374\n",
      "----------------------------------------------\n"
     ]
    },
    {
     "name": "stderr",
     "output_type": "stream",
     "text": [
      " 83%|███████████████████████████████████████████████████▍          | 83/100 [12:22<02:35,  9.13s/it]"
     ]
    },
    {
     "name": "stdout",
     "output_type": "stream",
     "text": [
      "----------------------------------------------\n",
      "Loss: 1.6734874\n",
      "a: 0.85555553\n",
      "Gradient of a: 5.559535\n",
      "b: 0.8388889\n",
      "Gradient of b: -5.3398657\n",
      "----------------------------------------------\n"
     ]
    },
    {
     "name": "stderr",
     "output_type": "stream",
     "text": [
      " 84%|████████████████████████████████████████████████████          | 84/100 [12:31<02:24,  9.04s/it]"
     ]
    },
    {
     "name": "stdout",
     "output_type": "stream",
     "text": [
      "----------------------------------------------\n",
      "Loss: 1.4439652\n",
      "a: 0.85555553\n",
      "Gradient of a: 5.4468975\n",
      "b: 0.8833333\n",
      "Gradient of b: -4.997774\n",
      "----------------------------------------------\n"
     ]
    },
    {
     "name": "stderr",
     "output_type": "stream",
     "text": [
      " 85%|████████████████████████████████████████████████████▋         | 85/100 [12:40<02:15,  9.05s/it]"
     ]
    },
    {
     "name": "stdout",
     "output_type": "stream",
     "text": [
      "----------------------------------------------\n",
      "Loss: 1.228471\n",
      "a: 0.85555553\n",
      "Gradient of a: 5.2638574\n",
      "b: 0.92777777\n",
      "Gradient of b: -4.6080823\n",
      "----------------------------------------------\n"
     ]
    },
    {
     "name": "stderr",
     "output_type": "stream",
     "text": [
      " 86%|█████████████████████████████████████████████████████▎        | 86/100 [12:49<02:05,  8.98s/it]"
     ]
    },
    {
     "name": "stdout",
     "output_type": "stream",
     "text": [
      "----------------------------------------------\n",
      "Loss: 1.0249068\n",
      "a: 0.85555553\n",
      "Gradient of a: 5.2664013\n",
      "b: 0.9722222\n",
      "Gradient of b: -4.4592605\n",
      "----------------------------------------------\n"
     ]
    },
    {
     "name": "stderr",
     "output_type": "stream",
     "text": [
      " 87%|█████████████████████████████████████████████████████▉        | 87/100 [12:58<01:56,  8.98s/it]"
     ]
    },
    {
     "name": "stdout",
     "output_type": "stream",
     "text": [
      "----------------------------------------------\n",
      "Loss: 0.83161265\n",
      "a: 0.85555553\n",
      "Gradient of a: 5.192348\n",
      "b: 1.0166667\n",
      "Gradient of b: -4.2436895\n",
      "----------------------------------------------\n"
     ]
    },
    {
     "name": "stderr",
     "output_type": "stream",
     "text": [
      " 88%|██████████████████████████████████████████████████████▌       | 88/100 [13:07<01:47,  8.95s/it]"
     ]
    },
    {
     "name": "stdout",
     "output_type": "stream",
     "text": [
      "----------------------------------------------\n",
      "Loss: 0.64731246\n",
      "a: 0.85555553\n",
      "Gradient of a: 5.1267147\n",
      "b: 1.0611111\n",
      "Gradient of b: -4.0534377\n",
      "----------------------------------------------\n"
     ]
    },
    {
     "name": "stderr",
     "output_type": "stream",
     "text": [
      " 89%|███████████████████████████████████████████████████████▏      | 89/100 [13:15<01:37,  8.88s/it]"
     ]
    },
    {
     "name": "stdout",
     "output_type": "stream",
     "text": [
      "----------------------------------------------\n",
      "Loss: 0.47107655\n",
      "a: 0.85555553\n",
      "Gradient of a: 5.062835\n",
      "b: 1.1055555\n",
      "Gradient of b: -3.877772\n",
      "----------------------------------------------\n"
     ]
    },
    {
     "name": "stderr",
     "output_type": "stream",
     "text": [
      " 90%|███████████████████████████████████████████████████████▊      | 90/100 [13:24<01:28,  8.86s/it]"
     ]
    },
    {
     "name": "stdout",
     "output_type": "stream",
     "text": [
      "----------------------------------------------\n",
      "Loss: 0.30216783\n",
      "a: 0.85555553\n",
      "Gradient of a: 5.009431\n",
      "b: 1.15\n",
      "Gradient of b: -3.7255147\n",
      "----------------------------------------------\n"
     ]
    },
    {
     "name": "stderr",
     "output_type": "stream",
     "text": [
      " 91%|████████████████████████████████████████████████████████▍     | 91/100 [13:33<01:19,  8.84s/it]"
     ]
    },
    {
     "name": "stdout",
     "output_type": "stream",
     "text": [
      "----------------------------------------------\n",
      "Loss: 2.4411237\n",
      "a: 0.9\n",
      "Gradient of a: 5.7419147\n",
      "b: 0.75\n",
      "Gradient of b: -6.309617\n",
      "----------------------------------------------\n"
     ]
    },
    {
     "name": "stderr",
     "output_type": "stream",
     "text": [
      " 92%|█████████████████████████████████████████████████████████     | 92/100 [13:42<01:11,  8.94s/it]"
     ]
    },
    {
     "name": "stdout",
     "output_type": "stream",
     "text": [
      "----------------------------------------------\n",
      "Loss: 2.1704738\n",
      "a: 0.9\n",
      "Gradient of a: 5.607668\n",
      "b: 0.79444444\n",
      "Gradient of b: -5.870907\n",
      "----------------------------------------------\n"
     ]
    },
    {
     "name": "stderr",
     "output_type": "stream",
     "text": [
      " 93%|█████████████████████████████████████████████████████████▋    | 93/100 [13:51<01:02,  8.94s/it]"
     ]
    },
    {
     "name": "stdout",
     "output_type": "stream",
     "text": [
      "----------------------------------------------\n",
      "Loss: 1.9188244\n",
      "a: 0.9\n",
      "Gradient of a: 5.0236588\n",
      "b: 0.8388889\n",
      "Gradient of b: -5.0631356\n",
      "----------------------------------------------\n"
     ]
    },
    {
     "name": "stderr",
     "output_type": "stream",
     "text": [
      " 94%|██████████████████████████████████████████████████████████▎   | 94/100 [14:00<00:53,  8.95s/it]"
     ]
    },
    {
     "name": "stdout",
     "output_type": "stream",
     "text": [
      "----------------------------------------------\n",
      "Loss: 1.6842935\n",
      "a: 0.9\n",
      "Gradient of a: 5.3678536\n",
      "b: 0.8833333\n",
      "Gradient of b: -5.1023607\n",
      "----------------------------------------------\n"
     ]
    },
    {
     "name": "stderr",
     "output_type": "stream",
     "text": [
      " 95%|██████████████████████████████████████████████████████████▉   | 95/100 [14:09<00:44,  8.90s/it]"
     ]
    },
    {
     "name": "stdout",
     "output_type": "stream",
     "text": [
      "----------------------------------------------\n",
      "Loss: 1.4644865\n",
      "a: 0.9\n",
      "Gradient of a: 5.2706428\n",
      "b: 0.92777777\n",
      "Gradient of b: -4.79727\n",
      "----------------------------------------------\n"
     ]
    },
    {
     "name": "stderr",
     "output_type": "stream",
     "text": [
      " 96%|███████████████████████████████████████████████████████████▌  | 96/100 [14:18<00:35,  8.90s/it]"
     ]
    },
    {
     "name": "stdout",
     "output_type": "stream",
     "text": [
      "----------------------------------------------\n",
      "Loss: 1.2571988\n",
      "a: 0.9\n",
      "Gradient of a: 5.186821\n",
      "b: 0.9722222\n",
      "Gradient of b: -4.5373607\n",
      "----------------------------------------------\n"
     ]
    },
    {
     "name": "stderr",
     "output_type": "stream",
     "text": [
      " 97%|████████████████████████████████████████████████████████████▏ | 97/100 [14:27<00:26,  8.93s/it]"
     ]
    },
    {
     "name": "stdout",
     "output_type": "stream",
     "text": [
      "----------------------------------------------\n",
      "Loss: 1.0606446\n",
      "a: 0.9\n",
      "Gradient of a: 5.1136746\n",
      "b: 1.0166667\n",
      "Gradient of b: -4.312752\n",
      "----------------------------------------------\n"
     ]
    },
    {
     "name": "stderr",
     "output_type": "stream",
     "text": [
      " 98%|████████████████████████████████████████████████████████████▊ | 98/100 [14:36<00:18,  9.05s/it]"
     ]
    },
    {
     "name": "stdout",
     "output_type": "stream",
     "text": [
      "----------------------------------------------\n",
      "Loss: 0.87344337\n",
      "a: 0.9\n",
      "Gradient of a: 5.048878\n",
      "b: 1.0611111\n",
      "Gradient of b: -4.1153264\n",
      "----------------------------------------------\n"
     ]
    },
    {
     "name": "stderr",
     "output_type": "stream",
     "text": [
      " 99%|█████████████████████████████████████████████████████████████▍| 99/100 [14:45<00:08,  8.98s/it]"
     ]
    },
    {
     "name": "stdout",
     "output_type": "stream",
     "text": [
      "----------------------------------------------\n",
      "Loss: 0.694521\n",
      "a: 0.9\n",
      "Gradient of a: 4.990686\n",
      "b: 1.1055555\n",
      "Gradient of b: -3.9394035\n",
      "----------------------------------------------\n"
     ]
    },
    {
     "name": "stderr",
     "output_type": "stream",
     "text": [
      "100%|█████████████████████████████████████████████████████████████| 100/100 [14:54<00:00,  8.94s/it]"
     ]
    },
    {
     "name": "stdout",
     "output_type": "stream",
     "text": [
      "----------------------------------------------\n",
      "Loss: 0.52311945\n",
      "a: 0.9\n",
      "Gradient of a: 4.933664\n",
      "b: 1.15\n",
      "Gradient of b: -3.7760966\n",
      "----------------------------------------------\n"
     ]
    },
    {
     "name": "stderr",
     "output_type": "stream",
     "text": [
      "\n"
     ]
    }
   ],
   "source": [
    "# Set the optimizer\n",
    "optimizer = torch.optim.Adam(ARRG.weight_nexus.parameters(), lr=learning_rate)\n",
    "#optimizer = torch.optim.SGD(macroscopic_trainer.weight_nexus.parameters(), lr=learning_rate)\n",
    "\n",
    "# Generate gradients!\n",
    "a_b_gradients, loss_grid = ARRG.ARRG_flow(optimizer, a_b_init)"
   ]
  },
  {
   "cell_type": "code",
   "execution_count": 13,
   "metadata": {},
   "outputs": [
    {
     "data": {
      "image/png": "[encoded data removed]",
      "text/plain": [
       "<Figure size 600x500 with 2 Axes>"
      ]
     },
     "metadata": {},
     "output_type": "display_data"
    }
   ],
   "source": [
    "# Clone a_b_init into numpy array\n",
    "a_b = a_b_init.detach().numpy()\n",
    "\n",
    "import matplotlib.colors as mcolors\n",
    "\n",
    "# Calculate the magnitude of each vector in a_b_gradients\n",
    "magnitudes = np.linalg.norm(a_b_gradients, axis=1)\n",
    "\n",
    "fig, ax = plt.subplots(1,1,figsize=(6,5))\n",
    "\n",
    "# Set the background color based on the magnitude\n",
    "# Normalize the magnitude to use it with the colormap\n",
    "norm = mcolors.Normalize(vmin=np.min(magnitudes), vmax=np.max(magnitudes))\n",
    "cmap = plt.cm.plasma  # Choose a colormap\n",
    "\n",
    "# Assuming magnitudes can be reshaped into a grid directly for simplicity\n",
    "# In a real scenario, you might need to interpolate these values onto a grid\n",
    "grid_shape = (int(np.sqrt(len(magnitudes))), int(np.sqrt(len(magnitudes))))\n",
    "magnitudes_grid = magnitudes.reshape(grid_shape).T\n",
    "\n",
    "# Create a heatmap of the gradient magnitudes\n",
    "#heatmap = ax.imshow(magnitudes_grid, cmap=cmap, norm=norm, origin='lower', extent=(np.min(a_b[:, 0]), np.max(a_b[:, 0]), np.min(a_b[:, 1]), np.max(a_b[:, 1])))\n",
    "heatmap = ax.imshow((loss_grid * N_events).reshape(grid_shape).T, cmap=cmap, origin='lower', extent=(np.min(a_b[:, 0]), np.max(a_b[:, 0]), np.min(a_b[:, 1]), np.max(a_b[:, 1])))\n",
    "\n",
    "# Add a colorbar to show the magnitude scale\n",
    "#fig.colorbar(heatmap, ax=ax, label=r'$|\\vec{\\nabla}_\\theta \\mathcal{L}|$')\n",
    "fig.colorbar(heatmap, ax=ax, label=r'$1D$ Wasserstein loss (macroscopic)')\n",
    "\n",
    "# Plot arrows for each point and direction\n",
    "for point, gradient in zip(a_b, a_b_gradients):\n",
    "    ax.arrow(point[0], point[1], -gradient[0]/5e2, -gradient[1]/5e2, head_width=0.005, head_length=0.005, fc='k', ec='k')\n",
    "\n",
    "a_b_target = np.array([0.68, 0.98]) # Monash\n",
    "ax.plot(a_b_target[0], a_b_target[1], 'x', color='green', label = 'Target', ms = 7, linewidth=10)#label = r'$\\mathrm{Target}$')\n",
    "ax.plot(ARRG.params_base[0].clone().detach().numpy(), ARRG.params_base[1].clone().detach().numpy(), 'x', color = 'red', label = 'Base', ms = 7, linewidth=10)#label = r'$\\mathrm{Base}$'\n",
    "\n",
    "ax.set_title(rf'$N_{{\\mathrm{{batch}}}} = {N_events}$')\n",
    "ax.set_xlabel(r'$a$')\n",
    "ax.set_ylabel(r'$b$')\n",
    "\n",
    "fig.tight_layout()\n",
    "fig.savefig('ARRG_finalTwo_flow_wass1d_loss_fixed_bin_Nbatch_25e3.pdf', dpi=300, bbox_inches='tight', pad_inches=0.1)\n",
    "fig.savefig('ARRG_finalTwo_flow_wass1d_loss_fixed_bin_Nbatch_25e3.png', dpi=300, bbox_inches='tight', pad_inches=0.1)"
   ]
  },
  {
   "cell_type": "code",
   "execution_count": 14,
   "metadata": {},
   "outputs": [
    {
     "data": {
      "image/png": "[encoded data removed]",
      "text/plain": [
       "<Figure size 600x500 with 2 Axes>"
      ]
     },
     "metadata": {},
     "output_type": "display_data"
    }
   ],
   "source": [
    "# Clone a_b_init into numpy array\n",
    "a_b = a_b_init.detach().numpy()\n",
    "\n",
    "import matplotlib.colors as mcolors\n",
    "\n",
    "# Calculate the magnitude of each vector in a_b_gradients\n",
    "magnitudes = np.linalg.norm(a_b_gradients, axis=1)\n",
    "\n",
    "fig, ax = plt.subplots(1,1,figsize=(6,5))\n",
    "\n",
    "# Set the background color based on the magnitude\n",
    "# Normalize the magnitude to use it with the colormap\n",
    "norm = mcolors.Normalize(vmin=np.min(magnitudes), vmax=np.max(magnitudes))\n",
    "cmap = plt.cm.plasma  # Choose a colormap\n",
    "\n",
    "# Assuming magnitudes can be reshaped into a grid directly for simplicity\n",
    "# In a real scenario, you might need to interpolate these values onto a grid\n",
    "grid_shape = (int(np.sqrt(len(magnitudes))), int(np.sqrt(len(magnitudes))))\n",
    "magnitudes_grid = magnitudes.reshape(grid_shape).T\n",
    "\n",
    "# Create a heatmap of the gradient magnitudes\n",
    "#heatmap = ax.imshow(magnitudes_grid, cmap=cmap, norm=norm, origin='lower', extent=(np.min(a_b[:, 0]), np.max(a_b[:, 0]), np.min(a_b[:, 1]), np.max(a_b[:, 1])))\n",
    "heatmap = ax.imshow((np.log(loss_grid * N_events)).reshape(grid_shape).T, cmap=cmap, origin='lower', extent=(np.min(a_b[:, 0]), np.max(a_b[:, 0]), np.min(a_b[:, 1]), np.max(a_b[:, 1])))\n",
    "\n",
    "# Add a colorbar to show the magnitude scale\n",
    "#fig.colorbar(heatmap, ax=ax, label=r'$|\\vec{\\nabla}_\\theta \\mathcal{L}|$')\n",
    "fig.colorbar(heatmap, ax=ax, label=r'$1D$ Wasserstein $\\log$(loss) (macroscopic)')\n",
    "\n",
    "# Plot arrows for each point and direction\n",
    "for point, gradient in zip(a_b, a_b_gradients):\n",
    "    ax.arrow(point[0], point[1], -gradient[0]/5e2, -gradient[1]/5e2, head_width=0.005, head_length=0.005, fc='k', ec='k')\n",
    "\n",
    "a_b_target = np.array([0.68, 0.98]) # Monash\n",
    "ax.plot(a_b_target[0], a_b_target[1], 'x', color='green', label = 'Target', ms = 7, linewidth=10)#label = r'$\\mathrm{Target}$')\n",
    "ax.plot(ARRG.params_base[0].clone().detach().numpy(), ARRG.params_base[1].clone().detach().numpy(), 'x', color = 'red', label = 'Base', ms = 7, linewidth=10)#label = r'$\\mathrm{Base}$'\n",
    "\n",
    "ax.set_title(rf'$N_{{\\mathrm{{batch}}}} = {N_events}$')\n",
    "ax.set_xlabel(r'$a$')\n",
    "ax.set_ylabel(r'$b$')\n",
    "\n",
    "fig.tight_layout()\n",
    "fig.savefig('ARRG_flow_wass1d_log_loss_fixed_bin_Nbatch_25e3.pdf', dpi=300, bbox_inches='tight', pad_inches=0.1)\n",
    "fig.savefig('ARRG_flow_wass1d_log_loss_fixed_bin_Nbatch_25e3.png', dpi=300, bbox_inches='tight', pad_inches=0.1)"
   ]
  },
  {
   "cell_type": "code",
   "execution_count": 12,
   "metadata": {},
   "outputs": [],
   "source": [
    "# Save the (a,b) values, their gradients, and the loss grid\n",
    "np.save('flow_data/flow_data_finalTwo_wass1d_a_b_Nbatch_25e3_fixed.npy', a_b)\n",
    "np.save('flow_data/flow_data_finalTwo_wass1d_a_b_gradients_Nbatch_25e3_fixed.npy', a_b_gradients)\n",
    "np.save('flow_data/flow_data_finalTwo_wass1d_losses_Nbatch_25e3_fixed.npy', loss_grid)"
   ]
  },
  {
   "cell_type": "code",
   "execution_count": null,
   "metadata": {},
   "outputs": [],
   "source": [
    "# Loading previous flow map\n",
    "a_b = np.load('flow_data/flow_data_a_b_Nbatch_5e3.npy')\n",
    "a_b_gradients = np.load('flow_data/flow_data_a_b_gradients_Nbatch_5e3.npy')\n",
    "loss_grid = np.load('flow_data/flow_data_losses_Nbatch_5e3.npy')"
   ]
  },
  {
   "cell_type": "code",
   "execution_count": null,
   "metadata": {},
   "outputs": [],
   "source": []
  }
 ],
 "metadata": {
  "kernelspec": {
   "display_name": "Python 3",
   "language": "python",
   "name": "python3"
  },
  "language_info": {
   "codemirror_mode": {
    "name": "ipython",
    "version": 3
   },
   "file_extension": ".py",
   "mimetype": "text/x-python",
   "name": "python",
   "nbconvert_exporter": "python",
   "pygments_lexer": "ipython3",
   "version": "3.11.9"
  }
 },
 "nbformat": 4,
 "nbformat_minor": 2
}
