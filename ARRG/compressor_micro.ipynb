{
 "cells": [
  {
   "cell_type": "code",
   "execution_count": 1,
   "metadata": {},
   "outputs": [],
   "source": [
    "from compressor import *\n",
    "from tqdm import tqdm\n",
    "import matplotlib.pyplot as plt"
   ]
  },
  {
   "cell_type": "code",
   "execution_count": 2,
   "metadata": {},
   "outputs": [],
   "source": [
    "class xyDataset(torch.utils.data.Dataset):\n",
    "    \"\"\"\n",
    "    Joins the x and y into a dataset, so that it can be used by the pythorch syntax.\n",
    "    \"\"\"\n",
    "\n",
    "    def __init__(self, x, y):\n",
    "        self.x = x#torch.tensor(x).to(torch.float)\n",
    "        self.y = y#torch.tensor(y).to(torch.float)\n",
    "\n",
    "    def __len__(self):\n",
    "        return len(self.x)\n",
    "\n",
    "    def __getitem__(self, idx):\n",
    "        if torch.is_tensor(idx):\n",
    "            idx = idx.tolist()\n",
    "        sample = [self.x[idx], self.y[idx]]\n",
    "        return sample"
   ]
  },
  {
   "cell_type": "code",
   "execution_count": 3,
   "metadata": {},
   "outputs": [
    {
     "name": "stdout",
     "output_type": "stream",
     "text": [
      "Experimental hadrons shape: (100000, 75, 5)\n",
      "Simulated hadrons shape: (100000, 75, 5)\n",
      "Combined hadrons: tensor([[[16.8237, 16.5214, 14.8597,  ...,  0.0000,  0.0000,  0.0000]],\n",
      "\n",
      "        [[24.3806, 18.4189, 16.1389,  ...,  0.0000,  0.0000,  0.0000]],\n",
      "\n",
      "        [[15.2658, 13.5052, 12.8365,  ...,  0.0000,  0.0000,  0.0000]],\n",
      "\n",
      "        ...,\n",
      "\n",
      "        [[30.6371, 17.4666, 13.5157,  ...,  0.0000,  0.0000,  0.0000]],\n",
      "\n",
      "        [[38.7202, 20.5032, 14.5690,  ...,  0.0000,  0.0000,  0.0000]],\n",
      "\n",
      "        [[15.0854, 13.7852, 11.3777,  ...,  0.0000,  0.0000,  0.0000]]])\n",
      "Combined labels shape: torch.Size([200000, 2])\n",
      "Number of batches: 40\n"
     ]
    }
   ],
   "source": [
    "# Paths to the datasets on perlmutter\n",
    "exp_hadrons_PATH = '../pgun_qqbar_finalTwo_hadrons_a_0.68_b_0.98_sigma_0.335_N_1e5.npy'\n",
    "sim_hadrons_PATH = '../pgun_qqbar_finalTwo_hadrons_a_0.72_b_0.88_sigma_0.335_N_1e5.npy'\n",
    "#sim_accept_reject_PATH = '../pgun_qqbar_finalTwo_accept_reject_z_a_0.72_b_0.88_sigma_0.335_N_50e3.npy'\n",
    "#sim_fPrel_PATH = '../pgun_qqbar_finalTwo_fPrel_a_0.72_b_0.88_sigma_0.335_N_50e3.npy'\n",
    "\n",
    "# Load the arrays\n",
    "exp_hadrons = np.load(exp_hadrons_PATH, mmap_mode=\"r\")\n",
    "sim_hadrons = np.load(sim_hadrons_PATH, mmap_mode=\"r\")\n",
    "#sim_accept_reject = np.load(sim_accept_reject_PATH, mmap_mode = \"r\")\n",
    "#sim_fPrel         = np.load(sim_fPrel_PATH, mmap_mode = \"r\")\n",
    "\n",
    "# Print dataset shapes\n",
    "print('Experimental hadrons shape:', exp_hadrons.shape)\n",
    "print('Simulated hadrons shape:', sim_hadrons.shape)\n",
    "#print('Simulated z shape:', sim_accept_reject.shape)\n",
    "#print('Simulated fPrel shape:', sim_fPrel.shape)\n",
    "\n",
    "# Extract pz (in-channel = 1)\n",
    "exp_pz = exp_hadrons[:,:,3]\n",
    "sim_pz = sim_hadrons[:,:,3]\n",
    "\n",
    "# Convert to torch tensors\n",
    "exp_pz = torch.tensor(exp_pz).to(torch.float)\n",
    "sim_pz = torch.tensor(sim_pz).to(torch.float)\n",
    "\n",
    "# Sort in pz\n",
    "exp_pz, _ = torch.sort(exp_pz, dim=1)\n",
    "sim_pz, _ = torch.sort(sim_pz, dim=1)\n",
    "\n",
    "# Reverse the order of the exp_pz\n",
    "exp_pz = torch.flip(exp_pz, [1])\n",
    "sim_pz = torch.flip(sim_pz, [1])\n",
    "\n",
    "# Combine the exp and sim hadron datasets\n",
    "hadrons = torch.cat((exp_pz, sim_pz), 0).unsqueeze(1)\n",
    "#print('Combined hadrons shape:', hadrons.shape)\n",
    "print('Combined hadrons:', hadrons)\n",
    "\n",
    "\"\"\"\n",
    "# For more than one in-channel - i.e. (px, py, pz, E, m)\n",
    "\n",
    "# Combine the exp and sim hadron datasets\n",
    "#hadrons = np.concatenate((exp_hadrons, sim_hadrons), axis=0)\n",
    "#print('Combines hadrons shape:', hadrons.shape)\n",
    "# Convert to torch tensor\n",
    "#hadrons = torch.tensor(hadrons).to(torch.float)\n",
    "\n",
    "# Reshape for the compressor\n",
    "#hadrons = hadrons.transpose(1, 2)\n",
    "#print('Reshaped hadrons shape:', hadrons.shape)\n",
    "\"\"\"\n",
    "\n",
    "# Generate labels\n",
    "labels_exp = np.full((exp_hadrons.shape[0], 2), [0., 1.])\n",
    "labels_sim = np.full((sim_hadrons.shape[0], 2), [1., 0.])\n",
    "\n",
    "# Combine the labels in a consistent way with the hadrons\n",
    "labels = np.concatenate((labels_exp, labels_sim), axis=0)\n",
    "# Convert to torch tensor\n",
    "labels = torch.tensor(labels).to(torch.float)\n",
    "print('Combined labels shape:', labels.shape)\n",
    "\n",
    "# Constuct the dataset and initialize the PyTorch dataLoader\n",
    "trainset = xyDataset(labels, hadrons)\n",
    "batch_size = 5000\n",
    "trainloader = DataLoader(trainset, batch_size = batch_size, shuffle = True)\n",
    "print('Number of batches:', len(trainloader))"
   ]
  },
  {
   "cell_type": "code",
   "execution_count": 10,
   "metadata": {},
   "outputs": [],
   "source": [
    "# Define the hyperparameters\n",
    "input_dim = exp_hadrons.shape[1]\n",
    "output_dim = input_dim\n",
    "latent_dim = 2\n",
    "conditional = True\n",
    "num_labels = 2\n",
    "\n",
    "# Initialize the model\n",
    "model = Compressor(input_dim = input_dim, output_dim = output_dim, latent_dim = latent_dim, conditional = conditional, num_labels = num_labels)"
   ]
  },
  {
   "cell_type": "code",
   "execution_count": 11,
   "metadata": {},
   "outputs": [
    {
     "name": "stdout",
     "output_type": "stream",
     "text": [
      "model: Compressor(\n",
      "  (embed_class): Linear(in_features=2, out_features=75, bias=True)\n",
      "  (embed_data): Conv1d(1, 1, kernel_size=(1,), stride=(1,))\n",
      "  (features_encode): Sequential(\n",
      "    (0): Conv1d(2, 16, kernel_size=(3,), stride=(1,), padding=(1,))\n",
      "    (1): LeakyReLU(negative_slope=0.2, inplace=True)\n",
      "    (2): Conv1d(16, 16, kernel_size=(3,), stride=(1,), padding=(1,))\n",
      "    (3): LeakyReLU(negative_slope=0.2, inplace=True)\n",
      "    (4): AvgPool1d(kernel_size=(2,), stride=(2,), padding=(0,))\n",
      "    (5): Conv1d(16, 32, kernel_size=(3,), stride=(1,), padding=(1,))\n",
      "    (6): LeakyReLU(negative_slope=0.2, inplace=True)\n",
      "    (7): Conv1d(32, 32, kernel_size=(3,), stride=(1,), padding=(1,))\n",
      "    (8): LeakyReLU(negative_slope=0.2, inplace=True)\n",
      "    (9): AvgPool1d(kernel_size=(2,), stride=(2,), padding=(0,))\n",
      "    (10): Conv1d(32, 64, kernel_size=(3,), stride=(1,), padding=(1,))\n",
      "    (11): LeakyReLU(negative_slope=0.2, inplace=True)\n",
      "    (12): Conv1d(64, 64, kernel_size=(3,), stride=(1,), padding=(1,))\n",
      "    (13): LeakyReLU(negative_slope=0.2, inplace=True)\n",
      "    (14): AvgPool1d(kernel_size=(2,), stride=(2,), padding=(1,))\n",
      "  )\n",
      "  (fc_encode): Sequential(\n",
      "    (0): Linear(in_features=640, out_features=128, bias=True)\n",
      "    (1): ReLU(inplace=True)\n",
      "    (2): Linear(in_features=128, out_features=2, bias=True)\n",
      "  )\n",
      "  (fc_decode): Sequential(\n",
      "    (0): Linear(in_features=4, out_features=128, bias=True)\n",
      "    (1): Linear(in_features=128, out_features=640, bias=True)\n",
      "    (2): ReLU(inplace=True)\n",
      "  )\n",
      "  (features_decode): Sequential(\n",
      "    (0): ConvTranspose1d(64, 64, kernel_size=(3,), stride=(1,), padding=(1,))\n",
      "    (1): LeakyReLU(negative_slope=0.2, inplace=True)\n",
      "    (2): ConvTranspose1d(64, 32, kernel_size=(3,), stride=(1,), padding=(1,))\n",
      "    (3): LeakyReLU(negative_slope=0.2, inplace=True)\n",
      "    (4): Upsample(scale_factor=2.0, mode='nearest')\n",
      "    (5): ConvTranspose1d(32, 32, kernel_size=(3,), stride=(1,), padding=(1,))\n",
      "    (6): LeakyReLU(negative_slope=0.2, inplace=True)\n",
      "    (7): ConvTranspose1d(32, 16, kernel_size=(3,), stride=(1,), padding=(1,))\n",
      "    (8): LeakyReLU(negative_slope=0.2, inplace=True)\n",
      "    (9): Upsample(scale_factor=2.0, mode='nearest')\n",
      "    (10): ConvTranspose1d(16, 16, kernel_size=(3,), stride=(1,), padding=(1,))\n",
      "    (11): LeakyReLU(negative_slope=0.2, inplace=True)\n",
      "    (12): ConvTranspose1d(16, 1, kernel_size=(38,), stride=(1,), padding=(1,))\n",
      "    (13): LeakyReLU(negative_slope=0.2, inplace=True)\n",
      "  )\n",
      ")\n"
     ]
    }
   ],
   "source": [
    "print('model:', model)"
   ]
  },
  {
   "cell_type": "code",
   "execution_count": 12,
   "metadata": {},
   "outputs": [
    {
     "name": "stdout",
     "output_type": "stream",
     "text": [
      "tensor([[[16.8237, 16.5214, 14.8597, 12.8871, 11.3744,  2.4894,  2.4407,\n",
      "           1.9850,  1.8907,  1.3179,  1.0674,  1.0235,  0.7792,  0.0000,\n",
      "           0.0000,  0.0000,  0.0000,  0.0000,  0.0000,  0.0000,  0.0000,\n",
      "           0.0000,  0.0000,  0.0000,  0.0000,  0.0000,  0.0000,  0.0000,\n",
      "           0.0000,  0.0000,  0.0000,  0.0000,  0.0000,  0.0000,  0.0000,\n",
      "           0.0000,  0.0000,  0.0000,  0.0000,  0.0000,  0.0000,  0.0000,\n",
      "           0.0000,  0.0000,  0.0000,  0.0000,  0.0000,  0.0000,  0.0000,\n",
      "           0.0000,  0.0000,  0.0000,  0.0000,  0.0000,  0.0000,  0.0000,\n",
      "           0.0000,  0.0000,  0.0000,  0.0000,  0.0000,  0.0000,  0.0000,\n",
      "           0.0000,  0.0000,  0.0000,  0.0000,  0.0000,  0.0000,  0.0000,\n",
      "           0.0000,  0.0000,  0.0000,  0.0000,  0.0000]]])\n",
      "tensor([[0., 1.]])\n",
      "Encoded shape: torch.Size([1, 2])\n",
      "Encoded: tensor([[-0.0367, -0.0789]], grad_fn=<AddmmBackward0>)\n",
      "Decoded shape: torch.Size([1, 1, 75])\n",
      "Decoded: tensor([[[-0.0183, -0.0202, -0.0188, -0.0250, -0.0255, -0.0328, -0.0322,\n",
      "          -0.0304, -0.0239, -0.0259, -0.0268, -0.0137, -0.0165, -0.0111,\n",
      "          -0.0054, -0.0112, -0.0195, -0.0144, -0.0167, -0.0208, -0.0264,\n",
      "          -0.0322, -0.0329, -0.0338, -0.0316, -0.0393, -0.0329, -0.0265,\n",
      "          -0.0329, -0.0254, -0.0201, -0.0297, -0.0269, -0.0326, -0.0293,\n",
      "          -0.0226, -0.0231, -0.0223, -0.0241, -0.0264, -0.0247, -0.0226,\n",
      "          -0.0247, -0.0222, -0.0211, -0.0132, -0.0139, -0.0156, -0.0222,\n",
      "          -0.0186, -0.0233, -0.0355, -0.0343, -0.0347, -0.0353, -0.0290,\n",
      "          -0.0262, -0.0335, -0.0299, -0.0251, -0.0204, -0.0171, -0.0142,\n",
      "          -0.0114, -0.0137, -0.0066, -0.0126, -0.0159, -0.0138, -0.0194,\n",
      "          -0.0211, -0.0155, -0.0212, -0.0165, -0.0218]]],\n",
      "       grad_fn=<LeakyReluBackward1>)\n"
     ]
    }
   ],
   "source": [
    "# Test out the encoder\n",
    "print(trainloader.dataset[0][1].unsqueeze(0))\n",
    "print(trainloader.dataset[0][0].unsqueeze(0))\n",
    "enc = model.encode(trainloader.dataset[0][1].unsqueeze(0), trainloader.dataset[0][0].unsqueeze(0))\n",
    "print('Encoded shape:', enc.shape)\n",
    "print('Encoded:', enc)\n",
    "dec = model.decode(enc, trainloader.dataset[0][0].unsqueeze(0))\n",
    "print('Decoded shape:', dec.shape)\n",
    "print('Decoded:', dec)"
   ]
  },
  {
   "cell_type": "code",
   "execution_count": 14,
   "metadata": {},
   "outputs": [
    {
     "name": "stderr",
     "output_type": "stream",
     "text": [
      "  4%|██▌                                                             | 1/25 [00:20<08:22, 20.95s/it]"
     ]
    },
    {
     "name": "stdout",
     "output_type": "stream",
     "text": [
      "-----------------------------------------\n",
      "Epoch: 0 \n",
      " Loss: 3.954291343688965 \n",
      " Learning rate: 0.01 \n",
      " Reconstruction Loss L1: 0.614935040473938 \n",
      " Reconstruction Loss L2: 2.657318353652954 \n",
      " BCE Loss: 0.6820377707481384\n",
      "-----------------------------------------\n"
     ]
    },
    {
     "name": "stderr",
     "output_type": "stream",
     "text": [
      "  8%|█████                                                           | 2/25 [00:47<09:23, 24.50s/it]"
     ]
    },
    {
     "name": "stdout",
     "output_type": "stream",
     "text": [
      "-----------------------------------------\n",
      "Epoch: 1 \n",
      " Loss: 2.5739517211914062 \n",
      " Learning rate: 0.01 \n",
      " Reconstruction Loss L1: 0.42599761486053467 \n",
      " Reconstruction Loss L2: 1.821557641029358 \n",
      " BCE Loss: 0.32639655470848083\n",
      "-----------------------------------------\n"
     ]
    },
    {
     "name": "stderr",
     "output_type": "stream",
     "text": [
      " 12%|███████▋                                                        | 3/25 [01:10<08:41, 23.72s/it]"
     ]
    },
    {
     "name": "stdout",
     "output_type": "stream",
     "text": [
      "-----------------------------------------\n",
      "Epoch: 2 \n",
      " Loss: 2.036926746368408 \n",
      " Learning rate: 0.01 \n",
      " Reconstruction Loss L1: 0.3899261951446533 \n",
      " Reconstruction Loss L2: 1.5763943195343018 \n",
      " BCE Loss: 0.07060633599758148\n",
      "-----------------------------------------\n"
     ]
    },
    {
     "name": "stderr",
     "output_type": "stream",
     "text": [
      " 16%|██████████▏                                                     | 4/25 [01:32<08:03, 23.01s/it]"
     ]
    },
    {
     "name": "stdout",
     "output_type": "stream",
     "text": [
      "-----------------------------------------\n",
      "Epoch: 3 \n",
      " Loss: 1.6370618343353271 \n",
      " Learning rate: 0.01 \n",
      " Reconstruction Loss L1: 0.35467129945755005 \n",
      " Reconstruction Loss L2: 1.2517856359481812 \n",
      " BCE Loss: 0.030604803934693336\n",
      "-----------------------------------------\n"
     ]
    },
    {
     "name": "stderr",
     "output_type": "stream",
     "text": [
      " 20%|████████████▊                                                   | 5/25 [01:55<07:35, 22.79s/it]"
     ]
    },
    {
     "name": "stdout",
     "output_type": "stream",
     "text": [
      "-----------------------------------------\n",
      "Epoch: 4 \n",
      " Loss: 1.5113811492919922 \n",
      " Learning rate: 0.01 \n",
      " Reconstruction Loss L1: 0.33101168274879456 \n",
      " Reconstruction Loss L2: 1.1613099575042725 \n",
      " BCE Loss: 0.019059501588344574\n",
      "-----------------------------------------\n"
     ]
    },
    {
     "name": "stderr",
     "output_type": "stream",
     "text": [
      " 24%|███████████████▎                                                | 6/25 [02:15<06:57, 21.96s/it]"
     ]
    },
    {
     "name": "stdout",
     "output_type": "stream",
     "text": [
      "-----------------------------------------\n",
      "Epoch: 5 \n",
      " Loss: 1.1968605518341064 \n",
      " Learning rate: 0.01 \n",
      " Reconstruction Loss L1: 0.34654244780540466 \n",
      " Reconstruction Loss L2: 0.7962894439697266 \n",
      " BCE Loss: 0.054028674960136414\n",
      "-----------------------------------------\n"
     ]
    },
    {
     "name": "stderr",
     "output_type": "stream",
     "text": [
      " 28%|█████████████████▉                                              | 7/25 [02:39<06:49, 22.73s/it]"
     ]
    },
    {
     "name": "stdout",
     "output_type": "stream",
     "text": [
      "-----------------------------------------\n",
      "Epoch: 6 \n",
      " Loss: 0.9586946368217468 \n",
      " Learning rate: 0.01 \n",
      " Reconstruction Loss L1: 0.27677682042121887 \n",
      " Reconstruction Loss L2: 0.6722704172134399 \n",
      " BCE Loss: 0.00964741688221693\n",
      "-----------------------------------------\n"
     ]
    },
    {
     "name": "stderr",
     "output_type": "stream",
     "text": [
      " 32%|████████████████████▍                                           | 8/25 [03:06<06:45, 23.87s/it]"
     ]
    },
    {
     "name": "stdout",
     "output_type": "stream",
     "text": [
      "-----------------------------------------\n",
      "Epoch: 7 \n",
      " Loss: 0.8625861406326294 \n",
      " Learning rate: 0.01 \n",
      " Reconstruction Loss L1: 0.24817311763763428 \n",
      " Reconstruction Loss L2: 0.6047055125236511 \n",
      " BCE Loss: 0.009707539342343807\n",
      "-----------------------------------------\n"
     ]
    },
    {
     "name": "stderr",
     "output_type": "stream",
     "text": [
      " 36%|███████████████████████                                         | 9/25 [03:31<06:31, 24.45s/it]"
     ]
    },
    {
     "name": "stdout",
     "output_type": "stream",
     "text": [
      "-----------------------------------------\n",
      "Epoch: 8 \n",
      " Loss: 0.8335694074630737 \n",
      " Learning rate: 0.01 \n",
      " Reconstruction Loss L1: 0.25321611762046814 \n",
      " Reconstruction Loss L2: 0.5692776441574097 \n",
      " BCE Loss: 0.011075600050389767\n",
      "-----------------------------------------\n"
     ]
    },
    {
     "name": "stderr",
     "output_type": "stream",
     "text": [
      " 40%|█████████████████████████▏                                     | 10/25 [03:54<06:00, 24.03s/it]"
     ]
    },
    {
     "name": "stdout",
     "output_type": "stream",
     "text": [
      "-----------------------------------------\n",
      "Epoch: 9 \n",
      " Loss: 0.8643959760665894 \n",
      " Learning rate: 0.01 \n",
      " Reconstruction Loss L1: 0.24273425340652466 \n",
      " Reconstruction Loss L2: 0.6117834448814392 \n",
      " BCE Loss: 0.009878273122012615\n",
      "-----------------------------------------\n"
     ]
    },
    {
     "name": "stderr",
     "output_type": "stream",
     "text": [
      " 44%|███████████████████████████▋                                   | 11/25 [04:18<05:35, 23.99s/it]"
     ]
    },
    {
     "name": "stdout",
     "output_type": "stream",
     "text": [
      "-----------------------------------------\n",
      "Epoch: 10 \n",
      " Loss: 0.7622168064117432 \n",
      " Learning rate: 0.01 \n",
      " Reconstruction Loss L1: 0.24211083352565765 \n",
      " Reconstruction Loss L2: 0.508645236492157 \n",
      " BCE Loss: 0.011460751295089722\n",
      "-----------------------------------------\n"
     ]
    },
    {
     "name": "stderr",
     "output_type": "stream",
     "text": [
      " 48%|██████████████████████████████▏                                | 12/25 [04:38<04:53, 22.56s/it]"
     ]
    },
    {
     "name": "stdout",
     "output_type": "stream",
     "text": [
      "-----------------------------------------\n",
      "Epoch: 11 \n",
      " Loss: 0.7101542949676514 \n",
      " Learning rate: 0.01 \n",
      " Reconstruction Loss L1: 0.22184059023857117 \n",
      " Reconstruction Loss L2: 0.47645899653434753 \n",
      " BCE Loss: 0.011854720301926136\n",
      "-----------------------------------------\n"
     ]
    },
    {
     "name": "stderr",
     "output_type": "stream",
     "text": [
      " 52%|████████████████████████████████▊                              | 13/25 [04:58<04:21, 21.79s/it]"
     ]
    },
    {
     "name": "stdout",
     "output_type": "stream",
     "text": [
      "-----------------------------------------\n",
      "Epoch: 12 \n",
      " Loss: 0.6770780682563782 \n",
      " Learning rate: 0.01 \n",
      " Reconstruction Loss L1: 0.2286646068096161 \n",
      " Reconstruction Loss L2: 0.43773216009140015 \n",
      " BCE Loss: 0.0106813358142972\n",
      "-----------------------------------------\n"
     ]
    },
    {
     "name": "stderr",
     "output_type": "stream",
     "text": [
      " 56%|███████████████████████████████████▎                           | 14/25 [05:18<03:53, 21.27s/it]"
     ]
    },
    {
     "name": "stdout",
     "output_type": "stream",
     "text": [
      "-----------------------------------------\n",
      "Epoch: 13 \n",
      " Loss: 0.591942548751831 \n",
      " Learning rate: 0.01 \n",
      " Reconstruction Loss L1: 0.2033885419368744 \n",
      " Reconstruction Loss L2: 0.38249725103378296 \n",
      " BCE Loss: 0.006056758109480143\n",
      "-----------------------------------------\n"
     ]
    },
    {
     "name": "stderr",
     "output_type": "stream",
     "text": [
      " 60%|█████████████████████████████████████▊                         | 15/25 [05:42<03:40, 22.07s/it]"
     ]
    },
    {
     "name": "stdout",
     "output_type": "stream",
     "text": [
      "-----------------------------------------\n",
      "Epoch: 14 \n",
      " Loss: 0.5365226864814758 \n",
      " Learning rate: 0.01 \n",
      " Reconstruction Loss L1: 0.19615556299686432 \n",
      " Reconstruction Loss L2: 0.33548906445503235 \n",
      " BCE Loss: 0.004878041800111532\n",
      "-----------------------------------------\n"
     ]
    },
    {
     "name": "stderr",
     "output_type": "stream",
     "text": [
      " 64%|████████████████████████████████████████▎                      | 16/25 [06:00<03:09, 21.02s/it]"
     ]
    },
    {
     "name": "stdout",
     "output_type": "stream",
     "text": [
      "-----------------------------------------\n",
      "Epoch: 15 \n",
      " Loss: 0.5245802998542786 \n",
      " Learning rate: 0.01 \n",
      " Reconstruction Loss L1: 0.1968267858028412 \n",
      " Reconstruction Loss L2: 0.3233267366886139 \n",
      " BCE Loss: 0.004426755476742983\n",
      "-----------------------------------------\n"
     ]
    },
    {
     "name": "stderr",
     "output_type": "stream",
     "text": [
      " 68%|██████████████████████████████████████████▊                    | 17/25 [06:52<04:02, 30.33s/it]"
     ]
    },
    {
     "name": "stdout",
     "output_type": "stream",
     "text": [
      "-----------------------------------------\n",
      "Epoch: 16 \n",
      " Loss: 0.506738007068634 \n",
      " Learning rate: 0.01 \n",
      " Reconstruction Loss L1: 0.19237197935581207 \n",
      " Reconstruction Loss L2: 0.3097061216831207 \n",
      " BCE Loss: 0.004659871105104685\n",
      "-----------------------------------------\n"
     ]
    },
    {
     "name": "stderr",
     "output_type": "stream",
     "text": [
      " 72%|█████████████████████████████████████████████▎                 | 18/25 [07:16<03:17, 28.26s/it]"
     ]
    },
    {
     "name": "stdout",
     "output_type": "stream",
     "text": [
      "-----------------------------------------\n",
      "Epoch: 17 \n",
      " Loss: 0.5137486457824707 \n",
      " Learning rate: 0.01 \n",
      " Reconstruction Loss L1: 0.1969517320394516 \n",
      " Reconstruction Loss L2: 0.30842557549476624 \n",
      " BCE Loss: 0.008371351286768913\n",
      "-----------------------------------------\n"
     ]
    },
    {
     "name": "stderr",
     "output_type": "stream",
     "text": [
      " 76%|███████████████████████████████████████████████▉               | 19/25 [07:39<02:40, 26.76s/it]"
     ]
    },
    {
     "name": "stdout",
     "output_type": "stream",
     "text": [
      "-----------------------------------------\n",
      "Epoch: 18 \n",
      " Loss: 0.4846108853816986 \n",
      " Learning rate: 0.01 \n",
      " Reconstruction Loss L1: 0.18728560209274292 \n",
      " Reconstruction Loss L2: 0.29342642426490784 \n",
      " BCE Loss: 0.003898851340636611\n",
      "-----------------------------------------\n"
     ]
    },
    {
     "name": "stderr",
     "output_type": "stream",
     "text": [
      " 80%|██████████████████████████████████████████████████▍            | 20/25 [08:04<02:11, 26.21s/it]"
     ]
    },
    {
     "name": "stdout",
     "output_type": "stream",
     "text": [
      "-----------------------------------------\n",
      "Epoch: 19 \n",
      " Loss: 0.4922621250152588 \n",
      " Learning rate: 0.01 \n",
      " Reconstruction Loss L1: 0.19326308369636536 \n",
      " Reconstruction Loss L2: 0.2954482138156891 \n",
      " BCE Loss: 0.0035508223809301853\n",
      "-----------------------------------------\n"
     ]
    },
    {
     "name": "stderr",
     "output_type": "stream",
     "text": [
      " 84%|████████████████████████████████████████████████████▉          | 21/25 [08:26<01:40, 25.10s/it]"
     ]
    },
    {
     "name": "stdout",
     "output_type": "stream",
     "text": [
      "-----------------------------------------\n",
      "Epoch: 20 \n",
      " Loss: 0.4996592104434967 \n",
      " Learning rate: 0.01 \n",
      " Reconstruction Loss L1: 0.19803428649902344 \n",
      " Reconstruction Loss L2: 0.2986869812011719 \n",
      " BCE Loss: 0.0029379543848335743\n",
      "-----------------------------------------\n"
     ]
    },
    {
     "name": "stderr",
     "output_type": "stream",
     "text": [
      " 88%|███████████████████████████████████████████████████████▍       | 22/25 [08:48<01:12, 24.13s/it]"
     ]
    },
    {
     "name": "stdout",
     "output_type": "stream",
     "text": [
      "-----------------------------------------\n",
      "Epoch: 21 \n",
      " Loss: 0.47989991307258606 \n",
      " Learning rate: 0.01 \n",
      " Reconstruction Loss L1: 0.1982889175415039 \n",
      " Reconstruction Loss L2: 0.27798962593078613 \n",
      " BCE Loss: 0.003621357027441263\n",
      "-----------------------------------------\n"
     ]
    },
    {
     "name": "stderr",
     "output_type": "stream",
     "text": [
      " 92%|█████████████████████████████████████████████████████████▉     | 23/25 [09:10<00:47, 23.53s/it]"
     ]
    },
    {
     "name": "stdout",
     "output_type": "stream",
     "text": [
      "-----------------------------------------\n",
      "Epoch: 22 \n",
      " Loss: 0.46810680627822876 \n",
      " Learning rate: 0.01 \n",
      " Reconstruction Loss L1: 0.18972179293632507 \n",
      " Reconstruction Loss L2: 0.27558761835098267 \n",
      " BCE Loss: 0.0027974038384854794\n",
      "-----------------------------------------\n"
     ]
    },
    {
     "name": "stderr",
     "output_type": "stream",
     "text": [
      " 96%|████████████████████████████████████████████████████████████▍  | 24/25 [09:29<00:22, 22.16s/it]"
     ]
    },
    {
     "name": "stdout",
     "output_type": "stream",
     "text": [
      "-----------------------------------------\n",
      "Epoch: 23 \n",
      " Loss: 0.48322558403015137 \n",
      " Learning rate: 0.01 \n",
      " Reconstruction Loss L1: 0.18936043977737427 \n",
      " Reconstruction Loss L2: 0.29056471586227417 \n",
      " BCE Loss: 0.0033004265278577805\n",
      "-----------------------------------------\n"
     ]
    },
    {
     "name": "stderr",
     "output_type": "stream",
     "text": [
      "100%|███████████████████████████████████████████████████████████████| 25/25 [09:54<00:00, 23.76s/it]"
     ]
    },
    {
     "name": "stdout",
     "output_type": "stream",
     "text": [
      "-----------------------------------------\n",
      "Epoch: 24 \n",
      " Loss: 0.47689831256866455 \n",
      " Learning rate: 0.01 \n",
      " Reconstruction Loss L1: 0.19905506074428558 \n",
      " Reconstruction Loss L2: 0.27509406208992004 \n",
      " BCE Loss: 0.002749193226918578\n",
      "-----------------------------------------\n"
     ]
    },
    {
     "name": "stderr",
     "output_type": "stream",
     "text": [
      "\n"
     ]
    }
   ],
   "source": [
    "# Define the optimizer\n",
    "optimizer = torch.optim.Adam(model.parameters(), lr=0.01)\n",
    "#scheduler = torch.optim.lr_scheduler.StepLR(optimizer, step_size=10, gamma=0.1)\n",
    "scheduler = torch.optim.lr_scheduler.ReduceLROnPlateau(optimizer, mode= 'min', factor = 0.9, patience = 10)\n",
    "\n",
    "# Initialize the training loop\n",
    "num_epochs = 25\n",
    "\n",
    "# Training loop\n",
    "for epoch in tqdm(range(num_epochs), ncols = 100):\n",
    "    for i, data in enumerate(trainloader):\n",
    "        labels, hadrons = data\n",
    "        hadrons_hat, z = model(hadrons, labels)\n",
    "        \n",
    "        recons_loss_l1 = nn.functional.l1_loss(hadrons_hat, hadrons)\n",
    "        recons_loss_l2 = nn.functional.mse_loss(hadrons_hat, hadrons)\n",
    "\n",
    "        bce_loss = nn.functional.binary_cross_entropy_with_logits(z, labels)\n",
    "\n",
    "        loss = recons_loss_l1 + recons_loss_l2 + bce_loss\n",
    "\n",
    "        optimizer.zero_grad()\n",
    "        loss.backward()\n",
    "        optimizer.step()\n",
    "        # Update the learning rate scheduler\n",
    "        #scheduler.step(loss)\n",
    "    print('-----------------------------------------')\n",
    "    print('Epoch:', epoch, '\\n', 'Loss:', loss.item(), '\\n', 'Learning rate:', optimizer.param_groups[0]['lr'], '\\n', 'Reconstruction Loss L1:', recons_loss_l1.item(), '\\n', 'Reconstruction Loss L2:', recons_loss_l2.item(), '\\n', 'BCE Loss:', bce_loss.item())\n",
    "    print('-----------------------------------------')\n"
   ]
  },
  {
   "cell_type": "code",
   "execution_count": 15,
   "metadata": {},
   "outputs": [],
   "source": [
    "# Encode the hadrons\n",
    "exp_z = model.encode(exp_pz.unsqueeze(1), torch.tensor(labels_exp).to(torch.float)).detach().numpy()\n",
    "sim_z = model.encode(sim_pz.unsqueeze(1), torch.tensor(labels_sim).to(torch.float)).detach().numpy()\n",
    "# Check the decoder\n",
    "exp_hadrons_hat = model.decode(torch.tensor(exp_z), torch.tensor(labels_exp).to(torch.float)).detach().numpy()\n",
    "sim_hadrons_hat = model.decode(torch.tensor(sim_z), torch.tensor(labels_sim).to(torch.float)).detach().numpy()"
   ]
  },
  {
   "cell_type": "code",
   "execution_count": 16,
   "metadata": {},
   "outputs": [
    {
     "data": {
      "image/png": "[encoded data removed]",
      "text/plain": [
       "<Figure size 600x500 with 1 Axes>"
      ]
     },
     "metadata": {},
     "output_type": "display_data"
    }
   ],
   "source": [
    "# Plot the latent space\n",
    "plt.figure(figsize=(6,5))\n",
    "plt.scatter(exp_z[:, 0], exp_z[:, 1], label = 'Experimental', alpha = 0.5)\n",
    "plt.scatter(sim_z[:, 0], sim_z[:, 1], label = 'Simulated', alpha = 0.5)\n",
    "plt.legend()\n",
    "plt.show()"
   ]
  },
  {
   "cell_type": "code",
   "execution_count": 38,
   "metadata": {},
   "outputs": [
    {
     "data": {
      "text/plain": [
       "(array([   0.,    6.,   27.,   90.,  222.,  482.,  826., 1186., 1688.,\n",
       "        2116., 2433., 3032., 3355., 3347., 3474., 3922., 4145., 4313.,\n",
       "        4418., 4336., 4055., 4175., 3888., 3594., 3398., 3344., 3366.,\n",
       "        3158., 2878., 2632., 2456., 2245., 2089., 1955., 1785., 1530.,\n",
       "        1501., 1323., 1134., 1084., 1048.,  843.,  795.,  614.,  529.,\n",
       "         437.,  304.,  222.,  104.,   65.]),\n",
       " array([ 8.90320015,  9.72448444, 10.54576778, 11.36705208, 12.18833637,\n",
       "        13.00961971, 13.83090401, 14.6521883 , 15.47347164, 16.29475594,\n",
       "        17.11603928, 17.93732452, 18.75860786, 19.5798912 , 20.40117645,\n",
       "        21.22245979, 22.04374313, 22.86502838, 23.68631172, 24.50759506,\n",
       "        25.32888031, 26.15016365, 26.97144699, 27.79273224, 28.61401558,\n",
       "        29.43529892, 30.25658417, 31.07786751, 31.89915276, 32.7204361 ,\n",
       "        33.54172134, 34.36300278, 35.18428802, 36.00557327, 36.82685471,\n",
       "        37.64813995, 38.4694252 , 39.29070663, 40.11199188, 40.93327713,\n",
       "        41.75455856, 42.57584381, 43.39712906, 44.21841049, 45.03969574,\n",
       "        45.86098099, 46.68226242, 47.50354767, 48.32483292, 49.14611435,\n",
       "        49.9673996 ]),\n",
       " <BarContainer object of 50 artists>)"
      ]
     },
     "execution_count": 38,
     "metadata": {},
     "output_type": "execute_result"
    },
    {
     "data": {
      "image/png": "[encoded data removed]",
      "text/plain": [
       "<Figure size 600x500 with 1 Axes>"
      ]
     },
     "metadata": {},
     "output_type": "display_data"
    }
   ],
   "source": [
    "# Plot the hadrons\n",
    "plt.figure(figsize=(6,5))\n",
    "_, bins, _ = plt.hist(sim_pz[:,0], 50, alpha = 0.75, label = 'Experimental')\n",
    "plt.hist(sim_hadrons_hat[:,0,0], bins, alpha = 0.75, label = 'Experimental hat')\n",
    "plt.legend()\n",
    "plt.tight_layout()\n"
   ]
  },
  {
   "cell_type": "code",
   "execution_count": 27,
   "metadata": {},
   "outputs": [
    {
     "data": {
      "text/plain": [
       "(array([   0.,    0.,    0.,   15.,  159.,  422.,  622.,  967., 1202.,\n",
       "        1613., 2186., 2386., 2756., 3052., 3393., 3644., 3902., 3863.,\n",
       "        4011., 3908., 3718., 3864., 3568., 3531., 3348., 3338., 3219.,\n",
       "        3037., 3005., 2795., 2588., 2484., 2329., 2137., 2079., 1875.,\n",
       "        1728., 1579., 1543., 1401., 1237., 1154., 1030.,  935.,  826.,\n",
       "         711.,  701.,  579.,  509.,  400.]),\n",
       " array([ 9.04337025,  9.86157322, 10.67977524, 11.49797821, 12.31618023,\n",
       "        13.1343832 , 13.95258522, 14.77078819, 15.58899117, 16.40719414,\n",
       "        17.2253952 , 18.04359818, 18.86180115, 19.68000412, 20.49820709,\n",
       "        21.31640816, 22.13461113, 22.9528141 , 23.77101707, 24.58922005,\n",
       "        25.40742111, 26.22562408, 27.04382706, 27.86203003, 28.68023109,\n",
       "        29.49843407, 30.31663704, 31.13484001, 31.95304298, 32.77124405,\n",
       "        33.58944702, 34.40764999, 35.22585297, 36.04405594, 36.86225891,\n",
       "        37.68046188, 38.49866104, 39.31686401, 40.13506699, 40.95326996,\n",
       "        41.77147293, 42.5896759 , 43.40787888, 44.22608185, 45.04428482,\n",
       "        45.86248779, 46.68068695, 47.49888992, 48.3170929 , 49.13529587,\n",
       "        49.95349884]),\n",
       " <BarContainer object of 50 artists>)"
      ]
     },
     "execution_count": 27,
     "metadata": {},
     "output_type": "execute_result"
    },
    {
     "data": {
      "image/png": "[encoded data removed]",
      "text/plain": [
       "<Figure size 600x500 with 1 Axes>"
      ]
     },
     "metadata": {},
     "output_type": "display_data"
    }
   ],
   "source": [
    "# Plot the hadrons\n",
    "plt.figure(figsize=(6,5))\n",
    "_, bins, _ = plt.hist(exp_pz[:,0], 50, alpha = 0.75, label = 'Experimental')\n",
    "plt.hist(exp_hadrons_hat[:,0,0], bins, alpha = 0.75, label = 'Experimental hat')"
   ]
  },
  {
   "cell_type": "code",
   "execution_count": 39,
   "metadata": {},
   "outputs": [
    {
     "data": {
      "text/plain": [
       "(array([  11.,   44.,   98.,  250.,  437.,  684., 1044., 1495., 1905.,\n",
       "        2261., 2711., 3183., 3400., 3729., 3842., 4155., 4141., 4129.,\n",
       "        4138., 3990., 3863., 3818., 3619., 3622., 3355., 3154., 3035.,\n",
       "        2767., 2804., 2573., 2404., 2149., 2043., 1784., 1718., 1578.,\n",
       "        1504., 1324., 1207., 1071.,  948.,  839.,  718.,  620.,  553.,\n",
       "         413.,  344.,  246.,  190.,   86.]),\n",
       " array([ 9.04337025,  9.86157322, 10.67977524, 11.49797821, 12.31618023,\n",
       "        13.1343832 , 13.95258522, 14.77078819, 15.58899117, 16.40719414,\n",
       "        17.2253952 , 18.04359818, 18.86180115, 19.68000412, 20.49820709,\n",
       "        21.31640816, 22.13461113, 22.9528141 , 23.77101707, 24.58922005,\n",
       "        25.40742111, 26.22562408, 27.04382706, 27.86203003, 28.68023109,\n",
       "        29.49843407, 30.31663704, 31.13484001, 31.95304298, 32.77124405,\n",
       "        33.58944702, 34.40764999, 35.22585297, 36.04405594, 36.86225891,\n",
       "        37.68046188, 38.49866104, 39.31686401, 40.13506699, 40.95326996,\n",
       "        41.77147293, 42.5896759 , 43.40787888, 44.22608185, 45.04428482,\n",
       "        45.86248779, 46.68068695, 47.49888992, 48.3170929 , 49.13529587,\n",
       "        49.95349884]),\n",
       " <BarContainer object of 50 artists>)"
      ]
     },
     "execution_count": 39,
     "metadata": {},
     "output_type": "execute_result"
    },
    {
     "data": {
      "image/png": "[encoded data removed]",
      "text/plain": [
       "<Figure size 600x500 with 1 Axes>"
      ]
     },
     "metadata": {},
     "output_type": "display_data"
    }
   ],
   "source": [
    "# Plot the hadrons\n",
    "plt.figure(figsize=(6,5))\n",
    "_, bins, _ = plt.hist(exp_pz[:,0], 50, alpha = 0.75, label = 'Experimental')\n",
    "plt.hist(sim_pz[:,0], bins, alpha = 0.75, label = 'Experimental hat')"
   ]
  },
  {
   "cell_type": "code",
   "execution_count": 40,
   "metadata": {},
   "outputs": [],
   "source": [
    "# Save the model\n",
    "torch.save(model.state_dict(), 'compressor.pt')"
   ]
  },
  {
   "cell_type": "code",
   "execution_count": null,
   "metadata": {},
   "outputs": [],
   "source": []
  }
 ],
 "metadata": {
  "kernelspec": {
   "display_name": "Python 3",
   "language": "python",
   "name": "python3"
  },
  "language_info": {
   "codemirror_mode": {
    "name": "ipython",
    "version": 3
   },
   "file_extension": ".py",
   "mimetype": "text/x-python",
   "name": "python",
   "nbconvert_exporter": "python",
   "pygments_lexer": "ipython3",
   "version": "3.11.9"
  }
 },
 "nbformat": 4,
 "nbformat_minor": 2
}
