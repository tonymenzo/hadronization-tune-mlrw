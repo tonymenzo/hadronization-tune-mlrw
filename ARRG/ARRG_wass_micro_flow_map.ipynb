{
 "cells": [
  {
   "cell_type": "code",
   "execution_count": 1,
   "metadata": {},
   "outputs": [],
   "source": [
    "from ARRG_micro import *"
   ]
  },
  {
   "cell_type": "code",
   "execution_count": 2,
   "metadata": {},
   "outputs": [],
   "source": [
    "class ObservableDataset(Dataset):\n",
    "\t\"\"\"\n",
    "\tConverts observable dataset into PyTorch syntax.\n",
    "\t\"\"\"\n",
    "\tdef __init__(self, data):\n",
    "\t\tself.data = data\n",
    "\n",
    "\tdef __len__(self):\n",
    "\t\treturn self.data.shape[0]\n",
    "\n",
    "\tdef __getitem__(self, idx):\n",
    "\t\tsample = self.data[idx]\n",
    "\t\treturn sample"
   ]
  },
  {
   "cell_type": "code",
   "execution_count": 3,
   "metadata": {},
   "outputs": [],
   "source": [
    "def a_b_grid(x_range, y_range, n_points):\n",
    "    \"\"\"\n",
    "    Creates a grid of values within a two-dimensional range and returns it in a flattened tensor.\n",
    "\n",
    "    Parameters:\n",
    "    x_range (tuple): A tuple of (min, max) for the x-axis range.\n",
    "    y_range (tuple): A tuple of (min, max) for the y-axis range.\n",
    "    steps (int): --- The number of steps/points in each dimension.\n",
    "\n",
    "    Returns:\n",
    "    torch.Tensor: A flattened tensor containing all the grid points.\n",
    "    \"\"\"\n",
    "    # Create linearly spaced points for each range\n",
    "    x_points = torch.linspace(x_range[0], x_range[1], n_points)\n",
    "    y_points = torch.linspace(y_range[0], y_range[1], n_points)\n",
    "\n",
    "    # Create a meshgrid from the x and y points\n",
    "    x_grid, y_grid = torch.meshgrid(x_points, y_points, indexing='ij')\n",
    "\n",
    "    # Flatten the grid and stack the coordinates\n",
    "    grid_flattened = torch.stack([x_grid.flatten(), y_grid.flatten()], dim=1)\n",
    "\n",
    "    return grid_flattened"
   ]
  },
  {
   "cell_type": "code",
   "execution_count": 4,
   "metadata": {},
   "outputs": [
    {
     "name": "stdout",
     "output_type": "stream",
     "text": [
      "Experimental hadrons shape: (100000, 75, 5)\n",
      "Simulated hadrons shape: (100000, 75, 5)\n",
      "Simulated z shape: (50000, 105, 101)\n",
      "Simulated fPrel shape: (50000, 105, 100)\n",
      "Experimental multiplicity shape: torch.Size([15000, 75, 5])\n",
      "Simulated multiplicity shape: torch.Size([15000, 75, 5])\n",
      "Simulated z shape: torch.Size([15000, 105, 101])\n",
      "Simulated fPrel shape: torch.Size([15000, 105, 100])\n"
     ]
    }
   ],
   "source": [
    "# Paths to the datasets on perlmutter\n",
    "exp_hadrons_PATH = '../pgun_qqbar_finalTwo_hadrons_a_0.68_b_0.98_sigma_0.335_N_1e5.npy'\n",
    "#exp_accept_reject_PATH = '/global/cfs/projectdirs/m3246/hadronization-tune-mlrw-data/pgun_qqbar_accept_reject_z_a_0.68_b_0.98_sigma_0.335_N_1e6.npy'\n",
    "sim_hadrons_PATH = '../pgun_qqbar_finalTwo_hadrons_a_0.72_b_0.88_sigma_0.335_N_1e5.npy'\n",
    "sim_accept_reject_PATH = '../pgun_qqbar_finalTwo_accept_reject_z_a_0.72_b_0.88_sigma_0.335_N_50e3.npy'\n",
    "sim_fPrel_PATH = '../pgun_qqbar_finalTwo_fPrel_a_0.72_b_0.88_sigma_0.335_N_50e3.npy'\n",
    "\n",
    "# Load the arrays\n",
    "exp_hadrons       = np.load(exp_hadrons_PATH, mmap_mode=\"r\")\n",
    "sim_hadrons       = np.load(sim_hadrons_PATH, mmap_mode=\"r\")\n",
    "sim_accept_reject = np.load(sim_accept_reject_PATH, mmap_mode = \"r\")\n",
    "sim_fPrel         = np.load(sim_fPrel_PATH, mmap_mode = \"r\")\n",
    "\n",
    "# Print dataset shapes\n",
    "print('Experimental hadrons shape:', exp_hadrons.shape)\n",
    "print('Simulated hadrons shape:', sim_hadrons.shape)\n",
    "print('Simulated z shape:', sim_accept_reject.shape)\n",
    "print('Simulated fPrel shape:', sim_fPrel.shape)\n",
    "\n",
    "# Restrict to a subset of the full dataset (for memory)\n",
    "N_events = int(15000)\n",
    "\n",
    "# Convert into torch objects\n",
    "sim_hadron_flow   = torch.Tensor(sim_hadrons[0:N_events].copy())\n",
    "sim_accept_reject = torch.Tensor(sim_accept_reject[0:N_events].copy())\n",
    "sim_fPrel         = torch.Tensor(sim_fPrel[0:N_events].copy())\n",
    "exp_hadron_flow   = torch.Tensor(exp_hadrons[0:N_events].copy())\n",
    "\n",
    "# Check the accepted z-values, if z == 1 reduce it by epsilon (a very nasty bug to find).\n",
    "# The a-coefficient when computing the likelihood has a term propotional to log(1-z). If \n",
    "# z = 1, this term diverges to -inf and completely destroys the backward pass.\n",
    "epsilon = 1e-5\n",
    "sim_accept_reject[sim_accept_reject == 1] = 1 - epsilon\n",
    "\n",
    "# Print dataset shapes\n",
    "print('Experimental multiplicity shape:', exp_hadron_flow.shape)\n",
    "print('Simulated multiplicity shape:', sim_hadron_flow.shape)\n",
    "print('Simulated z shape:', sim_accept_reject.shape)\n",
    "print('Simulated fPrel shape:', sim_fPrel.shape)\n",
    "\n",
    "# Prepare data for DataLoader\n",
    "sim_hadron_flow   = ObservableDataset(sim_hadron_flow)\n",
    "sim_accept_reject = ObservableDataset(sim_accept_reject)\n",
    "sim_mT            = ObservableDataset(sim_fPrel)\n",
    "exp_hadron_flow   = ObservableDataset(exp_hadron_flow)"
   ]
  },
  {
   "cell_type": "code",
   "execution_count": 5,
   "metadata": {},
   "outputs": [
    {
     "name": "stdout",
     "output_type": "stream",
     "text": [
      "tensor([[-1.3050e-01,  5.3407e-01,  1.2875e+01,  1.2887e+01,  1.3957e-01],\n",
      "        [ 1.3625e-01, -6.7473e-01,  1.4843e+01,  1.4860e+01,  1.3957e-01],\n",
      "        [ 2.3702e-01,  1.1233e-01,  1.6519e+01,  1.6521e+01,  1.3498e-01],\n",
      "        [ 1.9211e-02,  1.1466e-01,  2.4827e+00,  2.4894e+00,  1.3957e-01],\n",
      "        [-5.1677e-01, -1.9544e-01,  1.9018e+00,  1.9850e+00,  1.3498e-01],\n",
      "        [-1.9343e-01, -5.1813e-01, -1.1360e+01,  1.1374e+01,  1.3957e-01],\n",
      "        [ 3.8620e-01, -1.8503e-01,  9.6767e-01,  1.0674e+00,  1.3957e-01],\n",
      "        [ 2.1271e-01,  3.0126e-01, -6.7203e-01,  7.7917e-01,  1.3957e-01],\n",
      "        [-2.3610e-01,  5.7475e-01, -1.7802e+00,  1.8907e+00,  1.3957e-01],\n",
      "        [-3.0081e-03, -6.0890e-01, -2.3597e+00,  2.4407e+00,  1.3498e-01],\n",
      "        [-1.9194e-01, -3.5481e-01, -1.2469e+00,  1.3179e+00,  1.3957e-01],\n",
      "        [-4.6640e-02,  4.5368e-01, -9.0631e-01,  1.0235e+00,  1.3498e-01],\n",
      "        [ 2.5689e-01,  8.0712e-01, -1.6802e+01,  1.6824e+01,  1.3957e-01],\n",
      "        [ 0.0000e+00,  0.0000e+00,  0.0000e+00,  0.0000e+00,  0.0000e+00],\n",
      "        [ 0.0000e+00,  0.0000e+00,  0.0000e+00,  0.0000e+00,  0.0000e+00],\n",
      "        [ 0.0000e+00,  0.0000e+00,  0.0000e+00,  0.0000e+00,  0.0000e+00],\n",
      "        [ 0.0000e+00,  0.0000e+00,  0.0000e+00,  0.0000e+00,  0.0000e+00],\n",
      "        [ 0.0000e+00,  0.0000e+00,  0.0000e+00,  0.0000e+00,  0.0000e+00],\n",
      "        [ 0.0000e+00,  0.0000e+00,  0.0000e+00,  0.0000e+00,  0.0000e+00],\n",
      "        [ 0.0000e+00,  0.0000e+00,  0.0000e+00,  0.0000e+00,  0.0000e+00],\n",
      "        [ 0.0000e+00,  0.0000e+00,  0.0000e+00,  0.0000e+00,  0.0000e+00],\n",
      "        [ 0.0000e+00,  0.0000e+00,  0.0000e+00,  0.0000e+00,  0.0000e+00],\n",
      "        [ 0.0000e+00,  0.0000e+00,  0.0000e+00,  0.0000e+00,  0.0000e+00],\n",
      "        [ 0.0000e+00,  0.0000e+00,  0.0000e+00,  0.0000e+00,  0.0000e+00],\n",
      "        [ 0.0000e+00,  0.0000e+00,  0.0000e+00,  0.0000e+00,  0.0000e+00],\n",
      "        [ 0.0000e+00,  0.0000e+00,  0.0000e+00,  0.0000e+00,  0.0000e+00],\n",
      "        [ 0.0000e+00,  0.0000e+00,  0.0000e+00,  0.0000e+00,  0.0000e+00],\n",
      "        [ 0.0000e+00,  0.0000e+00,  0.0000e+00,  0.0000e+00,  0.0000e+00],\n",
      "        [ 0.0000e+00,  0.0000e+00,  0.0000e+00,  0.0000e+00,  0.0000e+00],\n",
      "        [ 0.0000e+00,  0.0000e+00,  0.0000e+00,  0.0000e+00,  0.0000e+00],\n",
      "        [ 0.0000e+00,  0.0000e+00,  0.0000e+00,  0.0000e+00,  0.0000e+00],\n",
      "        [ 0.0000e+00,  0.0000e+00,  0.0000e+00,  0.0000e+00,  0.0000e+00],\n",
      "        [ 0.0000e+00,  0.0000e+00,  0.0000e+00,  0.0000e+00,  0.0000e+00],\n",
      "        [ 0.0000e+00,  0.0000e+00,  0.0000e+00,  0.0000e+00,  0.0000e+00],\n",
      "        [ 0.0000e+00,  0.0000e+00,  0.0000e+00,  0.0000e+00,  0.0000e+00],\n",
      "        [ 0.0000e+00,  0.0000e+00,  0.0000e+00,  0.0000e+00,  0.0000e+00],\n",
      "        [ 0.0000e+00,  0.0000e+00,  0.0000e+00,  0.0000e+00,  0.0000e+00],\n",
      "        [ 0.0000e+00,  0.0000e+00,  0.0000e+00,  0.0000e+00,  0.0000e+00],\n",
      "        [ 0.0000e+00,  0.0000e+00,  0.0000e+00,  0.0000e+00,  0.0000e+00],\n",
      "        [ 0.0000e+00,  0.0000e+00,  0.0000e+00,  0.0000e+00,  0.0000e+00],\n",
      "        [ 0.0000e+00,  0.0000e+00,  0.0000e+00,  0.0000e+00,  0.0000e+00],\n",
      "        [ 0.0000e+00,  0.0000e+00,  0.0000e+00,  0.0000e+00,  0.0000e+00],\n",
      "        [ 0.0000e+00,  0.0000e+00,  0.0000e+00,  0.0000e+00,  0.0000e+00],\n",
      "        [ 0.0000e+00,  0.0000e+00,  0.0000e+00,  0.0000e+00,  0.0000e+00],\n",
      "        [ 0.0000e+00,  0.0000e+00,  0.0000e+00,  0.0000e+00,  0.0000e+00],\n",
      "        [ 0.0000e+00,  0.0000e+00,  0.0000e+00,  0.0000e+00,  0.0000e+00],\n",
      "        [ 0.0000e+00,  0.0000e+00,  0.0000e+00,  0.0000e+00,  0.0000e+00],\n",
      "        [ 0.0000e+00,  0.0000e+00,  0.0000e+00,  0.0000e+00,  0.0000e+00],\n",
      "        [ 0.0000e+00,  0.0000e+00,  0.0000e+00,  0.0000e+00,  0.0000e+00],\n",
      "        [ 0.0000e+00,  0.0000e+00,  0.0000e+00,  0.0000e+00,  0.0000e+00],\n",
      "        [ 0.0000e+00,  0.0000e+00,  0.0000e+00,  0.0000e+00,  0.0000e+00],\n",
      "        [ 0.0000e+00,  0.0000e+00,  0.0000e+00,  0.0000e+00,  0.0000e+00],\n",
      "        [ 0.0000e+00,  0.0000e+00,  0.0000e+00,  0.0000e+00,  0.0000e+00],\n",
      "        [ 0.0000e+00,  0.0000e+00,  0.0000e+00,  0.0000e+00,  0.0000e+00],\n",
      "        [ 0.0000e+00,  0.0000e+00,  0.0000e+00,  0.0000e+00,  0.0000e+00],\n",
      "        [ 0.0000e+00,  0.0000e+00,  0.0000e+00,  0.0000e+00,  0.0000e+00],\n",
      "        [ 0.0000e+00,  0.0000e+00,  0.0000e+00,  0.0000e+00,  0.0000e+00],\n",
      "        [ 0.0000e+00,  0.0000e+00,  0.0000e+00,  0.0000e+00,  0.0000e+00],\n",
      "        [ 0.0000e+00,  0.0000e+00,  0.0000e+00,  0.0000e+00,  0.0000e+00],\n",
      "        [ 0.0000e+00,  0.0000e+00,  0.0000e+00,  0.0000e+00,  0.0000e+00],\n",
      "        [ 0.0000e+00,  0.0000e+00,  0.0000e+00,  0.0000e+00,  0.0000e+00],\n",
      "        [ 0.0000e+00,  0.0000e+00,  0.0000e+00,  0.0000e+00,  0.0000e+00],\n",
      "        [ 0.0000e+00,  0.0000e+00,  0.0000e+00,  0.0000e+00,  0.0000e+00],\n",
      "        [ 0.0000e+00,  0.0000e+00,  0.0000e+00,  0.0000e+00,  0.0000e+00],\n",
      "        [ 0.0000e+00,  0.0000e+00,  0.0000e+00,  0.0000e+00,  0.0000e+00],\n",
      "        [ 0.0000e+00,  0.0000e+00,  0.0000e+00,  0.0000e+00,  0.0000e+00],\n",
      "        [ 0.0000e+00,  0.0000e+00,  0.0000e+00,  0.0000e+00,  0.0000e+00],\n",
      "        [ 0.0000e+00,  0.0000e+00,  0.0000e+00,  0.0000e+00,  0.0000e+00],\n",
      "        [ 0.0000e+00,  0.0000e+00,  0.0000e+00,  0.0000e+00,  0.0000e+00],\n",
      "        [ 0.0000e+00,  0.0000e+00,  0.0000e+00,  0.0000e+00,  0.0000e+00],\n",
      "        [ 0.0000e+00,  0.0000e+00,  0.0000e+00,  0.0000e+00,  0.0000e+00],\n",
      "        [ 0.0000e+00,  0.0000e+00,  0.0000e+00,  0.0000e+00,  0.0000e+00],\n",
      "        [ 0.0000e+00,  0.0000e+00,  0.0000e+00,  0.0000e+00,  0.0000e+00],\n",
      "        [ 0.0000e+00,  0.0000e+00,  0.0000e+00,  0.0000e+00,  0.0000e+00],\n",
      "        [ 0.0000e+00,  0.0000e+00,  0.0000e+00,  0.0000e+00,  0.0000e+00]])\n"
     ]
    }
   ],
   "source": [
    "print(exp_hadron_flow[0])"
   ]
  },
  {
   "cell_type": "code",
   "execution_count": 6,
   "metadata": {},
   "outputs": [],
   "source": [
    "# Set batch size -- set it eqaul to the number of events, we only want one 'batch'\n",
    "batch_size = N_events\n",
    "\n",
    "# Initialize data-loaders\n",
    "sim_observable_dataloader    = DataLoader(sim_hadron_flow,   batch_size = batch_size, shuffle = False)\n",
    "sim_accept_reject_dataloader = DataLoader(sim_accept_reject, batch_size = batch_size, shuffle = False)\n",
    "sim_fPrel_dataloader         = DataLoader(sim_fPrel,         batch_size = batch_size, shuffle = False)\n",
    "exp_observable_dataloader    = DataLoader(exp_hadron_flow,   batch_size = batch_size, shuffle = False)"
   ]
  },
  {
   "cell_type": "code",
   "execution_count": 7,
   "metadata": {},
   "outputs": [
    {
     "name": "stdout",
     "output_type": "stream",
     "text": [
      "Size of sim_observable_dataloader: 15000\n",
      "Size of sim_accept_reject_dataloader: 15000\n",
      "Size of sim_fPrel_dataloader: 15000\n",
      "Size of exp_observable_dataloader: 15000\n"
     ]
    }
   ],
   "source": [
    "print('Size of sim_observable_dataloader:', len(sim_observable_dataloader.dataset))\n",
    "print('Size of sim_accept_reject_dataloader:', len(sim_accept_reject_dataloader.dataset))\n",
    "print('Size of sim_fPrel_dataloader:', len(sim_fPrel_dataloader.dataset))\n",
    "print('Size of exp_observable_dataloader:', len(exp_observable_dataloader.dataset))"
   ]
  },
  {
   "cell_type": "code",
   "execution_count": 8,
   "metadata": {},
   "outputs": [
    {
     "name": "stdout",
     "output_type": "stream",
     "text": [
      "Each event has been zero-padded to a length of 105\n",
      "Each emission has been zero-padded to a length of 101\n"
     ]
    }
   ],
   "source": [
    "# Training hyperparameters\n",
    "over_sample_factor = 10.0\n",
    "# The flow map will be dependent on the learning rate\n",
    "learning_rate = 0.01\n",
    "fixed_binning = True\n",
    "# Length of event buffer\n",
    "dim_multiplicity  = sim_accept_reject_dataloader.dataset.data.shape[1]\n",
    "dim_accept_reject = sim_accept_reject_dataloader.dataset.data.shape[2]\n",
    "\n",
    "print('Each event has been zero-padded to a length of', dim_multiplicity)\n",
    "print('Each emission has been zero-padded to a length of', dim_accept_reject)\n",
    "\n",
    "# Define base parameters of simulated data (a, b)\n",
    "params_base = torch.tensor([0.72, 0.88])\n",
    "# Define a grid of initial parameters\n",
    "a_range  = (0.6-0.1, 0.80+0.1)#(0.6, 0.80)\n",
    "b_range  = (0.85-0.1, 1.05+0.1)#(0.85, 1.05)\n",
    "n_points = 10\n",
    "a_b_init = a_b_grid(a_range, b_range, n_points)"
   ]
  },
  {
   "cell_type": "code",
   "execution_count": 9,
   "metadata": {},
   "outputs": [
    {
     "name": "stdout",
     "output_type": "stream",
     "text": [
      "Initial a_b grid shape: torch.Size([100, 2])\n"
     ]
    }
   ],
   "source": [
    "print('Initial a_b grid shape:', a_b_init.shape)"
   ]
  },
  {
   "cell_type": "code",
   "execution_count": 10,
   "metadata": {},
   "outputs": [],
   "source": [
    "# Irrelevant parameters for the flow plot that must be initialized for the ARRG class\n",
    "epochs = 1\n",
    "learning_rate = 0.01\n",
    "\n",
    "# Create an ARRG instance\n",
    "ARRG = ARRG(epochs = epochs, dim_multiplicity = dim_multiplicity, dim_accept_reject = dim_accept_reject, over_sample_factor = over_sample_factor,\n",
    "\t\t\tparams_base = params_base, sim_observable_dataloader = sim_observable_dataloader, sim_z_dataloader = sim_accept_reject_dataloader, \n",
    "\t\t\tsim_fPrel_dataloader = sim_fPrel_dataloader, exp_observable_dataloader = exp_observable_dataloader, print_details = False, \n",
    "\t\t\tresults_dir = None, params_init = None, fixed_binning = True)"
   ]
  },
  {
   "cell_type": "code",
   "execution_count": 11,
   "metadata": {},
   "outputs": [
    {
     "name": "stderr",
     "output_type": "stream",
     "text": [
      "  0%|                                                                       | 0/100 [00:00<?, ?it/s]/global/homes/t/tmenzo/.conda/envs/py311/lib/python3.11/site-packages/ot/lp/__init__.py:580: UserWarning: numItermax reached before optimality. Try to increase numItermax.\n",
      "  check_result(result_code)\n",
      "  1%|▋                                                              | 1/100 [00:31<52:30, 31.82s/it]"
     ]
    },
    {
     "name": "stdout",
     "output_type": "stream",
     "text": [
      "----------------------------------------------\n",
      "Loss: 0.15250176\n",
      "a: 0.5\n",
      "Gradient of a: -1.5443392\n",
      "b: 0.75\n",
      "Gradient of b: 0.41493618\n",
      "----------------------------------------------\n"
     ]
    },
    {
     "name": "stderr",
     "output_type": "stream",
     "text": [
      "  2%|█▎                                                             | 2/100 [01:03<52:13, 31.98s/it]"
     ]
    },
    {
     "name": "stdout",
     "output_type": "stream",
     "text": [
      "----------------------------------------------\n",
      "Loss: 0.19004925\n",
      "a: 0.5\n",
      "Gradient of a: -3693.8345\n",
      "b: 0.79444444\n",
      "Gradient of b: 457.54553\n",
      "----------------------------------------------\n"
     ]
    },
    {
     "name": "stderr",
     "output_type": "stream",
     "text": [
      "  3%|█▉                                                             | 3/100 [01:35<51:03, 31.59s/it]"
     ]
    },
    {
     "name": "stdout",
     "output_type": "stream",
     "text": [
      "----------------------------------------------\n",
      "Loss: 0.23676918\n",
      "a: 0.5\n",
      "Gradient of a: -1.653852\n",
      "b: 0.8388889\n",
      "Gradient of b: 0.66548234\n",
      "----------------------------------------------\n"
     ]
    },
    {
     "name": "stderr",
     "output_type": "stream",
     "text": [
      "  4%|██▌                                                            | 4/100 [02:04<49:28, 30.92s/it]"
     ]
    },
    {
     "name": "stdout",
     "output_type": "stream",
     "text": [
      "----------------------------------------------\n",
      "Loss: 0.2925769\n",
      "a: 0.5\n",
      "Gradient of a: -1.8048054\n",
      "b: 0.8833333\n",
      "Gradient of b: 0.5566435\n",
      "----------------------------------------------\n"
     ]
    },
    {
     "name": "stderr",
     "output_type": "stream",
     "text": [
      "  5%|███▏                                                           | 5/100 [02:34<48:12, 30.45s/it]"
     ]
    },
    {
     "name": "stdout",
     "output_type": "stream",
     "text": [
      "----------------------------------------------\n",
      "Loss: 0.35037896\n",
      "a: 0.5\n",
      "Gradient of a: -4874.0547\n",
      "b: 0.92777777\n",
      "Gradient of b: 3747.6912\n",
      "----------------------------------------------\n"
     ]
    },
    {
     "name": "stderr",
     "output_type": "stream",
     "text": [
      "  6%|███▊                                                           | 6/100 [03:04<47:19, 30.20s/it]"
     ]
    },
    {
     "name": "stdout",
     "output_type": "stream",
     "text": [
      "----------------------------------------------\n",
      "Loss: 0.42277506\n",
      "a: 0.5\n",
      "Gradient of a: -3625.5564\n",
      "b: 0.9722222\n",
      "Gradient of b: 4846.0464\n",
      "----------------------------------------------\n"
     ]
    },
    {
     "name": "stderr",
     "output_type": "stream",
     "text": [
      "  7%|████▍                                                          | 7/100 [03:33<46:27, 29.97s/it]"
     ]
    },
    {
     "name": "stdout",
     "output_type": "stream",
     "text": [
      "----------------------------------------------\n",
      "Loss: 0.49543947\n",
      "a: 0.5\n",
      "Gradient of a: -14081.212\n",
      "b: 1.0166667\n",
      "Gradient of b: 14905.291\n",
      "----------------------------------------------\n"
     ]
    },
    {
     "name": "stderr",
     "output_type": "stream",
     "text": [
      "  8%|█████                                                          | 8/100 [04:04<46:10, 30.11s/it]"
     ]
    },
    {
     "name": "stdout",
     "output_type": "stream",
     "text": [
      "----------------------------------------------\n",
      "Loss: 0.5725539\n",
      "a: 0.5\n",
      "Gradient of a: -6686.3765\n",
      "b: 1.0611111\n",
      "Gradient of b: 7955.6226\n",
      "----------------------------------------------\n"
     ]
    },
    {
     "name": "stderr",
     "output_type": "stream",
     "text": [
      "  9%|█████▋                                                         | 9/100 [04:33<45:16, 29.85s/it]"
     ]
    },
    {
     "name": "stdout",
     "output_type": "stream",
     "text": [
      "----------------------------------------------\n",
      "Loss: 0.6457777\n",
      "a: 0.5\n",
      "Gradient of a: -39221.594\n",
      "b: 1.1055555\n",
      "Gradient of b: 40885.4\n",
      "----------------------------------------------\n"
     ]
    },
    {
     "name": "stderr",
     "output_type": "stream",
     "text": [
      " 10%|██████▏                                                       | 10/100 [05:02<44:36, 29.74s/it]"
     ]
    },
    {
     "name": "stdout",
     "output_type": "stream",
     "text": [
      "----------------------------------------------\n",
      "Loss: 0.7242904\n",
      "a: 0.5\n",
      "Gradient of a: -77802.89\n",
      "b: 1.15\n",
      "Gradient of b: 62980.242\n",
      "----------------------------------------------\n"
     ]
    },
    {
     "name": "stderr",
     "output_type": "stream",
     "text": [
      " 11%|██████▊                                                       | 11/100 [05:33<44:30, 30.00s/it]"
     ]
    },
    {
     "name": "stdout",
     "output_type": "stream",
     "text": [
      "----------------------------------------------\n",
      "Loss: 0.08783137\n",
      "a: 0.54444444\n",
      "Gradient of a: -0.29035577\n",
      "b: 0.75\n",
      "Gradient of b: -0.17243251\n",
      "----------------------------------------------\n"
     ]
    },
    {
     "name": "stderr",
     "output_type": "stream",
     "text": [
      " 12%|███████▍                                                      | 12/100 [06:04<44:32, 30.37s/it]"
     ]
    },
    {
     "name": "stdout",
     "output_type": "stream",
     "text": [
      "----------------------------------------------\n",
      "Loss: 0.09982455\n",
      "a: 0.54444444\n",
      "Gradient of a: -0.9121449\n",
      "b: 0.79444444\n",
      "Gradient of b: 0.25585067\n",
      "----------------------------------------------\n"
     ]
    },
    {
     "name": "stderr",
     "output_type": "stream",
     "text": [
      " 13%|████████                                                      | 13/100 [06:34<43:52, 30.26s/it]"
     ]
    },
    {
     "name": "stdout",
     "output_type": "stream",
     "text": [
      "----------------------------------------------\n",
      "Loss: 0.12720048\n",
      "a: 0.54444444\n",
      "Gradient of a: -0.97818285\n",
      "b: 0.8388889\n",
      "Gradient of b: 0.30879968\n",
      "----------------------------------------------\n"
     ]
    },
    {
     "name": "stderr",
     "output_type": "stream",
     "text": [
      " 14%|████████▋                                                     | 14/100 [07:05<43:28, 30.33s/it]"
     ]
    },
    {
     "name": "stdout",
     "output_type": "stream",
     "text": [
      "----------------------------------------------\n",
      "Loss: 0.16989544\n",
      "a: 0.54444444\n",
      "Gradient of a: -1.7695285\n",
      "b: 0.8833333\n",
      "Gradient of b: 0.8304056\n",
      "----------------------------------------------\n"
     ]
    },
    {
     "name": "stderr",
     "output_type": "stream",
     "text": [
      " 15%|█████████▎                                                    | 15/100 [07:36<43:15, 30.53s/it]"
     ]
    },
    {
     "name": "stdout",
     "output_type": "stream",
     "text": [
      "----------------------------------------------\n",
      "Loss: 0.21324486\n",
      "a: 0.54444444\n",
      "Gradient of a: -2.508901\n",
      "b: 0.92777777\n",
      "Gradient of b: 1.2152464\n",
      "----------------------------------------------\n"
     ]
    },
    {
     "name": "stderr",
     "output_type": "stream",
     "text": [
      " 16%|█████████▉                                                    | 16/100 [08:05<42:22, 30.27s/it]"
     ]
    },
    {
     "name": "stdout",
     "output_type": "stream",
     "text": [
      "----------------------------------------------\n",
      "Loss: 0.26927534\n",
      "a: 0.54444444\n",
      "Gradient of a: -1.7137482\n",
      "b: 0.9722222\n",
      "Gradient of b: 0.7209854\n",
      "----------------------------------------------\n"
     ]
    },
    {
     "name": "stderr",
     "output_type": "stream",
     "text": [
      " 17%|██████████▌                                                   | 17/100 [08:36<42:11, 30.50s/it]"
     ]
    },
    {
     "name": "stdout",
     "output_type": "stream",
     "text": [
      "----------------------------------------------\n",
      "Loss: 0.3353526\n",
      "a: 0.54444444\n",
      "Gradient of a: -2.9955492\n",
      "b: 1.0166667\n",
      "Gradient of b: 1.1754408\n",
      "----------------------------------------------\n"
     ]
    },
    {
     "name": "stderr",
     "output_type": "stream",
     "text": [
      " 18%|███████████▏                                                  | 18/100 [09:06<41:16, 30.20s/it]"
     ]
    },
    {
     "name": "stdout",
     "output_type": "stream",
     "text": [
      "----------------------------------------------\n",
      "Loss: 0.40170568\n",
      "a: 0.54444444\n",
      "Gradient of a: -3.4134414\n",
      "b: 1.0611111\n",
      "Gradient of b: 1.6211619\n",
      "----------------------------------------------\n"
     ]
    },
    {
     "name": "stderr",
     "output_type": "stream",
     "text": [
      " 19%|███████████▊                                                  | 19/100 [09:35<40:21, 29.90s/it]"
     ]
    },
    {
     "name": "stdout",
     "output_type": "stream",
     "text": [
      "----------------------------------------------\n",
      "Loss: 0.46982896\n",
      "a: 0.54444444\n",
      "Gradient of a: -186647.75\n",
      "b: 1.1055555\n",
      "Gradient of b: 216641.86\n",
      "----------------------------------------------\n"
     ]
    },
    {
     "name": "stderr",
     "output_type": "stream",
     "text": [
      " 20%|████████████▍                                                 | 20/100 [10:05<39:41, 29.77s/it]"
     ]
    },
    {
     "name": "stdout",
     "output_type": "stream",
     "text": [
      "----------------------------------------------\n",
      "Loss: 0.5417623\n",
      "a: 0.54444444\n",
      "Gradient of a: -439110.3\n",
      "b: 1.15\n",
      "Gradient of b: 299261.94\n",
      "----------------------------------------------\n"
     ]
    },
    {
     "name": "stderr",
     "output_type": "stream",
     "text": [
      " 21%|█████████████                                                 | 21/100 [10:34<39:03, 29.67s/it]"
     ]
    },
    {
     "name": "stdout",
     "output_type": "stream",
     "text": [
      "----------------------------------------------\n",
      "Loss: 0.09683008\n",
      "a: 0.5888889\n",
      "Gradient of a: 0.535692\n",
      "b: 0.75\n",
      "Gradient of b: -0.6051904\n",
      "----------------------------------------------\n"
     ]
    },
    {
     "name": "stderr",
     "output_type": "stream",
     "text": [
      " 22%|█████████████▋                                                | 22/100 [11:04<38:46, 29.82s/it]"
     ]
    },
    {
     "name": "stdout",
     "output_type": "stream",
     "text": [
      "----------------------------------------------\n",
      "Loss: 0.070754744\n",
      "a: 0.5888889\n",
      "Gradient of a: 0.7408212\n",
      "b: 0.79444444\n",
      "Gradient of b: -0.56431025\n",
      "----------------------------------------------\n"
     ]
    },
    {
     "name": "stderr",
     "output_type": "stream",
     "text": [
      " 23%|██████████████▎                                               | 23/100 [11:34<38:18, 29.85s/it]"
     ]
    },
    {
     "name": "stdout",
     "output_type": "stream",
     "text": [
      "----------------------------------------------\n",
      "Loss: 0.06371474\n",
      "a: 0.5888889\n",
      "Gradient of a: -0.46917582\n",
      "b: 0.8388889\n",
      "Gradient of b: 0.06311646\n",
      "----------------------------------------------\n"
     ]
    },
    {
     "name": "stderr",
     "output_type": "stream",
     "text": [
      " 24%|██████████████▉                                               | 24/100 [12:05<38:05, 30.07s/it]"
     ]
    },
    {
     "name": "stdout",
     "output_type": "stream",
     "text": [
      "----------------------------------------------\n",
      "Loss: 0.07856927\n",
      "a: 0.5888889\n",
      "Gradient of a: -0.96204543\n",
      "b: 0.8833333\n",
      "Gradient of b: 0.33119562\n",
      "----------------------------------------------\n"
     ]
    },
    {
     "name": "stderr",
     "output_type": "stream",
     "text": [
      " 25%|███████████████▌                                              | 25/100 [12:36<37:53, 30.32s/it]"
     ]
    },
    {
     "name": "stdout",
     "output_type": "stream",
     "text": [
      "----------------------------------------------\n",
      "Loss: 0.108292826\n",
      "a: 0.5888889\n",
      "Gradient of a: -1.2128056\n",
      "b: 0.92777777\n",
      "Gradient of b: 0.5595915\n",
      "----------------------------------------------\n"
     ]
    },
    {
     "name": "stderr",
     "output_type": "stream",
     "text": [
      " 26%|████████████████                                              | 26/100 [13:07<37:37, 30.50s/it]"
     ]
    },
    {
     "name": "stdout",
     "output_type": "stream",
     "text": [
      "----------------------------------------------\n",
      "Loss: 0.15034626\n",
      "a: 0.5888889\n",
      "Gradient of a: -2.1406393\n",
      "b: 0.9722222\n",
      "Gradient of b: 0.967553\n",
      "----------------------------------------------\n"
     ]
    },
    {
     "name": "stderr",
     "output_type": "stream",
     "text": [
      " 27%|████████████████▋                                             | 27/100 [13:39<37:40, 30.97s/it]"
     ]
    },
    {
     "name": "stdout",
     "output_type": "stream",
     "text": [
      "----------------------------------------------\n",
      "Loss: 0.20024352\n",
      "a: 0.5888889\n",
      "Gradient of a: -1.7179048\n",
      "b: 1.0166667\n",
      "Gradient of b: 0.73135424\n",
      "----------------------------------------------\n"
     ]
    },
    {
     "name": "stderr",
     "output_type": "stream",
     "text": [
      " 28%|█████████████████▎                                            | 28/100 [14:09<36:54, 30.75s/it]"
     ]
    },
    {
     "name": "stdout",
     "output_type": "stream",
     "text": [
      "----------------------------------------------\n",
      "Loss: 0.25021595\n",
      "a: 0.5888889\n",
      "Gradient of a: -291867.22\n",
      "b: 1.0611111\n",
      "Gradient of b: 103504.28\n",
      "----------------------------------------------\n"
     ]
    },
    {
     "name": "stderr",
     "output_type": "stream",
     "text": [
      " 29%|█████████████████▉                                            | 29/100 [14:40<36:21, 30.73s/it]"
     ]
    },
    {
     "name": "stdout",
     "output_type": "stream",
     "text": [
      "----------------------------------------------\n",
      "Loss: 0.31865367\n",
      "a: 0.5888889\n",
      "Gradient of a: -3079.1208\n",
      "b: 1.1055555\n",
      "Gradient of b: 4119.429\n",
      "----------------------------------------------\n"
     ]
    },
    {
     "name": "stderr",
     "output_type": "stream",
     "text": [
      " 30%|██████████████████▌                                           | 30/100 [15:09<35:31, 30.45s/it]"
     ]
    },
    {
     "name": "stdout",
     "output_type": "stream",
     "text": [
      "----------------------------------------------\n",
      "Loss: 0.38030362\n",
      "a: 0.5888889\n",
      "Gradient of a: -53894.484\n",
      "b: 1.15\n",
      "Gradient of b: 41452.66\n",
      "----------------------------------------------\n"
     ]
    },
    {
     "name": "stderr",
     "output_type": "stream",
     "text": [
      " 31%|███████████████████▏                                          | 31/100 [15:40<35:06, 30.53s/it]"
     ]
    },
    {
     "name": "stdout",
     "output_type": "stream",
     "text": [
      "----------------------------------------------\n",
      "Loss: 0.16548353\n",
      "a: 0.6333333\n",
      "Gradient of a: 1.9325371\n",
      "b: 0.75\n",
      "Gradient of b: -1.2847378\n",
      "----------------------------------------------\n"
     ]
    },
    {
     "name": "stderr",
     "output_type": "stream",
     "text": [
      " 32%|███████████████████▊                                          | 32/100 [16:11<34:41, 30.61s/it]"
     ]
    },
    {
     "name": "stdout",
     "output_type": "stream",
     "text": [
      "----------------------------------------------\n",
      "Loss: 0.112567745\n",
      "a: 0.6333333\n",
      "Gradient of a: 1.1581621\n",
      "b: 0.79444444\n",
      "Gradient of b: -0.8366268\n",
      "----------------------------------------------\n"
     ]
    },
    {
     "name": "stderr",
     "output_type": "stream",
     "text": [
      " 33%|████████████████████▍                                         | 33/100 [16:41<34:06, 30.55s/it]"
     ]
    },
    {
     "name": "stdout",
     "output_type": "stream",
     "text": [
      "----------------------------------------------\n",
      "Loss: 0.07253583\n",
      "a: 0.6333333\n",
      "Gradient of a: 0.7775035\n",
      "b: 0.8388889\n",
      "Gradient of b: -0.5229195\n",
      "----------------------------------------------\n"
     ]
    },
    {
     "name": "stderr",
     "output_type": "stream",
     "text": [
      " 34%|█████████████████████                                         | 34/100 [17:12<33:35, 30.53s/it]"
     ]
    },
    {
     "name": "stdout",
     "output_type": "stream",
     "text": [
      "----------------------------------------------\n",
      "Loss: 0.05028977\n",
      "a: 0.6333333\n",
      "Gradient of a: -0.10377919\n",
      "b: 0.8833333\n",
      "Gradient of b: -0.06644799\n",
      "----------------------------------------------\n"
     ]
    },
    {
     "name": "stderr",
     "output_type": "stream",
     "text": [
      " 35%|█████████████████████▋                                        | 35/100 [17:42<33:05, 30.55s/it]"
     ]
    },
    {
     "name": "stdout",
     "output_type": "stream",
     "text": [
      "----------------------------------------------\n",
      "Loss: 0.045512285\n",
      "a: 0.6333333\n",
      "Gradient of a: -0.3584491\n",
      "b: 0.92777777\n",
      "Gradient of b: 0.06374642\n",
      "----------------------------------------------\n"
     ]
    },
    {
     "name": "stderr",
     "output_type": "stream",
     "text": [
      " 36%|██████████████████████▎                                       | 36/100 [18:13<32:30, 30.48s/it]"
     ]
    },
    {
     "name": "stdout",
     "output_type": "stream",
     "text": [
      "----------------------------------------------\n",
      "Loss: 0.064146854\n",
      "a: 0.6333333\n",
      "Gradient of a: -0.5567602\n",
      "b: 0.9722222\n",
      "Gradient of b: 0.27019638\n",
      "----------------------------------------------\n"
     ]
    },
    {
     "name": "stderr",
     "output_type": "stream",
     "text": [
      " 37%|██████████████████████▉                                       | 37/100 [18:42<31:41, 30.18s/it]"
     ]
    },
    {
     "name": "stdout",
     "output_type": "stream",
     "text": [
      "----------------------------------------------\n",
      "Loss: 0.09675875\n",
      "a: 0.6333333\n",
      "Gradient of a: -0.45406976\n",
      "b: 1.0166667\n",
      "Gradient of b: 0.13633192\n",
      "----------------------------------------------\n"
     ]
    },
    {
     "name": "stderr",
     "output_type": "stream",
     "text": [
      " 38%|███████████████████████▌                                      | 38/100 [19:13<31:22, 30.37s/it]"
     ]
    },
    {
     "name": "stdout",
     "output_type": "stream",
     "text": [
      "----------------------------------------------\n",
      "Loss: 0.1377457\n",
      "a: 0.6333333\n",
      "Gradient of a: -1.8638566\n",
      "b: 1.0611111\n",
      "Gradient of b: 1.1397386\n",
      "----------------------------------------------\n"
     ]
    },
    {
     "name": "stderr",
     "output_type": "stream",
     "text": [
      " 39%|████████████████████████▏                                     | 39/100 [19:44<31:14, 30.72s/it]"
     ]
    },
    {
     "name": "stdout",
     "output_type": "stream",
     "text": [
      "----------------------------------------------\n",
      "Loss: 0.18464047\n",
      "a: 0.6333333\n",
      "Gradient of a: -3584.1462\n",
      "b: 1.1055555\n",
      "Gradient of b: 4183.51\n",
      "----------------------------------------------\n"
     ]
    },
    {
     "name": "stderr",
     "output_type": "stream",
     "text": [
      " 40%|████████████████████████▊                                     | 40/100 [20:16<30:54, 30.91s/it]"
     ]
    },
    {
     "name": "stdout",
     "output_type": "stream",
     "text": [
      "----------------------------------------------\n",
      "Loss: 0.2408566\n",
      "a: 0.6333333\n",
      "Gradient of a: -11857.646\n",
      "b: 1.15\n",
      "Gradient of b: 7633.158\n",
      "----------------------------------------------\n"
     ]
    },
    {
     "name": "stderr",
     "output_type": "stream",
     "text": [
      " 41%|█████████████████████████▍                                    | 41/100 [20:46<30:16, 30.79s/it]"
     ]
    },
    {
     "name": "stdout",
     "output_type": "stream",
     "text": [
      "----------------------------------------------\n",
      "Loss: 0.27570033\n",
      "a: 0.67777777\n",
      "Gradient of a: 1.8732387\n",
      "b: 0.75\n",
      "Gradient of b: -1.4336241\n",
      "----------------------------------------------\n"
     ]
    },
    {
     "name": "stderr",
     "output_type": "stream",
     "text": [
      " 42%|██████████████████████████                                    | 42/100 [21:17<29:51, 30.88s/it]"
     ]
    },
    {
     "name": "stdout",
     "output_type": "stream",
     "text": [
      "----------------------------------------------\n",
      "Loss: 0.2026254\n",
      "a: 0.67777777\n",
      "Gradient of a: 1.3751903\n",
      "b: 0.79444444\n",
      "Gradient of b: -0.7532405\n",
      "----------------------------------------------\n"
     ]
    },
    {
     "name": "stderr",
     "output_type": "stream",
     "text": [
      " 43%|██████████████████████████▋                                   | 43/100 [21:47<28:58, 30.49s/it]"
     ]
    },
    {
     "name": "stdout",
     "output_type": "stream",
     "text": [
      "----------------------------------------------\n",
      "Loss: 0.14222537\n",
      "a: 0.67777777\n",
      "Gradient of a: 1.2116464\n",
      "b: 0.8388889\n",
      "Gradient of b: -0.7396333\n",
      "----------------------------------------------\n"
     ]
    },
    {
     "name": "stderr",
     "output_type": "stream",
     "text": [
      " 44%|███████████████████████████▎                                  | 44/100 [22:17<28:15, 30.29s/it]"
     ]
    },
    {
     "name": "stdout",
     "output_type": "stream",
     "text": [
      "----------------------------------------------\n",
      "Loss: 0.09295497\n",
      "a: 0.67777777\n",
      "Gradient of a: 1.0964766\n",
      "b: 0.8833333\n",
      "Gradient of b: -0.5847579\n",
      "----------------------------------------------\n"
     ]
    },
    {
     "name": "stderr",
     "output_type": "stream",
     "text": [
      " 45%|███████████████████████████▉                                  | 45/100 [22:47<27:51, 30.38s/it]"
     ]
    },
    {
     "name": "stdout",
     "output_type": "stream",
     "text": [
      "----------------------------------------------\n",
      "Loss: 0.056365956\n",
      "a: 0.67777777\n",
      "Gradient of a: 0.33067766\n",
      "b: 0.92777777\n",
      "Gradient of b: -0.22232859\n",
      "----------------------------------------------\n"
     ]
    },
    {
     "name": "stderr",
     "output_type": "stream",
     "text": [
      " 46%|████████████████████████████▌                                 | 46/100 [23:18<27:20, 30.39s/it]"
     ]
    },
    {
     "name": "stdout",
     "output_type": "stream",
     "text": [
      "----------------------------------------------\n",
      "Loss: 0.03468412\n",
      "a: 0.67777777\n",
      "Gradient of a: 0.04243565\n",
      "b: 0.9722222\n",
      "Gradient of b: -0.09445875\n",
      "----------------------------------------------\n"
     ]
    },
    {
     "name": "stderr",
     "output_type": "stream",
     "text": [
      " 47%|█████████████████████████████▏                                | 47/100 [23:49<26:55, 30.48s/it]"
     ]
    },
    {
     "name": "stdout",
     "output_type": "stream",
     "text": [
      "----------------------------------------------\n",
      "Loss: 0.03509735\n",
      "a: 0.67777777\n",
      "Gradient of a: -0.54148185\n",
      "b: 1.0166667\n",
      "Gradient of b: 0.28198\n",
      "----------------------------------------------\n"
     ]
    },
    {
     "name": "stderr",
     "output_type": "stream",
     "text": [
      " 48%|█████████████████████████████▊                                | 48/100 [24:19<26:29, 30.58s/it]"
     ]
    },
    {
     "name": "stdout",
     "output_type": "stream",
     "text": [
      "----------------------------------------------\n",
      "Loss: 0.056157157\n",
      "a: 0.67777777\n",
      "Gradient of a: -0.95586264\n",
      "b: 1.0611111\n",
      "Gradient of b: 0.5286026\n",
      "----------------------------------------------\n"
     ]
    },
    {
     "name": "stderr",
     "output_type": "stream",
     "text": [
      " 49%|██████████████████████████████▍                               | 49/100 [24:49<25:50, 30.41s/it]"
     ]
    },
    {
     "name": "stdout",
     "output_type": "stream",
     "text": [
      "----------------------------------------------\n",
      "Loss: 0.09097989\n",
      "a: 0.67777777\n",
      "Gradient of a: -1.0420207\n",
      "b: 1.1055555\n",
      "Gradient of b: 0.54158103\n",
      "----------------------------------------------\n"
     ]
    },
    {
     "name": "stderr",
     "output_type": "stream",
     "text": [
      " 50%|███████████████████████████████                               | 50/100 [25:20<25:20, 30.40s/it]"
     ]
    },
    {
     "name": "stdout",
     "output_type": "stream",
     "text": [
      "----------------------------------------------\n",
      "Loss: 0.13292727\n",
      "a: 0.67777777\n",
      "Gradient of a: -5012.3584\n",
      "b: 1.15\n",
      "Gradient of b: 6688.052\n",
      "----------------------------------------------\n"
     ]
    },
    {
     "name": "stderr",
     "output_type": "stream",
     "text": [
      " 51%|███████████████████████████████▌                              | 51/100 [25:51<24:59, 30.60s/it]"
     ]
    },
    {
     "name": "stdout",
     "output_type": "stream",
     "text": [
      "----------------------------------------------\n",
      "Loss: 0.40803146\n",
      "a: 0.7222222\n",
      "Gradient of a: 1851.8971\n",
      "b: 0.75\n",
      "Gradient of b: -3806.871\n",
      "----------------------------------------------\n"
     ]
    },
    {
     "name": "stderr",
     "output_type": "stream",
     "text": [
      " 52%|████████████████████████████████▏                             | 52/100 [26:21<24:29, 30.62s/it]"
     ]
    },
    {
     "name": "stdout",
     "output_type": "stream",
     "text": [
      "----------------------------------------------\n",
      "Loss: 0.31618685\n",
      "a: 0.7222222\n",
      "Gradient of a: 2.2491899\n",
      "b: 0.79444444\n",
      "Gradient of b: -1.5856466\n",
      "----------------------------------------------\n"
     ]
    },
    {
     "name": "stderr",
     "output_type": "stream",
     "text": [
      " 53%|████████████████████████████████▊                             | 53/100 [26:53<24:11, 30.87s/it]"
     ]
    },
    {
     "name": "stdout",
     "output_type": "stream",
     "text": [
      "----------------------------------------------\n",
      "Loss: 0.24374016\n",
      "a: 0.7222222\n",
      "Gradient of a: 1.7889019\n",
      "b: 0.8388889\n",
      "Gradient of b: -1.0353754\n",
      "----------------------------------------------\n"
     ]
    },
    {
     "name": "stderr",
     "output_type": "stream",
     "text": [
      " 54%|█████████████████████████████████▍                            | 54/100 [27:22<23:20, 30.44s/it]"
     ]
    },
    {
     "name": "stdout",
     "output_type": "stream",
     "text": [
      "----------------------------------------------\n",
      "Loss: 0.18194099\n",
      "a: 0.7222222\n",
      "Gradient of a: 1.6129675\n",
      "b: 0.8833333\n",
      "Gradient of b: -0.7941918\n",
      "----------------------------------------------\n"
     ]
    },
    {
     "name": "stderr",
     "output_type": "stream",
     "text": [
      " 55%|██████████████████████████████████                            | 55/100 [27:54<23:05, 30.79s/it]"
     ]
    },
    {
     "name": "stdout",
     "output_type": "stream",
     "text": [
      "----------------------------------------------\n",
      "Loss: 0.12687771\n",
      "a: 0.7222222\n",
      "Gradient of a: 1.6884696\n",
      "b: 0.92777777\n",
      "Gradient of b: -0.8619211\n",
      "----------------------------------------------\n"
     ]
    },
    {
     "name": "stderr",
     "output_type": "stream",
     "text": [
      " 56%|██████████████████████████████████▋                           | 56/100 [28:27<23:03, 31.44s/it]"
     ]
    },
    {
     "name": "stdout",
     "output_type": "stream",
     "text": [
      "----------------------------------------------\n",
      "Loss: 0.07908359\n",
      "a: 0.7222222\n",
      "Gradient of a: 0.9544432\n",
      "b: 0.9722222\n",
      "Gradient of b: -0.4060007\n",
      "----------------------------------------------\n"
     ]
    },
    {
     "name": "stderr",
     "output_type": "stream",
     "text": [
      " 57%|███████████████████████████████████▎                          | 57/100 [28:56<22:03, 30.78s/it]"
     ]
    },
    {
     "name": "stdout",
     "output_type": "stream",
     "text": [
      "----------------------------------------------\n",
      "Loss: 0.045885142\n",
      "a: 0.7222222\n",
      "Gradient of a: 0.35368136\n",
      "b: 1.0166667\n",
      "Gradient of b: -0.18800226\n",
      "----------------------------------------------\n"
     ]
    },
    {
     "name": "stderr",
     "output_type": "stream",
     "text": [
      " 58%|███████████████████████████████████▉                          | 58/100 [29:26<21:26, 30.64s/it]"
     ]
    },
    {
     "name": "stdout",
     "output_type": "stream",
     "text": [
      "----------------------------------------------\n",
      "Loss: 0.027975174\n",
      "a: 0.7222222\n",
      "Gradient of a: 0.076116055\n",
      "b: 1.0611111\n",
      "Gradient of b: 0.024729282\n",
      "----------------------------------------------\n"
     ]
    },
    {
     "name": "stderr",
     "output_type": "stream",
     "text": [
      " 59%|████████████████████████████████████▌                         | 59/100 [29:56<20:36, 30.17s/it]"
     ]
    },
    {
     "name": "stdout",
     "output_type": "stream",
     "text": [
      "----------------------------------------------\n",
      "Loss: 0.034109462\n",
      "a: 0.7222222\n",
      "Gradient of a: -0.45549816\n",
      "b: 1.1055555\n",
      "Gradient of b: 0.2678036\n",
      "----------------------------------------------\n"
     ]
    },
    {
     "name": "stderr",
     "output_type": "stream",
     "text": [
      " 60%|█████████████████████████████████████▏                        | 60/100 [30:26<20:06, 30.15s/it]"
     ]
    },
    {
     "name": "stdout",
     "output_type": "stream",
     "text": [
      "----------------------------------------------\n",
      "Loss: 0.05764921\n",
      "a: 0.7222222\n",
      "Gradient of a: -0.73656416\n",
      "b: 1.15\n",
      "Gradient of b: 0.4674685\n",
      "----------------------------------------------\n"
     ]
    },
    {
     "name": "stderr",
     "output_type": "stream",
     "text": [
      " 61%|█████████████████████████████████████▊                        | 61/100 [30:55<19:27, 29.92s/it]"
     ]
    },
    {
     "name": "stdout",
     "output_type": "stream",
     "text": [
      "----------------------------------------------\n",
      "Loss: 0.5587329\n",
      "a: 0.76666665\n",
      "Gradient of a: 3.1422467\n",
      "b: 0.75\n",
      "Gradient of b: -1.7337402\n",
      "----------------------------------------------\n"
     ]
    },
    {
     "name": "stderr",
     "output_type": "stream",
     "text": [
      " 62%|██████████████████████████████████████▍                       | 62/100 [31:26<19:05, 30.14s/it]"
     ]
    },
    {
     "name": "stdout",
     "output_type": "stream",
     "text": [
      "----------------------------------------------\n",
      "Loss: 0.46161067\n",
      "a: 0.76666665\n",
      "Gradient of a: 3.3624635\n",
      "b: 0.79444444\n",
      "Gradient of b: -2.412891\n",
      "----------------------------------------------\n"
     ]
    },
    {
     "name": "stderr",
     "output_type": "stream",
     "text": [
      " 63%|███████████████████████████████████████                       | 63/100 [31:57<18:45, 30.41s/it]"
     ]
    },
    {
     "name": "stdout",
     "output_type": "stream",
     "text": [
      "----------------------------------------------\n",
      "Loss: 0.36987874\n",
      "a: 0.76666665\n",
      "Gradient of a: 2.0494576\n",
      "b: 0.8388889\n",
      "Gradient of b: -1.0725083\n",
      "----------------------------------------------\n"
     ]
    },
    {
     "name": "stderr",
     "output_type": "stream",
     "text": [
      " 64%|███████████████████████████████████████▋                      | 64/100 [32:28<18:22, 30.62s/it]"
     ]
    },
    {
     "name": "stdout",
     "output_type": "stream",
     "text": [
      "----------------------------------------------\n",
      "Loss: 0.2939281\n",
      "a: 0.76666665\n",
      "Gradient of a: 1.9012173\n",
      "b: 0.8833333\n",
      "Gradient of b: -1.1897508\n",
      "----------------------------------------------\n"
     ]
    },
    {
     "name": "stderr",
     "output_type": "stream",
     "text": [
      " 65%|████████████████████████████████████████▎                     | 65/100 [32:59<18:00, 30.88s/it]"
     ]
    },
    {
     "name": "stdout",
     "output_type": "stream",
     "text": [
      "----------------------------------------------\n",
      "Loss: 0.226748\n",
      "a: 0.76666665\n",
      "Gradient of a: 1.6236253\n",
      "b: 0.92777777\n",
      "Gradient of b: -0.86230385\n",
      "----------------------------------------------\n"
     ]
    },
    {
     "name": "stderr",
     "output_type": "stream",
     "text": [
      " 66%|████████████████████████████████████████▉                     | 66/100 [33:29<17:16, 30.50s/it]"
     ]
    },
    {
     "name": "stdout",
     "output_type": "stream",
     "text": [
      "----------------------------------------------\n",
      "Loss: 0.16916335\n",
      "a: 0.76666665\n",
      "Gradient of a: 2.2633\n",
      "b: 0.9722222\n",
      "Gradient of b: -0.988382\n",
      "----------------------------------------------\n"
     ]
    },
    {
     "name": "stderr",
     "output_type": "stream",
     "text": [
      " 67%|█████████████████████████████████████████▌                    | 67/100 [34:00<16:47, 30.53s/it]"
     ]
    },
    {
     "name": "stdout",
     "output_type": "stream",
     "text": [
      "----------------------------------------------\n",
      "Loss: 0.11778716\n",
      "a: 0.76666665\n",
      "Gradient of a: 1.2833656\n",
      "b: 1.0166667\n",
      "Gradient of b: -0.5902839\n",
      "----------------------------------------------\n"
     ]
    },
    {
     "name": "stderr",
     "output_type": "stream",
     "text": [
      " 68%|██████████████████████████████████████████▏                   | 68/100 [34:30<16:16, 30.52s/it]"
     ]
    },
    {
     "name": "stdout",
     "output_type": "stream",
     "text": [
      "----------------------------------------------\n",
      "Loss: 0.07500823\n",
      "a: 0.76666665\n",
      "Gradient of a: 0.9826289\n",
      "b: 1.0611111\n",
      "Gradient of b: -0.5107399\n",
      "----------------------------------------------\n"
     ]
    },
    {
     "name": "stderr",
     "output_type": "stream",
     "text": [
      " 69%|██████████████████████████████████████████▊                   | 69/100 [35:00<15:43, 30.45s/it]"
     ]
    },
    {
     "name": "stdout",
     "output_type": "stream",
     "text": [
      "----------------------------------------------\n",
      "Loss: 0.045988716\n",
      "a: 0.76666665\n",
      "Gradient of a: 0.7446959\n",
      "b: 1.1055555\n",
      "Gradient of b: -0.38534325\n",
      "----------------------------------------------\n"
     ]
    },
    {
     "name": "stderr",
     "output_type": "stream",
     "text": [
      " 70%|███████████████████████████████████████████▍                  | 70/100 [35:31<15:12, 30.42s/it]"
     ]
    },
    {
     "name": "stdout",
     "output_type": "stream",
     "text": [
      "----------------------------------------------\n",
      "Loss: 0.03400999\n",
      "a: 0.76666665\n",
      "Gradient of a: 0.19663353\n",
      "b: 1.15\n",
      "Gradient of b: 0.016556129\n",
      "----------------------------------------------\n"
     ]
    },
    {
     "name": "stderr",
     "output_type": "stream",
     "text": [
      " 71%|████████████████████████████████████████████                  | 71/100 [36:02<14:47, 30.59s/it]"
     ]
    },
    {
     "name": "stdout",
     "output_type": "stream",
     "text": [
      "----------------------------------------------\n",
      "Loss: 0.72690934\n",
      "a: 0.8111111\n",
      "Gradient of a: 2.8431861\n",
      "b: 0.75\n",
      "Gradient of b: -1.8984362\n",
      "----------------------------------------------\n"
     ]
    },
    {
     "name": "stderr",
     "output_type": "stream",
     "text": [
      " 72%|████████████████████████████████████████████▋                 | 72/100 [36:30<14:01, 30.05s/it]"
     ]
    },
    {
     "name": "stdout",
     "output_type": "stream",
     "text": [
      "----------------------------------------------\n",
      "Loss: 0.6049882\n",
      "a: 0.8111111\n",
      "Gradient of a: 4.214029\n",
      "b: 0.79444444\n",
      "Gradient of b: -2.7688017\n",
      "----------------------------------------------\n"
     ]
    },
    {
     "name": "stderr",
     "output_type": "stream",
     "text": [
      " 73%|█████████████████████████████████████████████▎                | 73/100 [37:00<13:28, 29.95s/it]"
     ]
    },
    {
     "name": "stdout",
     "output_type": "stream",
     "text": [
      "----------------------------------------------\n",
      "Loss: 0.50934565\n",
      "a: 0.8111111\n",
      "Gradient of a: 3.45729\n",
      "b: 0.8388889\n",
      "Gradient of b: -2.7284005\n",
      "----------------------------------------------\n"
     ]
    },
    {
     "name": "stderr",
     "output_type": "stream",
     "text": [
      " 74%|█████████████████████████████████████████████▉                | 74/100 [37:32<13:10, 30.40s/it]"
     ]
    },
    {
     "name": "stdout",
     "output_type": "stream",
     "text": [
      "----------------------------------------------\n",
      "Loss: 0.4225942\n",
      "a: 0.8111111\n",
      "Gradient of a: 2.291263\n",
      "b: 0.8833333\n",
      "Gradient of b: -1.2401379\n",
      "----------------------------------------------\n"
     ]
    },
    {
     "name": "stderr",
     "output_type": "stream",
     "text": [
      " 75%|██████████████████████████████████████████████▌               | 75/100 [38:02<12:38, 30.35s/it]"
     ]
    },
    {
     "name": "stdout",
     "output_type": "stream",
     "text": [
      "----------------------------------------------\n",
      "Loss: 0.34448382\n",
      "a: 0.8111111\n",
      "Gradient of a: 2.2445843\n",
      "b: 0.92777777\n",
      "Gradient of b: -1.1969262\n",
      "----------------------------------------------\n"
     ]
    },
    {
     "name": "stderr",
     "output_type": "stream",
     "text": [
      " 76%|███████████████████████████████████████████████               | 76/100 [38:33<12:12, 30.52s/it]"
     ]
    },
    {
     "name": "stdout",
     "output_type": "stream",
     "text": [
      "----------------------------------------------\n",
      "Loss: 0.27519146\n",
      "a: 0.8111111\n",
      "Gradient of a: 2.1150603\n",
      "b: 0.9722222\n",
      "Gradient of b: -1.1241757\n",
      "----------------------------------------------\n"
     ]
    },
    {
     "name": "stderr",
     "output_type": "stream",
     "text": [
      " 77%|███████████████████████████████████████████████▋              | 77/100 [39:04<11:49, 30.84s/it]"
     ]
    },
    {
     "name": "stdout",
     "output_type": "stream",
     "text": [
      "----------------------------------------------\n",
      "Loss: 0.2167129\n",
      "a: 0.8111111\n",
      "Gradient of a: 2.044234\n",
      "b: 1.0166667\n",
      "Gradient of b: -1.0120078\n",
      "----------------------------------------------\n"
     ]
    },
    {
     "name": "stderr",
     "output_type": "stream",
     "text": [
      " 78%|████████████████████████████████████████████████▎             | 78/100 [39:34<11:10, 30.49s/it]"
     ]
    },
    {
     "name": "stdout",
     "output_type": "stream",
     "text": [
      "----------------------------------------------\n",
      "Loss: 0.16281523\n",
      "a: 0.8111111\n",
      "Gradient of a: 1.1126932\n",
      "b: 1.0611111\n",
      "Gradient of b: -0.70738125\n",
      "----------------------------------------------\n"
     ]
    },
    {
     "name": "stderr",
     "output_type": "stream",
     "text": [
      " 79%|████████████████████████████████████████████████▉             | 79/100 [40:03<10:32, 30.14s/it]"
     ]
    },
    {
     "name": "stdout",
     "output_type": "stream",
     "text": [
      "----------------------------------------------\n",
      "Loss: 0.11719317\n",
      "a: 0.8111111\n",
      "Gradient of a: 0.8046634\n",
      "b: 1.1055555\n",
      "Gradient of b: -0.33244765\n",
      "----------------------------------------------\n"
     ]
    },
    {
     "name": "stderr",
     "output_type": "stream",
     "text": [
      " 80%|█████████████████████████████████████████████████▌            | 80/100 [40:33<10:00, 30.00s/it]"
     ]
    },
    {
     "name": "stdout",
     "output_type": "stream",
     "text": [
      "----------------------------------------------\n",
      "Loss: 0.0831912\n",
      "a: 0.8111111\n",
      "Gradient of a: 1.0185939\n",
      "b: 1.15\n",
      "Gradient of b: -0.3960599\n",
      "----------------------------------------------\n"
     ]
    },
    {
     "name": "stderr",
     "output_type": "stream",
     "text": [
      " 81%|██████████████████████████████████████████████████▏           | 81/100 [41:03<09:28, 29.94s/it]"
     ]
    },
    {
     "name": "stdout",
     "output_type": "stream",
     "text": [
      "----------------------------------------------\n",
      "Loss: 0.8966787\n",
      "a: 0.85555553\n",
      "Gradient of a: 9475.432\n",
      "b: 0.75\n",
      "Gradient of b: -8173.4443\n",
      "----------------------------------------------\n"
     ]
    },
    {
     "name": "stderr",
     "output_type": "stream",
     "text": [
      " 82%|██████████████████████████████████████████████████▊           | 82/100 [41:32<08:57, 29.84s/it]"
     ]
    },
    {
     "name": "stdout",
     "output_type": "stream",
     "text": [
      "----------------------------------------------\n",
      "Loss: 0.77169263\n",
      "a: 0.85555553\n",
      "Gradient of a: 3.5995011\n",
      "b: 0.79444444\n",
      "Gradient of b: -2.6055532\n",
      "----------------------------------------------\n"
     ]
    },
    {
     "name": "stderr",
     "output_type": "stream",
     "text": [
      " 83%|███████████████████████████████████████████████████▍          | 83/100 [42:05<08:38, 30.53s/it]"
     ]
    },
    {
     "name": "stdout",
     "output_type": "stream",
     "text": [
      "----------------------------------------------\n",
      "Loss: 0.6601261\n",
      "a: 0.85555553\n",
      "Gradient of a: 3577.906\n",
      "b: 0.8388889\n",
      "Gradient of b: -1703.0762\n",
      "----------------------------------------------\n"
     ]
    },
    {
     "name": "stderr",
     "output_type": "stream",
     "text": [
      " 84%|████████████████████████████████████████████████████          | 84/100 [42:37<08:16, 31.06s/it]"
     ]
    },
    {
     "name": "stdout",
     "output_type": "stream",
     "text": [
      "----------------------------------------------\n",
      "Loss: 0.565148\n",
      "a: 0.85555553\n",
      "Gradient of a: 2.9212043\n",
      "b: 0.8833333\n",
      "Gradient of b: -1.8564353\n",
      "----------------------------------------------\n"
     ]
    },
    {
     "name": "stderr",
     "output_type": "stream",
     "text": [
      " 85%|████████████████████████████████████████████████████▋         | 85/100 [43:08<07:45, 31.02s/it]"
     ]
    },
    {
     "name": "stdout",
     "output_type": "stream",
     "text": [
      "----------------------------------------------\n",
      "Loss: 0.47905886\n",
      "a: 0.85555553\n",
      "Gradient of a: 3.3525426\n",
      "b: 0.92777777\n",
      "Gradient of b: -2.1414485\n",
      "----------------------------------------------\n"
     ]
    },
    {
     "name": "stderr",
     "output_type": "stream",
     "text": [
      " 86%|█████████████████████████████████████████████████████▎        | 86/100 [43:38<07:11, 30.85s/it]"
     ]
    },
    {
     "name": "stdout",
     "output_type": "stream",
     "text": [
      "----------------------------------------------\n",
      "Loss: 0.40215015\n",
      "a: 0.85555553\n",
      "Gradient of a: 1.5408188\n",
      "b: 0.9722222\n",
      "Gradient of b: -0.925564\n",
      "----------------------------------------------\n"
     ]
    },
    {
     "name": "stderr",
     "output_type": "stream",
     "text": [
      " 87%|█████████████████████████████████████████████████████▉        | 87/100 [44:10<06:42, 30.99s/it]"
     ]
    },
    {
     "name": "stdout",
     "output_type": "stream",
     "text": [
      "----------------------------------------------\n",
      "Loss: 0.33634228\n",
      "a: 0.85555553\n",
      "Gradient of a: 2.5489116\n",
      "b: 1.0166667\n",
      "Gradient of b: -1.1390831\n",
      "----------------------------------------------\n"
     ]
    },
    {
     "name": "stderr",
     "output_type": "stream",
     "text": [
      " 88%|██████████████████████████████████████████████████████▌       | 88/100 [44:41<06:11, 31.00s/it]"
     ]
    },
    {
     "name": "stdout",
     "output_type": "stream",
     "text": [
      "----------------------------------------------\n",
      "Loss: 0.27132744\n",
      "a: 0.85555553\n",
      "Gradient of a: 2.4373143\n",
      "b: 1.0611111\n",
      "Gradient of b: -1.059267\n",
      "----------------------------------------------\n"
     ]
    },
    {
     "name": "stderr",
     "output_type": "stream",
     "text": [
      " 89%|███████████████████████████████████████████████████████▏      | 89/100 [45:11<05:39, 30.88s/it]"
     ]
    },
    {
     "name": "stdout",
     "output_type": "stream",
     "text": [
      "----------------------------------------------\n",
      "Loss: 0.21628769\n",
      "a: 0.85555553\n",
      "Gradient of a: 1.7154992\n",
      "b: 1.1055555\n",
      "Gradient of b: -0.8328711\n",
      "----------------------------------------------\n"
     ]
    },
    {
     "name": "stderr",
     "output_type": "stream",
     "text": [
      " 90%|███████████████████████████████████████████████████████▊      | 90/100 [45:42<05:07, 30.79s/it]"
     ]
    },
    {
     "name": "stdout",
     "output_type": "stream",
     "text": [
      "----------------------------------------------\n",
      "Loss: 0.1639916\n",
      "a: 0.85555553\n",
      "Gradient of a: 1.7217596\n",
      "b: 1.15\n",
      "Gradient of b: -0.64028966\n",
      "----------------------------------------------\n"
     ]
    },
    {
     "name": "stderr",
     "output_type": "stream",
     "text": [
      " 91%|████████████████████████████████████████████████████████▍     | 91/100 [46:12<04:35, 30.62s/it]"
     ]
    },
    {
     "name": "stdout",
     "output_type": "stream",
     "text": [
      "----------------------------------------------\n",
      "Loss: 1.0831901\n",
      "a: 0.9\n",
      "Gradient of a: 127100.33\n",
      "b: 0.75\n",
      "Gradient of b: -117214.4\n",
      "----------------------------------------------\n"
     ]
    },
    {
     "name": "stderr",
     "output_type": "stream",
     "text": [
      " 92%|█████████████████████████████████████████████████████████     | 92/100 [46:42<04:04, 30.55s/it]"
     ]
    },
    {
     "name": "stdout",
     "output_type": "stream",
     "text": [
      "----------------------------------------------\n",
      "Loss: 0.9513171\n",
      "a: 0.9\n",
      "Gradient of a: 1899.5502\n",
      "b: 0.79444444\n",
      "Gradient of b: 919.5752\n",
      "----------------------------------------------\n"
     ]
    },
    {
     "name": "stderr",
     "output_type": "stream",
     "text": [
      " 93%|█████████████████████████████████████████████████████████▋    | 93/100 [47:14<03:36, 30.92s/it]"
     ]
    },
    {
     "name": "stdout",
     "output_type": "stream",
     "text": [
      "----------------------------------------------\n",
      "Loss: 0.8304564\n",
      "a: 0.9\n",
      "Gradient of a: 4.827006\n",
      "b: 0.8388889\n",
      "Gradient of b: -3.422692\n",
      "----------------------------------------------\n"
     ]
    },
    {
     "name": "stderr",
     "output_type": "stream",
     "text": [
      " 94%|██████████████████████████████████████████████████████████▎   | 94/100 [47:46<03:07, 31.22s/it]"
     ]
    },
    {
     "name": "stdout",
     "output_type": "stream",
     "text": [
      "----------------------------------------------\n",
      "Loss: 0.72653145\n",
      "a: 0.9\n",
      "Gradient of a: 2.8363411\n",
      "b: 0.8833333\n",
      "Gradient of b: -1.6179775\n",
      "----------------------------------------------\n"
     ]
    },
    {
     "name": "stderr",
     "output_type": "stream",
     "text": [
      " 95%|██████████████████████████████████████████████████████████▉   | 95/100 [48:19<02:38, 31.61s/it]"
     ]
    },
    {
     "name": "stdout",
     "output_type": "stream",
     "text": [
      "----------------------------------------------\n",
      "Loss: 0.6251202\n",
      "a: 0.9\n",
      "Gradient of a: 2.7611082\n",
      "b: 0.92777777\n",
      "Gradient of b: -1.7525903\n",
      "----------------------------------------------\n"
     ]
    },
    {
     "name": "stderr",
     "output_type": "stream",
     "text": [
      " 96%|███████████████████████████████████████████████████████████▌  | 96/100 [48:49<02:04, 31.24s/it]"
     ]
    },
    {
     "name": "stdout",
     "output_type": "stream",
     "text": [
      "----------------------------------------------\n",
      "Loss: 0.5368346\n",
      "a: 0.9\n",
      "Gradient of a: 2.6045332\n",
      "b: 0.9722222\n",
      "Gradient of b: -1.0374234\n",
      "----------------------------------------------\n"
     ]
    },
    {
     "name": "stderr",
     "output_type": "stream",
     "text": [
      " 97%|████████████████████████████████████████████████████████████▏ | 97/100 [49:20<01:33, 31.08s/it]"
     ]
    },
    {
     "name": "stdout",
     "output_type": "stream",
     "text": [
      "----------------------------------------------\n",
      "Loss: 0.459503\n",
      "a: 0.9\n",
      "Gradient of a: 9061.855\n",
      "b: 1.0166667\n",
      "Gradient of b: 599.66016\n",
      "----------------------------------------------\n"
     ]
    },
    {
     "name": "stderr",
     "output_type": "stream",
     "text": [
      " 98%|████████████████████████████████████████████████████████████▊ | 98/100 [49:51<01:02, 31.17s/it]"
     ]
    },
    {
     "name": "stdout",
     "output_type": "stream",
     "text": [
      "----------------------------------------------\n",
      "Loss: 0.3946362\n",
      "a: 0.9\n",
      "Gradient of a: 2.2317927\n",
      "b: 1.0611111\n",
      "Gradient of b: -1.0208021\n",
      "----------------------------------------------\n"
     ]
    },
    {
     "name": "stderr",
     "output_type": "stream",
     "text": [
      " 99%|█████████████████████████████████████████████████████████████▍| 99/100 [50:22<00:31, 31.12s/it]"
     ]
    },
    {
     "name": "stdout",
     "output_type": "stream",
     "text": [
      "----------------------------------------------\n",
      "Loss: 0.32813022\n",
      "a: 0.9\n",
      "Gradient of a: 2.529983\n",
      "b: 1.1055555\n",
      "Gradient of b: -1.117685\n",
      "----------------------------------------------\n"
     ]
    },
    {
     "name": "stderr",
     "output_type": "stream",
     "text": [
      "100%|█████████████████████████████████████████████████████████████| 100/100 [50:53<00:00, 30.54s/it]"
     ]
    },
    {
     "name": "stdout",
     "output_type": "stream",
     "text": [
      "----------------------------------------------\n",
      "Loss: 0.27433926\n",
      "a: 0.9\n",
      "Gradient of a: 12140.277\n",
      "b: 1.15\n",
      "Gradient of b: -2542.9802\n",
      "----------------------------------------------\n"
     ]
    },
    {
     "name": "stderr",
     "output_type": "stream",
     "text": [
      "\n"
     ]
    }
   ],
   "source": [
    "# Set the optimizer\n",
    "optimizer = torch.optim.Adam(ARRG.weight_nexus.parameters(), lr=learning_rate)\n",
    "#optimizer = torch.optim.SGD(macroscopic_trainer.weight_nexus.parameters(), lr=learning_rate)\n",
    "\n",
    "# Generate gradients!\n",
    "a_b_gradients, loss_grid = ARRG.ARRG_flow(optimizer, a_b_init)"
   ]
  },
  {
   "cell_type": "code",
   "execution_count": 29,
   "metadata": {},
   "outputs": [
    {
     "data": {
      "image/png": "[encoded data removed]",
      "text/plain": [
       "<Figure size 600x500 with 2 Axes>"
      ]
     },
     "metadata": {},
     "output_type": "display_data"
    }
   ],
   "source": [
    "# Set gradient values above a threshold to zero\n",
    "threshold = 1e2\n",
    "a_b_gradients[np.abs(a_b_gradients) > threshold] = 0\n",
    "\n",
    "# Clone a_b_init into numpy array\n",
    "a_b = a_b_init.detach().numpy()\n",
    "\n",
    "import matplotlib.colors as mcolors\n",
    "\n",
    "# Calculate the magnitude of each vector in a_b_gradients\n",
    "magnitudes = np.linalg.norm(a_b_gradients, axis=1)\n",
    "\n",
    "fig, ax = plt.subplots(1,1,figsize=(6,5))\n",
    "\n",
    "# Set the background color based on the magnitude\n",
    "# Normalize the magnitude to use it with the colormap\n",
    "norm = mcolors.Normalize(vmin=np.min(magnitudes), vmax=np.max(magnitudes))\n",
    "cmap = plt.cm.plasma  # Choose a colormap\n",
    "\n",
    "# Assuming magnitudes can be reshaped into a grid directly for simplicity\n",
    "# In a real scenario, you might need to interpolate these values onto a grid\n",
    "grid_shape = (int(np.sqrt(len(magnitudes))), int(np.sqrt(len(magnitudes))))\n",
    "magnitudes_grid = magnitudes.reshape(grid_shape).T\n",
    "\n",
    "# Create a heatmap of the gradient magnitudes\n",
    "#heatmap = ax.imshow(magnitudes_grid, cmap=cmap, norm=norm, origin='lower', extent=(np.min(a_b[:, 0]), np.max(a_b[:, 0]), np.min(a_b[:, 1]), np.max(a_b[:, 1])))\n",
    "heatmap = ax.imshow(loss_grid.reshape(grid_shape).T, cmap=cmap, origin='lower', extent=(np.min(a_b[:, 0]), np.max(a_b[:, 0]), np.min(a_b[:, 1]), np.max(a_b[:, 1])))\n",
    "\n",
    "# Add a colorbar to show the magnitude scale\n",
    "#fig.colorbar(heatmap, ax=ax, label=r'$|\\vec{\\nabla}_\\theta \\mathcal{L}|$')\n",
    "fig.colorbar(heatmap, ax=ax, label=r'Compressed $2D$ Wasserstein loss (microscopic)')\n",
    "\n",
    "# Plot arrows for each point and direction\n",
    "for point, gradient in zip(a_b, a_b_gradients):\n",
    "    ax.arrow(point[0], point[1], -gradient[0]/1e2, -gradient[1]/1e2, head_width=0.005, head_length=0.005, fc='k', ec='k')\n",
    "\n",
    "a_b_target = np.array([0.68, 0.98]) # Monash\n",
    "ax.plot(a_b_target[0], a_b_target[1], 'x', color='green', label = 'Target', ms = 7, linewidth=10)#label = r'$\\mathrm{Target}$')\n",
    "ax.plot(ARRG.params_base[0].clone().detach().numpy(), ARRG.params_base[1].clone().detach().numpy(), 'x', color = 'red', label = 'Base', ms = 7, linewidth=10)#label = r'$\\mathrm{Base}$'\n",
    "\n",
    "ax.set_title(rf'$N_{{\\mathrm{{batch}}}} = {N_events}$')\n",
    "ax.set_xlabel(r'$a$')\n",
    "ax.set_ylabel(r'$b$')\n",
    "\n",
    "fig.tight_layout()\n",
    "fig.savefig('ARRG_flow_micro_compressed_wass2d_loss_Nbatch_15e3.pdf', dpi=300, bbox_inches='tight', pad_inches=0.1)\n",
    "fig.savefig('ARRG_flow_micro_compressed_wass2d_loss_Nbatch_15e3.png', dpi=300, bbox_inches='tight', pad_inches=0.1)"
   ]
  },
  {
   "cell_type": "code",
   "execution_count": 31,
   "metadata": {},
   "outputs": [
    {
     "data": {
      "image/png": "[encoded data removed]",
      "text/plain": [
       "<Figure size 600x500 with 2 Axes>"
      ]
     },
     "metadata": {},
     "output_type": "display_data"
    }
   ],
   "source": [
    "# Set gradient values above a threshold to zero\n",
    "threshold = 1e2\n",
    "a_b_gradients[np.abs(a_b_gradients) > threshold] = 0\n",
    "\n",
    "# Clone a_b_init into numpy array\n",
    "a_b = a_b_init.detach().numpy()\n",
    "\n",
    "import matplotlib.colors as mcolors\n",
    "\n",
    "# Calculate the magnitude of each vector in a_b_gradients\n",
    "magnitudes = np.linalg.norm(a_b_gradients, axis=1)\n",
    "\n",
    "fig, ax = plt.subplots(1,1,figsize=(6,5))\n",
    "\n",
    "# Set the background color based on the magnitude\n",
    "# Normalize the magnitude to use it with the colormap\n",
    "norm = mcolors.Normalize(vmin=np.min(magnitudes), vmax=np.max(magnitudes))\n",
    "cmap = plt.cm.plasma  # Choose a colormap\n",
    "\n",
    "# Assuming magnitudes can be reshaped into a grid directly for simplicity\n",
    "# In a real scenario, you might need to interpolate these values onto a grid\n",
    "grid_shape = (int(np.sqrt(len(magnitudes))), int(np.sqrt(len(magnitudes))))\n",
    "magnitudes_grid = magnitudes.reshape(grid_shape).T\n",
    "\n",
    "# Create a heatmap of the gradient magnitudes\n",
    "#heatmap = ax.imshow(magnitudes_grid, cmap=cmap, norm=norm, origin='lower', extent=(np.min(a_b[:, 0]), np.max(a_b[:, 0]), np.min(a_b[:, 1]), np.max(a_b[:, 1])))\n",
    "heatmap = ax.imshow((np.log(loss_grid)).reshape(grid_shape).T, cmap=cmap, origin='lower', extent=(np.min(a_b[:, 0]), np.max(a_b[:, 0]), np.min(a_b[:, 1]), np.max(a_b[:, 1])))\n",
    "\n",
    "# Add a colorbar to show the magnitude scale\n",
    "#fig.colorbar(heatmap, ax=ax, label=r'$|\\vec{\\nabla}_\\theta \\mathcal{L}|$')\n",
    "fig.colorbar(heatmap, ax=ax, label=r'Compressed $2D$ Wasserstein $\\log$(loss) (microscopic)')\n",
    "\n",
    "# Plot arrows for each point and direction\n",
    "for point, gradient in zip(a_b, a_b_gradients):\n",
    "    ax.arrow(point[0], point[1], -gradient[0]/1e2, -gradient[1]/1e2, head_width=0.005, head_length=0.005, fc='k', ec='k')\n",
    "\n",
    "a_b_target = np.array([0.68, 0.98]) # Monash\n",
    "ax.plot(a_b_target[0], a_b_target[1], 'x', color='green', label = 'Target', ms = 7, linewidth=10)#label = r'$\\mathrm{Target}$')\n",
    "ax.plot(ARRG.params_base[0].clone().detach().numpy(), ARRG.params_base[1].clone().detach().numpy(), 'x', color = 'red', label = 'Base', ms = 7, linewidth=10)#label = r'$\\mathrm{Base}$'\n",
    "\n",
    "ax.set_title(rf'$N_{{\\mathrm{{batch}}}} = {N_events}$')\n",
    "ax.set_xlabel(r'$a$')\n",
    "ax.set_ylabel(r'$b$')\n",
    "\n",
    "fig.tight_layout()\n",
    "fig.savefig('ARRG_flow_micro_compressed_wass2d_loss_log_Nbatch_15e3.pdf', dpi=300, bbox_inches='tight', pad_inches=0.1)\n",
    "fig.savefig('ARRG_flow_micro_compressed_wass2d_loss_log_Nbatch_15e3.png', dpi=300, bbox_inches='tight', pad_inches=0.1)"
   ]
  },
  {
   "cell_type": "code",
   "execution_count": 32,
   "metadata": {},
   "outputs": [],
   "source": [
    "# Save the (a,b) values, their gradients, and the loss grid\n",
    "np.save('flow_data/flow_data_compressed_wass2d_a_b_Nbatch_25e3_fixed.npy', a_b)\n",
    "np.save('flow_data/flow_data_compressed_wass2d_a_b_gradients_Nbatch_25e3_fixed.npy', a_b_gradients)\n",
    "np.save('flow_data/flow_data_compressed_wass2d_losses_Nbatch_25e3_fixed.npy', loss_grid)"
   ]
  },
  {
   "cell_type": "code",
   "execution_count": null,
   "metadata": {},
   "outputs": [],
   "source": [
    "# Loading previous flow map\n",
    "a_b = np.load('flow_data/flow_data_a_b_Nbatch_5e3.npy')\n",
    "a_b_gradients = np.load('flow_data/flow_data_a_b_gradients_Nbatch_5e3.npy')\n",
    "loss_grid = np.load('flow_data/flow_data_losses_Nbatch_5e3.npy')"
   ]
  },
  {
   "cell_type": "code",
   "execution_count": null,
   "metadata": {},
   "outputs": [],
   "source": []
  }
 ],
 "metadata": {
  "kernelspec": {
   "display_name": "Python 3",
   "language": "python",
   "name": "python3"
  },
  "language_info": {
   "codemirror_mode": {
    "name": "ipython",
    "version": 3
   },
   "file_extension": ".py",
   "mimetype": "text/x-python",
   "name": "python",
   "nbconvert_exporter": "python",
   "pygments_lexer": "ipython3",
   "version": "3.11.9"
  }
 },
 "nbformat": 4,
 "nbformat_minor": 2
}
