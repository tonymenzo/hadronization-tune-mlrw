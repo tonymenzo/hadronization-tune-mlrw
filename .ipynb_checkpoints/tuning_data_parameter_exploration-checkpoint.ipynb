{
 "cells": [
  {
   "cell_type": "code",
   "execution_count": 1,
   "id": "010f15b5-a91c-48ca-91cc-2728d0d11d42",
   "metadata": {},
   "outputs": [],
   "source": [
    "import numpy as np\n",
    "from npy_append_array import NpyAppendArray\n",
    "import matplotlib.pyplot as plt\n",
    "from tqdm import tqdm"
   ]
  },
  {
   "cell_type": "code",
   "execution_count": 2,
   "id": "7481c19c-71d3-49d2-be80-258f3ba63a91",
   "metadata": {},
   "outputs": [],
   "source": [
    "# Read in the data from the text file\n",
    "PATH_hadrons_monash = \"/home/tonym/Code/pythia8311/examples/generated_data/pgun_qqbar_hadrons_a_0.68_b_0.98.dat\"\n",
    "PATH_hadrons_target = \"/home/tonym/Code/pythia8311/examples/generated_data/pgun_qqbar_hadrons_a_0.6_b_0.9.dat\"\n",
    "PATH_weights = \"/home/tonym/Code/pythia8311/examples/generated_data/pgun_qqbar_weights_a_0.68_0.6_b_0.98_0.9.dat\""
   ]
  },
  {
   "cell_type": "markdown",
   "id": "15368fe0-ff5b-4394-bd79-ba9bd6713db4",
   "metadata": {},
   "source": [
    "### Converting hadron four-momentum data"
   ]
  },
  {
   "cell_type": "code",
   "execution_count": 3,
   "id": "0a0aa6f0-6966-43c4-853b-dcb082c72ce9",
   "metadata": {},
   "outputs": [],
   "source": [
    "with open (PATH_hadrons_monash, 'r') as f:\n",
    "    lines = f.readlines()\n",
    "#with open (PATH_hadrons_target, 'r') as f:\n",
    "#    lines = f.readlines()"
   ]
  },
  {
   "cell_type": "code",
   "execution_count": 4,
   "id": "f6097156-61a6-4a40-ace9-3256207ed45d",
   "metadata": {},
   "outputs": [
    {
     "name": "stderr",
     "output_type": "stream",
     "text": [
      "100%|█████████████████████████████████████████████▉| 1708579/1708580 [00:33<00:00, 50326.71it/s]\n"
     ]
    }
   ],
   "source": [
    "# Initialize dummy counters\n",
    "counter = 0\n",
    "event_counter = 0\n",
    "\n",
    "# Initialize padding parameters\n",
    "npad_event = 35\n",
    "\n",
    "# Desired number of events\n",
    "n_events = 1e5\n",
    "\n",
    "# Output path\n",
    "filename_monash = '/home/tonym/Code/tuning_data/parameter_exploration/pgun_qqbar_hadrons_a_0.68_b_0.98_sigma_0.335_N_1e5.npy'\n",
    "#filename_island = '/home/tonym/Code/tuning_data/pgun_qqbar_hadrons_a_1.5_b_0.6_sigma_0.335_N_1e5.npy'\n",
    "\n",
    "with tqdm(total = len(lines)) as pbar:\n",
    "    for line in lines:\n",
    "        # Events are separated at the new line delimiter\n",
    "        if line != '\\n':\n",
    "            if counter == 0:\n",
    "                # Zero-pad the accept-reject array and create array\n",
    "                arz_i = np.array([np.array(line.split(), dtype = float)])\n",
    "                counter += 1\n",
    "            else:\n",
    "                # Zero-pad the accept-reject array and append\n",
    "                arz_i = np.append(arz_i, np.array([np.array(line.split(), dtype = float)]), axis = 0)\n",
    "        else:\n",
    "            # Zero-pad on the event dimension and create event array\n",
    "            arz_i = np.pad(arz_i, ((0, npad_event - len(arz_i)),(0,0)))\n",
    "\n",
    "            with NpyAppendArray(filename_monash) as datafile:\n",
    "            #with NpyAppendArray(filename_island) as datafile:\n",
    "            #with NpyAppendArray(filename_monash_prime) as datafile:\n",
    "                datafile.append(np.array([arz_i]))\n",
    "            \n",
    "            counter = 0\n",
    "            event_counter += 1\n",
    "            if event_counter == n_events: break\n",
    "        pbar.update(1)"
   ]
  },
  {
   "cell_type": "code",
   "execution_count": 5,
   "id": "6a88c524-89b1-4db3-b1e6-d298d9f4ba07",
   "metadata": {},
   "outputs": [],
   "source": [
    "# Load the hadron data\n",
    "pgun_hadrons_monash = np.load(filename_monash, mmap_mode=\"r\")\n",
    "#pgun_hadrons_island = np.load(filename_island, mmap_mode=\"r\")\n",
    "#pgun_hadrons_monash_prime = np.load(filename_monash_prime, mmap_mode=\"r\")"
   ]
  },
  {
   "cell_type": "code",
   "execution_count": 6,
   "id": "62d58b78-a01c-47e9-8dfd-f1ecdef7a26a",
   "metadata": {},
   "outputs": [
    {
     "name": "stdout",
     "output_type": "stream",
     "text": [
      "(100000, 35, 5)\n"
     ]
    }
   ],
   "source": [
    "print(pgun_hadrons_monash.shape)\n",
    "#print(pgun_hadrons_island.shape)\n",
    "#print(pgun_hadrons_monash_prime.shape)"
   ]
  },
  {
   "cell_type": "code",
   "execution_count": 7,
   "id": "de0231f5-c3e8-4d0a-9a90-bf78880ca925",
   "metadata": {},
   "outputs": [],
   "source": [
    "with open (PATH_hadrons_target, 'r') as f:\n",
    "    lines = f.readlines()"
   ]
  },
  {
   "cell_type": "code",
   "execution_count": 8,
   "id": "c4edcd2a-4c68-4253-a7e1-b40dd7e34c12",
   "metadata": {},
   "outputs": [
    {
     "name": "stderr",
     "output_type": "stream",
     "text": [
      "100%|█████████████████████████████████████████████▉| 1697192/1697193 [00:40<00:00, 42276.54it/s]\n"
     ]
    }
   ],
   "source": [
    "# Initialize dummy counters\n",
    "counter = 0\n",
    "event_counter = 0\n",
    "\n",
    "# Initialize padding parameters\n",
    "npad_event = 35\n",
    "\n",
    "# Desired number of events\n",
    "n_events = 1e5\n",
    "\n",
    "# Output path\n",
    "filename_target = '/home/tonym/Code/tuning_data/parameter_exploration/pgun_qqbar_hadrons_a_0.6_b_0.9_sigma_0.335_N_1e5.npy'\n",
    "\n",
    "with tqdm(total = len(lines)) as pbar:\n",
    "    for line in lines:\n",
    "        # Events are separated at the new line delimiter\n",
    "        if line != '\\n':\n",
    "            if counter == 0:\n",
    "                # Zero-pad the accept-reject array and create array\n",
    "                arz_i = np.array([np.array(line.split(), dtype = float)])\n",
    "                counter += 1\n",
    "            else:\n",
    "                # Zero-pad the accept-reject array and append\n",
    "                arz_i = np.append(arz_i, np.array([np.array(line.split(), dtype = float)]), axis = 0)\n",
    "        else:\n",
    "            # Zero-pad on the event dimension and create event array\n",
    "            arz_i = np.pad(arz_i, ((0, npad_event - len(arz_i)),(0,0)))\n",
    "\n",
    "            with NpyAppendArray(filename_target) as datafile:\n",
    "            #with NpyAppendArray(filename_island) as datafile:\n",
    "            #with NpyAppendArray(filename_monash_prime) as datafile:\n",
    "                datafile.append(np.array([arz_i]))\n",
    "            \n",
    "            counter = 0\n",
    "            event_counter += 1\n",
    "            if event_counter == n_events: break\n",
    "        pbar.update(1)"
   ]
  },
  {
   "cell_type": "code",
   "execution_count": 9,
   "id": "fc7bcab7-5369-4731-bd07-71ec86afc759",
   "metadata": {},
   "outputs": [],
   "source": [
    "pgun_hadrons_target = np.load(filename_target, mmap_mode=\"r\")"
   ]
  },
  {
   "cell_type": "code",
   "execution_count": 10,
   "id": "a460fb68-d2b1-45d3-b28e-c4a8990a429e",
   "metadata": {},
   "outputs": [
    {
     "name": "stdout",
     "output_type": "stream",
     "text": [
      "(100000, 35, 5)\n"
     ]
    }
   ],
   "source": [
    "print(pgun_hadrons_target.shape)"
   ]
  },
  {
   "cell_type": "markdown",
   "id": "873aaa39-7ad3-4c99-9f22-a53466276338",
   "metadata": {},
   "source": [
    "### Extract the weights"
   ]
  },
  {
   "cell_type": "code",
   "execution_count": 11,
   "id": "96aee012-bd3b-4364-b489-705596034862",
   "metadata": {},
   "outputs": [],
   "source": [
    "with open (PATH_weights, 'r') as f:\n",
    "    lines = f.readlines()"
   ]
  },
  {
   "cell_type": "code",
   "execution_count": 14,
   "id": "6cd1edbf-1066-46f4-9d06-3e14789b95a6",
   "metadata": {},
   "outputs": [
    {
     "name": "stdout",
     "output_type": "stream",
     "text": [
      "['0.837443\\n', '1.04202\\n', '1.15876\\n', '0.974083\\n', '1.05138\\n', '0.810152\\n', '0.971971\\n', '0.891081\\n', '0.762795\\n', '1.33941\\n']\n"
     ]
    }
   ],
   "source": [
    "print(lines[0:10])"
   ]
  },
  {
   "cell_type": "code",
   "execution_count": 19,
   "id": "a13b6507-cb6f-452c-89fd-81bb82cf2f2b",
   "metadata": {},
   "outputs": [
    {
     "name": "stderr",
     "output_type": "stream",
     "text": [
      "100%|█████████████████████████████████████████████████| 100000/100000 [00:15<00:00, 6624.68it/s]\n"
     ]
    }
   ],
   "source": [
    "filename_weights = '/home/tonym/Code/tuning_data/parameter_exploration/pgun_qqbar_weights_a_0.68_0.6_b_0.98_0.9_N_1e5.npy'\n",
    "with tqdm(total = len(lines)) as pbar:\n",
    "    for line in lines:\n",
    "        if line != '\\n':\n",
    "            with NpyAppendArray(filename_weights) as datafile:\n",
    "                #with NpyAppendArray(filename_island) as datafile:\n",
    "                #with NpyAppendArray(filename_monash_prime) as datafile:\n",
    "                    datafile.append(np.array([float(line)]))\n",
    "        pbar.update(1)"
   ]
  },
  {
   "cell_type": "code",
   "execution_count": 20,
   "id": "8b813b5f-fe75-4f5d-8355-4c39f9ac3a9c",
   "metadata": {},
   "outputs": [],
   "source": [
    "pgun_hadrons_weights = np.load(filename_weights, mmap_mode=\"r\")"
   ]
  },
  {
   "cell_type": "code",
   "execution_count": 21,
   "id": "ce36b4df-141d-4eef-b4bb-9915084a5ce1",
   "metadata": {},
   "outputs": [
    {
     "name": "stdout",
     "output_type": "stream",
     "text": [
      "(100000,)\n"
     ]
    }
   ],
   "source": [
    "print(pgun_hadrons_weights.shape)"
   ]
  },
  {
   "cell_type": "code",
   "execution_count": 25,
   "id": "ab6a239a-7b7b-497d-b951-da85f2a8462a",
   "metadata": {},
   "outputs": [],
   "source": [
    "# Collect the multiplicity data\n",
    "mult_monash = np.array([len(pgun_hadrons_monash[i,:][np.abs(pgun_hadrons_monash[i,:,0]) > 0.0]) for i in range(pgun_hadrons_monash.shape[0])])\n",
    "\n",
    "mult_target = np.array([len(pgun_hadrons_target[i,:][np.abs(pgun_hadrons_target[i,:,0]) > 0.0]) for i in range(pgun_hadrons_target.shape[0])])"
   ]
  },
  {
   "cell_type": "code",
   "execution_count": 32,
   "id": "0a662b9f-6de5-4fe4-ae56-f799709d4efa",
   "metadata": {},
   "outputs": [],
   "source": [
    "# Compute the reweighting metrics\n",
    "one_minus_mu = 1. - np.sum(pgun_hadrons_weights) / len(pgun_hadrons_weights)\n",
    "Neff = (np.sum(pgun_hadrons_weights)**2 / np.sum(pgun_hadrons_weights**2)) / len(pgun_hadrons_weights)"
   ]
  },
  {
   "cell_type": "code",
   "execution_count": 33,
   "id": "fbe0257d-c1ab-45af-9388-1531a1bbb17e",
   "metadata": {},
   "outputs": [
    {
     "name": "stdout",
     "output_type": "stream",
     "text": [
      "0.0005406043400000282\n",
      "0.9554300372123237\n"
     ]
    }
   ],
   "source": [
    "print(one_minus_mu)\n",
    "print(Neff)"
   ]
  },
  {
   "cell_type": "code",
   "execution_count": 43,
   "id": "5f590889-ec07-44a9-9cc8-6f8f913ab6ef",
   "metadata": {},
   "outputs": [
    {
     "data": {
      "image/png": "[encoded data removed]",
      "text/plain": [
       "<Figure size 600x500 with 1 Axes>"
      ]
     },
     "metadata": {},
     "output_type": "display_data"
    }
   ],
   "source": [
    "# Histrogram hadron multiplicity\n",
    "fig, ax = plt.subplots(1,1,figsize=(6,5))\n",
    "_, bins, _ = ax.hist(mult_monash, alpha = 0.5, density = True, label = r'$\\mathrm{Monash}$ $(a = 0.68, b = 0.98)$')\n",
    "ax.hist(mult_target, bins = bins, alpha = 0.5, density = True, label = r\"$\\mathrm{Monash'}$ $(a = 0.6, b = 0.9)$\")\n",
    "ax.hist(mult_monash, bins = bins, weights = pgun_hadrons_weights, alpha = 0.5, density = True, label = r'$\\mathrm{Reweiged}$')\n",
    "#ax.hist(mult_island, bins = bins, alpha = 0.5, density = True, label = r\"$\\mathrm{'Island'}$ $(a = 1.5, b = 0.6)$\")\n",
    "ax.set_xlabel(r'$N_h$')\n",
    "ax.set_ylabel(r'$\\mathrm{PDF}$')\n",
    "ax.text(3.5, 0.10, rf'$N_{{\\mathrm{{eff}}}} = {Neff:3f}$')\n",
    "ax.text(3.5, 0.09, rf'$1 - \\mu = {one_minus_mu:3f}$')\n",
    "ax.legend(frameon = False)\n",
    "fig.tight_layout()"
   ]
  },
  {
   "cell_type": "markdown",
   "id": "3cec869c-fa79-4a1e-8d5f-edc688698088",
   "metadata": {},
   "source": [
    "### Exploring parameter space metrics"
   ]
  },
  {
   "cell_type": "code",
   "execution_count": 44,
   "id": "9fc702ea-9db2-4f71-82c1-9dd3091aad20",
   "metadata": {},
   "outputs": [],
   "source": [
    "# Read in the data from the text file\n",
    "PATH_base_1 = \"/home/tonym/Code/pythia8311/examples/weight_metrics_base_a_1.0_b_0.9_n_1e6.dat\"\n",
    "PATH_base_2 = \"/home/tonym/Code/pythia8311/examples/weight_metrics_base_a_0.5_b_1.75_n_1e6.dat\"\n",
    "#PATH_base_3 = "
   ]
  },
  {
   "cell_type": "code",
   "execution_count": 45,
   "id": "83b369d5-85da-4e96-ae0a-128218c6e542",
   "metadata": {},
   "outputs": [],
   "source": [
    "with open (PATH_base_1, 'r') as f:\n",
    "    lines = f.readlines()"
   ]
  },
  {
   "cell_type": "code",
   "execution_count": 59,
   "id": "584be422-21b7-4fb3-b28f-67113a015235",
   "metadata": {},
   "outputs": [
    {
     "name": "stdout",
     "output_type": "stream",
     "text": [
      "['kineVar', 'a', '0.200000', 'b', '0.100000\\n']\n",
      "0.2\n",
      "0.1\n",
      "['8.072e-01', '9.546e-02', '3.994e-06\\n']\n"
     ]
    }
   ],
   "source": [
    "print(lines[0].split('_'))\n",
    "print(float(lines[0].split('_')[2]))\n",
    "print(float(lines[0].split('_')[4]))\n",
    "print(lines[1].split(' '))"
   ]
  },
  {
   "cell_type": "code",
   "execution_count": null,
   "id": "1ebf89dc-c988-4f71-9491-3dd4bad1b7b2",
   "metadata": {},
   "outputs": [],
   "source": [
    "counter = 0\n",
    "type_counter = 0\n",
    "for line in lines:\n",
    "    if line != '\\n':\n",
    "        if counter == 0 and type_counter == 0:\n",
    "            metrics_i = np.array([float(line[0].split('_')[2]), float(line[0].split('_')[4])])\n",
    "            type_counter += 1\n",
    "        elif counter == 0 and type_counter == 1: \n",
    "            metrics_i = np.append(metrics_i, np.array(line.split(' '), dtype = float))\n",
    "            matrics = metrics_i.copy()\n",
    "            counter += 1\n",
    "            type_counter = 0\n",
    "        elif counter == 1 and type_counter == 0:\n",
    "    else: \n",
    "        \n",
    "        counter = 0\n",
    "        type_counter = \n",
    "        \n",
    "        "
   ]
  }
 ],
 "metadata": {
  "kernelspec": {
   "display_name": "Python 3 (ipykernel)",
   "language": "python",
   "name": "python3"
  },
  "language_info": {
   "codemirror_mode": {
    "name": "ipython",
    "version": 3
   },
   "file_extension": ".py",
   "mimetype": "text/x-python",
   "name": "python",
   "nbconvert_exporter": "python",
   "pygments_lexer": "ipython3",
   "version": "3.9.16"
  }
 },
 "nbformat": 4,
 "nbformat_minor": 5
}
